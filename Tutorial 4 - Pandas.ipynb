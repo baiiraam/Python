{
 "cells": [
  {
   "cell_type": "markdown",
   "id": "dae064f5",
   "metadata": {},
   "source": [
    "# <a id='contents'>Contents</a>\n",
    "\n",
    "* [Importing](#import)\n",
    "* [Working with Categorical Data](#category)\n",
    "* [Working with Conditions](#condition)"
   ]
  },
  {
   "cell_type": "markdown",
   "id": "cd04163f",
   "metadata": {},
   "source": [
    "# <a id='import'>Importing</a>"
   ]
  },
  {
   "cell_type": "code",
   "execution_count": 2,
   "id": "8de4ce24",
   "metadata": {},
   "outputs": [],
   "source": [
    "import pandas  as pd"
   ]
  },
  {
   "cell_type": "markdown",
   "id": "2bd2bd12",
   "metadata": {},
   "source": [
    "# <a id='category'>Working with Categorical Data</a>"
   ]
  },
  {
   "cell_type": "markdown",
   "id": "1063dc69",
   "metadata": {},
   "source": [
    "Preparing the data."
   ]
  },
  {
   "cell_type": "code",
   "execution_count": 3,
   "id": "20e1e38e",
   "metadata": {},
   "outputs": [],
   "source": [
    "df = pd.read_csv('data/Iris.csv')"
   ]
  },
  {
   "cell_type": "code",
   "execution_count": 92,
   "id": "09765674",
   "metadata": {},
   "outputs": [
    {
     "data": {
      "text/html": [
       "<div>\n",
       "<style scoped>\n",
       "    .dataframe tbody tr th:only-of-type {\n",
       "        vertical-align: middle;\n",
       "    }\n",
       "\n",
       "    .dataframe tbody tr th {\n",
       "        vertical-align: top;\n",
       "    }\n",
       "\n",
       "    .dataframe thead th {\n",
       "        text-align: right;\n",
       "    }\n",
       "</style>\n",
       "<table border=\"1\" class=\"dataframe\">\n",
       "  <thead>\n",
       "    <tr style=\"text-align: right;\">\n",
       "      <th></th>\n",
       "      <th>Id</th>\n",
       "      <th>SepalLengthCm</th>\n",
       "      <th>SepalWidthCm</th>\n",
       "      <th>PetalLengthCm</th>\n",
       "      <th>PetalWidthCm</th>\n",
       "      <th>Species</th>\n",
       "    </tr>\n",
       "  </thead>\n",
       "  <tbody>\n",
       "    <tr>\n",
       "      <th>0</th>\n",
       "      <td>1</td>\n",
       "      <td>5.1</td>\n",
       "      <td>3.5</td>\n",
       "      <td>1.4</td>\n",
       "      <td>0.2</td>\n",
       "      <td>Iris-setosa</td>\n",
       "    </tr>\n",
       "    <tr>\n",
       "      <th>1</th>\n",
       "      <td>2</td>\n",
       "      <td>4.9</td>\n",
       "      <td>3.0</td>\n",
       "      <td>1.4</td>\n",
       "      <td>0.2</td>\n",
       "      <td>Iris-setosa</td>\n",
       "    </tr>\n",
       "    <tr>\n",
       "      <th>2</th>\n",
       "      <td>3</td>\n",
       "      <td>4.7</td>\n",
       "      <td>3.2</td>\n",
       "      <td>1.3</td>\n",
       "      <td>0.2</td>\n",
       "      <td>Iris-setosa</td>\n",
       "    </tr>\n",
       "    <tr>\n",
       "      <th>3</th>\n",
       "      <td>4</td>\n",
       "      <td>4.6</td>\n",
       "      <td>3.1</td>\n",
       "      <td>1.5</td>\n",
       "      <td>0.2</td>\n",
       "      <td>Iris-setosa</td>\n",
       "    </tr>\n",
       "    <tr>\n",
       "      <th>4</th>\n",
       "      <td>5</td>\n",
       "      <td>5.0</td>\n",
       "      <td>3.6</td>\n",
       "      <td>1.4</td>\n",
       "      <td>0.2</td>\n",
       "      <td>Iris-setosa</td>\n",
       "    </tr>\n",
       "  </tbody>\n",
       "</table>\n",
       "</div>"
      ],
      "text/plain": [
       "   Id  SepalLengthCm  SepalWidthCm  PetalLengthCm  PetalWidthCm      Species\n",
       "0   1            5.1           3.5            1.4           0.2  Iris-setosa\n",
       "1   2            4.9           3.0            1.4           0.2  Iris-setosa\n",
       "2   3            4.7           3.2            1.3           0.2  Iris-setosa\n",
       "3   4            4.6           3.1            1.5           0.2  Iris-setosa\n",
       "4   5            5.0           3.6            1.4           0.2  Iris-setosa"
      ]
     },
     "execution_count": 92,
     "metadata": {},
     "output_type": "execute_result"
    }
   ],
   "source": [
    "df.head()"
   ]
  },
  {
   "cell_type": "code",
   "execution_count": 93,
   "id": "63b50386",
   "metadata": {},
   "outputs": [
    {
     "data": {
      "text/plain": [
       "(150, 6)"
      ]
     },
     "execution_count": 93,
     "metadata": {},
     "output_type": "execute_result"
    }
   ],
   "source": [
    "df.shape"
   ]
  },
  {
   "cell_type": "markdown",
   "id": "ea4cb2ef",
   "metadata": {},
   "source": [
    "Of course, not all columns are expected to be numerical by default. For instance, Species column is categorical. Let's analyze it by using unique method."
   ]
  },
  {
   "cell_type": "code",
   "execution_count": 94,
   "id": "4948b4e0",
   "metadata": {},
   "outputs": [
    {
     "data": {
      "text/plain": [
       "0         Iris-setosa\n",
       "1         Iris-setosa\n",
       "2         Iris-setosa\n",
       "3         Iris-setosa\n",
       "4         Iris-setosa\n",
       "            ...      \n",
       "145    Iris-virginica\n",
       "146    Iris-virginica\n",
       "147    Iris-virginica\n",
       "148    Iris-virginica\n",
       "149    Iris-virginica\n",
       "Name: Species, Length: 150, dtype: object"
      ]
     },
     "execution_count": 94,
     "metadata": {},
     "output_type": "execute_result"
    }
   ],
   "source": [
    "df['Species']"
   ]
  },
  {
   "cell_type": "code",
   "execution_count": 95,
   "id": "0721d4e7",
   "metadata": {},
   "outputs": [
    {
     "data": {
      "text/plain": [
       "array(['Iris-setosa', 'Iris-versicolor', 'Iris-virginica'], dtype=object)"
      ]
     },
     "execution_count": 95,
     "metadata": {},
     "output_type": "execute_result"
    }
   ],
   "source": [
    "df['Species'].unique()"
   ]
  },
  {
   "cell_type": "markdown",
   "id": "2c4810e0",
   "metadata": {},
   "source": [
    "We have 3 unique categories in that column. We can also determine number of instances in each unique category. See value_counts() method"
   ]
  },
  {
   "cell_type": "code",
   "execution_count": 96,
   "id": "edc09afb",
   "metadata": {},
   "outputs": [
    {
     "data": {
      "text/plain": [
       "Species\n",
       "Iris-setosa        50\n",
       "Iris-versicolor    50\n",
       "Iris-virginica     50\n",
       "Name: count, dtype: int64"
      ]
     },
     "execution_count": 96,
     "metadata": {},
     "output_type": "execute_result"
    }
   ],
   "source": [
    "df['Species'].value_counts()"
   ]
  },
  {
   "cell_type": "markdown",
   "id": "74383a71",
   "metadata": {},
   "source": [
    "# <a id='condition'>Working with Conditions</a>"
   ]
  },
  {
   "cell_type": "markdown",
   "id": "b11ef454",
   "metadata": {},
   "source": [
    "What we have done in NumPy as a boolean search has a perfect similar syntax with Pandas. Let's get the array version of DataFrame and search for some instances under conditions."
   ]
  },
  {
   "cell_type": "code",
   "execution_count": 97,
   "id": "d2ff6fa0",
   "metadata": {},
   "outputs": [],
   "source": [
    "arr = df.values"
   ]
  },
  {
   "cell_type": "code",
   "execution_count": 98,
   "id": "4cbc8a6e",
   "metadata": {},
   "outputs": [
    {
     "data": {
      "text/plain": [
       "Index(['Id', 'SepalLengthCm', 'SepalWidthCm', 'PetalLengthCm', 'PetalWidthCm',\n",
       "       'Species'],\n",
       "      dtype='object')"
      ]
     },
     "execution_count": 98,
     "metadata": {},
     "output_type": "execute_result"
    }
   ],
   "source": [
    "df.columns"
   ]
  },
  {
   "cell_type": "code",
   "execution_count": 138,
   "id": "ce7247cc",
   "metadata": {},
   "outputs": [],
   "source": [
    "# the following array refers to the second column called SepalLengthCm\n",
    "condition_1 = arr[:, 1] > 6.7"
   ]
  },
  {
   "cell_type": "code",
   "execution_count": 100,
   "id": "3dc52d9c",
   "metadata": {},
   "outputs": [
    {
     "data": {
      "text/plain": [
       "array([[51, 7.0, 3.2, 4.7, 1.4, 'Iris-versicolor'],\n",
       "       [53, 6.9, 3.1, 4.9, 1.5, 'Iris-versicolor'],\n",
       "       [77, 6.8, 2.8, 4.8, 1.4, 'Iris-versicolor'],\n",
       "       [103, 7.1, 3.0, 5.9, 2.1, 'Iris-virginica'],\n",
       "       [106, 7.6, 3.0, 6.6, 2.1, 'Iris-virginica'],\n",
       "       [108, 7.3, 2.9, 6.3, 1.8, 'Iris-virginica'],\n",
       "       [110, 7.2, 3.6, 6.1, 2.5, 'Iris-virginica'],\n",
       "       [113, 6.8, 3.0, 5.5, 2.1, 'Iris-virginica'],\n",
       "       [118, 7.7, 3.8, 6.7, 2.2, 'Iris-virginica'],\n",
       "       [119, 7.7, 2.6, 6.9, 2.3, 'Iris-virginica'],\n",
       "       [121, 6.9, 3.2, 5.7, 2.3, 'Iris-virginica'],\n",
       "       [123, 7.7, 2.8, 6.7, 2.0, 'Iris-virginica'],\n",
       "       [126, 7.2, 3.2, 6.0, 1.8, 'Iris-virginica'],\n",
       "       [130, 7.2, 3.0, 5.8, 1.6, 'Iris-virginica'],\n",
       "       [131, 7.4, 2.8, 6.1, 1.9, 'Iris-virginica'],\n",
       "       [132, 7.9, 3.8, 6.4, 2.0, 'Iris-virginica'],\n",
       "       [136, 7.7, 3.0, 6.1, 2.3, 'Iris-virginica'],\n",
       "       [140, 6.9, 3.1, 5.4, 2.1, 'Iris-virginica'],\n",
       "       [142, 6.9, 3.1, 5.1, 2.3, 'Iris-virginica'],\n",
       "       [144, 6.8, 3.2, 5.9, 2.3, 'Iris-virginica']], dtype=object)"
      ]
     },
     "execution_count": 100,
     "metadata": {},
     "output_type": "execute_result"
    }
   ],
   "source": [
    "arr[condition_1]"
   ]
  },
  {
   "cell_type": "markdown",
   "id": "4ba8001a",
   "metadata": {},
   "source": [
    "So, how do we apply the same logic in Pandas? See the below example"
   ]
  },
  {
   "cell_type": "code",
   "execution_count": 101,
   "id": "4561e71d",
   "metadata": {},
   "outputs": [],
   "source": [
    "condition = df['SepalLengthCm'] > 6.7"
   ]
  },
  {
   "cell_type": "code",
   "execution_count": 102,
   "id": "8c58ad7a",
   "metadata": {},
   "outputs": [
    {
     "data": {
      "text/plain": [
       "0      False\n",
       "1      False\n",
       "2      False\n",
       "3      False\n",
       "4      False\n",
       "       ...  \n",
       "145    False\n",
       "146    False\n",
       "147    False\n",
       "148    False\n",
       "149    False\n",
       "Name: SepalLengthCm, Length: 150, dtype: bool"
      ]
     },
     "execution_count": 102,
     "metadata": {},
     "output_type": "execute_result"
    }
   ],
   "source": [
    "# The series object with boolean data\n",
    "condition"
   ]
  },
  {
   "cell_type": "code",
   "execution_count": 103,
   "id": "da071020",
   "metadata": {},
   "outputs": [
    {
     "data": {
      "text/html": [
       "<div>\n",
       "<style scoped>\n",
       "    .dataframe tbody tr th:only-of-type {\n",
       "        vertical-align: middle;\n",
       "    }\n",
       "\n",
       "    .dataframe tbody tr th {\n",
       "        vertical-align: top;\n",
       "    }\n",
       "\n",
       "    .dataframe thead th {\n",
       "        text-align: right;\n",
       "    }\n",
       "</style>\n",
       "<table border=\"1\" class=\"dataframe\">\n",
       "  <thead>\n",
       "    <tr style=\"text-align: right;\">\n",
       "      <th></th>\n",
       "      <th>Id</th>\n",
       "      <th>SepalLengthCm</th>\n",
       "      <th>SepalWidthCm</th>\n",
       "      <th>PetalLengthCm</th>\n",
       "      <th>PetalWidthCm</th>\n",
       "      <th>Species</th>\n",
       "    </tr>\n",
       "  </thead>\n",
       "  <tbody>\n",
       "    <tr>\n",
       "      <th>50</th>\n",
       "      <td>51</td>\n",
       "      <td>7.0</td>\n",
       "      <td>3.2</td>\n",
       "      <td>4.7</td>\n",
       "      <td>1.4</td>\n",
       "      <td>Iris-versicolor</td>\n",
       "    </tr>\n",
       "    <tr>\n",
       "      <th>52</th>\n",
       "      <td>53</td>\n",
       "      <td>6.9</td>\n",
       "      <td>3.1</td>\n",
       "      <td>4.9</td>\n",
       "      <td>1.5</td>\n",
       "      <td>Iris-versicolor</td>\n",
       "    </tr>\n",
       "    <tr>\n",
       "      <th>76</th>\n",
       "      <td>77</td>\n",
       "      <td>6.8</td>\n",
       "      <td>2.8</td>\n",
       "      <td>4.8</td>\n",
       "      <td>1.4</td>\n",
       "      <td>Iris-versicolor</td>\n",
       "    </tr>\n",
       "    <tr>\n",
       "      <th>102</th>\n",
       "      <td>103</td>\n",
       "      <td>7.1</td>\n",
       "      <td>3.0</td>\n",
       "      <td>5.9</td>\n",
       "      <td>2.1</td>\n",
       "      <td>Iris-virginica</td>\n",
       "    </tr>\n",
       "    <tr>\n",
       "      <th>105</th>\n",
       "      <td>106</td>\n",
       "      <td>7.6</td>\n",
       "      <td>3.0</td>\n",
       "      <td>6.6</td>\n",
       "      <td>2.1</td>\n",
       "      <td>Iris-virginica</td>\n",
       "    </tr>\n",
       "    <tr>\n",
       "      <th>107</th>\n",
       "      <td>108</td>\n",
       "      <td>7.3</td>\n",
       "      <td>2.9</td>\n",
       "      <td>6.3</td>\n",
       "      <td>1.8</td>\n",
       "      <td>Iris-virginica</td>\n",
       "    </tr>\n",
       "    <tr>\n",
       "      <th>109</th>\n",
       "      <td>110</td>\n",
       "      <td>7.2</td>\n",
       "      <td>3.6</td>\n",
       "      <td>6.1</td>\n",
       "      <td>2.5</td>\n",
       "      <td>Iris-virginica</td>\n",
       "    </tr>\n",
       "    <tr>\n",
       "      <th>112</th>\n",
       "      <td>113</td>\n",
       "      <td>6.8</td>\n",
       "      <td>3.0</td>\n",
       "      <td>5.5</td>\n",
       "      <td>2.1</td>\n",
       "      <td>Iris-virginica</td>\n",
       "    </tr>\n",
       "    <tr>\n",
       "      <th>117</th>\n",
       "      <td>118</td>\n",
       "      <td>7.7</td>\n",
       "      <td>3.8</td>\n",
       "      <td>6.7</td>\n",
       "      <td>2.2</td>\n",
       "      <td>Iris-virginica</td>\n",
       "    </tr>\n",
       "    <tr>\n",
       "      <th>118</th>\n",
       "      <td>119</td>\n",
       "      <td>7.7</td>\n",
       "      <td>2.6</td>\n",
       "      <td>6.9</td>\n",
       "      <td>2.3</td>\n",
       "      <td>Iris-virginica</td>\n",
       "    </tr>\n",
       "    <tr>\n",
       "      <th>120</th>\n",
       "      <td>121</td>\n",
       "      <td>6.9</td>\n",
       "      <td>3.2</td>\n",
       "      <td>5.7</td>\n",
       "      <td>2.3</td>\n",
       "      <td>Iris-virginica</td>\n",
       "    </tr>\n",
       "    <tr>\n",
       "      <th>122</th>\n",
       "      <td>123</td>\n",
       "      <td>7.7</td>\n",
       "      <td>2.8</td>\n",
       "      <td>6.7</td>\n",
       "      <td>2.0</td>\n",
       "      <td>Iris-virginica</td>\n",
       "    </tr>\n",
       "    <tr>\n",
       "      <th>125</th>\n",
       "      <td>126</td>\n",
       "      <td>7.2</td>\n",
       "      <td>3.2</td>\n",
       "      <td>6.0</td>\n",
       "      <td>1.8</td>\n",
       "      <td>Iris-virginica</td>\n",
       "    </tr>\n",
       "    <tr>\n",
       "      <th>129</th>\n",
       "      <td>130</td>\n",
       "      <td>7.2</td>\n",
       "      <td>3.0</td>\n",
       "      <td>5.8</td>\n",
       "      <td>1.6</td>\n",
       "      <td>Iris-virginica</td>\n",
       "    </tr>\n",
       "    <tr>\n",
       "      <th>130</th>\n",
       "      <td>131</td>\n",
       "      <td>7.4</td>\n",
       "      <td>2.8</td>\n",
       "      <td>6.1</td>\n",
       "      <td>1.9</td>\n",
       "      <td>Iris-virginica</td>\n",
       "    </tr>\n",
       "    <tr>\n",
       "      <th>131</th>\n",
       "      <td>132</td>\n",
       "      <td>7.9</td>\n",
       "      <td>3.8</td>\n",
       "      <td>6.4</td>\n",
       "      <td>2.0</td>\n",
       "      <td>Iris-virginica</td>\n",
       "    </tr>\n",
       "    <tr>\n",
       "      <th>135</th>\n",
       "      <td>136</td>\n",
       "      <td>7.7</td>\n",
       "      <td>3.0</td>\n",
       "      <td>6.1</td>\n",
       "      <td>2.3</td>\n",
       "      <td>Iris-virginica</td>\n",
       "    </tr>\n",
       "    <tr>\n",
       "      <th>139</th>\n",
       "      <td>140</td>\n",
       "      <td>6.9</td>\n",
       "      <td>3.1</td>\n",
       "      <td>5.4</td>\n",
       "      <td>2.1</td>\n",
       "      <td>Iris-virginica</td>\n",
       "    </tr>\n",
       "    <tr>\n",
       "      <th>141</th>\n",
       "      <td>142</td>\n",
       "      <td>6.9</td>\n",
       "      <td>3.1</td>\n",
       "      <td>5.1</td>\n",
       "      <td>2.3</td>\n",
       "      <td>Iris-virginica</td>\n",
       "    </tr>\n",
       "    <tr>\n",
       "      <th>143</th>\n",
       "      <td>144</td>\n",
       "      <td>6.8</td>\n",
       "      <td>3.2</td>\n",
       "      <td>5.9</td>\n",
       "      <td>2.3</td>\n",
       "      <td>Iris-virginica</td>\n",
       "    </tr>\n",
       "  </tbody>\n",
       "</table>\n",
       "</div>"
      ],
      "text/plain": [
       "      Id  SepalLengthCm  SepalWidthCm  PetalLengthCm  PetalWidthCm   \n",
       "50    51            7.0           3.2            4.7           1.4  \\\n",
       "52    53            6.9           3.1            4.9           1.5   \n",
       "76    77            6.8           2.8            4.8           1.4   \n",
       "102  103            7.1           3.0            5.9           2.1   \n",
       "105  106            7.6           3.0            6.6           2.1   \n",
       "107  108            7.3           2.9            6.3           1.8   \n",
       "109  110            7.2           3.6            6.1           2.5   \n",
       "112  113            6.8           3.0            5.5           2.1   \n",
       "117  118            7.7           3.8            6.7           2.2   \n",
       "118  119            7.7           2.6            6.9           2.3   \n",
       "120  121            6.9           3.2            5.7           2.3   \n",
       "122  123            7.7           2.8            6.7           2.0   \n",
       "125  126            7.2           3.2            6.0           1.8   \n",
       "129  130            7.2           3.0            5.8           1.6   \n",
       "130  131            7.4           2.8            6.1           1.9   \n",
       "131  132            7.9           3.8            6.4           2.0   \n",
       "135  136            7.7           3.0            6.1           2.3   \n",
       "139  140            6.9           3.1            5.4           2.1   \n",
       "141  142            6.9           3.1            5.1           2.3   \n",
       "143  144            6.8           3.2            5.9           2.3   \n",
       "\n",
       "             Species  \n",
       "50   Iris-versicolor  \n",
       "52   Iris-versicolor  \n",
       "76   Iris-versicolor  \n",
       "102   Iris-virginica  \n",
       "105   Iris-virginica  \n",
       "107   Iris-virginica  \n",
       "109   Iris-virginica  \n",
       "112   Iris-virginica  \n",
       "117   Iris-virginica  \n",
       "118   Iris-virginica  \n",
       "120   Iris-virginica  \n",
       "122   Iris-virginica  \n",
       "125   Iris-virginica  \n",
       "129   Iris-virginica  \n",
       "130   Iris-virginica  \n",
       "131   Iris-virginica  \n",
       "135   Iris-virginica  \n",
       "139   Iris-virginica  \n",
       "141   Iris-virginica  \n",
       "143   Iris-virginica  "
      ]
     },
     "execution_count": 103,
     "metadata": {},
     "output_type": "execute_result"
    }
   ],
   "source": [
    "df.loc[condition]"
   ]
  },
  {
   "cell_type": "markdown",
   "id": "442b5354",
   "metadata": {},
   "source": [
    "There we have it! The same output at different data types. Now, let's apply multiple conditions."
   ]
  },
  {
   "cell_type": "code",
   "execution_count": 104,
   "id": "a5bce57f",
   "metadata": {},
   "outputs": [
    {
     "data": {
      "text/plain": [
       "array([[55, 6.5, 2.8, 4.6, 1.5, 'Iris-versicolor'],\n",
       "       [56, 5.7, 2.8, 4.5, 1.3, 'Iris-versicolor'],\n",
       "       [59, 6.6, 2.9, 4.6, 1.3, 'Iris-versicolor'],\n",
       "       [63, 6.0, 2.2, 4.0, 1.0, 'Iris-versicolor'],\n",
       "       [64, 6.1, 2.9, 4.7, 1.4, 'Iris-versicolor'],\n",
       "       [65, 5.6, 2.9, 3.6, 1.3, 'Iris-versicolor'],\n",
       "       [68, 5.8, 2.7, 4.1, 1.0, 'Iris-versicolor'],\n",
       "       [69, 6.2, 2.2, 4.5, 1.5, 'Iris-versicolor'],\n",
       "       [70, 5.6, 2.5, 3.9, 1.1, 'Iris-versicolor'],\n",
       "       [72, 6.1, 2.8, 4.0, 1.3, 'Iris-versicolor'],\n",
       "       [73, 6.3, 2.5, 4.9, 1.5, 'Iris-versicolor'],\n",
       "       [74, 6.1, 2.8, 4.7, 1.2, 'Iris-versicolor'],\n",
       "       [75, 6.4, 2.9, 4.3, 1.3, 'Iris-versicolor'],\n",
       "       [77, 6.8, 2.8, 4.8, 1.4, 'Iris-versicolor'],\n",
       "       [79, 6.0, 2.9, 4.5, 1.5, 'Iris-versicolor'],\n",
       "       [80, 5.7, 2.6, 3.5, 1.0, 'Iris-versicolor'],\n",
       "       [83, 5.8, 2.7, 3.9, 1.2, 'Iris-versicolor'],\n",
       "       [84, 6.0, 2.7, 5.1, 1.6, 'Iris-versicolor'],\n",
       "       [88, 6.3, 2.3, 4.4, 1.3, 'Iris-versicolor'],\n",
       "       [93, 5.8, 2.6, 4.0, 1.2, 'Iris-versicolor'],\n",
       "       [95, 5.6, 2.7, 4.2, 1.3, 'Iris-versicolor'],\n",
       "       [97, 5.7, 2.9, 4.2, 1.3, 'Iris-versicolor'],\n",
       "       [98, 6.2, 2.9, 4.3, 1.3, 'Iris-versicolor'],\n",
       "       [100, 5.7, 2.8, 4.1, 1.3, 'Iris-versicolor'],\n",
       "       [102, 5.8, 2.7, 5.1, 1.9, 'Iris-virginica'],\n",
       "       [104, 6.3, 2.9, 5.6, 1.8, 'Iris-virginica'],\n",
       "       [108, 7.3, 2.9, 6.3, 1.8, 'Iris-virginica'],\n",
       "       [109, 6.7, 2.5, 5.8, 1.8, 'Iris-virginica'],\n",
       "       [112, 6.4, 2.7, 5.3, 1.9, 'Iris-virginica'],\n",
       "       [114, 5.7, 2.5, 5.0, 2.0, 'Iris-virginica'],\n",
       "       [115, 5.8, 2.8, 5.1, 2.4, 'Iris-virginica'],\n",
       "       [119, 7.7, 2.6, 6.9, 2.3, 'Iris-virginica'],\n",
       "       [120, 6.0, 2.2, 5.0, 1.5, 'Iris-virginica'],\n",
       "       [122, 5.6, 2.8, 4.9, 2.0, 'Iris-virginica'],\n",
       "       [123, 7.7, 2.8, 6.7, 2.0, 'Iris-virginica'],\n",
       "       [124, 6.3, 2.7, 4.9, 1.8, 'Iris-virginica'],\n",
       "       [127, 6.2, 2.8, 4.8, 1.8, 'Iris-virginica'],\n",
       "       [129, 6.4, 2.8, 5.6, 2.1, 'Iris-virginica'],\n",
       "       [131, 7.4, 2.8, 6.1, 1.9, 'Iris-virginica'],\n",
       "       [133, 6.4, 2.8, 5.6, 2.2, 'Iris-virginica'],\n",
       "       [134, 6.3, 2.8, 5.1, 1.5, 'Iris-virginica'],\n",
       "       [135, 6.1, 2.6, 5.6, 1.4, 'Iris-virginica'],\n",
       "       [143, 5.8, 2.7, 5.1, 1.9, 'Iris-virginica'],\n",
       "       [147, 6.3, 2.5, 5.0, 1.9, 'Iris-virginica']], dtype=object)"
      ]
     },
     "execution_count": 104,
     "metadata": {},
     "output_type": "execute_result"
    }
   ],
   "source": [
    "condition_1 = arr[:, 1] > 5.5\n",
    "condition_2 = arr[:, 2] < 3\n",
    "\n",
    "arr[(condition_1 & condition_2)]"
   ]
  },
  {
   "cell_type": "code",
   "execution_count": 105,
   "id": "71cfc45c",
   "metadata": {},
   "outputs": [],
   "source": [
    "condition_1 = df['SepalLengthCm'] > 5.5\n",
    "condition_2 = df['SepalWidthCm'] < 3"
   ]
  },
  {
   "cell_type": "code",
   "execution_count": 106,
   "id": "c9646767",
   "metadata": {},
   "outputs": [
    {
     "data": {
      "text/html": [
       "<div>\n",
       "<style scoped>\n",
       "    .dataframe tbody tr th:only-of-type {\n",
       "        vertical-align: middle;\n",
       "    }\n",
       "\n",
       "    .dataframe tbody tr th {\n",
       "        vertical-align: top;\n",
       "    }\n",
       "\n",
       "    .dataframe thead th {\n",
       "        text-align: right;\n",
       "    }\n",
       "</style>\n",
       "<table border=\"1\" class=\"dataframe\">\n",
       "  <thead>\n",
       "    <tr style=\"text-align: right;\">\n",
       "      <th></th>\n",
       "      <th>Id</th>\n",
       "      <th>SepalLengthCm</th>\n",
       "      <th>SepalWidthCm</th>\n",
       "      <th>PetalLengthCm</th>\n",
       "      <th>PetalWidthCm</th>\n",
       "      <th>Species</th>\n",
       "    </tr>\n",
       "  </thead>\n",
       "  <tbody>\n",
       "    <tr>\n",
       "      <th>54</th>\n",
       "      <td>55</td>\n",
       "      <td>6.5</td>\n",
       "      <td>2.8</td>\n",
       "      <td>4.6</td>\n",
       "      <td>1.5</td>\n",
       "      <td>Iris-versicolor</td>\n",
       "    </tr>\n",
       "    <tr>\n",
       "      <th>55</th>\n",
       "      <td>56</td>\n",
       "      <td>5.7</td>\n",
       "      <td>2.8</td>\n",
       "      <td>4.5</td>\n",
       "      <td>1.3</td>\n",
       "      <td>Iris-versicolor</td>\n",
       "    </tr>\n",
       "    <tr>\n",
       "      <th>58</th>\n",
       "      <td>59</td>\n",
       "      <td>6.6</td>\n",
       "      <td>2.9</td>\n",
       "      <td>4.6</td>\n",
       "      <td>1.3</td>\n",
       "      <td>Iris-versicolor</td>\n",
       "    </tr>\n",
       "    <tr>\n",
       "      <th>62</th>\n",
       "      <td>63</td>\n",
       "      <td>6.0</td>\n",
       "      <td>2.2</td>\n",
       "      <td>4.0</td>\n",
       "      <td>1.0</td>\n",
       "      <td>Iris-versicolor</td>\n",
       "    </tr>\n",
       "    <tr>\n",
       "      <th>63</th>\n",
       "      <td>64</td>\n",
       "      <td>6.1</td>\n",
       "      <td>2.9</td>\n",
       "      <td>4.7</td>\n",
       "      <td>1.4</td>\n",
       "      <td>Iris-versicolor</td>\n",
       "    </tr>\n",
       "    <tr>\n",
       "      <th>64</th>\n",
       "      <td>65</td>\n",
       "      <td>5.6</td>\n",
       "      <td>2.9</td>\n",
       "      <td>3.6</td>\n",
       "      <td>1.3</td>\n",
       "      <td>Iris-versicolor</td>\n",
       "    </tr>\n",
       "    <tr>\n",
       "      <th>67</th>\n",
       "      <td>68</td>\n",
       "      <td>5.8</td>\n",
       "      <td>2.7</td>\n",
       "      <td>4.1</td>\n",
       "      <td>1.0</td>\n",
       "      <td>Iris-versicolor</td>\n",
       "    </tr>\n",
       "    <tr>\n",
       "      <th>68</th>\n",
       "      <td>69</td>\n",
       "      <td>6.2</td>\n",
       "      <td>2.2</td>\n",
       "      <td>4.5</td>\n",
       "      <td>1.5</td>\n",
       "      <td>Iris-versicolor</td>\n",
       "    </tr>\n",
       "    <tr>\n",
       "      <th>69</th>\n",
       "      <td>70</td>\n",
       "      <td>5.6</td>\n",
       "      <td>2.5</td>\n",
       "      <td>3.9</td>\n",
       "      <td>1.1</td>\n",
       "      <td>Iris-versicolor</td>\n",
       "    </tr>\n",
       "    <tr>\n",
       "      <th>71</th>\n",
       "      <td>72</td>\n",
       "      <td>6.1</td>\n",
       "      <td>2.8</td>\n",
       "      <td>4.0</td>\n",
       "      <td>1.3</td>\n",
       "      <td>Iris-versicolor</td>\n",
       "    </tr>\n",
       "    <tr>\n",
       "      <th>72</th>\n",
       "      <td>73</td>\n",
       "      <td>6.3</td>\n",
       "      <td>2.5</td>\n",
       "      <td>4.9</td>\n",
       "      <td>1.5</td>\n",
       "      <td>Iris-versicolor</td>\n",
       "    </tr>\n",
       "    <tr>\n",
       "      <th>73</th>\n",
       "      <td>74</td>\n",
       "      <td>6.1</td>\n",
       "      <td>2.8</td>\n",
       "      <td>4.7</td>\n",
       "      <td>1.2</td>\n",
       "      <td>Iris-versicolor</td>\n",
       "    </tr>\n",
       "    <tr>\n",
       "      <th>74</th>\n",
       "      <td>75</td>\n",
       "      <td>6.4</td>\n",
       "      <td>2.9</td>\n",
       "      <td>4.3</td>\n",
       "      <td>1.3</td>\n",
       "      <td>Iris-versicolor</td>\n",
       "    </tr>\n",
       "    <tr>\n",
       "      <th>76</th>\n",
       "      <td>77</td>\n",
       "      <td>6.8</td>\n",
       "      <td>2.8</td>\n",
       "      <td>4.8</td>\n",
       "      <td>1.4</td>\n",
       "      <td>Iris-versicolor</td>\n",
       "    </tr>\n",
       "    <tr>\n",
       "      <th>78</th>\n",
       "      <td>79</td>\n",
       "      <td>6.0</td>\n",
       "      <td>2.9</td>\n",
       "      <td>4.5</td>\n",
       "      <td>1.5</td>\n",
       "      <td>Iris-versicolor</td>\n",
       "    </tr>\n",
       "    <tr>\n",
       "      <th>79</th>\n",
       "      <td>80</td>\n",
       "      <td>5.7</td>\n",
       "      <td>2.6</td>\n",
       "      <td>3.5</td>\n",
       "      <td>1.0</td>\n",
       "      <td>Iris-versicolor</td>\n",
       "    </tr>\n",
       "    <tr>\n",
       "      <th>82</th>\n",
       "      <td>83</td>\n",
       "      <td>5.8</td>\n",
       "      <td>2.7</td>\n",
       "      <td>3.9</td>\n",
       "      <td>1.2</td>\n",
       "      <td>Iris-versicolor</td>\n",
       "    </tr>\n",
       "    <tr>\n",
       "      <th>83</th>\n",
       "      <td>84</td>\n",
       "      <td>6.0</td>\n",
       "      <td>2.7</td>\n",
       "      <td>5.1</td>\n",
       "      <td>1.6</td>\n",
       "      <td>Iris-versicolor</td>\n",
       "    </tr>\n",
       "    <tr>\n",
       "      <th>87</th>\n",
       "      <td>88</td>\n",
       "      <td>6.3</td>\n",
       "      <td>2.3</td>\n",
       "      <td>4.4</td>\n",
       "      <td>1.3</td>\n",
       "      <td>Iris-versicolor</td>\n",
       "    </tr>\n",
       "    <tr>\n",
       "      <th>92</th>\n",
       "      <td>93</td>\n",
       "      <td>5.8</td>\n",
       "      <td>2.6</td>\n",
       "      <td>4.0</td>\n",
       "      <td>1.2</td>\n",
       "      <td>Iris-versicolor</td>\n",
       "    </tr>\n",
       "    <tr>\n",
       "      <th>94</th>\n",
       "      <td>95</td>\n",
       "      <td>5.6</td>\n",
       "      <td>2.7</td>\n",
       "      <td>4.2</td>\n",
       "      <td>1.3</td>\n",
       "      <td>Iris-versicolor</td>\n",
       "    </tr>\n",
       "    <tr>\n",
       "      <th>96</th>\n",
       "      <td>97</td>\n",
       "      <td>5.7</td>\n",
       "      <td>2.9</td>\n",
       "      <td>4.2</td>\n",
       "      <td>1.3</td>\n",
       "      <td>Iris-versicolor</td>\n",
       "    </tr>\n",
       "    <tr>\n",
       "      <th>97</th>\n",
       "      <td>98</td>\n",
       "      <td>6.2</td>\n",
       "      <td>2.9</td>\n",
       "      <td>4.3</td>\n",
       "      <td>1.3</td>\n",
       "      <td>Iris-versicolor</td>\n",
       "    </tr>\n",
       "    <tr>\n",
       "      <th>99</th>\n",
       "      <td>100</td>\n",
       "      <td>5.7</td>\n",
       "      <td>2.8</td>\n",
       "      <td>4.1</td>\n",
       "      <td>1.3</td>\n",
       "      <td>Iris-versicolor</td>\n",
       "    </tr>\n",
       "    <tr>\n",
       "      <th>101</th>\n",
       "      <td>102</td>\n",
       "      <td>5.8</td>\n",
       "      <td>2.7</td>\n",
       "      <td>5.1</td>\n",
       "      <td>1.9</td>\n",
       "      <td>Iris-virginica</td>\n",
       "    </tr>\n",
       "    <tr>\n",
       "      <th>103</th>\n",
       "      <td>104</td>\n",
       "      <td>6.3</td>\n",
       "      <td>2.9</td>\n",
       "      <td>5.6</td>\n",
       "      <td>1.8</td>\n",
       "      <td>Iris-virginica</td>\n",
       "    </tr>\n",
       "    <tr>\n",
       "      <th>107</th>\n",
       "      <td>108</td>\n",
       "      <td>7.3</td>\n",
       "      <td>2.9</td>\n",
       "      <td>6.3</td>\n",
       "      <td>1.8</td>\n",
       "      <td>Iris-virginica</td>\n",
       "    </tr>\n",
       "    <tr>\n",
       "      <th>108</th>\n",
       "      <td>109</td>\n",
       "      <td>6.7</td>\n",
       "      <td>2.5</td>\n",
       "      <td>5.8</td>\n",
       "      <td>1.8</td>\n",
       "      <td>Iris-virginica</td>\n",
       "    </tr>\n",
       "    <tr>\n",
       "      <th>111</th>\n",
       "      <td>112</td>\n",
       "      <td>6.4</td>\n",
       "      <td>2.7</td>\n",
       "      <td>5.3</td>\n",
       "      <td>1.9</td>\n",
       "      <td>Iris-virginica</td>\n",
       "    </tr>\n",
       "    <tr>\n",
       "      <th>113</th>\n",
       "      <td>114</td>\n",
       "      <td>5.7</td>\n",
       "      <td>2.5</td>\n",
       "      <td>5.0</td>\n",
       "      <td>2.0</td>\n",
       "      <td>Iris-virginica</td>\n",
       "    </tr>\n",
       "    <tr>\n",
       "      <th>114</th>\n",
       "      <td>115</td>\n",
       "      <td>5.8</td>\n",
       "      <td>2.8</td>\n",
       "      <td>5.1</td>\n",
       "      <td>2.4</td>\n",
       "      <td>Iris-virginica</td>\n",
       "    </tr>\n",
       "    <tr>\n",
       "      <th>118</th>\n",
       "      <td>119</td>\n",
       "      <td>7.7</td>\n",
       "      <td>2.6</td>\n",
       "      <td>6.9</td>\n",
       "      <td>2.3</td>\n",
       "      <td>Iris-virginica</td>\n",
       "    </tr>\n",
       "    <tr>\n",
       "      <th>119</th>\n",
       "      <td>120</td>\n",
       "      <td>6.0</td>\n",
       "      <td>2.2</td>\n",
       "      <td>5.0</td>\n",
       "      <td>1.5</td>\n",
       "      <td>Iris-virginica</td>\n",
       "    </tr>\n",
       "    <tr>\n",
       "      <th>121</th>\n",
       "      <td>122</td>\n",
       "      <td>5.6</td>\n",
       "      <td>2.8</td>\n",
       "      <td>4.9</td>\n",
       "      <td>2.0</td>\n",
       "      <td>Iris-virginica</td>\n",
       "    </tr>\n",
       "    <tr>\n",
       "      <th>122</th>\n",
       "      <td>123</td>\n",
       "      <td>7.7</td>\n",
       "      <td>2.8</td>\n",
       "      <td>6.7</td>\n",
       "      <td>2.0</td>\n",
       "      <td>Iris-virginica</td>\n",
       "    </tr>\n",
       "    <tr>\n",
       "      <th>123</th>\n",
       "      <td>124</td>\n",
       "      <td>6.3</td>\n",
       "      <td>2.7</td>\n",
       "      <td>4.9</td>\n",
       "      <td>1.8</td>\n",
       "      <td>Iris-virginica</td>\n",
       "    </tr>\n",
       "    <tr>\n",
       "      <th>126</th>\n",
       "      <td>127</td>\n",
       "      <td>6.2</td>\n",
       "      <td>2.8</td>\n",
       "      <td>4.8</td>\n",
       "      <td>1.8</td>\n",
       "      <td>Iris-virginica</td>\n",
       "    </tr>\n",
       "    <tr>\n",
       "      <th>128</th>\n",
       "      <td>129</td>\n",
       "      <td>6.4</td>\n",
       "      <td>2.8</td>\n",
       "      <td>5.6</td>\n",
       "      <td>2.1</td>\n",
       "      <td>Iris-virginica</td>\n",
       "    </tr>\n",
       "    <tr>\n",
       "      <th>130</th>\n",
       "      <td>131</td>\n",
       "      <td>7.4</td>\n",
       "      <td>2.8</td>\n",
       "      <td>6.1</td>\n",
       "      <td>1.9</td>\n",
       "      <td>Iris-virginica</td>\n",
       "    </tr>\n",
       "    <tr>\n",
       "      <th>132</th>\n",
       "      <td>133</td>\n",
       "      <td>6.4</td>\n",
       "      <td>2.8</td>\n",
       "      <td>5.6</td>\n",
       "      <td>2.2</td>\n",
       "      <td>Iris-virginica</td>\n",
       "    </tr>\n",
       "    <tr>\n",
       "      <th>133</th>\n",
       "      <td>134</td>\n",
       "      <td>6.3</td>\n",
       "      <td>2.8</td>\n",
       "      <td>5.1</td>\n",
       "      <td>1.5</td>\n",
       "      <td>Iris-virginica</td>\n",
       "    </tr>\n",
       "    <tr>\n",
       "      <th>134</th>\n",
       "      <td>135</td>\n",
       "      <td>6.1</td>\n",
       "      <td>2.6</td>\n",
       "      <td>5.6</td>\n",
       "      <td>1.4</td>\n",
       "      <td>Iris-virginica</td>\n",
       "    </tr>\n",
       "    <tr>\n",
       "      <th>142</th>\n",
       "      <td>143</td>\n",
       "      <td>5.8</td>\n",
       "      <td>2.7</td>\n",
       "      <td>5.1</td>\n",
       "      <td>1.9</td>\n",
       "      <td>Iris-virginica</td>\n",
       "    </tr>\n",
       "    <tr>\n",
       "      <th>146</th>\n",
       "      <td>147</td>\n",
       "      <td>6.3</td>\n",
       "      <td>2.5</td>\n",
       "      <td>5.0</td>\n",
       "      <td>1.9</td>\n",
       "      <td>Iris-virginica</td>\n",
       "    </tr>\n",
       "  </tbody>\n",
       "</table>\n",
       "</div>"
      ],
      "text/plain": [
       "      Id  SepalLengthCm  SepalWidthCm  PetalLengthCm  PetalWidthCm   \n",
       "54    55            6.5           2.8            4.6           1.5  \\\n",
       "55    56            5.7           2.8            4.5           1.3   \n",
       "58    59            6.6           2.9            4.6           1.3   \n",
       "62    63            6.0           2.2            4.0           1.0   \n",
       "63    64            6.1           2.9            4.7           1.4   \n",
       "64    65            5.6           2.9            3.6           1.3   \n",
       "67    68            5.8           2.7            4.1           1.0   \n",
       "68    69            6.2           2.2            4.5           1.5   \n",
       "69    70            5.6           2.5            3.9           1.1   \n",
       "71    72            6.1           2.8            4.0           1.3   \n",
       "72    73            6.3           2.5            4.9           1.5   \n",
       "73    74            6.1           2.8            4.7           1.2   \n",
       "74    75            6.4           2.9            4.3           1.3   \n",
       "76    77            6.8           2.8            4.8           1.4   \n",
       "78    79            6.0           2.9            4.5           1.5   \n",
       "79    80            5.7           2.6            3.5           1.0   \n",
       "82    83            5.8           2.7            3.9           1.2   \n",
       "83    84            6.0           2.7            5.1           1.6   \n",
       "87    88            6.3           2.3            4.4           1.3   \n",
       "92    93            5.8           2.6            4.0           1.2   \n",
       "94    95            5.6           2.7            4.2           1.3   \n",
       "96    97            5.7           2.9            4.2           1.3   \n",
       "97    98            6.2           2.9            4.3           1.3   \n",
       "99   100            5.7           2.8            4.1           1.3   \n",
       "101  102            5.8           2.7            5.1           1.9   \n",
       "103  104            6.3           2.9            5.6           1.8   \n",
       "107  108            7.3           2.9            6.3           1.8   \n",
       "108  109            6.7           2.5            5.8           1.8   \n",
       "111  112            6.4           2.7            5.3           1.9   \n",
       "113  114            5.7           2.5            5.0           2.0   \n",
       "114  115            5.8           2.8            5.1           2.4   \n",
       "118  119            7.7           2.6            6.9           2.3   \n",
       "119  120            6.0           2.2            5.0           1.5   \n",
       "121  122            5.6           2.8            4.9           2.0   \n",
       "122  123            7.7           2.8            6.7           2.0   \n",
       "123  124            6.3           2.7            4.9           1.8   \n",
       "126  127            6.2           2.8            4.8           1.8   \n",
       "128  129            6.4           2.8            5.6           2.1   \n",
       "130  131            7.4           2.8            6.1           1.9   \n",
       "132  133            6.4           2.8            5.6           2.2   \n",
       "133  134            6.3           2.8            5.1           1.5   \n",
       "134  135            6.1           2.6            5.6           1.4   \n",
       "142  143            5.8           2.7            5.1           1.9   \n",
       "146  147            6.3           2.5            5.0           1.9   \n",
       "\n",
       "             Species  \n",
       "54   Iris-versicolor  \n",
       "55   Iris-versicolor  \n",
       "58   Iris-versicolor  \n",
       "62   Iris-versicolor  \n",
       "63   Iris-versicolor  \n",
       "64   Iris-versicolor  \n",
       "67   Iris-versicolor  \n",
       "68   Iris-versicolor  \n",
       "69   Iris-versicolor  \n",
       "71   Iris-versicolor  \n",
       "72   Iris-versicolor  \n",
       "73   Iris-versicolor  \n",
       "74   Iris-versicolor  \n",
       "76   Iris-versicolor  \n",
       "78   Iris-versicolor  \n",
       "79   Iris-versicolor  \n",
       "82   Iris-versicolor  \n",
       "83   Iris-versicolor  \n",
       "87   Iris-versicolor  \n",
       "92   Iris-versicolor  \n",
       "94   Iris-versicolor  \n",
       "96   Iris-versicolor  \n",
       "97   Iris-versicolor  \n",
       "99   Iris-versicolor  \n",
       "101   Iris-virginica  \n",
       "103   Iris-virginica  \n",
       "107   Iris-virginica  \n",
       "108   Iris-virginica  \n",
       "111   Iris-virginica  \n",
       "113   Iris-virginica  \n",
       "114   Iris-virginica  \n",
       "118   Iris-virginica  \n",
       "119   Iris-virginica  \n",
       "121   Iris-virginica  \n",
       "122   Iris-virginica  \n",
       "123   Iris-virginica  \n",
       "126   Iris-virginica  \n",
       "128   Iris-virginica  \n",
       "130   Iris-virginica  \n",
       "132   Iris-virginica  \n",
       "133   Iris-virginica  \n",
       "134   Iris-virginica  \n",
       "142   Iris-virginica  \n",
       "146   Iris-virginica  "
      ]
     },
     "execution_count": 106,
     "metadata": {},
     "output_type": "execute_result"
    }
   ],
   "source": [
    "df.loc[condition_1 & condition_2]"
   ]
  },
  {
   "cell_type": "markdown",
   "id": "7ec84342",
   "metadata": {},
   "source": [
    "We can also take sub-DataFrame and work on separately."
   ]
  },
  {
   "cell_type": "code",
   "execution_count": 107,
   "id": "f50a24c3",
   "metadata": {},
   "outputs": [],
   "source": [
    "subdf = df.loc[condition_1 & condition_2]"
   ]
  },
  {
   "cell_type": "code",
   "execution_count": 108,
   "id": "8ab0b446",
   "metadata": {},
   "outputs": [
    {
     "data": {
      "text/plain": [
       "Species\n",
       "Iris-versicolor    24\n",
       "Iris-virginica     20\n",
       "Name: count, dtype: int64"
      ]
     },
     "execution_count": 108,
     "metadata": {},
     "output_type": "execute_result"
    }
   ],
   "source": [
    "subdf['Species'].value_counts()"
   ]
  },
  {
   "cell_type": "code",
   "execution_count": null,
   "id": "ecde44fd",
   "metadata": {},
   "outputs": [],
   "source": []
  },
  {
   "cell_type": "markdown",
   "id": "0e897ef1",
   "metadata": {},
   "source": [
    "Applying other operators"
   ]
  },
  {
   "cell_type": "code",
   "execution_count": 109,
   "id": "d414044a",
   "metadata": {},
   "outputs": [
    {
     "data": {
      "text/html": [
       "<div>\n",
       "<style scoped>\n",
       "    .dataframe tbody tr th:only-of-type {\n",
       "        vertical-align: middle;\n",
       "    }\n",
       "\n",
       "    .dataframe tbody tr th {\n",
       "        vertical-align: top;\n",
       "    }\n",
       "\n",
       "    .dataframe thead th {\n",
       "        text-align: right;\n",
       "    }\n",
       "</style>\n",
       "<table border=\"1\" class=\"dataframe\">\n",
       "  <thead>\n",
       "    <tr style=\"text-align: right;\">\n",
       "      <th></th>\n",
       "      <th>Id</th>\n",
       "      <th>SepalLengthCm</th>\n",
       "      <th>SepalWidthCm</th>\n",
       "      <th>PetalLengthCm</th>\n",
       "      <th>PetalWidthCm</th>\n",
       "      <th>Species</th>\n",
       "    </tr>\n",
       "  </thead>\n",
       "  <tbody>\n",
       "    <tr>\n",
       "      <th>0</th>\n",
       "      <td>1</td>\n",
       "      <td>5.1</td>\n",
       "      <td>3.5</td>\n",
       "      <td>1.4</td>\n",
       "      <td>0.2</td>\n",
       "      <td>Iris-setosa</td>\n",
       "    </tr>\n",
       "    <tr>\n",
       "      <th>1</th>\n",
       "      <td>2</td>\n",
       "      <td>4.9</td>\n",
       "      <td>3.0</td>\n",
       "      <td>1.4</td>\n",
       "      <td>0.2</td>\n",
       "      <td>Iris-setosa</td>\n",
       "    </tr>\n",
       "    <tr>\n",
       "      <th>2</th>\n",
       "      <td>3</td>\n",
       "      <td>4.7</td>\n",
       "      <td>3.2</td>\n",
       "      <td>1.3</td>\n",
       "      <td>0.2</td>\n",
       "      <td>Iris-setosa</td>\n",
       "    </tr>\n",
       "    <tr>\n",
       "      <th>3</th>\n",
       "      <td>4</td>\n",
       "      <td>4.6</td>\n",
       "      <td>3.1</td>\n",
       "      <td>1.5</td>\n",
       "      <td>0.2</td>\n",
       "      <td>Iris-setosa</td>\n",
       "    </tr>\n",
       "    <tr>\n",
       "      <th>4</th>\n",
       "      <td>5</td>\n",
       "      <td>5.0</td>\n",
       "      <td>3.6</td>\n",
       "      <td>1.4</td>\n",
       "      <td>0.2</td>\n",
       "      <td>Iris-setosa</td>\n",
       "    </tr>\n",
       "    <tr>\n",
       "      <th>...</th>\n",
       "      <td>...</td>\n",
       "      <td>...</td>\n",
       "      <td>...</td>\n",
       "      <td>...</td>\n",
       "      <td>...</td>\n",
       "      <td>...</td>\n",
       "    </tr>\n",
       "    <tr>\n",
       "      <th>132</th>\n",
       "      <td>133</td>\n",
       "      <td>6.4</td>\n",
       "      <td>2.8</td>\n",
       "      <td>5.6</td>\n",
       "      <td>2.2</td>\n",
       "      <td>Iris-virginica</td>\n",
       "    </tr>\n",
       "    <tr>\n",
       "      <th>133</th>\n",
       "      <td>134</td>\n",
       "      <td>6.3</td>\n",
       "      <td>2.8</td>\n",
       "      <td>5.1</td>\n",
       "      <td>1.5</td>\n",
       "      <td>Iris-virginica</td>\n",
       "    </tr>\n",
       "    <tr>\n",
       "      <th>134</th>\n",
       "      <td>135</td>\n",
       "      <td>6.1</td>\n",
       "      <td>2.6</td>\n",
       "      <td>5.6</td>\n",
       "      <td>1.4</td>\n",
       "      <td>Iris-virginica</td>\n",
       "    </tr>\n",
       "    <tr>\n",
       "      <th>142</th>\n",
       "      <td>143</td>\n",
       "      <td>5.8</td>\n",
       "      <td>2.7</td>\n",
       "      <td>5.1</td>\n",
       "      <td>1.9</td>\n",
       "      <td>Iris-virginica</td>\n",
       "    </tr>\n",
       "    <tr>\n",
       "      <th>146</th>\n",
       "      <td>147</td>\n",
       "      <td>6.3</td>\n",
       "      <td>2.5</td>\n",
       "      <td>5.0</td>\n",
       "      <td>1.9</td>\n",
       "      <td>Iris-virginica</td>\n",
       "    </tr>\n",
       "  </tbody>\n",
       "</table>\n",
       "<p>103 rows × 6 columns</p>\n",
       "</div>"
      ],
      "text/plain": [
       "      Id  SepalLengthCm  SepalWidthCm  PetalLengthCm  PetalWidthCm   \n",
       "0      1            5.1           3.5            1.4           0.2  \\\n",
       "1      2            4.9           3.0            1.4           0.2   \n",
       "2      3            4.7           3.2            1.3           0.2   \n",
       "3      4            4.6           3.1            1.5           0.2   \n",
       "4      5            5.0           3.6            1.4           0.2   \n",
       "..   ...            ...           ...            ...           ...   \n",
       "132  133            6.4           2.8            5.6           2.2   \n",
       "133  134            6.3           2.8            5.1           1.5   \n",
       "134  135            6.1           2.6            5.6           1.4   \n",
       "142  143            5.8           2.7            5.1           1.9   \n",
       "146  147            6.3           2.5            5.0           1.9   \n",
       "\n",
       "            Species  \n",
       "0       Iris-setosa  \n",
       "1       Iris-setosa  \n",
       "2       Iris-setosa  \n",
       "3       Iris-setosa  \n",
       "4       Iris-setosa  \n",
       "..              ...  \n",
       "132  Iris-virginica  \n",
       "133  Iris-virginica  \n",
       "134  Iris-virginica  \n",
       "142  Iris-virginica  \n",
       "146  Iris-virginica  \n",
       "\n",
       "[103 rows x 6 columns]"
      ]
     },
     "execution_count": 109,
     "metadata": {},
     "output_type": "execute_result"
    }
   ],
   "source": [
    "df.loc[~condition_1 | condition_2]"
   ]
  },
  {
   "cell_type": "markdown",
   "id": "9bce845d",
   "metadata": {},
   "source": [
    "Calling specific columns from the chosen sub-DataFrame."
   ]
  },
  {
   "cell_type": "markdown",
   "id": "ddbd0fad",
   "metadata": {},
   "source": [
    "The following returns series object since we call one column as 1D"
   ]
  },
  {
   "cell_type": "code",
   "execution_count": 110,
   "id": "c2c824e6",
   "metadata": {},
   "outputs": [
    {
     "data": {
      "text/plain": [
       "0    Iris-setosa\n",
       "1    Iris-setosa\n",
       "2    Iris-setosa\n",
       "3    Iris-setosa\n",
       "4    Iris-setosa\n",
       "Name: Species, dtype: object"
      ]
     },
     "execution_count": 110,
     "metadata": {},
     "output_type": "execute_result"
    }
   ],
   "source": [
    "df.loc[~condition_1 | condition_2, 'Species'].head()"
   ]
  },
  {
   "cell_type": "markdown",
   "id": "7122ce76",
   "metadata": {},
   "source": [
    "When we put it in brackets, it becomes new DataFrame."
   ]
  },
  {
   "cell_type": "code",
   "execution_count": 111,
   "id": "1bef9aef",
   "metadata": {},
   "outputs": [
    {
     "data": {
      "text/html": [
       "<div>\n",
       "<style scoped>\n",
       "    .dataframe tbody tr th:only-of-type {\n",
       "        vertical-align: middle;\n",
       "    }\n",
       "\n",
       "    .dataframe tbody tr th {\n",
       "        vertical-align: top;\n",
       "    }\n",
       "\n",
       "    .dataframe thead th {\n",
       "        text-align: right;\n",
       "    }\n",
       "</style>\n",
       "<table border=\"1\" class=\"dataframe\">\n",
       "  <thead>\n",
       "    <tr style=\"text-align: right;\">\n",
       "      <th></th>\n",
       "      <th>Species</th>\n",
       "    </tr>\n",
       "  </thead>\n",
       "  <tbody>\n",
       "    <tr>\n",
       "      <th>0</th>\n",
       "      <td>Iris-setosa</td>\n",
       "    </tr>\n",
       "    <tr>\n",
       "      <th>1</th>\n",
       "      <td>Iris-setosa</td>\n",
       "    </tr>\n",
       "    <tr>\n",
       "      <th>2</th>\n",
       "      <td>Iris-setosa</td>\n",
       "    </tr>\n",
       "    <tr>\n",
       "      <th>3</th>\n",
       "      <td>Iris-setosa</td>\n",
       "    </tr>\n",
       "    <tr>\n",
       "      <th>4</th>\n",
       "      <td>Iris-setosa</td>\n",
       "    </tr>\n",
       "  </tbody>\n",
       "</table>\n",
       "</div>"
      ],
      "text/plain": [
       "       Species\n",
       "0  Iris-setosa\n",
       "1  Iris-setosa\n",
       "2  Iris-setosa\n",
       "3  Iris-setosa\n",
       "4  Iris-setosa"
      ]
     },
     "execution_count": 111,
     "metadata": {},
     "output_type": "execute_result"
    }
   ],
   "source": [
    "df.loc[~condition_1 | condition_2, ['Species']].head()"
   ]
  },
  {
   "cell_type": "markdown",
   "id": "df32b344",
   "metadata": {},
   "source": [
    "You can also call multiple columns"
   ]
  },
  {
   "cell_type": "code",
   "execution_count": 112,
   "id": "c794c865",
   "metadata": {},
   "outputs": [
    {
     "data": {
      "text/html": [
       "<div>\n",
       "<style scoped>\n",
       "    .dataframe tbody tr th:only-of-type {\n",
       "        vertical-align: middle;\n",
       "    }\n",
       "\n",
       "    .dataframe tbody tr th {\n",
       "        vertical-align: top;\n",
       "    }\n",
       "\n",
       "    .dataframe thead th {\n",
       "        text-align: right;\n",
       "    }\n",
       "</style>\n",
       "<table border=\"1\" class=\"dataframe\">\n",
       "  <thead>\n",
       "    <tr style=\"text-align: right;\">\n",
       "      <th></th>\n",
       "      <th>PetalLengthCm</th>\n",
       "      <th>Species</th>\n",
       "    </tr>\n",
       "  </thead>\n",
       "  <tbody>\n",
       "    <tr>\n",
       "      <th>0</th>\n",
       "      <td>1.4</td>\n",
       "      <td>Iris-setosa</td>\n",
       "    </tr>\n",
       "    <tr>\n",
       "      <th>1</th>\n",
       "      <td>1.4</td>\n",
       "      <td>Iris-setosa</td>\n",
       "    </tr>\n",
       "    <tr>\n",
       "      <th>2</th>\n",
       "      <td>1.3</td>\n",
       "      <td>Iris-setosa</td>\n",
       "    </tr>\n",
       "    <tr>\n",
       "      <th>3</th>\n",
       "      <td>1.5</td>\n",
       "      <td>Iris-setosa</td>\n",
       "    </tr>\n",
       "    <tr>\n",
       "      <th>4</th>\n",
       "      <td>1.4</td>\n",
       "      <td>Iris-setosa</td>\n",
       "    </tr>\n",
       "  </tbody>\n",
       "</table>\n",
       "</div>"
      ],
      "text/plain": [
       "   PetalLengthCm      Species\n",
       "0            1.4  Iris-setosa\n",
       "1            1.4  Iris-setosa\n",
       "2            1.3  Iris-setosa\n",
       "3            1.5  Iris-setosa\n",
       "4            1.4  Iris-setosa"
      ]
     },
     "execution_count": 112,
     "metadata": {},
     "output_type": "execute_result"
    }
   ],
   "source": [
    "df.loc[~condition_1 | condition_2, ['PetalLengthCm', 'Species']].head()"
   ]
  },
  {
   "cell_type": "markdown",
   "id": "30b738c1",
   "metadata": {},
   "source": [
    "NumPy array version"
   ]
  },
  {
   "cell_type": "code",
   "execution_count": 113,
   "id": "d7fbbb5f",
   "metadata": {},
   "outputs": [
    {
     "data": {
      "text/plain": [
       "array([[1.4, 'Iris-setosa'],\n",
       "       [1.4, 'Iris-setosa'],\n",
       "       [1.3, 'Iris-setosa'],\n",
       "       [1.5, 'Iris-setosa'],\n",
       "       [1.4, 'Iris-setosa'],\n",
       "       [1.7, 'Iris-setosa'],\n",
       "       [1.4, 'Iris-setosa'],\n",
       "       [1.5, 'Iris-setosa'],\n",
       "       [1.4, 'Iris-setosa'],\n",
       "       [1.5, 'Iris-setosa'],\n",
       "       [1.5, 'Iris-setosa'],\n",
       "       [1.6, 'Iris-setosa'],\n",
       "       [1.4, 'Iris-setosa'],\n",
       "       [1.1, 'Iris-setosa'],\n",
       "       [1.3, 'Iris-setosa'],\n",
       "       [1.4, 'Iris-setosa'],\n",
       "       [1.5, 'Iris-setosa'],\n",
       "       [1.7, 'Iris-setosa'],\n",
       "       [1.5, 'Iris-setosa'],\n",
       "       [1.0, 'Iris-setosa'],\n",
       "       [1.7, 'Iris-setosa'],\n",
       "       [1.9, 'Iris-setosa'],\n",
       "       [1.6, 'Iris-setosa'],\n",
       "       [1.6, 'Iris-setosa'],\n",
       "       [1.5, 'Iris-setosa'],\n",
       "       [1.4, 'Iris-setosa'],\n",
       "       [1.6, 'Iris-setosa'],\n",
       "       [1.6, 'Iris-setosa'],\n",
       "       [1.5, 'Iris-setosa'],\n",
       "       [1.5, 'Iris-setosa'],\n",
       "       [1.4, 'Iris-setosa'],\n",
       "       [1.5, 'Iris-setosa'],\n",
       "       [1.2, 'Iris-setosa'],\n",
       "       [1.3, 'Iris-setosa'],\n",
       "       [1.5, 'Iris-setosa'],\n",
       "       [1.3, 'Iris-setosa'],\n",
       "       [1.5, 'Iris-setosa'],\n",
       "       [1.3, 'Iris-setosa'],\n",
       "       [1.3, 'Iris-setosa'],\n",
       "       [1.3, 'Iris-setosa'],\n",
       "       [1.6, 'Iris-setosa'],\n",
       "       [1.9, 'Iris-setosa'],\n",
       "       [1.4, 'Iris-setosa'],\n",
       "       [1.6, 'Iris-setosa'],\n",
       "       [1.4, 'Iris-setosa'],\n",
       "       [1.5, 'Iris-setosa'],\n",
       "       [1.4, 'Iris-setosa'],\n",
       "       [4.0, 'Iris-versicolor'],\n",
       "       [4.6, 'Iris-versicolor'],\n",
       "       [4.5, 'Iris-versicolor'],\n",
       "       [3.3, 'Iris-versicolor'],\n",
       "       [4.6, 'Iris-versicolor'],\n",
       "       [3.9, 'Iris-versicolor'],\n",
       "       [3.5, 'Iris-versicolor'],\n",
       "       [4.0, 'Iris-versicolor'],\n",
       "       [4.7, 'Iris-versicolor'],\n",
       "       [3.6, 'Iris-versicolor'],\n",
       "       [4.1, 'Iris-versicolor'],\n",
       "       [4.5, 'Iris-versicolor'],\n",
       "       [3.9, 'Iris-versicolor'],\n",
       "       [4.0, 'Iris-versicolor'],\n",
       "       [4.9, 'Iris-versicolor'],\n",
       "       [4.7, 'Iris-versicolor'],\n",
       "       [4.3, 'Iris-versicolor'],\n",
       "       [4.8, 'Iris-versicolor'],\n",
       "       [4.5, 'Iris-versicolor'],\n",
       "       [3.5, 'Iris-versicolor'],\n",
       "       [3.8, 'Iris-versicolor'],\n",
       "       [3.7, 'Iris-versicolor'],\n",
       "       [3.9, 'Iris-versicolor'],\n",
       "       [5.1, 'Iris-versicolor'],\n",
       "       [4.5, 'Iris-versicolor'],\n",
       "       [4.4, 'Iris-versicolor'],\n",
       "       [4.0, 'Iris-versicolor'],\n",
       "       [4.4, 'Iris-versicolor'],\n",
       "       [4.0, 'Iris-versicolor'],\n",
       "       [3.3, 'Iris-versicolor'],\n",
       "       [4.2, 'Iris-versicolor'],\n",
       "       [4.2, 'Iris-versicolor'],\n",
       "       [4.3, 'Iris-versicolor'],\n",
       "       [3.0, 'Iris-versicolor'],\n",
       "       [4.1, 'Iris-versicolor'],\n",
       "       [5.1, 'Iris-virginica'],\n",
       "       [5.6, 'Iris-virginica'],\n",
       "       [4.5, 'Iris-virginica'],\n",
       "       [6.3, 'Iris-virginica'],\n",
       "       [5.8, 'Iris-virginica'],\n",
       "       [5.3, 'Iris-virginica'],\n",
       "       [5.0, 'Iris-virginica'],\n",
       "       [5.1, 'Iris-virginica'],\n",
       "       [6.9, 'Iris-virginica'],\n",
       "       [5.0, 'Iris-virginica'],\n",
       "       [4.9, 'Iris-virginica'],\n",
       "       [6.7, 'Iris-virginica'],\n",
       "       [4.9, 'Iris-virginica'],\n",
       "       [4.8, 'Iris-virginica'],\n",
       "       [5.6, 'Iris-virginica'],\n",
       "       [6.1, 'Iris-virginica'],\n",
       "       [5.6, 'Iris-virginica'],\n",
       "       [5.1, 'Iris-virginica'],\n",
       "       [5.6, 'Iris-virginica'],\n",
       "       [5.1, 'Iris-virginica'],\n",
       "       [5.0, 'Iris-virginica']], dtype=object)"
      ]
     },
     "execution_count": 113,
     "metadata": {},
     "output_type": "execute_result"
    }
   ],
   "source": [
    "arr[~condition_1 | condition_2][:, [3, 5]]"
   ]
  },
  {
   "cell_type": "code",
   "execution_count": null,
   "id": "8bc84b8d",
   "metadata": {},
   "outputs": [],
   "source": []
  },
  {
   "cell_type": "markdown",
   "id": "5a233bd9",
   "metadata": {},
   "source": [
    "In case you want to work with indexes, iloc can be used. "
   ]
  },
  {
   "cell_type": "code",
   "execution_count": 114,
   "id": "bc660110",
   "metadata": {},
   "outputs": [
    {
     "data": {
      "text/html": [
       "<div>\n",
       "<style scoped>\n",
       "    .dataframe tbody tr th:only-of-type {\n",
       "        vertical-align: middle;\n",
       "    }\n",
       "\n",
       "    .dataframe tbody tr th {\n",
       "        vertical-align: top;\n",
       "    }\n",
       "\n",
       "    .dataframe thead th {\n",
       "        text-align: right;\n",
       "    }\n",
       "</style>\n",
       "<table border=\"1\" class=\"dataframe\">\n",
       "  <thead>\n",
       "    <tr style=\"text-align: right;\">\n",
       "      <th></th>\n",
       "      <th>Id</th>\n",
       "      <th>SepalLengthCm</th>\n",
       "      <th>SepalWidthCm</th>\n",
       "    </tr>\n",
       "  </thead>\n",
       "  <tbody>\n",
       "    <tr>\n",
       "      <th>0</th>\n",
       "      <td>1</td>\n",
       "      <td>5.1</td>\n",
       "      <td>3.5</td>\n",
       "    </tr>\n",
       "    <tr>\n",
       "      <th>1</th>\n",
       "      <td>2</td>\n",
       "      <td>4.9</td>\n",
       "      <td>3.0</td>\n",
       "    </tr>\n",
       "    <tr>\n",
       "      <th>2</th>\n",
       "      <td>3</td>\n",
       "      <td>4.7</td>\n",
       "      <td>3.2</td>\n",
       "    </tr>\n",
       "    <tr>\n",
       "      <th>3</th>\n",
       "      <td>4</td>\n",
       "      <td>4.6</td>\n",
       "      <td>3.1</td>\n",
       "    </tr>\n",
       "    <tr>\n",
       "      <th>4</th>\n",
       "      <td>5</td>\n",
       "      <td>5.0</td>\n",
       "      <td>3.6</td>\n",
       "    </tr>\n",
       "    <tr>\n",
       "      <th>...</th>\n",
       "      <td>...</td>\n",
       "      <td>...</td>\n",
       "      <td>...</td>\n",
       "    </tr>\n",
       "    <tr>\n",
       "      <th>145</th>\n",
       "      <td>146</td>\n",
       "      <td>6.7</td>\n",
       "      <td>3.0</td>\n",
       "    </tr>\n",
       "    <tr>\n",
       "      <th>146</th>\n",
       "      <td>147</td>\n",
       "      <td>6.3</td>\n",
       "      <td>2.5</td>\n",
       "    </tr>\n",
       "    <tr>\n",
       "      <th>147</th>\n",
       "      <td>148</td>\n",
       "      <td>6.5</td>\n",
       "      <td>3.0</td>\n",
       "    </tr>\n",
       "    <tr>\n",
       "      <th>148</th>\n",
       "      <td>149</td>\n",
       "      <td>6.2</td>\n",
       "      <td>3.4</td>\n",
       "    </tr>\n",
       "    <tr>\n",
       "      <th>149</th>\n",
       "      <td>150</td>\n",
       "      <td>5.9</td>\n",
       "      <td>3.0</td>\n",
       "    </tr>\n",
       "  </tbody>\n",
       "</table>\n",
       "<p>150 rows × 3 columns</p>\n",
       "</div>"
      ],
      "text/plain": [
       "      Id  SepalLengthCm  SepalWidthCm\n",
       "0      1            5.1           3.5\n",
       "1      2            4.9           3.0\n",
       "2      3            4.7           3.2\n",
       "3      4            4.6           3.1\n",
       "4      5            5.0           3.6\n",
       "..   ...            ...           ...\n",
       "145  146            6.7           3.0\n",
       "146  147            6.3           2.5\n",
       "147  148            6.5           3.0\n",
       "148  149            6.2           3.4\n",
       "149  150            5.9           3.0\n",
       "\n",
       "[150 rows x 3 columns]"
      ]
     },
     "execution_count": 114,
     "metadata": {},
     "output_type": "execute_result"
    }
   ],
   "source": [
    "df.iloc[:, [0, 1, 2]]"
   ]
  },
  {
   "cell_type": "code",
   "execution_count": 115,
   "id": "a84854a1",
   "metadata": {},
   "outputs": [
    {
     "data": {
      "text/plain": [
       "array([[1, 5.1, 3.5],\n",
       "       [2, 4.9, 3.0],\n",
       "       [3, 4.7, 3.2],\n",
       "       [4, 4.6, 3.1],\n",
       "       [5, 5.0, 3.6],\n",
       "       [6, 5.4, 3.9],\n",
       "       [7, 4.6, 3.4],\n",
       "       [8, 5.0, 3.4],\n",
       "       [9, 4.4, 2.9],\n",
       "       [10, 4.9, 3.1],\n",
       "       [11, 5.4, 3.7],\n",
       "       [12, 4.8, 3.4],\n",
       "       [13, 4.8, 3.0],\n",
       "       [14, 4.3, 3.0],\n",
       "       [15, 5.8, 4.0],\n",
       "       [16, 5.7, 4.4],\n",
       "       [17, 5.4, 3.9],\n",
       "       [18, 5.1, 3.5],\n",
       "       [19, 5.7, 3.8],\n",
       "       [20, 5.1, 3.8],\n",
       "       [21, 5.4, 3.4],\n",
       "       [22, 5.1, 3.7],\n",
       "       [23, 4.6, 3.6],\n",
       "       [24, 5.1, 3.3],\n",
       "       [25, 4.8, 3.4],\n",
       "       [26, 5.0, 3.0],\n",
       "       [27, 5.0, 3.4],\n",
       "       [28, 5.2, 3.5],\n",
       "       [29, 5.2, 3.4],\n",
       "       [30, 4.7, 3.2],\n",
       "       [31, 4.8, 3.1],\n",
       "       [32, 5.4, 3.4],\n",
       "       [33, 5.2, 4.1],\n",
       "       [34, 5.5, 4.2],\n",
       "       [35, 4.9, 3.1],\n",
       "       [36, 5.0, 3.2],\n",
       "       [37, 5.5, 3.5],\n",
       "       [38, 4.9, 3.1],\n",
       "       [39, 4.4, 3.0],\n",
       "       [40, 5.1, 3.4],\n",
       "       [41, 5.0, 3.5],\n",
       "       [42, 4.5, 2.3],\n",
       "       [43, 4.4, 3.2],\n",
       "       [44, 5.0, 3.5],\n",
       "       [45, 5.1, 3.8],\n",
       "       [46, 4.8, 3.0],\n",
       "       [47, 5.1, 3.8],\n",
       "       [48, 4.6, 3.2],\n",
       "       [49, 5.3, 3.7],\n",
       "       [50, 5.0, 3.3],\n",
       "       [51, 7.0, 3.2],\n",
       "       [52, 6.4, 3.2],\n",
       "       [53, 6.9, 3.1],\n",
       "       [54, 5.5, 2.3],\n",
       "       [55, 6.5, 2.8],\n",
       "       [56, 5.7, 2.8],\n",
       "       [57, 6.3, 3.3],\n",
       "       [58, 4.9, 2.4],\n",
       "       [59, 6.6, 2.9],\n",
       "       [60, 5.2, 2.7],\n",
       "       [61, 5.0, 2.0],\n",
       "       [62, 5.9, 3.0],\n",
       "       [63, 6.0, 2.2],\n",
       "       [64, 6.1, 2.9],\n",
       "       [65, 5.6, 2.9],\n",
       "       [66, 6.7, 3.1],\n",
       "       [67, 5.6, 3.0],\n",
       "       [68, 5.8, 2.7],\n",
       "       [69, 6.2, 2.2],\n",
       "       [70, 5.6, 2.5],\n",
       "       [71, 5.9, 3.2],\n",
       "       [72, 6.1, 2.8],\n",
       "       [73, 6.3, 2.5],\n",
       "       [74, 6.1, 2.8],\n",
       "       [75, 6.4, 2.9],\n",
       "       [76, 6.6, 3.0],\n",
       "       [77, 6.8, 2.8],\n",
       "       [78, 6.7, 3.0],\n",
       "       [79, 6.0, 2.9],\n",
       "       [80, 5.7, 2.6],\n",
       "       [81, 5.5, 2.4],\n",
       "       [82, 5.5, 2.4],\n",
       "       [83, 5.8, 2.7],\n",
       "       [84, 6.0, 2.7],\n",
       "       [85, 5.4, 3.0],\n",
       "       [86, 6.0, 3.4],\n",
       "       [87, 6.7, 3.1],\n",
       "       [88, 6.3, 2.3],\n",
       "       [89, 5.6, 3.0],\n",
       "       [90, 5.5, 2.5],\n",
       "       [91, 5.5, 2.6],\n",
       "       [92, 6.1, 3.0],\n",
       "       [93, 5.8, 2.6],\n",
       "       [94, 5.0, 2.3],\n",
       "       [95, 5.6, 2.7],\n",
       "       [96, 5.7, 3.0],\n",
       "       [97, 5.7, 2.9],\n",
       "       [98, 6.2, 2.9],\n",
       "       [99, 5.1, 2.5],\n",
       "       [100, 5.7, 2.8],\n",
       "       [101, 6.3, 3.3],\n",
       "       [102, 5.8, 2.7],\n",
       "       [103, 7.1, 3.0],\n",
       "       [104, 6.3, 2.9],\n",
       "       [105, 6.5, 3.0],\n",
       "       [106, 7.6, 3.0],\n",
       "       [107, 4.9, 2.5],\n",
       "       [108, 7.3, 2.9],\n",
       "       [109, 6.7, 2.5],\n",
       "       [110, 7.2, 3.6],\n",
       "       [111, 6.5, 3.2],\n",
       "       [112, 6.4, 2.7],\n",
       "       [113, 6.8, 3.0],\n",
       "       [114, 5.7, 2.5],\n",
       "       [115, 5.8, 2.8],\n",
       "       [116, 6.4, 3.2],\n",
       "       [117, 6.5, 3.0],\n",
       "       [118, 7.7, 3.8],\n",
       "       [119, 7.7, 2.6],\n",
       "       [120, 6.0, 2.2],\n",
       "       [121, 6.9, 3.2],\n",
       "       [122, 5.6, 2.8],\n",
       "       [123, 7.7, 2.8],\n",
       "       [124, 6.3, 2.7],\n",
       "       [125, 6.7, 3.3],\n",
       "       [126, 7.2, 3.2],\n",
       "       [127, 6.2, 2.8],\n",
       "       [128, 6.1, 3.0],\n",
       "       [129, 6.4, 2.8],\n",
       "       [130, 7.2, 3.0],\n",
       "       [131, 7.4, 2.8],\n",
       "       [132, 7.9, 3.8],\n",
       "       [133, 6.4, 2.8],\n",
       "       [134, 6.3, 2.8],\n",
       "       [135, 6.1, 2.6],\n",
       "       [136, 7.7, 3.0],\n",
       "       [137, 6.3, 3.4],\n",
       "       [138, 6.4, 3.1],\n",
       "       [139, 6.0, 3.0],\n",
       "       [140, 6.9, 3.1],\n",
       "       [141, 6.7, 3.1],\n",
       "       [142, 6.9, 3.1],\n",
       "       [143, 5.8, 2.7],\n",
       "       [144, 6.8, 3.2],\n",
       "       [145, 6.7, 3.3],\n",
       "       [146, 6.7, 3.0],\n",
       "       [147, 6.3, 2.5],\n",
       "       [148, 6.5, 3.0],\n",
       "       [149, 6.2, 3.4],\n",
       "       [150, 5.9, 3.0]], dtype=object)"
      ]
     },
     "execution_count": 115,
     "metadata": {},
     "output_type": "execute_result"
    }
   ],
   "source": [
    "arr[:, [0, 1, 2]]"
   ]
  },
  {
   "cell_type": "code",
   "execution_count": null,
   "id": "e0a71b36",
   "metadata": {},
   "outputs": [],
   "source": []
  },
  {
   "cell_type": "code",
   "execution_count": 116,
   "id": "8c5530c2",
   "metadata": {},
   "outputs": [
    {
     "data": {
      "text/plain": [
       "0     1.4\n",
       "1     1.4\n",
       "2     1.3\n",
       "3     1.5\n",
       "4     1.4\n",
       "     ... \n",
       "95    4.2\n",
       "96    4.2\n",
       "97    4.3\n",
       "98    3.0\n",
       "99    4.1\n",
       "Name: PetalLengthCm, Length: 100, dtype: float64"
      ]
     },
     "execution_count": 116,
     "metadata": {},
     "output_type": "execute_result"
    }
   ],
   "source": [
    "df.iloc[:100, 3]"
   ]
  },
  {
   "cell_type": "code",
   "execution_count": 117,
   "id": "dabd78f9",
   "metadata": {},
   "outputs": [
    {
     "data": {
      "text/plain": [
       "array([1.4, 1.4, 1.3, 1.5, 1.4, 1.7, 1.4, 1.5, 1.4, 1.5, 1.5, 1.6, 1.4,\n",
       "       1.1, 1.2, 1.5, 1.3, 1.4, 1.7, 1.5, 1.7, 1.5, 1.0, 1.7, 1.9, 1.6,\n",
       "       1.6, 1.5, 1.4, 1.6, 1.6, 1.5, 1.5, 1.4, 1.5, 1.2, 1.3, 1.5, 1.3,\n",
       "       1.5, 1.3, 1.3, 1.3, 1.6, 1.9, 1.4, 1.6, 1.4, 1.5, 1.4, 4.7, 4.5,\n",
       "       4.9, 4.0, 4.6, 4.5, 4.7, 3.3, 4.6, 3.9, 3.5, 4.2, 4.0, 4.7, 3.6,\n",
       "       4.4, 4.5, 4.1, 4.5, 3.9, 4.8, 4.0, 4.9, 4.7, 4.3, 4.4, 4.8, 5.0,\n",
       "       4.5, 3.5, 3.8, 3.7, 3.9, 5.1, 4.5, 4.5, 4.7, 4.4, 4.1, 4.0, 4.4,\n",
       "       4.6, 4.0, 3.3, 4.2, 4.2, 4.2, 4.3, 3.0, 4.1], dtype=object)"
      ]
     },
     "execution_count": 117,
     "metadata": {},
     "output_type": "execute_result"
    }
   ],
   "source": [
    "arr[:100, 3]"
   ]
  },
  {
   "cell_type": "code",
   "execution_count": null,
   "id": "3dfd3862",
   "metadata": {},
   "outputs": [],
   "source": []
  },
  {
   "cell_type": "code",
   "execution_count": 118,
   "id": "b32c1963",
   "metadata": {},
   "outputs": [
    {
     "data": {
      "text/html": [
       "<div>\n",
       "<style scoped>\n",
       "    .dataframe tbody tr th:only-of-type {\n",
       "        vertical-align: middle;\n",
       "    }\n",
       "\n",
       "    .dataframe tbody tr th {\n",
       "        vertical-align: top;\n",
       "    }\n",
       "\n",
       "    .dataframe thead th {\n",
       "        text-align: right;\n",
       "    }\n",
       "</style>\n",
       "<table border=\"1\" class=\"dataframe\">\n",
       "  <thead>\n",
       "    <tr style=\"text-align: right;\">\n",
       "      <th></th>\n",
       "      <th>Id</th>\n",
       "      <th>SepalLengthCm</th>\n",
       "      <th>SepalWidthCm</th>\n",
       "      <th>PetalLengthCm</th>\n",
       "      <th>PetalWidthCm</th>\n",
       "      <th>Species</th>\n",
       "    </tr>\n",
       "  </thead>\n",
       "  <tbody>\n",
       "    <tr>\n",
       "      <th>1</th>\n",
       "      <td>2</td>\n",
       "      <td>4.9</td>\n",
       "      <td>3.0</td>\n",
       "      <td>1.4</td>\n",
       "      <td>0.2</td>\n",
       "      <td>Iris-setosa</td>\n",
       "    </tr>\n",
       "  </tbody>\n",
       "</table>\n",
       "</div>"
      ],
      "text/plain": [
       "   Id  SepalLengthCm  SepalWidthCm  PetalLengthCm  PetalWidthCm      Species\n",
       "1   2            4.9           3.0            1.4           0.2  Iris-setosa"
      ]
     },
     "execution_count": 118,
     "metadata": {},
     "output_type": "execute_result"
    }
   ],
   "source": [
    "df.iloc[[1], :]"
   ]
  },
  {
   "cell_type": "code",
   "execution_count": 119,
   "id": "0e60e702",
   "metadata": {},
   "outputs": [
    {
     "data": {
      "text/plain": [
       "array([[2, 4.9, 3.0, 1.4, 0.2, 'Iris-setosa']], dtype=object)"
      ]
     },
     "execution_count": 119,
     "metadata": {},
     "output_type": "execute_result"
    }
   ],
   "source": [
    "arr[[1], :]"
   ]
  },
  {
   "cell_type": "code",
   "execution_count": null,
   "id": "e9d21276",
   "metadata": {},
   "outputs": [],
   "source": []
  },
  {
   "cell_type": "markdown",
   "id": "f9ecf30a",
   "metadata": {},
   "source": [
    "# Other Manipulation Techniques"
   ]
  },
  {
   "cell_type": "markdown",
   "id": "7dc12768",
   "metadata": {},
   "source": [
    "Imagine you want to add another column that contains numerical representation of categorical column - Species.  For instance, instead of Iris-setosa, Iris-versicolor, or Iris-virginica, let's have 0, 1, and 2 correspondingly."
   ]
  },
  {
   "cell_type": "code",
   "execution_count": 120,
   "id": "2d329c81",
   "metadata": {},
   "outputs": [
    {
     "data": {
      "text/plain": [
       "array(['Iris-setosa', 'Iris-versicolor', 'Iris-virginica'], dtype=object)"
      ]
     },
     "execution_count": 120,
     "metadata": {},
     "output_type": "execute_result"
    }
   ],
   "source": [
    "df['Species'].unique()"
   ]
  },
  {
   "cell_type": "code",
   "execution_count": 121,
   "id": "d7613680",
   "metadata": {},
   "outputs": [
    {
     "data": {
      "text/plain": [
       "0         Iris-setosa\n",
       "1         Iris-setosa\n",
       "2         Iris-setosa\n",
       "3         Iris-setosa\n",
       "4         Iris-setosa\n",
       "            ...      \n",
       "145    Iris-virginica\n",
       "146    Iris-virginica\n",
       "147    Iris-virginica\n",
       "148    Iris-virginica\n",
       "149    Iris-virginica\n",
       "Name: Species, Length: 150, dtype: object"
      ]
     },
     "execution_count": 121,
     "metadata": {},
     "output_type": "execute_result"
    }
   ],
   "source": [
    "df['Species']"
   ]
  },
  {
   "cell_type": "markdown",
   "id": "166d5637",
   "metadata": {},
   "source": [
    "We create another column called Species_num (numerical species). Initially, it has exactly the same values with the original column. "
   ]
  },
  {
   "cell_type": "code",
   "execution_count": 122,
   "id": "97052570",
   "metadata": {},
   "outputs": [],
   "source": [
    "df['Species_num'] = df['Species'].copy()"
   ]
  },
  {
   "cell_type": "code",
   "execution_count": 123,
   "id": "6218fc77",
   "metadata": {},
   "outputs": [
    {
     "data": {
      "text/html": [
       "<div>\n",
       "<style scoped>\n",
       "    .dataframe tbody tr th:only-of-type {\n",
       "        vertical-align: middle;\n",
       "    }\n",
       "\n",
       "    .dataframe tbody tr th {\n",
       "        vertical-align: top;\n",
       "    }\n",
       "\n",
       "    .dataframe thead th {\n",
       "        text-align: right;\n",
       "    }\n",
       "</style>\n",
       "<table border=\"1\" class=\"dataframe\">\n",
       "  <thead>\n",
       "    <tr style=\"text-align: right;\">\n",
       "      <th></th>\n",
       "      <th>Id</th>\n",
       "      <th>SepalLengthCm</th>\n",
       "      <th>SepalWidthCm</th>\n",
       "      <th>PetalLengthCm</th>\n",
       "      <th>PetalWidthCm</th>\n",
       "      <th>Species</th>\n",
       "      <th>Species_num</th>\n",
       "    </tr>\n",
       "  </thead>\n",
       "  <tbody>\n",
       "    <tr>\n",
       "      <th>0</th>\n",
       "      <td>1</td>\n",
       "      <td>5.1</td>\n",
       "      <td>3.5</td>\n",
       "      <td>1.4</td>\n",
       "      <td>0.2</td>\n",
       "      <td>Iris-setosa</td>\n",
       "      <td>Iris-setosa</td>\n",
       "    </tr>\n",
       "    <tr>\n",
       "      <th>1</th>\n",
       "      <td>2</td>\n",
       "      <td>4.9</td>\n",
       "      <td>3.0</td>\n",
       "      <td>1.4</td>\n",
       "      <td>0.2</td>\n",
       "      <td>Iris-setosa</td>\n",
       "      <td>Iris-setosa</td>\n",
       "    </tr>\n",
       "    <tr>\n",
       "      <th>2</th>\n",
       "      <td>3</td>\n",
       "      <td>4.7</td>\n",
       "      <td>3.2</td>\n",
       "      <td>1.3</td>\n",
       "      <td>0.2</td>\n",
       "      <td>Iris-setosa</td>\n",
       "      <td>Iris-setosa</td>\n",
       "    </tr>\n",
       "    <tr>\n",
       "      <th>3</th>\n",
       "      <td>4</td>\n",
       "      <td>4.6</td>\n",
       "      <td>3.1</td>\n",
       "      <td>1.5</td>\n",
       "      <td>0.2</td>\n",
       "      <td>Iris-setosa</td>\n",
       "      <td>Iris-setosa</td>\n",
       "    </tr>\n",
       "    <tr>\n",
       "      <th>4</th>\n",
       "      <td>5</td>\n",
       "      <td>5.0</td>\n",
       "      <td>3.6</td>\n",
       "      <td>1.4</td>\n",
       "      <td>0.2</td>\n",
       "      <td>Iris-setosa</td>\n",
       "      <td>Iris-setosa</td>\n",
       "    </tr>\n",
       "  </tbody>\n",
       "</table>\n",
       "</div>"
      ],
      "text/plain": [
       "   Id  SepalLengthCm  SepalWidthCm  PetalLengthCm  PetalWidthCm      Species   \n",
       "0   1            5.1           3.5            1.4           0.2  Iris-setosa  \\\n",
       "1   2            4.9           3.0            1.4           0.2  Iris-setosa   \n",
       "2   3            4.7           3.2            1.3           0.2  Iris-setosa   \n",
       "3   4            4.6           3.1            1.5           0.2  Iris-setosa   \n",
       "4   5            5.0           3.6            1.4           0.2  Iris-setosa   \n",
       "\n",
       "   Species_num  \n",
       "0  Iris-setosa  \n",
       "1  Iris-setosa  \n",
       "2  Iris-setosa  \n",
       "3  Iris-setosa  \n",
       "4  Iris-setosa  "
      ]
     },
     "execution_count": 123,
     "metadata": {},
     "output_type": "execute_result"
    }
   ],
   "source": [
    "df.head()"
   ]
  },
  {
   "cell_type": "code",
   "execution_count": 124,
   "id": "93942bf3",
   "metadata": {},
   "outputs": [
    {
     "data": {
      "text/plain": [
       "True"
      ]
     },
     "execution_count": 124,
     "metadata": {},
     "output_type": "execute_result"
    }
   ],
   "source": [
    "(df['Species'] == df['Species_num']).all()"
   ]
  },
  {
   "cell_type": "markdown",
   "id": "33770047",
   "metadata": {},
   "source": [
    "We create a dictionary to indicate how to convert string-to-number, and then apply it on the column."
   ]
  },
  {
   "cell_type": "code",
   "execution_count": 125,
   "id": "1f0169de",
   "metadata": {},
   "outputs": [],
   "source": [
    "converter = {'Iris-setosa': 0, \n",
    "             'Iris-versicolor': 1,\n",
    "             'Iris-virginica': 2\n",
    "            }"
   ]
  },
  {
   "cell_type": "code",
   "execution_count": 126,
   "id": "729e4b7b",
   "metadata": {},
   "outputs": [
    {
     "data": {
      "text/plain": [
       "{'Iris-setosa': 0, 'Iris-versicolor': 1, 'Iris-virginica': 2}"
      ]
     },
     "execution_count": 126,
     "metadata": {},
     "output_type": "execute_result"
    }
   ],
   "source": [
    "converter"
   ]
  },
  {
   "cell_type": "code",
   "execution_count": 127,
   "id": "4ea77549",
   "metadata": {},
   "outputs": [],
   "source": [
    "df['Species_num'] = df['Species_num'].map(converter)"
   ]
  },
  {
   "cell_type": "code",
   "execution_count": 128,
   "id": "b45c59ed",
   "metadata": {},
   "outputs": [
    {
     "data": {
      "text/plain": [
       "0      0\n",
       "1      0\n",
       "2      0\n",
       "3      0\n",
       "4      0\n",
       "      ..\n",
       "145    2\n",
       "146    2\n",
       "147    2\n",
       "148    2\n",
       "149    2\n",
       "Name: Species_num, Length: 150, dtype: int64"
      ]
     },
     "execution_count": 128,
     "metadata": {},
     "output_type": "execute_result"
    }
   ],
   "source": [
    "df['Species_num']"
   ]
  },
  {
   "cell_type": "code",
   "execution_count": null,
   "id": "7bc7cba0",
   "metadata": {},
   "outputs": [],
   "source": []
  },
  {
   "cell_type": "markdown",
   "id": "15627ca5",
   "metadata": {},
   "source": [
    "Let's check if those are correctly converted."
   ]
  },
  {
   "cell_type": "code",
   "execution_count": 129,
   "id": "73cd2063",
   "metadata": {},
   "outputs": [],
   "source": [
    "condition = (df['Species'] == 'Iris-virginica')"
   ]
  },
  {
   "cell_type": "code",
   "execution_count": 130,
   "id": "78d0efe2",
   "metadata": {},
   "outputs": [
    {
     "data": {
      "text/plain": [
       "100    2\n",
       "101    2\n",
       "102    2\n",
       "103    2\n",
       "104    2\n",
       "105    2\n",
       "106    2\n",
       "107    2\n",
       "108    2\n",
       "109    2\n",
       "110    2\n",
       "111    2\n",
       "112    2\n",
       "113    2\n",
       "114    2\n",
       "115    2\n",
       "116    2\n",
       "117    2\n",
       "118    2\n",
       "119    2\n",
       "120    2\n",
       "121    2\n",
       "122    2\n",
       "123    2\n",
       "124    2\n",
       "125    2\n",
       "126    2\n",
       "127    2\n",
       "128    2\n",
       "129    2\n",
       "130    2\n",
       "131    2\n",
       "132    2\n",
       "133    2\n",
       "134    2\n",
       "135    2\n",
       "136    2\n",
       "137    2\n",
       "138    2\n",
       "139    2\n",
       "140    2\n",
       "141    2\n",
       "142    2\n",
       "143    2\n",
       "144    2\n",
       "145    2\n",
       "146    2\n",
       "147    2\n",
       "148    2\n",
       "149    2\n",
       "Name: Species_num, dtype: int64"
      ]
     },
     "execution_count": 130,
     "metadata": {},
     "output_type": "execute_result"
    }
   ],
   "source": [
    "# All of them are 2!\n",
    "df['Species_num'].loc[condition]"
   ]
  },
  {
   "cell_type": "code",
   "execution_count": null,
   "id": "4072943f",
   "metadata": {},
   "outputs": [],
   "source": []
  },
  {
   "cell_type": "code",
   "execution_count": 131,
   "id": "226da7f4",
   "metadata": {},
   "outputs": [
    {
     "data": {
      "text/plain": [
       "False"
      ]
     },
     "execution_count": 131,
     "metadata": {},
     "output_type": "execute_result"
    }
   ],
   "source": [
    "# Another way of checking\n",
    "# To see if there is one element at least not being equal to 2\n",
    "(df['Species_num'].loc[condition] != 2).any()"
   ]
  },
  {
   "cell_type": "markdown",
   "id": "3591398e",
   "metadata": {},
   "source": [
    "There will be cases that you want to understand particular data patterns with respect to each category. For instance, what are average lengths of sepal in each species?"
   ]
  },
  {
   "cell_type": "code",
   "execution_count": 133,
   "id": "1f49e64d",
   "metadata": {},
   "outputs": [],
   "source": [
    "# group object\n",
    "go = df.groupby('Species')"
   ]
  },
  {
   "cell_type": "markdown",
   "id": "9ce49f38",
   "metadata": {},
   "source": [
    "We initialized the groupby object to group the data with respect to Species column such that further manipulations will be conducted with each category. Let's do manipulation."
   ]
  },
  {
   "cell_type": "code",
   "execution_count": 134,
   "id": "7dfcf4ad",
   "metadata": {},
   "outputs": [
    {
     "data": {
      "text/html": [
       "<div>\n",
       "<style scoped>\n",
       "    .dataframe tbody tr th:only-of-type {\n",
       "        vertical-align: middle;\n",
       "    }\n",
       "\n",
       "    .dataframe tbody tr th {\n",
       "        vertical-align: top;\n",
       "    }\n",
       "\n",
       "    .dataframe thead th {\n",
       "        text-align: right;\n",
       "    }\n",
       "</style>\n",
       "<table border=\"1\" class=\"dataframe\">\n",
       "  <thead>\n",
       "    <tr style=\"text-align: right;\">\n",
       "      <th></th>\n",
       "      <th>Id</th>\n",
       "      <th>SepalLengthCm</th>\n",
       "      <th>SepalWidthCm</th>\n",
       "      <th>PetalLengthCm</th>\n",
       "      <th>PetalWidthCm</th>\n",
       "      <th>Species_num</th>\n",
       "    </tr>\n",
       "    <tr>\n",
       "      <th>Species</th>\n",
       "      <th></th>\n",
       "      <th></th>\n",
       "      <th></th>\n",
       "      <th></th>\n",
       "      <th></th>\n",
       "      <th></th>\n",
       "    </tr>\n",
       "  </thead>\n",
       "  <tbody>\n",
       "    <tr>\n",
       "      <th>Iris-setosa</th>\n",
       "      <td>25.5</td>\n",
       "      <td>5.006</td>\n",
       "      <td>3.418</td>\n",
       "      <td>1.464</td>\n",
       "      <td>0.244</td>\n",
       "      <td>0.0</td>\n",
       "    </tr>\n",
       "    <tr>\n",
       "      <th>Iris-versicolor</th>\n",
       "      <td>75.5</td>\n",
       "      <td>5.936</td>\n",
       "      <td>2.770</td>\n",
       "      <td>4.260</td>\n",
       "      <td>1.326</td>\n",
       "      <td>1.0</td>\n",
       "    </tr>\n",
       "    <tr>\n",
       "      <th>Iris-virginica</th>\n",
       "      <td>125.5</td>\n",
       "      <td>6.588</td>\n",
       "      <td>2.974</td>\n",
       "      <td>5.552</td>\n",
       "      <td>2.026</td>\n",
       "      <td>2.0</td>\n",
       "    </tr>\n",
       "  </tbody>\n",
       "</table>\n",
       "</div>"
      ],
      "text/plain": [
       "                    Id  SepalLengthCm  SepalWidthCm  PetalLengthCm   \n",
       "Species                                                              \n",
       "Iris-setosa       25.5          5.006         3.418          1.464  \\\n",
       "Iris-versicolor   75.5          5.936         2.770          4.260   \n",
       "Iris-virginica   125.5          6.588         2.974          5.552   \n",
       "\n",
       "                 PetalWidthCm  Species_num  \n",
       "Species                                     \n",
       "Iris-setosa             0.244          0.0  \n",
       "Iris-versicolor         1.326          1.0  \n",
       "Iris-virginica          2.026          2.0  "
      ]
     },
     "execution_count": 134,
     "metadata": {},
     "output_type": "execute_result"
    }
   ],
   "source": [
    "go.mean()"
   ]
  },
  {
   "cell_type": "markdown",
   "id": "9daca0af",
   "metadata": {},
   "source": [
    "What we did is again to calculate mean of all the (numerical) columns with respect to categories in Species column. But we are interested in SepalLengthCm column only.\n",
    "\n",
    "The way to call that column is same with typical DataFrame."
   ]
  },
  {
   "cell_type": "code",
   "execution_count": 136,
   "id": "d7659762",
   "metadata": {},
   "outputs": [
    {
     "data": {
      "text/plain": [
       "<pandas.core.groupby.generic.SeriesGroupBy object at 0x000002295BB7FF10>"
      ]
     },
     "execution_count": 136,
     "metadata": {},
     "output_type": "execute_result"
    }
   ],
   "source": [
    "go['SepalLengthCm']"
   ]
  },
  {
   "cell_type": "markdown",
   "id": "12e69843",
   "metadata": {},
   "source": [
    "Calculating mean."
   ]
  },
  {
   "cell_type": "code",
   "execution_count": 137,
   "id": "b7a8fa75",
   "metadata": {},
   "outputs": [
    {
     "data": {
      "text/plain": [
       "Species\n",
       "Iris-setosa        5.006\n",
       "Iris-versicolor    5.936\n",
       "Iris-virginica     6.588\n",
       "Name: SepalLengthCm, dtype: float64"
      ]
     },
     "execution_count": 137,
     "metadata": {},
     "output_type": "execute_result"
    }
   ],
   "source": [
    "go['SepalLengthCm'].mean()"
   ]
  },
  {
   "cell_type": "code",
   "execution_count": null,
   "id": "9a06bccc",
   "metadata": {},
   "outputs": [],
   "source": []
  }
 ],
 "metadata": {
  "kernelspec": {
   "display_name": "Python 3 (ipykernel)",
   "language": "python",
   "name": "python3"
  },
  "language_info": {
   "codemirror_mode": {
    "name": "ipython",
    "version": 3
   },
   "file_extension": ".py",
   "mimetype": "text/x-python",
   "name": "python",
   "nbconvert_exporter": "python",
   "pygments_lexer": "ipython3",
   "version": "3.9.1"
  }
 },
 "nbformat": 4,
 "nbformat_minor": 5
}

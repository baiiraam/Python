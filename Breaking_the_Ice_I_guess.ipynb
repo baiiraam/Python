{
  "nbformat": 4,
  "nbformat_minor": 0,
  "metadata": {
    "colab": {
      "provenance": [],
      "authorship_tag": "ABX9TyPgLK7zToohYLqnBSHKCZp/"
    },
    "kernelspec": {
      "name": "python3",
      "display_name": "Python 3"
    },
    "language_info": {
      "name": "python"
    }
  },
  "cells": [
    {
      "cell_type": "code",
      "execution_count": null,
      "metadata": {
        "id": "iTWHcKFimSa0"
      },
      "outputs": [],
      "source": [
        "# Write a program which will find all such numbers which are divisible by 7 but are not a multiple of 5, between 2000 and 3200 (both included).\n",
        "# The numbers obtained should be printed in a comma-separated sequence on a single line.\n",
        "\n",
        "# one line generator function\n",
        "\n",
        "print(*(i for i in range(2_000, 3_201) if i % 7 == 0 and i % 5 != 0), sep=\",\")"
      ]
    },
    {
      "cell_type": "markdown",
      "source": [
        "() is a generator\n",
        "\n",
        "** is asterisk, unpacking operator,\n",
        "\\\n",
        "*args,\n",
        "\\\n",
        "used to unpack values in an array (list, tuple, (dict will return only keys, for values '*' is used)"
      ],
      "metadata": {
        "id": "j1Krckbxm5Bp"
      }
    },
    {
      "cell_type": "code",
      "source": [
        "# Write a program which can compute the factorial of a given numbers.\n",
        "# The results should be printed in a comma-separated sequence on a single line.\n",
        "# Suppose the following input is supplied to the program: 8 Then, the output should be:40320\n",
        "\n",
        "n=int(input())\n",
        "\n",
        "def funcfact(x):\n",
        "  return 1 if x <= 1 else x*funcfact(x-1)\n",
        "\n",
        "print(f'recursive function: {funcfact(n)}')\n",
        "\n",
        "def onelinefunc(x): return 1 if x <= 1 else x * onelinefunc(x-1)\n",
        "print(f'one line function: {onelinefunc(n)}')\n",
        "\n",
        "\n",
        "def fact(x):\n",
        "  if x <= 1:\n",
        "    return 1\n",
        "  return x * fact(x-1)\n",
        "print(fact(n))\n",
        "\n",
        "\n"
      ],
      "metadata": {
        "id": "Cdecs9ghm2ru"
      },
      "execution_count": null,
      "outputs": []
    },
    {
      "cell_type": "code",
      "source": [
        "# With a given integral number n, write a program to generate a dictionary that contains (i, i x i)\n",
        "# such that is an integral number between 1 and n (both included).\n",
        "# and then the program should print the dictionary.Suppose the following input is supplied to the program: 8\n",
        "\n",
        "\n",
        "try:\n",
        "  n = int(input('number: '))\n",
        "except ValueError as err:\n",
        "  print(err)\n",
        "\n",
        "d = {i: i * i for i in range(1, n + 1)}\n",
        "\n",
        "print(d)\n",
        "\n",
        "\n",
        "\n",
        "try:\n",
        "  n = int(input('number: '))\n",
        "except ValueError as err:\n",
        "  print(err)\n",
        "\n",
        "d = dict()\n",
        "\n",
        "for i in range(1, n + 1):\n",
        "  d[i] = i * i\n",
        "\n",
        "print(d)\n",
        "\n",
        "try:\n",
        "  n = int(input('number: '))\n",
        "except ValueError as err:\n",
        "  print(err)\n",
        "enum_dict = dict(enumerate([i*i for i in range(1, n + 1)], 1))\n",
        "print(enum_dict)"
      ],
      "metadata": {
        "id": "Hwn5JvwQojic"
      },
      "execution_count": null,
      "outputs": []
    },
    {
      "cell_type": "code",
      "source": [
        "# Write a program which accepts a sequence of comma-separated numbers from console and generate a list and a tuple which contains every number.\n",
        "# Suppose the following input is supplied to the program:\n",
        "\n",
        "# 34,67,55,33,12,98\n",
        "\n",
        "nums = input('numbers: ')\n",
        "\n",
        "l = nums.split(',')\n",
        "t = (l)\n",
        "\n",
        "print(l)\n",
        "print(t)"
      ],
      "metadata": {
        "id": "3Ddkuk9Do-EW"
      },
      "execution_count": null,
      "outputs": []
    },
    {
      "cell_type": "code",
      "source": [
        "# Define a class which has at least two methods:\n",
        "\n",
        "# getString: to get a string from console input\n",
        "# printString: to print the string in upper case.\n",
        "# Also please include simple test function to test the class methods."
      ],
      "metadata": {
        "id": "u4P7nue3q7U6"
      },
      "execution_count": null,
      "outputs": []
    }
  ]
}
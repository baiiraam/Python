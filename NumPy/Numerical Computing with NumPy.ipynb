{
 "cells": [
  {
   "cell_type": "markdown",
   "id": "460e1ba6-f403-4c59-a406-41141b641105",
   "metadata": {},
   "source": [
    "# Part 3 of 6 - Numerical Computing with NumPy"
   ]
  },
  {
   "cell_type": "code",
   "execution_count": 1,
   "id": "266155cc-06d8-4672-86ab-819d3bbcc3c8",
   "metadata": {},
   "outputs": [
    {
     "name": "stdout",
     "output_type": "stream",
     "text": [
      "1 5\n",
      "2 6\n",
      "3 7\n",
      "4 8\n"
     ]
    }
   ],
   "source": [
    "# Showing zip(x,y) method\n",
    "\n",
    "a = [1,2,3,4]\n",
    "b = [5,6,7,8]\n",
    "for i,j in zip(a,b):\n",
    "    print(i, j)"
   ]
  },
  {
   "cell_type": "code",
   "execution_count": 8,
   "id": "14659804-63e5-4a16-89ff-cdaf5e832467",
   "metadata": {},
   "outputs": [],
   "source": [
    "# yield of apples = w1 * temperature + w2 * rainfall + w3 * humidity\n",
    "\n",
    "# an example of set of values :\n",
    "\n",
    "w1, w2, w3 = 0.3, 0.2, 0.5"
   ]
  },
  {
   "cell_type": "code",
   "execution_count": 10,
   "id": "6733a1e3-8c49-4627-9c32-6fb2483990cf",
   "metadata": {},
   "outputs": [],
   "source": [
    "kanto_temp = 73\n",
    "kanto_rainfall = 67\n",
    "kanto_humidity = 43"
   ]
  },
  {
   "cell_type": "code",
   "execution_count": 12,
   "id": "f049e404-c7e1-46e1-9aee-3b5e5d8257d4",
   "metadata": {},
   "outputs": [
    {
     "data": {
      "text/plain": [
       "56.8"
      ]
     },
     "execution_count": 12,
     "metadata": {},
     "output_type": "execute_result"
    }
   ],
   "source": [
    "# Substituting into equation, we get:\n",
    "\n",
    "kanto_yield_apples = kanto_temp * w1 + kanto_rainfall * w2 + kanto_humidity * w3\n",
    "kanto_yield_apples"
   ]
  },
  {
   "cell_type": "code",
   "execution_count": 13,
   "id": "ee2b3171-856d-4dc8-a795-5d273c29ec67",
   "metadata": {},
   "outputs": [
    {
     "name": "stdout",
     "output_type": "stream",
     "text": [
      "Expected yield of apples in Kanto region : 56.8\n"
     ]
    }
   ],
   "source": [
    "print(f'Expected yield of apples in Kanto region : {kanto_yield_apples}')"
   ]
  },
  {
   "cell_type": "code",
   "execution_count": null,
   "id": "b094256b-f4e3-440c-afff-ae422053c0af",
   "metadata": {},
   "outputs": [],
   "source": [
    "# Making it slightly easier :\n",
    "\n",
    "kanto = [73,67,43]\n",
    "johto = [91,88,64]\n",
    "hoenn = [87,134,58]\n",
    "sinnoh = [102,43,37]\n",
    "unova = [69,96,70]\n",
    "\n",
    "# Now the variables are in a vector form."
   ]
  },
  {
   "cell_type": "code",
   "execution_count": null,
   "id": "bd513192-d242-42fb-b658-a9e410b0a0ab",
   "metadata": {},
   "outputs": [],
   "source": [
    "# Same can be done to weights variables.\n",
    "\n",
    "weights = [w1,w2,w3]"
   ]
  },
  {
   "cell_type": "code",
   "execution_count": 32,
   "id": "174f314c-f2be-4fd1-8a84-b902758e9145",
   "metadata": {},
   "outputs": [
    {
     "data": {
      "text/plain": [
       "21.9"
      ]
     },
     "execution_count": 32,
     "metadata": {},
     "output_type": "execute_result"
    }
   ],
   "source": [
    "# crop_yield function with the help of zip() method :\n",
    "\n",
    "kanto = [73,67,43]\n",
    "johto = [91,88,64]\n",
    "hoenn = [87,134,58]\n",
    "sinnoh = [102,43,37]\n",
    "unova = [69,96,70]\n",
    "\n",
    "weights = [w1,w2,w3]\n",
    "\n",
    "def crop_yield(a, b):\n",
    "    result = 0\n",
    "    for x, w in zip(a, b):\n",
    "        result += x * w\n",
    "        return result\n",
    "\n",
    "crop_yield(kanto, weights)\n",
    "\n",
    "# Codes should be in one cell. Bruh. Why ?\n",
    "    "
   ]
  },
  {
   "cell_type": "markdown",
   "id": "5219efc8-af9e-4e09-9112-dac8401d588e",
   "metadata": {},
   "source": [
    "# Going from Python lists to Numpy arrays"
   ]
  },
  {
   "cell_type": "code",
   "execution_count": 33,
   "id": "c7f6f49d-364e-4493-8681-fb3fe8721b2d",
   "metadata": {},
   "outputs": [],
   "source": [
    "# The calculation performed inside the crop_yield function is also known as dot product of two vectors.\n",
    "\n",
    "import numpy as np"
   ]
  },
  {
   "cell_type": "markdown",
   "id": "7f352bf1-a309-439b-b4d4-fceff1073a38",
   "metadata": {},
   "source": [
    "Numpy arrays can be created by using the np.array function"
   ]
  },
  {
   "cell_type": "code",
   "execution_count": 57,
   "id": "d621e8cb-365a-47d6-b847-c2ed60f3f40c",
   "metadata": {},
   "outputs": [
    {
     "data": {
      "text/plain": [
       "array([73, 67, 43])"
      ]
     },
     "execution_count": 57,
     "metadata": {},
     "output_type": "execute_result"
    }
   ],
   "source": [
    "kanto = np.array([73,67,43])\n",
    "kanto\n"
   ]
  },
  {
   "cell_type": "code",
   "execution_count": 41,
   "id": "cb6a5499-5dc9-4ad0-aa1d-ac4257d4f334",
   "metadata": {},
   "outputs": [
    {
     "data": {
      "text/plain": [
       "array([0.3, 0.2, 0.5])"
      ]
     },
     "execution_count": 41,
     "metadata": {},
     "output_type": "execute_result"
    }
   ],
   "source": [
    "weights = np.array([w1,w2,w3])\n",
    "weights"
   ]
  },
  {
   "cell_type": "code",
   "execution_count": 46,
   "id": "18c8fb4d-f822-4a10-a487-3412925f71ed",
   "metadata": {},
   "outputs": [
    {
     "data": {
      "text/plain": [
       "numpy.ndarray"
      ]
     },
     "execution_count": 46,
     "metadata": {},
     "output_type": "execute_result"
    }
   ],
   "source": [
    "type(kanto)"
   ]
  },
  {
   "cell_type": "code",
   "execution_count": 48,
   "id": "53593fdd-3209-428b-a007-a8c19196f951",
   "metadata": {},
   "outputs": [
    {
     "data": {
      "text/plain": [
       "numpy.ndarray"
      ]
     },
     "execution_count": 48,
     "metadata": {},
     "output_type": "execute_result"
    }
   ],
   "source": [
    "type(weights)"
   ]
  },
  {
   "cell_type": "code",
   "execution_count": 49,
   "id": "bbe6758f-f2ea-4b4e-9b53-bc33f85de21a",
   "metadata": {},
   "outputs": [
    {
     "data": {
      "text/plain": [
       "0.3"
      ]
     },
     "execution_count": 49,
     "metadata": {},
     "output_type": "execute_result"
    }
   ],
   "source": [
    "# NumPy arrays support indexing\n",
    "\n",
    "weights[0]"
   ]
  },
  {
   "cell_type": "code",
   "execution_count": 51,
   "id": "68db6662-4fcf-4be9-a131-4cc82031bec4",
   "metadata": {},
   "outputs": [
    {
     "data": {
      "text/plain": [
       "43"
      ]
     },
     "execution_count": 51,
     "metadata": {},
     "output_type": "execute_result"
    }
   ],
   "source": [
    "kanto[2]"
   ]
  },
  {
   "cell_type": "markdown",
   "id": "dc9c032a-631c-4274-970f-85f53437e288",
   "metadata": {},
   "source": [
    "# Operating on NumPy arrays"
   ]
  },
  {
   "cell_type": "code",
   "execution_count": 55,
   "id": "d9772e8a-5bc9-44a2-83bf-3123eca8244f",
   "metadata": {},
   "outputs": [
    {
     "data": {
      "text/plain": [
       "56.8"
      ]
     },
     "execution_count": 55,
     "metadata": {},
     "output_type": "execute_result"
    }
   ],
   "source": [
    "# Dot product of two vectors can be calculated by np.dot function\n",
    "\n",
    "np.dot(kanto,weights)"
   ]
  },
  {
   "cell_type": "code",
   "execution_count": 56,
   "id": "86076fac-ecd2-47c8-b182-164573a60f91",
   "metadata": {},
   "outputs": [
    {
     "data": {
      "text/plain": [
       "57.699999999999996"
      ]
     },
     "execution_count": 56,
     "metadata": {},
     "output_type": "execute_result"
    }
   ],
   "source": [
    "np.dot(sinnoh,weights)"
   ]
  },
  {
   "cell_type": "code",
   "execution_count": 61,
   "id": "d0034389-dc23-49cd-8b69-ebf1fa8aff12",
   "metadata": {},
   "outputs": [
    {
     "data": {
      "text/plain": [
       "56.8"
      ]
     },
     "execution_count": 61,
     "metadata": {},
     "output_type": "execute_result"
    }
   ],
   "source": [
    "(kanto*weights).sum()"
   ]
  },
  {
   "cell_type": "markdown",
   "id": "6174ab4e-9f97-451a-89a3-1b6c20abcfef",
   "metadata": {},
   "source": [
    "We can achieve same result with lower level operations supported by NumPy arrays :\n",
    "performing an element-wise multiplication and calculating the sum of resulting numbers"
   ]
  },
  {
   "cell_type": "markdown",
   "id": "da58148f-5216-44b4-a3a9-272c9c7cd0ca",
   "metadata": {},
   "source": [
    "The * operator performs an element-wise multiplication of two arrays(assuming they are same size) and sum() calculates the summation of these values."
   ]
  },
  {
   "cell_type": "code",
   "execution_count": 63,
   "id": "dbbecf6f-6d46-4520-81e8-6793feea2839",
   "metadata": {},
   "outputs": [
    {
     "name": "stdout",
     "output_type": "stream",
     "text": [
      "Help on _ArrayFunctionDispatcher in module numpy:\n",
      "\n",
      "dot(...)\n",
      "    dot(a, b, out=None)\n",
      "    \n",
      "    Dot product of two arrays. Specifically,\n",
      "    \n",
      "    - If both `a` and `b` are 1-D arrays, it is inner product of vectors\n",
      "      (without complex conjugation).\n",
      "    \n",
      "    - If both `a` and `b` are 2-D arrays, it is matrix multiplication,\n",
      "      but using :func:`matmul` or ``a @ b`` is preferred.\n",
      "    \n",
      "    - If either `a` or `b` is 0-D (scalar), it is equivalent to\n",
      "      :func:`multiply` and using ``numpy.multiply(a, b)`` or ``a * b`` is\n",
      "      preferred.\n",
      "    \n",
      "    - If `a` is an N-D array and `b` is a 1-D array, it is a sum product over\n",
      "      the last axis of `a` and `b`.\n",
      "    \n",
      "    - If `a` is an N-D array and `b` is an M-D array (where ``M>=2``), it is a\n",
      "      sum product over the last axis of `a` and the second-to-last axis of\n",
      "      `b`::\n",
      "    \n",
      "        dot(a, b)[i,j,k,m] = sum(a[i,j,:] * b[k,:,m])\n",
      "    \n",
      "    It uses an optimized BLAS library when possible (see `numpy.linalg`).\n",
      "    \n",
      "    Parameters\n",
      "    ----------\n",
      "    a : array_like\n",
      "        First argument.\n",
      "    b : array_like\n",
      "        Second argument.\n",
      "    out : ndarray, optional\n",
      "        Output argument. This must have the exact kind that would be returned\n",
      "        if it was not used. In particular, it must have the right type, must be\n",
      "        C-contiguous, and its dtype must be the dtype that would be returned\n",
      "        for `dot(a,b)`. This is a performance feature. Therefore, if these\n",
      "        conditions are not met, an exception is raised, instead of attempting\n",
      "        to be flexible.\n",
      "    \n",
      "    Returns\n",
      "    -------\n",
      "    output : ndarray\n",
      "        Returns the dot product of `a` and `b`.  If `a` and `b` are both\n",
      "        scalars or both 1-D arrays then a scalar is returned; otherwise\n",
      "        an array is returned.\n",
      "        If `out` is given, then it is returned.\n",
      "    \n",
      "    Raises\n",
      "    ------\n",
      "    ValueError\n",
      "        If the last dimension of `a` is not the same size as\n",
      "        the second-to-last dimension of `b`.\n",
      "    \n",
      "    See Also\n",
      "    --------\n",
      "    vdot : Complex-conjugating dot product.\n",
      "    tensordot : Sum products over arbitrary axes.\n",
      "    einsum : Einstein summation convention.\n",
      "    matmul : '@' operator as method with out parameter.\n",
      "    linalg.multi_dot : Chained dot product.\n",
      "    \n",
      "    Examples\n",
      "    --------\n",
      "    >>> np.dot(3, 4)\n",
      "    12\n",
      "    \n",
      "    Neither argument is complex-conjugated:\n",
      "    \n",
      "    >>> np.dot([2j, 3j], [2j, 3j])\n",
      "    (-13+0j)\n",
      "    \n",
      "    For 2-D arrays it is the matrix product:\n",
      "    \n",
      "    >>> a = [[1, 0], [0, 1]]\n",
      "    >>> b = [[4, 1], [2, 2]]\n",
      "    >>> np.dot(a, b)\n",
      "    array([[4, 1],\n",
      "           [2, 2]])\n",
      "    \n",
      "    >>> a = np.arange(3*4*5*6).reshape((3,4,5,6))\n",
      "    >>> b = np.arange(3*4*5*6)[::-1].reshape((5,4,6,3))\n",
      "    >>> np.dot(a, b)[2,3,2,1,2,2]\n",
      "    499128\n",
      "    >>> sum(a[2,3,2,:] * b[1,2,:,2])\n",
      "    499128\n",
      "\n"
     ]
    }
   ],
   "source": [
    "arr1 = np.array([1,2,3])\n",
    "arr2 = np.array([4,5,6])\n",
    "help(np.dot)"
   ]
  },
  {
   "cell_type": "code",
   "execution_count": 64,
   "id": "9f97a95b-5b86-4840-89d1-f1170a7b73e8",
   "metadata": {},
   "outputs": [
    {
     "data": {
      "text/plain": [
       "array([ 4, 10, 18])"
      ]
     },
     "execution_count": 64,
     "metadata": {},
     "output_type": "execute_result"
    }
   ],
   "source": [
    "arr1 * arr2"
   ]
  },
  {
   "cell_type": "code",
   "execution_count": 65,
   "id": "6f0dcda6-f336-4d70-aed1-d0d49cd2beee",
   "metadata": {},
   "outputs": [
    {
     "data": {
      "text/plain": [
       "32"
      ]
     },
     "execution_count": 65,
     "metadata": {},
     "output_type": "execute_result"
    }
   ],
   "source": [
    "np.dot(arr1,arr2)"
   ]
  },
  {
   "cell_type": "code",
   "execution_count": 66,
   "id": "e3d0012b-9cf3-419c-b599-bebab530a690",
   "metadata": {},
   "outputs": [
    {
     "data": {
      "text/plain": [
       "15"
      ]
     },
     "execution_count": 66,
     "metadata": {},
     "output_type": "execute_result"
    }
   ],
   "source": [
    "arr2.sum()"
   ]
  },
  {
   "cell_type": "markdown",
   "id": "b2e9e868-3f74-4e4a-8aea-bc043e8cfc5e",
   "metadata": {},
   "source": [
    "# Benefits of using NumPy arrays"
   ]
  },
  {
   "cell_type": "code",
   "execution_count": 71,
   "id": "905c110e-cc85-46f1-9707-224a93f5fb1d",
   "metadata": {},
   "outputs": [],
   "source": [
    "# Python lists\n",
    "\n",
    "arr1 = list(range(10**6))\n",
    "arr2 = list(range(10**6, 2*10**6))\n",
    "\n",
    "# NumPy arrays\n",
    "\n",
    "arr1_np = np.array(arr1)\n",
    "arr2_np = np.array(arr2)\n",
    "\n"
   ]
  },
  {
   "cell_type": "code",
   "execution_count": 72,
   "id": "cb2d9930-fbd7-4f36-ab46-b2721838b14a",
   "metadata": {},
   "outputs": [
    {
     "name": "stdout",
     "output_type": "stream",
     "text": [
      "CPU times: total: 172 ms\n",
      "Wall time: 522 ms\n"
     ]
    },
    {
     "data": {
      "text/plain": [
       "833332333333500000"
      ]
     },
     "execution_count": 72,
     "metadata": {},
     "output_type": "execute_result"
    }
   ],
   "source": [
    "%%time\n",
    "result = 0\n",
    "for x1,x2 in zip(arr1,arr2):\n",
    "    result += x1*x2\n",
    "\n",
    "result"
   ]
  },
  {
   "cell_type": "code",
   "execution_count": 75,
   "id": "f471ed68-c5fb-4d1b-9750-a876356c1493",
   "metadata": {},
   "outputs": [
    {
     "name": "stdout",
     "output_type": "stream",
     "text": [
      "CPU times: total: 0 ns\n",
      "Wall time: 1.57 ms\n"
     ]
    },
    {
     "data": {
      "text/plain": [
       "-1942957984"
      ]
     },
     "execution_count": 75,
     "metadata": {},
     "output_type": "execute_result"
    }
   ],
   "source": [
    "%%time\n",
    "np.dot(arr1_np,arr2_np)"
   ]
  },
  {
   "cell_type": "code",
   "execution_count": 77,
   "id": "6b3e2ce0-babb-414b-a490-c0aa036d32c2",
   "metadata": {},
   "outputs": [],
   "source": [
    "# As you can see, using np.dot is much faster than using python for loop. That is why numpy is beneficial."
   ]
  },
  {
   "cell_type": "markdown",
   "id": "96ec5eeb-3c1b-4b8b-9f3f-cdae58a3f37d",
   "metadata": {},
   "source": [
    "# Multi-Dimensional NumPy Arrays"
   ]
  },
  {
   "cell_type": "code",
   "execution_count": 80,
   "id": "4e63ec94-256e-477c-a21d-17136ea6f2d1",
   "metadata": {},
   "outputs": [
    {
     "data": {
      "text/plain": [
       "array([[ 73,  67,  43],\n",
       "       [ 91,  88,  64],\n",
       "       [ 87, 134,  58],\n",
       "       [102,  43,  47],\n",
       "       [ 69,  96,  70]])"
      ]
     },
     "execution_count": 80,
     "metadata": {},
     "output_type": "execute_result"
    }
   ],
   "source": [
    "climate_data = np.array([[73,67,43],\n",
    "                         [91,88,64],\n",
    "                         [87,134,58],\n",
    "                         [102,43,47],\n",
    "                         [69,96,70]])\n",
    "climate_data"
   ]
  },
  {
   "cell_type": "code",
   "execution_count": 82,
   "id": "7f1ca295-c8f1-42ed-93f8-34a98b1f05aa",
   "metadata": {},
   "outputs": [],
   "source": [
    "# Data above is a 2-D (2 dimensional) array with 5 rows that show regions and 3 columns that show temperature, rainfall and humidity."
   ]
  },
  {
   "cell_type": "code",
   "execution_count": 85,
   "id": "2c3be69f-19f5-4720-8556-90761e362aeb",
   "metadata": {},
   "outputs": [
    {
     "data": {
      "text/plain": [
       "(5, 3)"
      ]
     },
     "execution_count": 85,
     "metadata": {},
     "output_type": "execute_result"
    }
   ],
   "source": [
    "# shape of given data\n",
    "\n",
    "climate_data.shape\n",
    "\n",
    "# 2-D array (matrix)"
   ]
  },
  {
   "cell_type": "code",
   "execution_count": 86,
   "id": "a0cc7352-61f4-4f0e-889e-fbadca04d484",
   "metadata": {},
   "outputs": [
    {
     "data": {
      "text/plain": [
       "(3,)"
      ]
     },
     "execution_count": 86,
     "metadata": {},
     "output_type": "execute_result"
    }
   ],
   "source": [
    "weights.shape\n",
    "\n",
    "# 1-D array (vector)"
   ]
  },
  {
   "cell_type": "code",
   "execution_count": 94,
   "id": "430eadc0-48d6-4f1d-b15a-4702c01b8014",
   "metadata": {},
   "outputs": [
    {
     "data": {
      "text/plain": [
       "array([[[11, 12, 13],\n",
       "        [14, 15, 16]],\n",
       "\n",
       "       [[17, 18, 19],\n",
       "        [20, 21, 22]]])"
      ]
     },
     "execution_count": 94,
     "metadata": {},
     "output_type": "execute_result"
    }
   ],
   "source": [
    "# 3-D array (tensor)\n",
    "\n",
    "arr3 = np.array([\n",
    "    [[11,12,13],\n",
    "     [14,15,16,]],\n",
    "    [[17,18,19],\n",
    "     [20,21,22]]])\n",
    "arr3"
   ]
  },
  {
   "cell_type": "code",
   "execution_count": 95,
   "id": "74b4b78e-929c-4b92-8cb8-60b354eea2fd",
   "metadata": {},
   "outputs": [
    {
     "data": {
      "text/plain": [
       "(2, 2, 3)"
      ]
     },
     "execution_count": 95,
     "metadata": {},
     "output_type": "execute_result"
    }
   ],
   "source": [
    "arr3.shape"
   ]
  },
  {
   "cell_type": "code",
   "execution_count": 96,
   "id": "5770d61f-6763-4bcc-8f5b-de4c1d903348",
   "metadata": {},
   "outputs": [],
   "source": [
    "# All elements in numpy array have the same data structure. You can check the data type by  .dtype  attribute."
   ]
  },
  {
   "cell_type": "code",
   "execution_count": 106,
   "id": "daa9dc71-ba41-4973-b41d-e73713f9e89d",
   "metadata": {},
   "outputs": [
    {
     "data": {
      "text/plain": [
       "dtype('float64')"
      ]
     },
     "execution_count": 106,
     "metadata": {},
     "output_type": "execute_result"
    }
   ],
   "source": [
    "weights.dtype\n",
    "\n",
    "# If a numpy array contains float data, it will be considered as a float data structure."
   ]
  },
  {
   "cell_type": "code",
   "execution_count": 107,
   "id": "bbef549a-50b9-4518-adf4-949833a27be1",
   "metadata": {},
   "outputs": [
    {
     "data": {
      "text/plain": [
       "dtype('int32')"
      ]
     },
     "execution_count": 107,
     "metadata": {},
     "output_type": "execute_result"
    }
   ],
   "source": [
    "climate_data.dtype"
   ]
  },
  {
   "cell_type": "code",
   "execution_count": 108,
   "id": "7e98ea8d-f20d-4341-94d7-828665a34fba",
   "metadata": {},
   "outputs": [
    {
     "data": {
      "text/plain": [
       "dtype('int32')"
      ]
     },
     "execution_count": 108,
     "metadata": {},
     "output_type": "execute_result"
    }
   ],
   "source": [
    "arr3.dtype"
   ]
  },
  {
   "cell_type": "code",
   "execution_count": 109,
   "id": "fb2eb5fd-257e-4c6f-94e4-a3c2249d5d86",
   "metadata": {},
   "outputs": [],
   "source": [
    "# 'int32' means that 32 bites of storage will be used to store the value."
   ]
  },
  {
   "cell_type": "code",
   "execution_count": 111,
   "id": "5c08019c-3b5f-42cd-9dfe-7aa6e160b3c8",
   "metadata": {},
   "outputs": [
    {
     "data": {
      "text/plain": [
       "array([56.8, 76.9, 81.9, 62.7, 74.9])"
      ]
     },
     "execution_count": 111,
     "metadata": {},
     "output_type": "execute_result"
    }
   ],
   "source": [
    "# To perform matrix multiplication, we can use  np.matmul(a, b)  method\n",
    "\n",
    "np.matmul(climate_data, weights)"
   ]
  },
  {
   "cell_type": "code",
   "execution_count": 113,
   "id": "387494da-08fe-4131-910b-2f815df8fae2",
   "metadata": {},
   "outputs": [
    {
     "data": {
      "text/plain": [
       "array([56.8, 76.9, 81.9, 62.7, 74.9])"
      ]
     },
     "execution_count": 113,
     "metadata": {},
     "output_type": "execute_result"
    }
   ],
   "source": [
    "# @ can also be used for matrix multiplication\n",
    "\n",
    "climate_data @ weights"
   ]
  },
  {
   "cell_type": "markdown",
   "id": "3d85a2fa-0a6b-4d62-8764-8642a131c849",
   "metadata": {},
   "source": [
    "# Working with CSV data files\n",
    "\n",
    "Numpy also has helper functions reading from & writing to files. Let's download a file climate.txt, which contains 10,000 climate measurements (temp,rainfall & humidity).\n",
    "\n",
    "CSV - comma-separated values. It is a file that uses a comma to separate values. Each line of the file is a data record. Each record consists of one or more fields, separated by commas. A CSV file typically stores tabular data (numbers and text) in plain text, in which case each line will have the same number of fields. (Wikipedia)\n",
    "\n",
    "To read this file into a numpy array, we can use the   genfromtxt   function."
   ]
  },
  {
   "cell_type": "code",
   "execution_count": 115,
   "id": "8baae679-d57f-4a66-9814-afbd885f58c3",
   "metadata": {},
   "outputs": [
    {
     "data": {
      "text/plain": [
       "('climate.txt', <http.client.HTTPMessage at 0x2a17e7ddca0>)"
      ]
     },
     "execution_count": 115,
     "metadata": {},
     "output_type": "execute_result"
    }
   ],
   "source": [
    "import urllib.request\n",
    "\n",
    "urllib.request.urlretrieve('https://gist.github.com/BirajCoder/a4ffcb76fd6fb221d76ac2ee2b8584e9/raw/4054f90adfd361b7aa4255e99c2e874664094cea','climate.txt')\n"
   ]
  },
  {
   "cell_type": "code",
   "execution_count": 116,
   "id": "bcb46f27-d668-4864-8929-8fef3ce32d9b",
   "metadata": {},
   "outputs": [],
   "source": [
    "climate_data = np.genfromtxt('climate.txt', delimiter = ',', skip_header = 1)"
   ]
  },
  {
   "cell_type": "code",
   "execution_count": 117,
   "id": "6a4e03f9-d92d-4159-a463-fa3401d29e16",
   "metadata": {},
   "outputs": [
    {
     "data": {
      "text/plain": [
       "array([[25., 76., 99.],\n",
       "       [39., 65., 70.],\n",
       "       [59., 45., 77.],\n",
       "       ...,\n",
       "       [99., 62., 58.],\n",
       "       [70., 71., 91.],\n",
       "       [92., 39., 76.]])"
      ]
     },
     "execution_count": 117,
     "metadata": {},
     "output_type": "execute_result"
    }
   ],
   "source": [
    "climate_data"
   ]
  },
  {
   "cell_type": "code",
   "execution_count": 118,
   "id": "2d6d97f5-9d16-4442-ab16-5918d9de55ec",
   "metadata": {},
   "outputs": [
    {
     "data": {
      "text/plain": [
       "(10000, 3)"
      ]
     },
     "execution_count": 118,
     "metadata": {},
     "output_type": "execute_result"
    }
   ],
   "source": [
    "climate_data.shape"
   ]
  },
  {
   "cell_type": "code",
   "execution_count": 119,
   "id": "cf1a9876-1cb0-427a-a5ed-5ba6c5c2c2bb",
   "metadata": {},
   "outputs": [
    {
     "data": {
      "text/plain": [
       "array([0.3, 0.2, 0.5])"
      ]
     },
     "execution_count": 119,
     "metadata": {},
     "output_type": "execute_result"
    }
   ],
   "source": [
    "weights"
   ]
  },
  {
   "cell_type": "code",
   "execution_count": 120,
   "id": "e679767d-0e6e-47cf-b20e-fa599bd07afe",
   "metadata": {},
   "outputs": [
    {
     "data": {
      "text/plain": [
       "array([0.3, 0.2, 0.5])"
      ]
     },
     "execution_count": 120,
     "metadata": {},
     "output_type": "execute_result"
    }
   ],
   "source": [
    "weights = np.array([0.3,0.2,0.5])\n",
    "weights"
   ]
  },
  {
   "cell_type": "code",
   "execution_count": 121,
   "id": "806df049-7333-4566-8420-865d6900b79f",
   "metadata": {},
   "outputs": [
    {
     "data": {
      "text/plain": [
       "array([72.2, 59.7, 65.2, ..., 71.1, 80.7, 73.4])"
      ]
     },
     "execution_count": 121,
     "metadata": {},
     "output_type": "execute_result"
    }
   ],
   "source": [
    "yields = climate_data @ weights\n",
    "yields"
   ]
  },
  {
   "cell_type": "code",
   "execution_count": 122,
   "id": "bbe8defb-1292-4f25-9f0d-0de581c2d96d",
   "metadata": {},
   "outputs": [
    {
     "data": {
      "text/plain": [
       "(10000,)"
      ]
     },
     "execution_count": 122,
     "metadata": {},
     "output_type": "execute_result"
    }
   ],
   "source": [
    "yields.shape"
   ]
  },
  {
   "cell_type": "code",
   "execution_count": 123,
   "id": "195daba5-c1e2-4f76-8912-7fb549f048a0",
   "metadata": {},
   "outputs": [],
   "source": [
    "# We can add the  'yields'  back to  'climate_data'  as a fourth column using \n",
    "# np.concatenate   function."
   ]
  },
  {
   "cell_type": "code",
   "execution_count": 126,
   "id": "76ae0841-f6f4-4ace-86db-430fb2eb7423",
   "metadata": {},
   "outputs": [],
   "source": [
    "climate_results = np.concatenate((climate_data, yields.reshape(10000,1)), axis = 1)                "
   ]
  },
  {
   "cell_type": "code",
   "execution_count": 127,
   "id": "6b9e1673-12f3-4c89-9a46-0296de680cf4",
   "metadata": {},
   "outputs": [
    {
     "data": {
      "text/plain": [
       "array([[25. , 76. , 99. , 72.2],\n",
       "       [39. , 65. , 70. , 59.7],\n",
       "       [59. , 45. , 77. , 65.2],\n",
       "       ...,\n",
       "       [99. , 62. , 58. , 71.1],\n",
       "       [70. , 71. , 91. , 80.7],\n",
       "       [92. , 39. , 76. , 73.4]])"
      ]
     },
     "execution_count": 127,
     "metadata": {},
     "output_type": "execute_result"
    }
   ],
   "source": [
    "climate_results"
   ]
  },
  {
   "cell_type": "code",
   "execution_count": 129,
   "id": "f4fb486a-4987-47bc-b9c2-5bcf4d65bff9",
   "metadata": {},
   "outputs": [],
   "source": [
    "np.savetxt('climate_results.txt',\n",
    "           climate_results,\n",
    "           fmt = '%.2f',\n",
    "           header = 'temperatue,rainfall,humidity,yield_apples',\n",
    "           comments = '')\n"
   ]
  },
  {
   "cell_type": "code",
   "execution_count": 133,
   "id": "bb1746bf-a9ac-4de5-b4f7-2affde7538c9",
   "metadata": {},
   "outputs": [],
   "source": [
    "# Common functions in numpy :\n",
    "\n",
    "# Math : np.sum , np.exp , np.round\n",
    "# Array manipulation : np.reshape , np.stack , np.concatenate , np.split\n",
    "# Linear Algebra : np.matmul , np.dot , np.transpose , np.eigvals\n",
    "# Statistics : np.mean , np.median , np.std , np.max"
   ]
  },
  {
   "cell_type": "markdown",
   "id": "efb28a3a-bfd1-48b8-9a7c-8aef53446693",
   "metadata": {},
   "source": [
    "# Arithmetic operations and broadcasting"
   ]
  },
  {
   "cell_type": "code",
   "execution_count": 137,
   "id": "9d0dcece-b79d-42dd-bd8f-d48c162038df",
   "metadata": {},
   "outputs": [
    {
     "data": {
      "text/plain": [
       "array([[11, 16, 17, 19],\n",
       "       [15, 11, 14, 19],\n",
       "       [11, 12, 10, 18],\n",
       "       [12, 19, 16, 18]])"
      ]
     },
     "execution_count": 137,
     "metadata": {},
     "output_type": "execute_result"
    }
   ],
   "source": [
    "arr2 = np.array([[1,2,3,4],\n",
    "                 [5,6,7,8],\n",
    "                 [9,10,11,12]])\n",
    "\n",
    "# Creating a random array.  np.random.randint(lower,upper,(size of matrix))\n",
    "\n",
    "arr2 = np.random.randint(10,20,(4,4))\n",
    "arr2"
   ]
  },
  {
   "cell_type": "code",
   "execution_count": 135,
   "id": "3eb26ba1-22dd-4c9b-bc73-dd303c16e003",
   "metadata": {},
   "outputs": [
    {
     "data": {
      "text/plain": [
       "array([[2, 9, 9, 6],\n",
       "       [1, 9, 5, 2],\n",
       "       [2, 1, 4, 6],\n",
       "       [9, 4, 2, 5]])"
      ]
     },
     "execution_count": 135,
     "metadata": {},
     "output_type": "execute_result"
    }
   ],
   "source": [
    "arr3 = np.random.randint(1,10,(4,4))\n",
    "arr3"
   ]
  },
  {
   "cell_type": "code",
   "execution_count": 138,
   "id": "e33b941c-6d4b-4abc-8112-41d142202a3d",
   "metadata": {},
   "outputs": [
    {
     "data": {
      "text/plain": [
       "array([[14, 19, 20, 22],\n",
       "       [18, 14, 17, 22],\n",
       "       [14, 15, 13, 21],\n",
       "       [15, 22, 19, 21]])"
      ]
     },
     "execution_count": 138,
     "metadata": {},
     "output_type": "execute_result"
    }
   ],
   "source": [
    "# Adding a scalar\n",
    "\n",
    "arr2 + 3"
   ]
  },
  {
   "cell_type": "code",
   "execution_count": 139,
   "id": "452a1526-d4e2-440a-b8bf-30ff119a4be9",
   "metadata": {},
   "outputs": [
    {
     "data": {
      "text/plain": [
       "array([[ 9,  7,  8, 13],\n",
       "       [14,  2,  9, 17],\n",
       "       [ 9, 11,  6, 12],\n",
       "       [ 3, 15, 14, 13]])"
      ]
     },
     "execution_count": 139,
     "metadata": {},
     "output_type": "execute_result"
    }
   ],
   "source": [
    "# Element - wise substraction\n",
    "\n",
    "arr2 - arr3"
   ]
  },
  {
   "cell_type": "code",
   "execution_count": 140,
   "id": "b3058db9-de91-48da-99d6-b83bf3a64568",
   "metadata": {},
   "outputs": [
    {
     "data": {
      "text/plain": [
       "array([[3, 0, 1, 3],\n",
       "       [3, 3, 2, 3],\n",
       "       [3, 0, 2, 2],\n",
       "       [0, 3, 0, 2]], dtype=int32)"
      ]
     },
     "execution_count": 140,
     "metadata": {},
     "output_type": "execute_result"
    }
   ],
   "source": [
    "# Modulus with scalar\n",
    "\n",
    "arr2 % 4"
   ]
  },
  {
   "cell_type": "code",
   "execution_count": 141,
   "id": "58eb2f06-ba24-452c-b18e-91a22ff17e67",
   "metadata": {},
   "outputs": [
    {
     "data": {
      "text/plain": [
       "array([[2, 4, 4, 4],\n",
       "       [3, 2, 3, 4],\n",
       "       [2, 3, 2, 4],\n",
       "       [3, 4, 4, 4]], dtype=int32)"
      ]
     },
     "execution_count": 141,
     "metadata": {},
     "output_type": "execute_result"
    }
   ],
   "source": [
    "arr2 // 4"
   ]
  },
  {
   "cell_type": "code",
   "execution_count": 142,
   "id": "5a114fa7-6b32-4e39-83fe-08a6fe97871d",
   "metadata": {},
   "outputs": [
    {
     "data": {
      "text/plain": [
       "array([[2.75, 4.  , 4.25, 4.75],\n",
       "       [3.75, 2.75, 3.5 , 4.75],\n",
       "       [2.75, 3.  , 2.5 , 4.5 ],\n",
       "       [3.  , 4.75, 4.  , 4.5 ]])"
      ]
     },
     "execution_count": 142,
     "metadata": {},
     "output_type": "execute_result"
    }
   ],
   "source": [
    "arr2 / 4"
   ]
  },
  {
   "cell_type": "code",
   "execution_count": 143,
   "id": "af2f1016-97cc-4550-9e2f-b2883698e8ad",
   "metadata": {},
   "outputs": [
    {
     "data": {
      "text/plain": [
       "array([[110, 160, 170, 190],\n",
       "       [150, 110, 140, 190],\n",
       "       [110, 120, 100, 180],\n",
       "       [120, 190, 160, 180]])"
      ]
     },
     "execution_count": 143,
     "metadata": {},
     "output_type": "execute_result"
    }
   ],
   "source": [
    "arr2 * 10"
   ]
  },
  {
   "cell_type": "code",
   "execution_count": 144,
   "id": "afb45050-31ec-4021-9619-8e4cc78b9fee",
   "metadata": {},
   "outputs": [
    {
     "data": {
      "text/plain": [
       "array([[6, 2, 2],\n",
       "       [5, 6, 2],\n",
       "       [9, 1, 5]])"
      ]
     },
     "execution_count": 144,
     "metadata": {},
     "output_type": "execute_result"
    }
   ],
   "source": [
    "arr2 = np.random.randint(1,10,(3,3))\n",
    "arr2"
   ]
  },
  {
   "cell_type": "code",
   "execution_count": 145,
   "id": "e388554b-8eaa-43a1-80ea-926ffaa4e0d2",
   "metadata": {},
   "outputs": [
    {
     "data": {
      "text/plain": [
       "(3, 3)"
      ]
     },
     "execution_count": 145,
     "metadata": {},
     "output_type": "execute_result"
    }
   ],
   "source": [
    "arr2.shape"
   ]
  },
  {
   "cell_type": "code",
   "execution_count": 152,
   "id": "799e8c62-caf4-4057-84ca-9d96ff0879f0",
   "metadata": {},
   "outputs": [
    {
     "data": {
      "text/plain": [
       "array([[3, 8, 1]])"
      ]
     },
     "execution_count": 152,
     "metadata": {},
     "output_type": "execute_result"
    }
   ],
   "source": [
    "arr3 = np.random.randint(1,10,(1,3))\n",
    "arr3"
   ]
  },
  {
   "cell_type": "code",
   "execution_count": 154,
   "id": "f7c43de1-c78d-4966-a6b4-9feb6e755fe5",
   "metadata": {},
   "outputs": [
    {
     "data": {
      "text/plain": [
       "array([[ 9, 10,  3],\n",
       "       [ 8, 14,  3],\n",
       "       [12,  9,  6]])"
      ]
     },
     "execution_count": 154,
     "metadata": {},
     "output_type": "execute_result"
    }
   ],
   "source": [
    "arr2 + arr3\n",
    "\n",
    "# arr2 has 3,3 shape , arr3 has 1,3 shape. When adding, numpy duplicates arr3's first\n",
    "# row 2 times and it becomes a 3,3 matrix which then can be added to arr2."
   ]
  },
  {
   "cell_type": "code",
   "execution_count": 159,
   "id": "14f3cb91-fb3c-4da1-9ff6-da8c30588778",
   "metadata": {},
   "outputs": [
    {
     "data": {
      "text/plain": [
       "array([[3, 1, 7],\n",
       "       [3, 6, 8],\n",
       "       [1, 6, 8]])"
      ]
     },
     "execution_count": 159,
     "metadata": {},
     "output_type": "execute_result"
    }
   ],
   "source": [
    "arr3 = np.random.randint(1,10,(3,3))\n",
    "arr3"
   ]
  },
  {
   "cell_type": "code",
   "execution_count": 161,
   "id": "91197181-3d31-4b47-a16e-d1fca0122444",
   "metadata": {},
   "outputs": [
    {
     "data": {
      "text/plain": [
       "array([[ 9,  3,  9],\n",
       "       [ 8, 12, 10],\n",
       "       [10,  7, 13]])"
      ]
     },
     "execution_count": 161,
     "metadata": {},
     "output_type": "execute_result"
    }
   ],
   "source": [
    "arr2 + arr3"
   ]
  },
  {
   "cell_type": "code",
   "execution_count": 166,
   "id": "7abbf83e-b1c6-46e1-9726-7e7311aa7c24",
   "metadata": {},
   "outputs": [
    {
     "data": {
      "text/plain": [
       "array([[1, 9, 7]])"
      ]
     },
     "execution_count": 166,
     "metadata": {},
     "output_type": "execute_result"
    }
   ],
   "source": [
    "arr2 = np.random.randint(1,10,(1,3\n",
    "                              ))\n",
    "arr2"
   ]
  },
  {
   "cell_type": "code",
   "execution_count": 163,
   "id": "049a654e-0812-4739-ae06-88c53adcd581",
   "metadata": {},
   "outputs": [
    {
     "data": {
      "text/plain": [
       "array([[4, 1, 7],\n",
       "       [9, 2, 4],\n",
       "       [8, 3, 2],\n",
       "       [6, 4, 4]])"
      ]
     },
     "execution_count": 163,
     "metadata": {},
     "output_type": "execute_result"
    }
   ],
   "source": [
    "arr3 = np.random.randint(1,10,(4,3))\n",
    "arr3"
   ]
  },
  {
   "cell_type": "code",
   "execution_count": 167,
   "id": "8ae24b22-87f8-4c38-ae56-69ffea380e3f",
   "metadata": {},
   "outputs": [
    {
     "data": {
      "text/plain": [
       "array([[ 5, 10, 14],\n",
       "       [10, 11, 11],\n",
       "       [ 9, 12,  9],\n",
       "       [ 7, 13, 11]])"
      ]
     },
     "execution_count": 167,
     "metadata": {},
     "output_type": "execute_result"
    }
   ],
   "source": [
    "arr2 + arr3"
   ]
  },
  {
   "cell_type": "code",
   "execution_count": 169,
   "id": "86da280d-cfd8-44fb-a1d7-257a1686ff88",
   "metadata": {},
   "outputs": [],
   "source": [
    "# Arrays also support comparison operations"
   ]
  },
  {
   "cell_type": "code",
   "execution_count": 170,
   "id": "0a29871f-67cc-4fb7-84f4-7879d010f0b7",
   "metadata": {},
   "outputs": [
    {
     "data": {
      "text/plain": [
       "array([[False,  True, False],\n",
       "       [False,  True,  True],\n",
       "       [False,  True,  True],\n",
       "       [False,  True,  True]])"
      ]
     },
     "execution_count": 170,
     "metadata": {},
     "output_type": "execute_result"
    }
   ],
   "source": [
    "arr2 > arr3"
   ]
  },
  {
   "cell_type": "code",
   "execution_count": 171,
   "id": "fed6601a-2aa5-4eb2-ad83-6c640252bd14",
   "metadata": {},
   "outputs": [
    {
     "data": {
      "text/plain": [
       "array([[False, False,  True],\n",
       "       [False, False, False],\n",
       "       [False, False, False],\n",
       "       [False, False, False]])"
      ]
     },
     "execution_count": 171,
     "metadata": {},
     "output_type": "execute_result"
    }
   ],
   "source": [
    "arr2 == arr3"
   ]
  },
  {
   "cell_type": "code",
   "execution_count": 173,
   "id": "76fb9ca0-da66-4718-af8e-3998bab52675",
   "metadata": {},
   "outputs": [
    {
     "data": {
      "text/plain": [
       "array([[ True,  True, False],\n",
       "       [ True,  True,  True],\n",
       "       [ True,  True,  True],\n",
       "       [ True,  True,  True]])"
      ]
     },
     "execution_count": 173,
     "metadata": {},
     "output_type": "execute_result"
    }
   ],
   "source": [
    "arr3 != arr2"
   ]
  },
  {
   "cell_type": "code",
   "execution_count": 175,
   "id": "ea23b07a-b9cf-498d-a482-4964d0bfdaa7",
   "metadata": {},
   "outputs": [],
   "source": [
    "# A common use case for this is to count the number of equal elements in two arrays\n",
    "# using the  'sum'  method. True evaluates to 1, False evaluates to 0 when booleans \n",
    "# are used in arithmetic operations."
   ]
  },
  {
   "cell_type": "code",
   "execution_count": 176,
   "id": "1024482b-fd87-4a97-9dde-e26bd00e5bb9",
   "metadata": {},
   "outputs": [
    {
     "data": {
      "text/plain": [
       "1"
      ]
     },
     "execution_count": 176,
     "metadata": {},
     "output_type": "execute_result"
    }
   ],
   "source": [
    "(arr2 == arr3).sum()"
   ]
  },
  {
   "cell_type": "markdown",
   "id": "ae5c28ff-c84b-4d55-ae6b-8bf4e8d901f8",
   "metadata": {},
   "source": [
    "# Array indexing and slicing"
   ]
  },
  {
   "cell_type": "code",
   "execution_count": 178,
   "id": "9005c50c-ed42-4216-8426-74303370f553",
   "metadata": {},
   "outputs": [
    {
     "data": {
      "text/plain": [
       "array([[[ 1,  2,  3],\n",
       "        [ 4,  5,  6]],\n",
       "\n",
       "       [[ 7,  8,  9],\n",
       "        [10, 11, 12]],\n",
       "\n",
       "       [[13, 14, 15],\n",
       "        [16, 17, 18]]])"
      ]
     },
     "execution_count": 178,
     "metadata": {},
     "output_type": "execute_result"
    }
   ],
   "source": [
    "arr3 = np.array([[[1,2,3],\n",
    "               [4,5,6]],\n",
    "               [[7,8,9],\n",
    "               [10,11,12]],\n",
    "               [[13,14,15],\n",
    "               [16,17,18]]])\n",
    "arr3"
   ]
  },
  {
   "cell_type": "code",
   "execution_count": 179,
   "id": "36b91a91-a091-4c95-8f8c-1c38bf5cd014",
   "metadata": {},
   "outputs": [
    {
     "data": {
      "text/plain": [
       "(3, 2, 3)"
      ]
     },
     "execution_count": 179,
     "metadata": {},
     "output_type": "execute_result"
    }
   ],
   "source": [
    "arr3.shape"
   ]
  },
  {
   "cell_type": "code",
   "execution_count": 180,
   "id": "ffa6c494-7c62-41de-95f3-abb7b9326666",
   "metadata": {},
   "outputs": [
    {
     "data": {
      "text/plain": [
       "12"
      ]
     },
     "execution_count": 180,
     "metadata": {},
     "output_type": "execute_result"
    }
   ],
   "source": [
    "# Single element\n",
    "\n",
    "arr3[1,1,2]"
   ]
  },
  {
   "cell_type": "code",
   "execution_count": 182,
   "id": "2a71dc77-a0c4-4099-895d-feea81a5c55b",
   "metadata": {},
   "outputs": [
    {
     "data": {
      "text/plain": [
       "12"
      ]
     },
     "execution_count": 182,
     "metadata": {},
     "output_type": "execute_result"
    }
   ],
   "source": [
    "# Same as previous line\n",
    "\n",
    "arr3[1][1][2]"
   ]
  },
  {
   "cell_type": "code",
   "execution_count": 183,
   "id": "d2af9765-f364-4db3-b61a-35b7353bdd6e",
   "metadata": {},
   "outputs": [
    {
     "data": {
      "text/plain": [
       "array([[[ 7,  8]],\n",
       "\n",
       "       [[13, 14]]])"
      ]
     },
     "execution_count": 183,
     "metadata": {},
     "output_type": "execute_result"
    }
   ],
   "source": [
    "# Subarray using ranges\n",
    "\n",
    "arr3[1:, :1, :2]"
   ]
  },
  {
   "cell_type": "code",
   "execution_count": 186,
   "id": "80e4fa7c-1733-4c47-8c47-b0456abd1fe2",
   "metadata": {},
   "outputs": [
    {
     "data": {
      "text/plain": [
       "array([[[ 7,  8,  9],\n",
       "        [10, 11, 12]]])"
      ]
     },
     "execution_count": 186,
     "metadata": {},
     "output_type": "execute_result"
    }
   ],
   "source": [
    "# What does this do?\n",
    "\n",
    "arr3[1:][:1][:2]"
   ]
  },
  {
   "cell_type": "code",
   "execution_count": 188,
   "id": "1170b920-47c4-4250-9325-8d890f1703a5",
   "metadata": {},
   "outputs": [
    {
     "data": {
      "text/plain": [
       "array([12, 18])"
      ]
     },
     "execution_count": 188,
     "metadata": {},
     "output_type": "execute_result"
    }
   ],
   "source": [
    "# Mixing indices and ranges\n",
    "\n",
    "arr3[1:, 1, 2]"
   ]
  },
  {
   "cell_type": "code",
   "execution_count": 191,
   "id": "e4924fed-0154-4591-9b8e-cf5f42782666",
   "metadata": {},
   "outputs": [
    {
     "data": {
      "text/plain": [
       "array([[ 7,  8,  9],\n",
       "       [10, 11, 12]])"
      ]
     },
     "execution_count": 191,
     "metadata": {},
     "output_type": "execute_result"
    }
   ],
   "source": [
    "# Using fewer indices\n",
    "\n",
    "arr3[1]"
   ]
  },
  {
   "cell_type": "code",
   "execution_count": 192,
   "id": "42784cd5-d012-47a7-a63c-aa59738b9f55",
   "metadata": {},
   "outputs": [
    {
     "data": {
      "text/plain": [
       "array([[ 4,  5,  6],\n",
       "       [10, 11, 12]])"
      ]
     },
     "execution_count": 192,
     "metadata": {},
     "output_type": "execute_result"
    }
   ],
   "source": [
    "# Using fewer indices\n",
    "\n",
    "arr3[:2, 1]"
   ]
  },
  {
   "cell_type": "code",
   "execution_count": 195,
   "id": "d9d83f0f-e453-45f6-9bae-7a05c3e0fd15",
   "metadata": {},
   "outputs": [
    {
     "data": {
      "text/plain": [
       "12"
      ]
     },
     "execution_count": 195,
     "metadata": {},
     "output_type": "execute_result"
    }
   ],
   "source": [
    "# Using too many indices\n",
    "\n",
    "arr3[1,1,2]"
   ]
  },
  {
   "cell_type": "markdown",
   "id": "281a0b4d-c158-4693-8edf-5706cdd6b8b9",
   "metadata": {},
   "source": [
    "# Other ways of creating NumPy arrays"
   ]
  },
  {
   "cell_type": "code",
   "execution_count": 2,
   "id": "bd13f58b-a4e7-4d22-bae4-97207cd5b791",
   "metadata": {},
   "outputs": [
    {
     "data": {
      "text/plain": [
       "array([[0., 0.],\n",
       "       [0., 0.],\n",
       "       [0., 0.]])"
      ]
     },
     "execution_count": 2,
     "metadata": {},
     "output_type": "execute_result"
    }
   ],
   "source": [
    "import numpy as np\n",
    "# All zeros\n",
    "np.zeros((3,2))"
   ]
  },
  {
   "cell_type": "code",
   "execution_count": 3,
   "id": "70bb80e5-14c8-4133-89a2-045928f0da51",
   "metadata": {},
   "outputs": [
    {
     "data": {
      "text/plain": [
       "array([[1., 1., 1.],\n",
       "       [1., 1., 1.],\n",
       "       [1., 1., 1.],\n",
       "       [1., 1., 1.]])"
      ]
     },
     "execution_count": 3,
     "metadata": {},
     "output_type": "execute_result"
    }
   ],
   "source": [
    "# All ones\n",
    "\n",
    "np.ones((4,3))"
   ]
  },
  {
   "cell_type": "code",
   "execution_count": 4,
   "id": "e42149d0-5f44-4ddf-80e2-82463ca8ca3d",
   "metadata": {},
   "outputs": [
    {
     "data": {
      "text/plain": [
       "array([[1., 0., 0., 0., 0.],\n",
       "       [0., 1., 0., 0., 0.],\n",
       "       [0., 0., 1., 0., 0.],\n",
       "       [0., 0., 0., 1., 0.],\n",
       "       [0., 0., 0., 0., 1.]])"
      ]
     },
     "execution_count": 4,
     "metadata": {},
     "output_type": "execute_result"
    }
   ],
   "source": [
    "# Identity matrix\n",
    "\n",
    "np.eye(5,5)"
   ]
  },
  {
   "cell_type": "code",
   "execution_count": 8,
   "id": "8cda30d7-0b3b-42ab-a0d7-c452b3353a7c",
   "metadata": {},
   "outputs": [
    {
     "data": {
      "text/plain": [
       "array([0.86786117, 0.03459154, 0.97098043, 0.16004941, 0.89272883])"
      ]
     },
     "execution_count": 8,
     "metadata": {},
     "output_type": "execute_result"
    }
   ],
   "source": [
    "# Random vector\n",
    "\n",
    "np.random.rand(5)"
   ]
  },
  {
   "cell_type": "code",
   "execution_count": 9,
   "id": "d96615ff-9ee2-4d55-9da6-482e17f1d99c",
   "metadata": {},
   "outputs": [
    {
     "data": {
      "text/plain": [
       "array([[-0.4902893 ,  1.91423785, -1.62284528],\n",
       "       [-0.47664448, -0.32941828,  1.19201096]])"
      ]
     },
     "execution_count": 9,
     "metadata": {},
     "output_type": "execute_result"
    }
   ],
   "source": [
    "# Random matrix\n",
    "\n",
    "np.random.randn(2,3)"
   ]
  },
  {
   "cell_type": "code",
   "execution_count": 70,
   "id": "d86926fb-53b2-4b87-8722-a23869e3e589",
   "metadata": {},
   "outputs": [
    {
     "data": {
      "text/plain": [
       "array([[17, 19, 17, 12],\n",
       "       [17, 14, 14, 17],\n",
       "       [16, 13, 10, 11],\n",
       "       [10, 15, 17, 12]])"
      ]
     },
     "execution_count": 70,
     "metadata": {},
     "output_type": "execute_result"
    }
   ],
   "source": [
    "# Random integers\n",
    "\n",
    "np.random.randint(10,20,(4,4))"
   ]
  },
  {
   "cell_type": "code",
   "execution_count": 71,
   "id": "2f1da814-a4fc-4cf8-a8bc-507c9b31dcbe",
   "metadata": {},
   "outputs": [
    {
     "data": {
      "text/plain": [
       "array([[42, 42, 42],\n",
       "       [42, 42, 42]])"
      ]
     },
     "execution_count": 71,
     "metadata": {},
     "output_type": "execute_result"
    }
   ],
   "source": [
    "np.full([2,3],42)"
   ]
  },
  {
   "cell_type": "code",
   "execution_count": 11,
   "id": "36dd24d6-e034-462f-aa02-329a1ae277e0",
   "metadata": {},
   "outputs": [
    {
     "data": {
      "text/plain": [
       "array([10, 13, 16, 19])"
      ]
     },
     "execution_count": 11,
     "metadata": {},
     "output_type": "execute_result"
    }
   ],
   "source": [
    "# Range with (start, end, step)\n",
    "\n",
    "np.arange(10,20,3)"
   ]
  },
  {
   "cell_type": "code",
   "execution_count": 17,
   "id": "8312a396-499c-4566-8030-b7bdec9ce20b",
   "metadata": {},
   "outputs": [
    {
     "data": {
      "text/plain": [
       "array([ 3.,  6.,  9., 12., 15., 18., 21., 24., 27.])"
      ]
     },
     "execution_count": 17,
     "metadata": {},
     "output_type": "execute_result"
    }
   ],
   "source": [
    "# Equally spaced numbers in a range\n",
    "\n",
    "np.linspace(3, 27, 9)"
   ]
  },
  {
   "cell_type": "markdown",
   "id": "8784586d-cef9-40df-96cc-28ea3846adce",
   "metadata": {},
   "source": [
    "# There are examples in the end."
   ]
  },
  {
   "cell_type": "code",
   "execution_count": 18,
   "id": "f7d7ade0-7b05-4a90-a46d-93bd621df554",
   "metadata": {},
   "outputs": [
    {
     "data": {
      "text/plain": [
       "[1, 2, 3]"
      ]
     },
     "execution_count": 18,
     "metadata": {},
     "output_type": "execute_result"
    }
   ],
   "source": [
    "a = [1,2,3]\n",
    "a"
   ]
  },
  {
   "cell_type": "code",
   "execution_count": 19,
   "id": "85edf6da-e364-4634-b40d-e2c546495df0",
   "metadata": {},
   "outputs": [
    {
     "data": {
      "text/plain": [
       "[4, 5, 6]"
      ]
     },
     "execution_count": 19,
     "metadata": {},
     "output_type": "execute_result"
    }
   ],
   "source": [
    "b = [4,5,6]\n",
    "b"
   ]
  },
  {
   "cell_type": "code",
   "execution_count": 21,
   "id": "85f42902-549a-4e24-be40-336bf968597c",
   "metadata": {},
   "outputs": [
    {
     "data": {
      "text/plain": [
       "array([ 4, 10, 18])"
      ]
     },
     "execution_count": 21,
     "metadata": {},
     "output_type": "execute_result"
    }
   ],
   "source": [
    "a = np.array(a)\n",
    "b = np.array(b)\n",
    "a*b"
   ]
  },
  {
   "cell_type": "code",
   "execution_count": 25,
   "id": "3e648ab8-7ff9-4d3a-a9f4-63322af330e8",
   "metadata": {},
   "outputs": [
    {
     "data": {
      "text/plain": [
       "array([[ 7, 18,  6,  7,  1],\n",
       "       [18, 19,  6, 18, 15],\n",
       "       [ 6, 13,  3,  2,  9],\n",
       "       [16,  7, 19, 12,  3],\n",
       "       [ 7,  2,  9,  8, 19]])"
      ]
     },
     "execution_count": 25,
     "metadata": {},
     "output_type": "execute_result"
    }
   ],
   "source": [
    "arr = np.random.randint(1,20,(5,5))\n",
    "arr"
   ]
  },
  {
   "cell_type": "code",
   "execution_count": 26,
   "id": "e4222836-c176-4de3-95ba-6b4df1b09584",
   "metadata": {},
   "outputs": [
    {
     "data": {
      "text/plain": [
       "array([1, 2, 3, 4, 5, 6, 7, 8, 9])"
      ]
     },
     "execution_count": 26,
     "metadata": {},
     "output_type": "execute_result"
    }
   ],
   "source": [
    "arr = np.arange(1,10)\n",
    "arr"
   ]
  },
  {
   "cell_type": "code",
   "execution_count": 28,
   "id": "0967ef8a-064a-4d72-8706-7279ccea6396",
   "metadata": {},
   "outputs": [
    {
     "data": {
      "text/plain": [
       "array([1, 3, 5, 7, 9])"
      ]
     },
     "execution_count": 28,
     "metadata": {},
     "output_type": "execute_result"
    }
   ],
   "source": [
    "arr = np.arange(1,10,2)\n",
    "arr"
   ]
  },
  {
   "cell_type": "code",
   "execution_count": 29,
   "id": "d7d6b85a-e0c2-4f60-8ae5-15cf6c3d7aae",
   "metadata": {},
   "outputs": [
    {
     "data": {
      "text/plain": [
       "dtype('int32')"
      ]
     },
     "execution_count": 29,
     "metadata": {},
     "output_type": "execute_result"
    }
   ],
   "source": [
    "arr.dtype"
   ]
  },
  {
   "cell_type": "code",
   "execution_count": 31,
   "id": "942837c8-c393-4746-8418-af6cd653d718",
   "metadata": {},
   "outputs": [
    {
     "data": {
      "text/plain": [
       "array([1, 3, 5, 7, 9])"
      ]
     },
     "execution_count": 31,
     "metadata": {},
     "output_type": "execute_result"
    }
   ],
   "source": [
    "arr"
   ]
  },
  {
   "cell_type": "code",
   "execution_count": 34,
   "id": "124e770a-989d-4343-ad45-d8b70a237df5",
   "metadata": {},
   "outputs": [
    {
     "data": {
      "text/plain": [
       "7"
      ]
     },
     "execution_count": 34,
     "metadata": {},
     "output_type": "execute_result"
    }
   ],
   "source": [
    "arr[3]"
   ]
  },
  {
   "cell_type": "code",
   "execution_count": 35,
   "id": "5369f31c-5be1-4a62-b9c1-21c7ca47eacf",
   "metadata": {},
   "outputs": [
    {
     "data": {
      "text/plain": [
       "array([[ 9, 32, 24, 63],\n",
       "       [30, 14, 24, 18],\n",
       "       [63,  5, 14, 14],\n",
       "       [10, 99, 54,  7]])"
      ]
     },
     "execution_count": 35,
     "metadata": {},
     "output_type": "execute_result"
    }
   ],
   "source": [
    "arr1 = np.random.randint(1,10,(4,4))\n",
    "arr2 = np.random.randint(1,12,(4,4))\n",
    "arr1 * arr2"
   ]
  },
  {
   "cell_type": "code",
   "execution_count": 36,
   "id": "1f7928e8-7fb6-4673-aded-8eca09d9817e",
   "metadata": {},
   "outputs": [
    {
     "data": {
      "text/plain": [
       "array([[152, 165, 136,  90],\n",
       "       [ 72,  79,  76,  50],\n",
       "       [ 86, 130, 116,  98],\n",
       "       [194, 193, 171,  97]])"
      ]
     },
     "execution_count": 36,
     "metadata": {},
     "output_type": "execute_result"
    }
   ],
   "source": [
    "np.dot(arr1,arr2)"
   ]
  },
  {
   "cell_type": "code",
   "execution_count": 37,
   "id": "94056ab1-1802-4645-b6f3-660379b2e5da",
   "metadata": {},
   "outputs": [
    {
     "data": {
      "text/plain": [
       "array([[3, 8, 4, 7],\n",
       "       [3, 2, 4, 3],\n",
       "       [9, 1, 2, 7],\n",
       "       [2, 9, 9, 7]])"
      ]
     },
     "execution_count": 37,
     "metadata": {},
     "output_type": "execute_result"
    }
   ],
   "source": [
    "arr1"
   ]
  },
  {
   "cell_type": "code",
   "execution_count": 38,
   "id": "c152bbaa-2c01-4244-bd03-81f377355569",
   "metadata": {},
   "outputs": [
    {
     "data": {
      "text/plain": [
       "array([[ 3,  4,  6,  9],\n",
       "       [10,  7,  6,  6],\n",
       "       [ 7,  5,  7,  2],\n",
       "       [ 5, 11,  6,  1]])"
      ]
     },
     "execution_count": 38,
     "metadata": {},
     "output_type": "execute_result"
    }
   ],
   "source": [
    "arr2"
   ]
  },
  {
   "cell_type": "code",
   "execution_count": 39,
   "id": "6caf3f0d-dbff-46ea-88c4-9823cf39294d",
   "metadata": {},
   "outputs": [
    {
     "data": {
      "text/plain": [
       "array([[ 9, 32, 24, 63],\n",
       "       [30, 14, 24, 18],\n",
       "       [63,  5, 14, 14],\n",
       "       [10, 99, 54,  7]])"
      ]
     },
     "execution_count": 39,
     "metadata": {},
     "output_type": "execute_result"
    }
   ],
   "source": [
    "arr1 * arr2"
   ]
  },
  {
   "cell_type": "code",
   "execution_count": 41,
   "id": "0adb74c5-a602-4ad1-a306-2c61f7c7c077",
   "metadata": {},
   "outputs": [
    {
     "data": {
      "text/plain": [
       "array([ 4, 10, 18])"
      ]
     },
     "execution_count": 41,
     "metadata": {},
     "output_type": "execute_result"
    }
   ],
   "source": [
    "a = np.array([1,2,3])\n",
    "b = np.array([4,5,6])\n",
    "a * b"
   ]
  },
  {
   "cell_type": "code",
   "execution_count": 42,
   "id": "4ad6ab05-1bab-498a-b206-4ad2837115d2",
   "metadata": {},
   "outputs": [
    {
     "data": {
      "text/plain": [
       "32"
      ]
     },
     "execution_count": 42,
     "metadata": {},
     "output_type": "execute_result"
    }
   ],
   "source": [
    "np.dot(a,b)"
   ]
  },
  {
   "cell_type": "code",
   "execution_count": 48,
   "id": "514372f4-dd67-4ddf-8173-1aa69c08fbad",
   "metadata": {},
   "outputs": [
    {
     "data": {
      "text/plain": [
       "array([[54, 40, 12],\n",
       "       [25, 42, 18],\n",
       "       [25,  4,  6]])"
      ]
     },
     "execution_count": 48,
     "metadata": {},
     "output_type": "execute_result"
    }
   ],
   "source": [
    "a = np.random.randint(1,10,(3,3))\n",
    "b = np.random.randint(1,10,(3,3))\n",
    "a * b"
   ]
  },
  {
   "cell_type": "code",
   "execution_count": 49,
   "id": "e3975df2-60e9-471a-ba4e-0cbb99b97359",
   "metadata": {},
   "outputs": [
    {
     "data": {
      "text/plain": [
       "array([[114,  94,  46],\n",
       "       [110,  91,  42],\n",
       "       [ 80,  55,  24]])"
      ]
     },
     "execution_count": 49,
     "metadata": {},
     "output_type": "execute_result"
    }
   ],
   "source": [
    "np.dot(a,b)"
   ]
  },
  {
   "cell_type": "code",
   "execution_count": 50,
   "id": "30f1beb3-ec04-4bd2-a6bb-21f3898ec1d2",
   "metadata": {},
   "outputs": [
    {
     "data": {
      "text/plain": [
       "array([[15, 13,  7],\n",
       "       [10, 13,  9],\n",
       "       [10,  5,  7]])"
      ]
     },
     "execution_count": 50,
     "metadata": {},
     "output_type": "execute_result"
    }
   ],
   "source": [
    "a + b"
   ]
  },
  {
   "cell_type": "code",
   "execution_count": 51,
   "id": "04f77922-74c6-4340-bd6f-6592eaf3cc0d",
   "metadata": {},
   "outputs": [
    {
     "data": {
      "text/plain": [
       "array([     1,      2,      3, ..., 999997, 999998, 999999])"
      ]
     },
     "execution_count": 51,
     "metadata": {},
     "output_type": "execute_result"
    }
   ],
   "source": [
    "np.arange(1,1000000)"
   ]
  },
  {
   "cell_type": "code",
   "execution_count": 62,
   "id": "ca32d166-4c7a-472a-82c2-7578eb2e655e",
   "metadata": {},
   "outputs": [
    {
     "data": {
      "text/plain": [
       "1.3186314105987549"
      ]
     },
     "execution_count": 62,
     "metadata": {},
     "output_type": "execute_result"
    }
   ],
   "source": [
    "import time\n",
    "t1 = time.time()\n",
    "list_ = [i for i in range(1,30000000)]\n",
    "t2 = time.time()\n",
    "t2-t1"
   ]
  },
  {
   "cell_type": "code",
   "execution_count": 63,
   "id": "bbdca6f8-7267-4e11-a7e8-6184ee63e734",
   "metadata": {},
   "outputs": [
    {
     "data": {
      "text/plain": [
       "0.046988725662231445"
      ]
     },
     "execution_count": 63,
     "metadata": {},
     "output_type": "execute_result"
    }
   ],
   "source": [
    "t1 = time.time()\n",
    "a = np.arange(1,30000000)\n",
    "t2 = time.time()\n",
    "t2-t1"
   ]
  },
  {
   "cell_type": "code",
   "execution_count": 64,
   "id": "389905b2-f7fe-4a3d-bb04-e511500cb6f6",
   "metadata": {},
   "outputs": [
    {
     "data": {
      "text/plain": [
       "[[[1, 2, 3], [4, 5, 6]], [[7, 8, 9]]]"
      ]
     },
     "execution_count": 64,
     "metadata": {},
     "output_type": "execute_result"
    }
   ],
   "source": [
    "a = [[[1,2,3],\n",
    "     [4,5,6]],\n",
    "     [[7,8,9]]]\n",
    "\n",
    "a\n",
    "     "
   ]
  },
  {
   "cell_type": "code",
   "execution_count": 68,
   "id": "1ae3034f-464b-47b0-a656-596c39d66748",
   "metadata": {},
   "outputs": [],
   "source": [
    "a = np.array([[2],[34],[45]])\n",
    "a = np.array(a)"
   ]
  },
  {
   "cell_type": "code",
   "execution_count": 69,
   "id": "3daa5266-9fc0-49da-b4bd-cf863e6dd416",
   "metadata": {},
   "outputs": [
    {
     "data": {
      "text/plain": [
       "dtype('int32')"
      ]
     },
     "execution_count": 69,
     "metadata": {},
     "output_type": "execute_result"
    }
   ],
   "source": [
    "a.dtype"
   ]
  },
  {
   "cell_type": "code",
   "execution_count": null,
   "id": "916e2e5b-3308-478c-aae7-ba5b4afb8ec5",
   "metadata": {},
   "outputs": [],
   "source": [
    "# import urllib.request\n",
    "\n",
    "# urllib.request.retrieve('link of the csv file','will be imported as.txt')\n",
    "\n",
    "# climate_data = np.genfromtxt('climate.txt', delimiter=',', skip_header=1"
   ]
  },
  {
   "cell_type": "code",
   "execution_count": 88,
   "id": "7e3fd470-65bc-45a9-bfc9-64088744fbc8",
   "metadata": {},
   "outputs": [
    {
     "data": {
      "text/plain": [
       "array([[9, 2, 3, 8, 6],\n",
       "       [1, 4, 4, 1, 7],\n",
       "       [7, 7, 7, 5, 1],\n",
       "       [1, 7, 5, 2, 2],\n",
       "       [1, 7, 5, 3, 9]])"
      ]
     },
     "execution_count": 88,
     "metadata": {},
     "output_type": "execute_result"
    }
   ],
   "source": [
    "arr1 = np.random.randint(1,10,(5,5))\n",
    "arr1"
   ]
  },
  {
   "cell_type": "code",
   "execution_count": 91,
   "id": "2a5c7e59-618f-4058-be65-29bc2e484a8b",
   "metadata": {},
   "outputs": [
    {
     "data": {
      "text/plain": [
       "array([[9, 2, 3, 8, 6, 1, 4, 4, 1, 7, 7, 7, 7, 5, 1, 1, 7, 5, 2, 2, 1, 7,\n",
       "        5, 3, 9]])"
      ]
     },
     "execution_count": 91,
     "metadata": {},
     "output_type": "execute_result"
    }
   ],
   "source": [
    "arr1=arr1.reshape(1,25)\n",
    "arr1"
   ]
  },
  {
   "cell_type": "code",
   "execution_count": 92,
   "id": "a822505c-f87c-47e5-a2b0-66b9382b3717",
   "metadata": {},
   "outputs": [
    {
     "data": {
      "text/plain": [
       "array([1, 4, 7])"
      ]
     },
     "execution_count": 92,
     "metadata": {},
     "output_type": "execute_result"
    }
   ],
   "source": [
    "np.arange(1,10,3)"
   ]
  },
  {
   "cell_type": "code",
   "execution_count": 93,
   "id": "045f09de-deab-41d8-ba19-c0087cddae85",
   "metadata": {},
   "outputs": [
    {
     "data": {
      "text/plain": [
       "array([ 1,  6, 11, 16])"
      ]
     },
     "execution_count": 93,
     "metadata": {},
     "output_type": "execute_result"
    }
   ],
   "source": [
    "np.arange(1,20,5)"
   ]
  },
  {
   "cell_type": "code",
   "execution_count": null,
   "id": "e2f4ed6e-a0b2-46aa-b9bb-08008fca1aba",
   "metadata": {},
   "outputs": [],
   "source": []
  },
  {
   "cell_type": "code",
   "execution_count": null,
   "id": "5c76c001-5aca-44e7-b3c7-49bcf44f29f1",
   "metadata": {},
   "outputs": [],
   "source": []
  },
  {
   "cell_type": "code",
   "execution_count": null,
   "id": "edd09b18-fb8e-4af3-a537-d70de0988961",
   "metadata": {},
   "outputs": [],
   "source": []
  },
  {
   "cell_type": "code",
   "execution_count": null,
   "id": "c6a60adb-7a39-4797-981b-1f4b4fe7d75d",
   "metadata": {},
   "outputs": [],
   "source": []
  },
  {
   "cell_type": "code",
   "execution_count": null,
   "id": "1ef54d4a-ac56-46bb-9a6b-a0b367b7716c",
   "metadata": {},
   "outputs": [],
   "source": []
  },
  {
   "cell_type": "code",
   "execution_count": null,
   "id": "148eb836-adf4-4413-983f-22576a7e5bdf",
   "metadata": {},
   "outputs": [],
   "source": []
  },
  {
   "cell_type": "code",
   "execution_count": null,
   "id": "1507be39-800f-41f2-adcd-3878abaf79fe",
   "metadata": {},
   "outputs": [],
   "source": []
  },
  {
   "cell_type": "code",
   "execution_count": null,
   "id": "07c8a11d-a4a2-43bb-a822-fd0928d84ffb",
   "metadata": {},
   "outputs": [],
   "source": []
  },
  {
   "cell_type": "code",
   "execution_count": null,
   "id": "75fe2b2d-15ed-4103-92d7-688e288bfa43",
   "metadata": {},
   "outputs": [],
   "source": []
  },
  {
   "cell_type": "code",
   "execution_count": null,
   "id": "0569449f-7934-4084-b198-a39e20a9cd98",
   "metadata": {},
   "outputs": [],
   "source": []
  },
  {
   "cell_type": "code",
   "execution_count": null,
   "id": "eaca6fee-b02c-4cf3-8270-41c57645d987",
   "metadata": {},
   "outputs": [],
   "source": []
  },
  {
   "cell_type": "code",
   "execution_count": null,
   "id": "025980d4-f2a1-439f-bab3-9aba170cd152",
   "metadata": {},
   "outputs": [],
   "source": []
  },
  {
   "cell_type": "code",
   "execution_count": null,
   "id": "5a7ed8e9-ba5b-46b8-901c-e739259a764b",
   "metadata": {},
   "outputs": [],
   "source": []
  },
  {
   "cell_type": "code",
   "execution_count": null,
   "id": "e593b9d3-c751-4b7c-89be-73bc9beb4f5c",
   "metadata": {},
   "outputs": [],
   "source": []
  },
  {
   "cell_type": "code",
   "execution_count": null,
   "id": "b5f87ae1-95dd-4628-b814-22cc639956bf",
   "metadata": {},
   "outputs": [],
   "source": []
  },
  {
   "cell_type": "code",
   "execution_count": null,
   "id": "5e963f42-45e5-4e70-b299-ab75a618bdd3",
   "metadata": {},
   "outputs": [],
   "source": []
  },
  {
   "cell_type": "code",
   "execution_count": null,
   "id": "3a2c832b-7d13-41bd-8d55-857454b28b17",
   "metadata": {},
   "outputs": [],
   "source": []
  },
  {
   "cell_type": "code",
   "execution_count": null,
   "id": "385719f1-050a-4590-96c2-707ea86d81fb",
   "metadata": {},
   "outputs": [],
   "source": []
  },
  {
   "cell_type": "code",
   "execution_count": null,
   "id": "4535a4ba-d4da-418a-bebd-72f4fa64978c",
   "metadata": {},
   "outputs": [],
   "source": []
  },
  {
   "cell_type": "code",
   "execution_count": null,
   "id": "b110cc1f-93bb-49f5-a31c-dc0270d7e42d",
   "metadata": {},
   "outputs": [],
   "source": []
  }
 ],
 "metadata": {
  "kernelspec": {
   "display_name": "Python 3 (ipykernel)",
   "language": "python",
   "name": "python3"
  },
  "language_info": {
   "codemirror_mode": {
    "name": "ipython",
    "version": 3
   },
   "file_extension": ".py",
   "mimetype": "text/x-python",
   "name": "python",
   "nbconvert_exporter": "python",
   "pygments_lexer": "ipython3",
   "version": "3.9.1"
  }
 },
 "nbformat": 4,
 "nbformat_minor": 5
}

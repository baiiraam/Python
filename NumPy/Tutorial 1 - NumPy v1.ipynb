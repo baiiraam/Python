{
 "cells": [
  {
   "cell_type": "markdown",
   "id": "a06a2b24",
   "metadata": {},
   "source": [
    "# <a id='contents'>Contents</a>"
   ]
  },
  {
   "cell_type": "markdown",
   "id": "9274d5d9",
   "metadata": {},
   "source": [
    "* [Preface](#preface)\n",
    "* [Installation](#installation)\n",
    "* [Introduction](#introduction)\n",
    "    \n",
    "    * [Comparison between NumPy Arrays and Lists](#comparison)\n",
    "    * [Importing](#import)\n",
    "    * [Creating an Array and Data Types](#create_array)\n",
    "        * [Simple Array](#simple_array)\n",
    "        * [Data Types](#data_types)\n",
    "        * [Array Range](#range)\n",
    "        * [Random Arrays](#random)\n",
    "    * [Other Attributes](#attributes)\n",
    "* [Mathematical Functions](#math)\n",
    "* [Array Manipulation Routines](#manipulation)\n",
    "    * [Reshape](#reshape)\n",
    "    * [Concatenate](#concatenate)\n",
    "    * [Transpose](#transpose)\n",
    "* [Indexing on ndarrays](#indexing)\n",
    "* [Array Creation Routines](#creation)\n",
    "\n",
    "    * [Linspace](#linspace)\n",
    "    * [Zeros](#zeros)\n",
    "    * [Ones](#ones)\n",
    "    * [Identity](#identity)\n",
    "* [Boolean Logic](#bool)\n",
    "    * [Boolean Logic in Python](#bool-Python)\n",
    "    * [Boolean Operators and Arrays in NumPy](#bool-operators-arrays)\n",
    "    * [Boolean Functions](#bool-functions)\n",
    "        * [Where](#where)\n",
    "        * [All](#all)\n",
    "        * [Any](#any)\n",
    "* [Conclusion](#conclusion)"
   ]
  },
  {
   "cell_type": "markdown",
   "id": "7f8f89cb",
   "metadata": {},
   "source": [
    "# <a id='preface'>Preface</a>"
   ]
  },
  {
   "cell_type": "markdown",
   "id": "88913a40",
   "metadata": {},
   "source": [
    "This notebook just presents a concise introduction to NumPy with the corresponding applications. There are a lot of articles and videos available covering NumPy in a variety of details, including [NumPy documentation](https://numpy.org/doc/1.26/). You are free to explore them, however, I highly recommend you to consider [Python Data Science Handbook by Jacob T. VanderPlas\n",
    "](https://jakevdp.github.io/PythonDataScienceHandbook/02.00-introduction-to-numpy.html) as well. The author perfectly explains what's going on behind NumPy and shows all the necessary functionalities of the library. \n",
    "\n",
    "As an author of this notebook, my objective is not to teach you NumPy (although I am supposed to) but encourage you to apply your math in practice. We will be using NumPy to bring our knowledge into practical manners after studying the library itself sufficiently. \n",
    "\n",
    "Who knows, maybe you will develop your own neural network with NumPy from scratch in the future?\n",
    "\n",
    "My note for beginners in Python is not to worry about the course challenge. Python basics are essential at first, but studying library is generally about learning its functions (methods), attributes, and their applications. You will experience the importance of NumPy in the computational mathematics. So we will be diving into different side of Python. \n",
    "\n",
    "If you are studying fields not related to IT, such as chemical engineering or petroleum engineering, it is very likely that you will learn things that university will never teach you :) So, try to enjoy it. Have a nice reading!\n",
    "\n",
    "\n",
    "Warm Regards,\n",
    "\n",
    "Mahammad Mehdi, tutor\n"
   ]
  },
  {
   "cell_type": "markdown",
   "id": "f06aa7c7",
   "metadata": {},
   "source": [
    "# <a id='installation'>Installation</a>"
   ]
  },
  {
   "cell_type": "markdown",
   "id": "5f82441f",
   "metadata": {},
   "source": [
    "You just need to uncomment and run the below cell. [Pip](https://pypi.org/) is a repository storing Python packages for easier centralized access. Many developers create their own libraries and share them in this platform for particular implementation. NumPy library is one of them and its implementation will be elucidated in further sections. "
   ]
  },
  {
   "cell_type": "code",
   "execution_count": 17,
   "id": "ff0c6f6c",
   "metadata": {},
   "outputs": [],
   "source": [
    "# !pip install numpy -q"
   ]
  },
  {
   "cell_type": "markdown",
   "id": "76c89999",
   "metadata": {},
   "source": [
    "# <a id='introduction'>Introduction</a>"
   ]
  },
  {
   "cell_type": "markdown",
   "id": "7dd48848",
   "metadata": {},
   "source": [
    "NumPy is a library in Python that is widely used in data science community. The primary reasons are the speed, less memory consumption, large availability of computational math related functions and more. In NumPy, instead of lists or tuples, we use numpy arrays in one- or multi- dimensions to store and process the data. "
   ]
  },
  {
   "cell_type": "markdown",
   "id": "ea811185",
   "metadata": {},
   "source": [
    "## <a id='comparison'>Comparison between NumPy Arrays and Lists</a>"
   ]
  },
  {
   "cell_type": "markdown",
   "id": "bb368d5d",
   "metadata": {},
   "source": [
    "* Arrays must contain the same type of data, whereas lists are welcome to any type. Each element of lists carries individual class information, like int, float, another list, tuple, however, arrays are previously introduced to the type of data and corresponding class information so that it can generalize the whole data instead of going through one by one. \n",
    "\n",
    "    Think about this example. You are organizing a party for university staff and students. The party is your list and contains names of participants on the paper as values. Additionally, their class information (consider it as a group of people), such as student, teacher, professor, cleaner, and more is provided next to the names. It is memory consuming to save both values and class simultaneously. \n",
    "    \n",
    "    Now, you want to organize another party just for students, excluding everyone else from university. The party is your array and contains names of participants on the paper as values. Additionally, their class information - student is provided at the top of the paper once instead of being put next to names each time. You knew everyone in the party could be students and, therefore, ignored the repetition of the same class info. \n",
    "    \n",
    "    This scenario shows the crucial difference between NumPy arrays and Python lists. Always, keep it in mind.\n",
    "\n",
    "    And further change in the type of data in arrays is possible, but the conversion should match. For example, you can't change non-numerical string to int or float. The below will end with ValueError as an example:\n",
    "                                           int('123a')        \n",
    "\n",
    "\n",
    "* The above feature leads to less memory consumption thanks to avoidance from unnecessary repetition of the same class information. At the same time, it results in a faster implementation. The fact that NumPy is written in C language also contributes to the speed since it is well known that C language incredibly works faster than Python\n",
    "\n",
    "\n",
    "* NumPy provides element-wise operations between scalar and vector, scalar and matrix, vector and matrix, and matrix and matrix. Dot product is also easily executed as well. There are a lot useful functions to conduct element-wise operations and dot product and to determine mean, median, maximum, minimum, variance, standard deviation and more. We will be exploring more useful mathematical functionalities in NumPy throughout the notebook."
   ]
  },
  {
   "cell_type": "markdown",
   "id": "d8a69d17",
   "metadata": {},
   "source": [
    "## <a id='import'>Importing</a>"
   ]
  },
  {
   "cell_type": "markdown",
   "id": "4ee30c4c",
   "metadata": {},
   "source": [
    "By importing, we introduce all methods of the library to our running notebook. Generally accepted notation of NumPy is np, however, you are not restricted to choose your own notation. In any case, I prefer being stuck with np."
   ]
  },
  {
   "cell_type": "code",
   "execution_count": 18,
   "id": "8314272d",
   "metadata": {},
   "outputs": [],
   "source": [
    "import numpy as np"
   ]
  },
  {
   "cell_type": "markdown",
   "id": "50126439",
   "metadata": {},
   "source": [
    "## <a id='create_array'>Creating an Array and Data Types</a>"
   ]
  },
  {
   "cell_type": "markdown",
   "id": "67a36342",
   "metadata": {},
   "source": [
    "### <a id='simple_array'>Simple Array</a>"
   ]
  },
  {
   "cell_type": "markdown",
   "id": "e4117ef7",
   "metadata": {},
   "source": [
    "Simply, we create a list (or tuple) and convert it to the array."
   ]
  },
  {
   "cell_type": "code",
   "execution_count": 19,
   "id": "312634fa",
   "metadata": {},
   "outputs": [
    {
     "name": "stdout",
     "output_type": "stream",
     "text": [
      "[1 2 3 4]\n"
     ]
    }
   ],
   "source": [
    "# Create a list\n",
    "xs = [1, 2, 3, 4]\n",
    "\n",
    "# Convert it to numpy arrays\n",
    "arr = np.array(xs)\n",
    "print(arr)\n"
   ]
  },
  {
   "cell_type": "markdown",
   "id": "8663f7b8",
   "metadata": {},
   "source": [
    "### <a id='data_types'>Data Types</a>"
   ]
  },
  {
   "cell_type": "markdown",
   "id": "4ed1ceea",
   "metadata": {},
   "source": [
    "Just like in Python, NumPy also recognizes specific data types. \n",
    "\n",
    "The below shows examples for Python:\n",
    "- int\n",
    "- float\n",
    "- str\n",
    "\n",
    "In NumPy, we have similar data types with different memory consumption restriction:\n",
    "- int8 \n",
    "- int16\n",
    "- int32\n",
    "- int64\n",
    "- float16\n",
    "- float32\n",
    "- float64\n",
    "\n",
    "The number represents the number of bits for each elements of the array. For instance, 8 bits or 1 byte value can be stored in the array with data type of int8.\n",
    "\n",
    "double type also exists in NumPy which is equivalent to float64. This is the info for those from the interview process who confused double type with default data types in Python.\n",
    "\n",
    "You might want to explore more from the [documentation](https://numpy.org/doc/stable/user/basics.types.html)."
   ]
  },
  {
   "cell_type": "markdown",
   "id": "cb673190",
   "metadata": {},
   "source": [
    "Let's go back to the previous array and see the data type by using **dtype** attribute."
   ]
  },
  {
   "cell_type": "code",
   "execution_count": 20,
   "id": "6ad98764",
   "metadata": {},
   "outputs": [
    {
     "data": {
      "text/plain": [
       "dtype('int32')"
      ]
     },
     "execution_count": 20,
     "metadata": {},
     "output_type": "execute_result"
    }
   ],
   "source": [
    "arr.dtype"
   ]
  },
  {
   "cell_type": "markdown",
   "id": "1ef43fff",
   "metadata": {},
   "source": [
    "We might want to change the data type."
   ]
  },
  {
   "cell_type": "code",
   "execution_count": 21,
   "id": "fe703258",
   "metadata": {},
   "outputs": [
    {
     "data": {
      "text/plain": [
       "array([1, 2, 3, 4], dtype=int8)"
      ]
     },
     "execution_count": 21,
     "metadata": {},
     "output_type": "execute_result"
    }
   ],
   "source": [
    "arr.astype(np.int8)"
   ]
  },
  {
   "cell_type": "markdown",
   "id": "c7299809",
   "metadata": {},
   "source": [
    "However, the dtype is still the same."
   ]
  },
  {
   "cell_type": "code",
   "execution_count": 22,
   "id": "999ee7b6",
   "metadata": {},
   "outputs": [
    {
     "data": {
      "text/plain": [
       "dtype('int32')"
      ]
     },
     "execution_count": 22,
     "metadata": {},
     "output_type": "execute_result"
    }
   ],
   "source": [
    "arr.dtype"
   ]
  },
  {
   "cell_type": "markdown",
   "id": "caa71fd1",
   "metadata": {},
   "source": [
    "astype function helps to convert the type of the data from one to another. The function returns a new array, so it is a good idea to assign it to a new variable"
   ]
  },
  {
   "cell_type": "code",
   "execution_count": 23,
   "id": "cdd21f42",
   "metadata": {},
   "outputs": [],
   "source": [
    "arr = arr.astype(np.int8)"
   ]
  },
  {
   "cell_type": "code",
   "execution_count": 24,
   "id": "c1b927a0",
   "metadata": {},
   "outputs": [
    {
     "data": {
      "text/plain": [
       "dtype('int8')"
      ]
     },
     "execution_count": 24,
     "metadata": {},
     "output_type": "execute_result"
    }
   ],
   "source": [
    "arr.dtype"
   ]
  },
  {
   "cell_type": "code",
   "execution_count": 25,
   "id": "1183ccf7",
   "metadata": {},
   "outputs": [
    {
     "data": {
      "text/plain": [
       "array([1, 2, 3, 4], dtype=int8)"
      ]
     },
     "execution_count": 25,
     "metadata": {},
     "output_type": "execute_result"
    }
   ],
   "source": [
    "arr"
   ]
  },
  {
   "cell_type": "markdown",
   "id": "e7f90363",
   "metadata": {},
   "source": [
    "We might also create an array with pre-defined data type."
   ]
  },
  {
   "cell_type": "code",
   "execution_count": 26,
   "id": "445c3dff",
   "metadata": {},
   "outputs": [
    {
     "name": "stdout",
     "output_type": "stream",
     "text": [
      "[1. 2. 3. 4.]\n"
     ]
    }
   ],
   "source": [
    "xs = [1, 2, 3, 4]\n",
    "arr = np.array(xs, dtype = np.float16)\n",
    "print(arr)"
   ]
  },
  {
   "cell_type": "code",
   "execution_count": 27,
   "id": "09b4af14",
   "metadata": {},
   "outputs": [
    {
     "data": {
      "text/plain": [
       "dtype('float16')"
      ]
     },
     "execution_count": 27,
     "metadata": {},
     "output_type": "execute_result"
    }
   ],
   "source": [
    "arr.dtype"
   ]
  },
  {
   "cell_type": "markdown",
   "id": "693e9a44",
   "metadata": {},
   "source": [
    "We introduced float data type for 16 bits to the array."
   ]
  },
  {
   "cell_type": "markdown",
   "id": "c44027e8",
   "metadata": {},
   "source": [
    "### <a id='range'>Array Range</a>"
   ]
  },
  {
   "cell_type": "markdown",
   "id": "50aa423b",
   "metadata": {},
   "source": [
    "Just like range function in Python, NumPy provides arange function with the similar characteristics to create an array from one specific value to another. "
   ]
  },
  {
   "cell_type": "code",
   "execution_count": 28,
   "id": "16ed7026",
   "metadata": {},
   "outputs": [
    {
     "data": {
      "text/plain": [
       "[0, 1, 2, 3, 4, 5, 6, 7, 8, 9]"
      ]
     },
     "execution_count": 28,
     "metadata": {},
     "output_type": "execute_result"
    }
   ],
   "source": [
    "# We create a list from 0 to 10 by 1 step\n",
    "list(range(0, 10, 1))"
   ]
  },
  {
   "cell_type": "code",
   "execution_count": 29,
   "id": "f623038b",
   "metadata": {},
   "outputs": [
    {
     "data": {
      "text/plain": [
       "array([0, 1, 2, 3, 4, 5, 6, 7, 8, 9])"
      ]
     },
     "execution_count": 29,
     "metadata": {},
     "output_type": "execute_result"
    }
   ],
   "source": [
    "# We create an array from 0 to 10 by 1 step\n",
    "np.arange(0,10,1)"
   ]
  },
  {
   "cell_type": "code",
   "execution_count": 30,
   "id": "059be170",
   "metadata": {},
   "outputs": [
    {
     "data": {
      "text/plain": [
       "array([ 2,  4,  6,  8, 10])"
      ]
     },
     "execution_count": 30,
     "metadata": {},
     "output_type": "execute_result"
    }
   ],
   "source": [
    "# Similarly, by 2 step\n",
    "np.arange(2, 11, 2)"
   ]
  },
  {
   "cell_type": "markdown",
   "id": "9768f9d0",
   "metadata": {},
   "source": [
    "You can also input a step at float type unlike range function which only expects integer."
   ]
  },
  {
   "cell_type": "code",
   "execution_count": 31,
   "id": "1ed4fa33",
   "metadata": {},
   "outputs": [
    {
     "data": {
      "text/plain": [
       "array([ 2. ,  2.5,  3. ,  3.5,  4. ,  4.5,  5. ,  5.5,  6. ,  6.5,  7. ,\n",
       "        7.5,  8. ,  8.5,  9. ,  9.5, 10. , 10.5])"
      ]
     },
     "execution_count": 31,
     "metadata": {},
     "output_type": "execute_result"
    }
   ],
   "source": [
    "np.arange(2, 11, 0.5)"
   ]
  },
  {
   "cell_type": "code",
   "execution_count": 32,
   "id": "7a950f65",
   "metadata": {},
   "outputs": [
    {
     "data": {
      "text/plain": [
       "array([ 2.,  3.,  4.,  5.,  6.,  7.,  8.,  9., 10.])"
      ]
     },
     "execution_count": 32,
     "metadata": {},
     "output_type": "execute_result"
    }
   ],
   "source": [
    "np.arange(2.0, 11.0, 1)"
   ]
  },
  {
   "cell_type": "markdown",
   "id": "aca7db32",
   "metadata": {},
   "source": [
    "### <a id='random'>Random Arrays</a>"
   ]
  },
  {
   "cell_type": "markdown",
   "id": "da376c6c",
   "metadata": {},
   "source": [
    "Creating \"randomized\" arrays is also feasible in NumPy. The below code shows the exemplary scenario with random library"
   ]
  },
  {
   "cell_type": "code",
   "execution_count": 33,
   "id": "e33ba06e",
   "metadata": {},
   "outputs": [
    {
     "data": {
      "text/plain": [
       "[1, 1, 6, 5, 14, 17, 1, 16, 1, 11]"
      ]
     },
     "execution_count": 33,
     "metadata": {},
     "output_type": "execute_result"
    }
   ],
   "source": [
    "from random import randint\n",
    "\n",
    "# We create a list with 10 \"random\" numbers in the range of 1 and 20\n",
    "xs = [randint(1, 20) for _ in range(10)]\n",
    "xs"
   ]
  },
  {
   "cell_type": "code",
   "execution_count": 34,
   "id": "e515037d",
   "metadata": {},
   "outputs": [
    {
     "data": {
      "text/plain": [
       "array([16, 17, 15, 12, 17, 16, 12,  2,  7, 10])"
      ]
     },
     "execution_count": 34,
     "metadata": {},
     "output_type": "execute_result"
    }
   ],
   "source": [
    "# Similarly, we create an array with 10 \"random\" numbers in the range of 1 and 20\n",
    "arr = np.random.randint(1, 20, 10)\n",
    "arr"
   ]
  },
  {
   "cell_type": "code",
   "execution_count": 35,
   "id": "d62c8f53",
   "metadata": {},
   "outputs": [
    {
     "data": {
      "text/plain": [
       "dtype('int32')"
      ]
     },
     "execution_count": 35,
     "metadata": {},
     "output_type": "execute_result"
    }
   ],
   "source": [
    "arr.dtype"
   ]
  },
  {
   "cell_type": "code",
   "execution_count": null,
   "id": "e35df2f8",
   "metadata": {},
   "outputs": [],
   "source": []
  },
  {
   "cell_type": "markdown",
   "id": "adf76831",
   "metadata": {},
   "source": [
    "## <a id='attributes'>Other Attributes</a>"
   ]
  },
  {
   "cell_type": "markdown",
   "id": "5485a61a",
   "metadata": {},
   "source": [
    "As we shortly introduced, **dtype** is an attribute in NumPy arrays. The following demonstrates some examples:\n",
    "- **dtype**: the data type of an array.\n",
    "- **shape**: the shape of an array. Until now, we only worked with 1d arrays\n",
    "- **ndim**: the number of dimensions. Again, we only worked with 1d arrays. \n",
    "- **size**: the size of an array. How many elements do you have in the array? \n",
    "- **nbytes**: the total memory captured by the array\n",
    "- **itemsize**: the memory captured by one element in the array\n"
   ]
  },
  {
   "cell_type": "code",
   "execution_count": 36,
   "id": "f18a6760",
   "metadata": {},
   "outputs": [
    {
     "name": "stdout",
     "output_type": "stream",
     "text": [
      "[[1, 2, 3], [4, 5, 6]]\n"
     ]
    }
   ],
   "source": [
    "# Here is a nested list to be converted to an array. The list contains 2 lists, each of which has 3 values\n",
    "xs = [\n",
    "    [1, 2, 3],\n",
    "    [4, 5, 6]\n",
    "]\n",
    "\n",
    "print(xs)"
   ]
  },
  {
   "cell_type": "code",
   "execution_count": 37,
   "id": "2b1b49ff",
   "metadata": {},
   "outputs": [
    {
     "name": "stdout",
     "output_type": "stream",
     "text": [
      "[[1 2 3]\n",
      " [4 5 6]]\n"
     ]
    }
   ],
   "source": [
    "arr = np.array(xs)\n",
    "print(arr)"
   ]
  },
  {
   "cell_type": "code",
   "execution_count": 38,
   "id": "69ead863",
   "metadata": {},
   "outputs": [
    {
     "data": {
      "text/plain": [
       "dtype('int32')"
      ]
     },
     "execution_count": 38,
     "metadata": {},
     "output_type": "execute_result"
    }
   ],
   "source": [
    "arr.dtype"
   ]
  },
  {
   "cell_type": "markdown",
   "id": "094899d5",
   "metadata": {},
   "source": [
    "2 lists and 3 values, so the shape is (2, 3)"
   ]
  },
  {
   "cell_type": "code",
   "execution_count": 39,
   "id": "3a9b4a3f",
   "metadata": {},
   "outputs": [
    {
     "data": {
      "text/plain": [
       "(2, 3)"
      ]
     },
     "execution_count": 39,
     "metadata": {},
     "output_type": "execute_result"
    }
   ],
   "source": [
    "arr.shape"
   ]
  },
  {
   "cell_type": "markdown",
   "id": "76218ee3",
   "metadata": {},
   "source": [
    "The number of dimensions is equal to the number of values in shape attribute. The shape of (2, 3) indicates 2 dimensions."
   ]
  },
  {
   "cell_type": "code",
   "execution_count": 40,
   "id": "b43d65b4",
   "metadata": {},
   "outputs": [
    {
     "data": {
      "text/plain": [
       "2"
      ]
     },
     "execution_count": 40,
     "metadata": {},
     "output_type": "execute_result"
    }
   ],
   "source": [
    "arr.ndim"
   ]
  },
  {
   "cell_type": "markdown",
   "id": "5a7d3e03",
   "metadata": {},
   "source": [
    "In total, we have 6 values"
   ]
  },
  {
   "cell_type": "code",
   "execution_count": 41,
   "id": "7b043d2b",
   "metadata": {},
   "outputs": [
    {
     "data": {
      "text/plain": [
       "6"
      ]
     },
     "execution_count": 41,
     "metadata": {},
     "output_type": "execute_result"
    }
   ],
   "source": [
    "arr.size"
   ]
  },
  {
   "cell_type": "markdown",
   "id": "baddb5bf",
   "metadata": {},
   "source": [
    "The following attribute provides how many bytes the array captures. In our case, it is 24 bytes."
   ]
  },
  {
   "cell_type": "code",
   "execution_count": 42,
   "id": "d7703a9b",
   "metadata": {},
   "outputs": [
    {
     "data": {
      "text/plain": [
       "24"
      ]
     },
     "execution_count": 42,
     "metadata": {},
     "output_type": "execute_result"
    }
   ],
   "source": [
    "arr.nbytes"
   ]
  },
  {
   "cell_type": "markdown",
   "id": "6c624112",
   "metadata": {},
   "source": [
    "Bytes of each element of the array is accessed by itemsize attribute. In our case, it is 4 bytes."
   ]
  },
  {
   "cell_type": "code",
   "execution_count": 43,
   "id": "f27b37c5",
   "metadata": {},
   "outputs": [
    {
     "data": {
      "text/plain": [
       "4"
      ]
     },
     "execution_count": 43,
     "metadata": {},
     "output_type": "execute_result"
    }
   ],
   "source": [
    "arr.itemsize"
   ]
  },
  {
   "cell_type": "markdown",
   "id": "5d9a093d",
   "metadata": {},
   "source": [
    "Notice how nbytes corresponds to the multiplication of itemsize by size."
   ]
  },
  {
   "cell_type": "code",
   "execution_count": 44,
   "id": "468598cc",
   "metadata": {},
   "outputs": [
    {
     "name": "stdout",
     "output_type": "stream",
     "text": [
      "Estimated the memory consumed by the array: 24\n",
      "Actual memory: 24\n"
     ]
    }
   ],
   "source": [
    "print('Estimated the memory consumed by the array:', arr.size * arr.itemsize)\n",
    "print('Actual memory:', arr.nbytes)"
   ]
  },
  {
   "cell_type": "markdown",
   "id": "99fb3d0f",
   "metadata": {},
   "source": [
    "After the gentle introduction, we will continue with [NumPy documentation](https://numpy.org/doc/1.26/). Throughout the rest of the notebook, you will read about many functions cateogorized with the corresponding references to the docs."
   ]
  },
  {
   "cell_type": "markdown",
   "id": "eaeefb2d",
   "metadata": {},
   "source": [
    "# <a id='math'>Mathematical Functions</a>"
   ]
  },
  {
   "cell_type": "markdown",
   "id": "93c101b4",
   "metadata": {},
   "source": [
    "[reference](https://numpy.org/doc/stable/reference/routines.math.html)\n",
    "\n",
    "Functions to cover:\n",
    "* add - adding two arrays\n",
    "* subtract - subtracting one array from another\n",
    "* multiply - multiplying two arrays\n",
    "* divide - dividing one array by another\n",
    "* sum - summing all elements of the array\n",
    "* prod - getting product of all elements of the array\n",
    "* max - getting the maximum value from the array\n",
    "* min - getting the minimum value from the array"
   ]
  },
  {
   "cell_type": "markdown",
   "id": "d2b4b015",
   "metadata": {},
   "source": [
    "They are simply what their names suggest. Add functions is to add 2 arrays, for instance. Let's create a couple of randomized arrays and apply the above functions."
   ]
  },
  {
   "cell_type": "code",
   "execution_count": 45,
   "id": "b74567e7",
   "metadata": {},
   "outputs": [],
   "source": [
    "arr1 = np.random.randint(1, 10, size = 5)\n",
    "arr2 = np.random.randint(1, 10, size = 5)"
   ]
  },
  {
   "cell_type": "code",
   "execution_count": 46,
   "id": "a18f5e98",
   "metadata": {},
   "outputs": [
    {
     "data": {
      "text/plain": [
       "array([6, 6, 3, 5, 6])"
      ]
     },
     "execution_count": 46,
     "metadata": {},
     "output_type": "execute_result"
    }
   ],
   "source": [
    "arr1"
   ]
  },
  {
   "cell_type": "code",
   "execution_count": 47,
   "id": "899cb18b",
   "metadata": {},
   "outputs": [
    {
     "data": {
      "text/plain": [
       "array([7, 3, 3, 4, 5])"
      ]
     },
     "execution_count": 47,
     "metadata": {},
     "output_type": "execute_result"
    }
   ],
   "source": [
    "arr2"
   ]
  },
  {
   "cell_type": "code",
   "execution_count": 32,
   "id": "24b146e0",
   "metadata": {},
   "outputs": [
    {
     "data": {
      "text/plain": [
       "array([ 6, 11, 12, 14,  4])"
      ]
     },
     "execution_count": 32,
     "metadata": {},
     "output_type": "execute_result"
    }
   ],
   "source": [
    "# element-wise addition\n",
    "np.add(arr1, arr2)"
   ]
  },
  {
   "cell_type": "code",
   "execution_count": 33,
   "id": "8189d96c",
   "metadata": {},
   "outputs": [
    {
     "data": {
      "text/plain": [
       "array([-4, -7, -6, -4, -2])"
      ]
     },
     "execution_count": 33,
     "metadata": {},
     "output_type": "execute_result"
    }
   ],
   "source": [
    "# element-wise subtraction\n",
    "np.subtract(arr1, arr2)"
   ]
  },
  {
   "cell_type": "code",
   "execution_count": 34,
   "id": "e7a91cf4",
   "metadata": {},
   "outputs": [
    {
     "data": {
      "text/plain": [
       "array([ 5, 18, 27, 45,  3])"
      ]
     },
     "execution_count": 34,
     "metadata": {},
     "output_type": "execute_result"
    }
   ],
   "source": [
    "# element-wise multiplication\n",
    "np.multiply(arr1, arr2)"
   ]
  },
  {
   "cell_type": "code",
   "execution_count": 35,
   "id": "8f98691e",
   "metadata": {},
   "outputs": [
    {
     "data": {
      "text/plain": [
       "array([0.2       , 0.22222222, 0.33333333, 0.55555556, 0.33333333])"
      ]
     },
     "execution_count": 35,
     "metadata": {},
     "output_type": "execute_result"
    }
   ],
   "source": [
    "# element-wise divison\n",
    "np.divide(arr1, arr2)"
   ]
  },
  {
   "cell_type": "markdown",
   "id": "31428a96",
   "metadata": {},
   "source": [
    "Of course, there is another way to do the same, which is quite easier to write down."
   ]
  },
  {
   "cell_type": "code",
   "execution_count": 36,
   "id": "6a79d1b7",
   "metadata": {},
   "outputs": [
    {
     "data": {
      "text/plain": [
       "array([ 6, 11, 12, 14,  4])"
      ]
     },
     "execution_count": 36,
     "metadata": {},
     "output_type": "execute_result"
    }
   ],
   "source": [
    "arr1 + arr2"
   ]
  },
  {
   "cell_type": "code",
   "execution_count": 37,
   "id": "2792eb5a",
   "metadata": {},
   "outputs": [
    {
     "data": {
      "text/plain": [
       "array([-4, -7, -6, -4, -2])"
      ]
     },
     "execution_count": 37,
     "metadata": {},
     "output_type": "execute_result"
    }
   ],
   "source": [
    "arr1 - arr2"
   ]
  },
  {
   "cell_type": "code",
   "execution_count": 38,
   "id": "daaa46ad",
   "metadata": {},
   "outputs": [
    {
     "data": {
      "text/plain": [
       "array([ 5, 18, 27, 45,  3])"
      ]
     },
     "execution_count": 38,
     "metadata": {},
     "output_type": "execute_result"
    }
   ],
   "source": [
    "arr1 * arr2"
   ]
  },
  {
   "cell_type": "code",
   "execution_count": 39,
   "id": "7f60b345",
   "metadata": {},
   "outputs": [
    {
     "data": {
      "text/plain": [
       "array([0.2       , 0.22222222, 0.33333333, 0.55555556, 0.33333333])"
      ]
     },
     "execution_count": 39,
     "metadata": {},
     "output_type": "execute_result"
    }
   ],
   "source": [
    "arr1 / arr2"
   ]
  },
  {
   "cell_type": "markdown",
   "id": "8bc98608",
   "metadata": {},
   "source": [
    "The above syntax is feasible in NumPy arrays and return the exact output of previous functions."
   ]
  },
  {
   "cell_type": "markdown",
   "id": "dabeb0d2",
   "metadata": {},
   "source": [
    "The other functions are used as follows."
   ]
  },
  {
   "cell_type": "code",
   "execution_count": 40,
   "id": "dc476c47",
   "metadata": {},
   "outputs": [
    {
     "data": {
      "text/plain": [
       "array([1, 2, 3, 5, 1])"
      ]
     },
     "execution_count": 40,
     "metadata": {},
     "output_type": "execute_result"
    }
   ],
   "source": [
    "arr1"
   ]
  },
  {
   "cell_type": "code",
   "execution_count": 41,
   "id": "7ad00ebf",
   "metadata": {},
   "outputs": [
    {
     "data": {
      "text/plain": [
       "12"
      ]
     },
     "execution_count": 41,
     "metadata": {},
     "output_type": "execute_result"
    }
   ],
   "source": [
    "np.sum(arr1)"
   ]
  },
  {
   "cell_type": "code",
   "execution_count": 42,
   "id": "f50c59f0",
   "metadata": {},
   "outputs": [
    {
     "data": {
      "text/plain": [
       "30"
      ]
     },
     "execution_count": 42,
     "metadata": {},
     "output_type": "execute_result"
    }
   ],
   "source": [
    "np.prod(arr1)"
   ]
  },
  {
   "cell_type": "code",
   "execution_count": 43,
   "id": "e433ddfb",
   "metadata": {},
   "outputs": [
    {
     "data": {
      "text/plain": [
       "5"
      ]
     },
     "execution_count": 43,
     "metadata": {},
     "output_type": "execute_result"
    }
   ],
   "source": [
    "np.max(arr1)"
   ]
  },
  {
   "cell_type": "code",
   "execution_count": 44,
   "id": "340575d6",
   "metadata": {},
   "outputs": [
    {
     "data": {
      "text/plain": [
       "1"
      ]
     },
     "execution_count": 44,
     "metadata": {},
     "output_type": "execute_result"
    }
   ],
   "source": [
    "np.min(arr1)"
   ]
  },
  {
   "cell_type": "markdown",
   "id": "7cb78555",
   "metadata": {},
   "source": [
    "# <a id='manipulation'>Array Manipulation Routines</a>"
   ]
  },
  {
   "cell_type": "markdown",
   "id": "602796b7",
   "metadata": {},
   "source": [
    "[reference](https://numpy.org/doc/stable/reference/routines.array-manipulation.html)\n",
    "\n",
    "Functions to cover:\n",
    "* reshape\n",
    "* concatenate\n",
    "* transpose"
   ]
  },
  {
   "cell_type": "markdown",
   "id": "58b47c12",
   "metadata": {},
   "source": [
    "## <a id='reshape'>Reshape</a>"
   ]
  },
  {
   "cell_type": "markdown",
   "id": "6411212e",
   "metadata": {},
   "source": [
    "We created the following array previously to understand a different point of view concerning dimensions. But what if I want the shape of (3, 2) instead of (2, 3) with the same elements and order? Let's check it out manually!"
   ]
  },
  {
   "cell_type": "code",
   "execution_count": 45,
   "id": "84e9e4b5",
   "metadata": {},
   "outputs": [
    {
     "name": "stdout",
     "output_type": "stream",
     "text": [
      "array:\n",
      "[[1 2 3]\n",
      " [4 5 6]]\n",
      "\n",
      "Shape: (2, 3)\n"
     ]
    }
   ],
   "source": [
    "xs = [\n",
    "    [1, 2, 3],\n",
    "    [4, 5, 6]\n",
    "]\n",
    "\n",
    "arr = np.array(xs)\n",
    "print(\"array:\")\n",
    "print(arr)\n",
    "print()\n",
    "print(\"Shape:\", arr.shape)"
   ]
  },
  {
   "cell_type": "code",
   "execution_count": 46,
   "id": "02890c86",
   "metadata": {},
   "outputs": [
    {
     "name": "stdout",
     "output_type": "stream",
     "text": [
      "array:\n",
      "[[1 2]\n",
      " [3 4]\n",
      " [5 6]]\n",
      "\n",
      "Shape: (3, 2)\n"
     ]
    }
   ],
   "source": [
    "xs = [\n",
    "    [1, 2],\n",
    "    [3, 4],\n",
    "    [5, 6]\n",
    "]\n",
    "\n",
    "\n",
    "arr = np.array(xs)\n",
    "print(\"array:\")\n",
    "print(arr)\n",
    "print()\n",
    "print(\"Shape:\", arr.shape)"
   ]
  },
  {
   "cell_type": "markdown",
   "id": "47ea6859",
   "metadata": {},
   "source": [
    "It is like rearranging all the elements in the same sequence and combining them together at different shape. There is a useful function to do so."
   ]
  },
  {
   "cell_type": "code",
   "execution_count": 47,
   "id": "d62f0ae4",
   "metadata": {},
   "outputs": [
    {
     "data": {
      "text/plain": [
       "array([[1, 2],\n",
       "       [3, 4],\n",
       "       [5, 6]])"
      ]
     },
     "execution_count": 47,
     "metadata": {},
     "output_type": "execute_result"
    }
   ],
   "source": [
    "arr"
   ]
  },
  {
   "cell_type": "code",
   "execution_count": 48,
   "id": "d06c036b",
   "metadata": {},
   "outputs": [
    {
     "data": {
      "text/plain": [
       "(3, 2)"
      ]
     },
     "execution_count": 48,
     "metadata": {},
     "output_type": "execute_result"
    }
   ],
   "source": [
    "arr.shape"
   ]
  },
  {
   "cell_type": "code",
   "execution_count": 49,
   "id": "950340c8",
   "metadata": {},
   "outputs": [
    {
     "data": {
      "text/plain": [
       "array([[1, 2, 3],\n",
       "       [4, 5, 6]])"
      ]
     },
     "execution_count": 49,
     "metadata": {},
     "output_type": "execute_result"
    }
   ],
   "source": [
    "arr.reshape(2, 3)"
   ]
  },
  {
   "cell_type": "markdown",
   "id": "3f20e721",
   "metadata": {},
   "source": [
    "reshape function returns a new array. So again it is crucial to assign it to a new variable."
   ]
  },
  {
   "cell_type": "code",
   "execution_count": 50,
   "id": "2e1f7eed",
   "metadata": {},
   "outputs": [
    {
     "name": "stdout",
     "output_type": "stream",
     "text": [
      "Previou shape: (3, 2)\n",
      "Final shape: (2, 3)\n"
     ]
    }
   ],
   "source": [
    "print(\"Previou shape:\", arr.shape)\n",
    "arr = arr.reshape(2, 3)\n",
    "print(\"Final shape:\", arr.shape)"
   ]
  },
  {
   "cell_type": "markdown",
   "id": "e0c57623",
   "metadata": {},
   "source": [
    "## <a id='concatenate'>Concatenate</a>"
   ]
  },
  {
   "cell_type": "markdown",
   "id": "66b8b3b0",
   "metadata": {},
   "source": [
    "Imagine you have a couple of lists and you want to have just one list combining these separate lists. To manage this, we use a technique in Python called concatenation."
   ]
  },
  {
   "cell_type": "code",
   "execution_count": 51,
   "id": "07e4f23b",
   "metadata": {},
   "outputs": [],
   "source": [
    "xs = [1, 5, 17]\n",
    "ys = [38, 18, 5]\n",
    "\n",
    "zs = xs + ys"
   ]
  },
  {
   "cell_type": "code",
   "execution_count": 52,
   "id": "a6265c52",
   "metadata": {},
   "outputs": [
    {
     "data": {
      "text/plain": [
       "[1, 5, 17, 38, 18, 5]"
      ]
     },
     "execution_count": 52,
     "metadata": {},
     "output_type": "execute_result"
    }
   ],
   "source": [
    "# We combined lists to get this\n",
    "zs"
   ]
  },
  {
   "cell_type": "markdown",
   "id": "11316552",
   "metadata": {},
   "source": [
    "It is not just about lists. You can do the same with string and tuples, but it is out of the context. So, let's apply the similar syntax with NumPy."
   ]
  },
  {
   "cell_type": "code",
   "execution_count": 53,
   "id": "6f1c98c9",
   "metadata": {},
   "outputs": [],
   "source": [
    "arr1 = np.array([1, 5, 17])\n",
    "arr2 = np.array([38, 18, 5])"
   ]
  },
  {
   "cell_type": "code",
   "execution_count": 54,
   "id": "feda4f65",
   "metadata": {},
   "outputs": [
    {
     "data": {
      "text/plain": [
       "array([39, 23, 22])"
      ]
     },
     "execution_count": 54,
     "metadata": {},
     "output_type": "execute_result"
    }
   ],
   "source": [
    "arr1 + arr2"
   ]
  },
  {
   "cell_type": "markdown",
   "id": "318c5e02",
   "metadata": {},
   "source": [
    "As already covered previously, it isn't concatenation but addition in NumPy arrays. To concatenate two different arrays into one single array, we use concatenate function. "
   ]
  },
  {
   "cell_type": "code",
   "execution_count": 55,
   "id": "3b8c7a57",
   "metadata": {},
   "outputs": [
    {
     "data": {
      "text/plain": [
       "array([ 1,  5, 17, 38, 18,  5])"
      ]
     },
     "execution_count": 55,
     "metadata": {},
     "output_type": "execute_result"
    }
   ],
   "source": [
    "np.concatenate([arr1, arr2])"
   ]
  },
  {
   "cell_type": "code",
   "execution_count": 56,
   "id": "dfdb22cd",
   "metadata": {},
   "outputs": [
    {
     "data": {
      "text/plain": [
       "array([ 1,  5, 17, 38, 18,  5])"
      ]
     },
     "execution_count": 56,
     "metadata": {},
     "output_type": "execute_result"
    }
   ],
   "source": [
    "# or\n",
    "np.concatenate((arr1, arr2))"
   ]
  },
  {
   "cell_type": "markdown",
   "id": "b66d4618",
   "metadata": {},
   "source": [
    "You might notice the function expects a collection of arrays to concatenate. The above examples show a tuple or list of arrays. I personally prefer introducing a tuple of arrays but you are free to choose one. To avoid confusion due to double brackets, I will merely consider the list of arrays. Let's just have another example!"
   ]
  },
  {
   "cell_type": "code",
   "execution_count": 57,
   "id": "7aadf3fe",
   "metadata": {},
   "outputs": [],
   "source": [
    "arr1 = np.random.randint(1, 20, size = 5)\n",
    "arr2 = np.random.randint(1, 20, size = 3)\n",
    "arr3 = np.random.randint(1, 20, size = 2)\n",
    "arr4 = np.random.randint(1, 20, size = 6)\n",
    "arr5 = np.random.randint(1, 20, size = 7)"
   ]
  },
  {
   "cell_type": "code",
   "execution_count": 58,
   "id": "0fc56f65",
   "metadata": {},
   "outputs": [
    {
     "data": {
      "text/plain": [
       "array([ 4,  1, 17, 10, 11,  5, 10,  2, 15, 16,  8, 14,  4, 14,  8, 18, 16,\n",
       "       17, 10,  9,  8,  2,  5])"
      ]
     },
     "execution_count": 58,
     "metadata": {},
     "output_type": "execute_result"
    }
   ],
   "source": [
    "newarr = np.concatenate(\n",
    "    [arr1, arr2, arr3, arr4, arr5]\n",
    ")\n",
    "newarr"
   ]
  },
  {
   "cell_type": "code",
   "execution_count": 59,
   "id": "ab0049e5",
   "metadata": {},
   "outputs": [
    {
     "data": {
      "text/plain": [
       "(23,)"
      ]
     },
     "execution_count": 59,
     "metadata": {},
     "output_type": "execute_result"
    }
   ],
   "source": [
    "newarr.shape"
   ]
  },
  {
   "cell_type": "markdown",
   "id": "b720d1d5",
   "metadata": {},
   "source": [
    "We created 5 randomly generated arrays at different sizes and combined them into one single array. "
   ]
  },
  {
   "cell_type": "markdown",
   "id": "bd8163ec",
   "metadata": {},
   "source": [
    "We will be covering concatenating multi-dimensional arrays as well in further tutorials. \n",
    "\n",
    "Key word for you before that tutorial: axis in NumPy"
   ]
  },
  {
   "cell_type": "markdown",
   "id": "bb7823f7",
   "metadata": {},
   "source": [
    "## <a id='transpose'>Transpose</a>"
   ]
  },
  {
   "cell_type": "markdown",
   "id": "7a6d96b9",
   "metadata": {},
   "source": [
    "Usually NumPy arrays have a **T** attribute by default, giving access to the transposed version of the array."
   ]
  },
  {
   "cell_type": "code",
   "execution_count": 60,
   "id": "4ddb4e6c",
   "metadata": {},
   "outputs": [],
   "source": [
    "arr = np.arange(1, 21)\n",
    "arr = arr.reshape(5, 4)"
   ]
  },
  {
   "cell_type": "code",
   "execution_count": 61,
   "id": "091e032a",
   "metadata": {},
   "outputs": [
    {
     "data": {
      "text/plain": [
       "array([[ 1,  2,  3,  4],\n",
       "       [ 5,  6,  7,  8],\n",
       "       [ 9, 10, 11, 12],\n",
       "       [13, 14, 15, 16],\n",
       "       [17, 18, 19, 20]])"
      ]
     },
     "execution_count": 61,
     "metadata": {},
     "output_type": "execute_result"
    }
   ],
   "source": [
    "arr"
   ]
  },
  {
   "cell_type": "code",
   "execution_count": 62,
   "id": "a88f00ea",
   "metadata": {},
   "outputs": [
    {
     "data": {
      "text/plain": [
       "array([[ 1,  5,  9, 13, 17],\n",
       "       [ 2,  6, 10, 14, 18],\n",
       "       [ 3,  7, 11, 15, 19],\n",
       "       [ 4,  8, 12, 16, 20]])"
      ]
     },
     "execution_count": 62,
     "metadata": {},
     "output_type": "execute_result"
    }
   ],
   "source": [
    "# Transpose of the matrix\n",
    "arr.T"
   ]
  },
  {
   "cell_type": "code",
   "execution_count": 63,
   "id": "311d0d4c",
   "metadata": {},
   "outputs": [
    {
     "data": {
      "text/plain": [
       "(5, 4)"
      ]
     },
     "execution_count": 63,
     "metadata": {},
     "output_type": "execute_result"
    }
   ],
   "source": [
    "arr.shape"
   ]
  },
  {
   "cell_type": "code",
   "execution_count": 64,
   "id": "ce34f5b1",
   "metadata": {},
   "outputs": [
    {
     "data": {
      "text/plain": [
       "(4, 5)"
      ]
     },
     "execution_count": 64,
     "metadata": {},
     "output_type": "execute_result"
    }
   ],
   "source": [
    "arr.T.shape"
   ]
  },
  {
   "cell_type": "markdown",
   "id": "f7798124",
   "metadata": {},
   "source": [
    "NOTE: DO NOT CONFUSE TRANSPOSE WITH RESHAPE! THEY ARE NATURALLY AND COMPLETELY DIFFERENT."
   ]
  },
  {
   "cell_type": "markdown",
   "id": "68f0698f",
   "metadata": {},
   "source": [
    "Reshaping is reordering the sequence based on horizontal arrangement of the array elements. Transpose is like rotating the array around the diagonal.\n",
    "\n",
    "Check the below example."
   ]
  },
  {
   "cell_type": "code",
   "execution_count": 65,
   "id": "129597b9",
   "metadata": {},
   "outputs": [
    {
     "data": {
      "text/plain": [
       "array([[ 1,  2,  3,  4],\n",
       "       [ 5,  6,  7,  8],\n",
       "       [ 9, 10, 11, 12]])"
      ]
     },
     "execution_count": 65,
     "metadata": {},
     "output_type": "execute_result"
    }
   ],
   "source": [
    "arr = np.arange(1, 13)\n",
    "arr = arr.reshape(3, 4)\n",
    "arr"
   ]
  },
  {
   "cell_type": "code",
   "execution_count": 66,
   "id": "0d24256f",
   "metadata": {},
   "outputs": [
    {
     "data": {
      "text/plain": [
       "(3, 4)"
      ]
     },
     "execution_count": 66,
     "metadata": {},
     "output_type": "execute_result"
    }
   ],
   "source": [
    "arr.shape"
   ]
  },
  {
   "cell_type": "markdown",
   "id": "6dc31d04",
   "metadata": {},
   "source": [
    "Let's reshape it!"
   ]
  },
  {
   "cell_type": "code",
   "execution_count": 67,
   "id": "870a3ca0",
   "metadata": {},
   "outputs": [
    {
     "data": {
      "text/plain": [
       "array([[ 1,  2,  3],\n",
       "       [ 4,  5,  6],\n",
       "       [ 7,  8,  9],\n",
       "       [10, 11, 12]])"
      ]
     },
     "execution_count": 67,
     "metadata": {},
     "output_type": "execute_result"
    }
   ],
   "source": [
    "arr_reshaped = arr.reshape(4, 3)\n",
    "arr_reshaped"
   ]
  },
  {
   "cell_type": "markdown",
   "id": "0f4cc130",
   "metadata": {},
   "source": [
    "Let's get transpose!"
   ]
  },
  {
   "cell_type": "code",
   "execution_count": 68,
   "id": "70990197",
   "metadata": {},
   "outputs": [
    {
     "data": {
      "text/plain": [
       "array([[ 1,  5,  9],\n",
       "       [ 2,  6, 10],\n",
       "       [ 3,  7, 11],\n",
       "       [ 4,  8, 12]])"
      ]
     },
     "execution_count": 68,
     "metadata": {},
     "output_type": "execute_result"
    }
   ],
   "source": [
    "arr_transpose = arr.T\n",
    "arr_transpose"
   ]
  },
  {
   "cell_type": "code",
   "execution_count": 69,
   "id": "31b7b1d6",
   "metadata": {},
   "outputs": [
    {
     "name": "stdout",
     "output_type": "stream",
     "text": [
      "The shape of reshaped array: (4, 3)\n",
      "The shape of transpose array: (4, 3)\n"
     ]
    }
   ],
   "source": [
    "print(\"The shape of reshaped array:\", arr_reshaped.shape)\n",
    "print(\"The shape of transpose array:\", arr_transpose.shape)"
   ]
  },
  {
   "cell_type": "markdown",
   "id": "7cabaecf",
   "metadata": {},
   "source": [
    "Both of new arrays have the same shape, but when you look at values closely, you will observe their arrangements are different. Transpose array does not maintain the order of 1-12 through the horizontal sequence unlike reshaped array. Instead, via vertical axis, we see 1-12 arrangement is preserved. It is because we made the matrix dance around its diagonal."
   ]
  },
  {
   "cell_type": "markdown",
   "id": "128ac614",
   "metadata": {},
   "source": [
    "For the record, transpose will help us to implement easier optimization of ML model in the future."
   ]
  },
  {
   "cell_type": "markdown",
   "id": "630d4b3e",
   "metadata": {},
   "source": [
    "It would be good for you if you keep in mind that there is transpose function available in NumPy."
   ]
  },
  {
   "cell_type": "code",
   "execution_count": 70,
   "id": "5300cdf0",
   "metadata": {},
   "outputs": [
    {
     "data": {
      "text/plain": [
       "array([[ 1,  5,  9],\n",
       "       [ 2,  6, 10],\n",
       "       [ 3,  7, 11],\n",
       "       [ 4,  8, 12]])"
      ]
     },
     "execution_count": 70,
     "metadata": {},
     "output_type": "execute_result"
    }
   ],
   "source": [
    "arr.transpose()"
   ]
  },
  {
   "cell_type": "code",
   "execution_count": 71,
   "id": "ebe9923a",
   "metadata": {},
   "outputs": [
    {
     "data": {
      "text/plain": [
       "array([[ 1,  5,  9],\n",
       "       [ 2,  6, 10],\n",
       "       [ 3,  7, 11],\n",
       "       [ 4,  8, 12]])"
      ]
     },
     "execution_count": 71,
     "metadata": {},
     "output_type": "execute_result"
    }
   ],
   "source": [
    "np.transpose(arr)"
   ]
  },
  {
   "cell_type": "markdown",
   "id": "8c9184d5",
   "metadata": {},
   "source": [
    "I am not diving into more details, but, please, note that this function is extremely useful when you are dealing with multi-dimensional arrays starting from 3D. How could you transpose 3D or more dimensional arrays?"
   ]
  },
  {
   "cell_type": "markdown",
   "id": "d0b0eac6",
   "metadata": {},
   "source": [
    "# <a id='indexing'>Indexing on ndarrays</a>"
   ]
  },
  {
   "cell_type": "markdown",
   "id": "e71d443c",
   "metadata": {},
   "source": [
    "[reference](https://numpy.org/doc/stable/user/basics.indexing.html)"
   ]
  },
  {
   "cell_type": "markdown",
   "id": "917a2066",
   "metadata": {},
   "source": [
    "Just like in the list, we do the same approach in 1D array to do indexing."
   ]
  },
  {
   "cell_type": "code",
   "execution_count": 1,
   "id": "acb2ba94",
   "metadata": {},
   "outputs": [
    {
     "name": "stdout",
     "output_type": "stream",
     "text": [
      "1\n",
      "5\n",
      "10\n"
     ]
    }
   ],
   "source": [
    "xs = [1, 5, 10, 4, 2, 18, 20, 13, 0, 19]\n",
    "\n",
    "print(xs[0])\n",
    "print(xs[1])\n",
    "print(xs[2])"
   ]
  },
  {
   "cell_type": "markdown",
   "id": "7bf36633",
   "metadata": {},
   "source": [
    "Let's convert it into the array."
   ]
  },
  {
   "cell_type": "code",
   "execution_count": 7,
   "id": "d2b80973",
   "metadata": {
    "scrolled": true
   },
   "outputs": [
    {
     "name": "stdout",
     "output_type": "stream",
     "text": [
      "1\n",
      "5\n",
      "10\n"
     ]
    }
   ],
   "source": [
    "arr = np.array(xs)\n",
    "\n",
    "print(arr[0])\n",
    "print(arr[1])\n",
    "print(arr[2])"
   ]
  },
  {
   "cell_type": "markdown",
   "id": "e9610805",
   "metadata": {},
   "source": [
    "One advantage of NumPy arrays is that you can call multiple indexes once. Let's say I want to get the above indexes."
   ]
  },
  {
   "cell_type": "code",
   "execution_count": 74,
   "id": "30e5bf6b",
   "metadata": {
    "scrolled": true
   },
   "outputs": [
    {
     "data": {
      "text/plain": [
       "array([ 1,  5, 10])"
      ]
     },
     "execution_count": 74,
     "metadata": {},
     "output_type": "execute_result"
    }
   ],
   "source": [
    "# Just don't forget double brackets. We input the list of indexes to be called.\n",
    "arr[[0, 1, 2]]"
   ]
  },
  {
   "cell_type": "code",
   "execution_count": 8,
   "id": "c942ade9",
   "metadata": {},
   "outputs": [
    {
     "data": {
      "text/plain": [
       "array([ 1,  5, 10])"
      ]
     },
     "execution_count": 8,
     "metadata": {},
     "output_type": "execute_result"
    }
   ],
   "source": [
    "# or\n",
    "indexes = [0, 1, 2]\n",
    "arr[indexes]"
   ]
  },
  {
   "cell_type": "code",
   "execution_count": 10,
   "id": "bd52eacd",
   "metadata": {
    "scrolled": true
   },
   "outputs": [
    {
     "ename": "IndexError",
     "evalue": "too many indices for array: array is 1-dimensional, but 3 were indexed",
     "output_type": "error",
     "traceback": [
      "\u001b[1;31m---------------------------------------------------------------------------\u001b[0m",
      "\u001b[1;31mIndexError\u001b[0m                                Traceback (most recent call last)",
      "Cell \u001b[1;32mIn [10], line 3\u001b[0m\n\u001b[0;32m      1\u001b[0m \u001b[38;5;66;03m# The syntax with tuple is wrong.\u001b[39;00m\n\u001b[0;32m      2\u001b[0m indexes \u001b[38;5;241m=\u001b[39m (\u001b[38;5;241m0\u001b[39m, \u001b[38;5;241m1\u001b[39m, \u001b[38;5;241m2\u001b[39m)\n\u001b[1;32m----> 3\u001b[0m arr[indexes]\n",
      "\u001b[1;31mIndexError\u001b[0m: too many indices for array: array is 1-dimensional, but 3 were indexed"
     ]
    }
   ],
   "source": [
    "# The syntax with tuple is wrong.\n",
    "indexes = (0, 1, 2)\n",
    "arr[indexes]"
   ]
  },
  {
   "cell_type": "markdown",
   "id": "29819595",
   "metadata": {},
   "source": [
    "The slicing is also the same in 1d arrays."
   ]
  },
  {
   "cell_type": "code",
   "execution_count": 76,
   "id": "960a82ed",
   "metadata": {},
   "outputs": [
    {
     "data": {
      "text/plain": [
       "[1, 5, 10]"
      ]
     },
     "execution_count": 76,
     "metadata": {},
     "output_type": "execute_result"
    }
   ],
   "source": [
    "xs[0:3]"
   ]
  },
  {
   "cell_type": "code",
   "execution_count": 77,
   "id": "115877ff",
   "metadata": {},
   "outputs": [
    {
     "data": {
      "text/plain": [
       "array([ 1,  5, 10])"
      ]
     },
     "execution_count": 77,
     "metadata": {},
     "output_type": "execute_result"
    }
   ],
   "source": [
    "arr[0:3]"
   ]
  },
  {
   "cell_type": "markdown",
   "id": "b4a87b23",
   "metadata": {},
   "source": [
    "Slicing with step."
   ]
  },
  {
   "cell_type": "code",
   "execution_count": 78,
   "id": "2c4b7f48",
   "metadata": {},
   "outputs": [
    {
     "data": {
      "text/plain": [
       "[5, 4, 18, 13]"
      ]
     },
     "execution_count": 78,
     "metadata": {},
     "output_type": "execute_result"
    }
   ],
   "source": [
    "xs[1:9:2]"
   ]
  },
  {
   "cell_type": "code",
   "execution_count": 79,
   "id": "c03b6b36",
   "metadata": {},
   "outputs": [
    {
     "data": {
      "text/plain": [
       "array([ 5,  4, 18, 13])"
      ]
     },
     "execution_count": 79,
     "metadata": {},
     "output_type": "execute_result"
    }
   ],
   "source": [
    "arr[1:9:2]"
   ]
  },
  {
   "cell_type": "markdown",
   "id": "b1de8b32",
   "metadata": {},
   "source": [
    "What if we have ndarray instead of just 1d array?"
   ]
  },
  {
   "cell_type": "code",
   "execution_count": 13,
   "id": "2481ec86",
   "metadata": {},
   "outputs": [
    {
     "data": {
      "text/plain": [
       "array([[ 1,  2,  3,  4,  5],\n",
       "       [ 6,  7,  8,  9, 10],\n",
       "       [11, 12, 13, 14, 15],\n",
       "       [16, 17, 18, 19, 20]])"
      ]
     },
     "execution_count": 13,
     "metadata": {},
     "output_type": "execute_result"
    }
   ],
   "source": [
    "arr = np.arange(1, 21).reshape(4, 5)\n",
    "arr"
   ]
  },
  {
   "cell_type": "markdown",
   "id": "81dbbd46",
   "metadata": {},
   "source": [
    "Let's just first understand what we get when we call 0th index."
   ]
  },
  {
   "cell_type": "code",
   "execution_count": 81,
   "id": "18d6c14e",
   "metadata": {},
   "outputs": [
    {
     "data": {
      "text/plain": [
       "array([1, 2, 3, 4, 5])"
      ]
     },
     "execution_count": 81,
     "metadata": {},
     "output_type": "execute_result"
    }
   ],
   "source": [
    "arr[0]"
   ]
  },
  {
   "cell_type": "markdown",
   "id": "cb0575ff",
   "metadata": {},
   "source": [
    "0th index returns a new 1d array from the 2d array, which is the first row in the matrix. \n",
    "\n",
    "Can we also get number 4 from this array? Similarly, we do the below."
   ]
  },
  {
   "cell_type": "code",
   "execution_count": 82,
   "id": "62deff28",
   "metadata": {},
   "outputs": [
    {
     "data": {
      "text/plain": [
       "4"
      ]
     },
     "execution_count": 82,
     "metadata": {},
     "output_type": "execute_result"
    }
   ],
   "source": [
    "newarr = arr[0]\n",
    "newarr[3]"
   ]
  },
  {
   "cell_type": "code",
   "execution_count": 83,
   "id": "5022819c",
   "metadata": {},
   "outputs": [
    {
     "data": {
      "text/plain": [
       "4"
      ]
     },
     "execution_count": 83,
     "metadata": {},
     "output_type": "execute_result"
    }
   ],
   "source": [
    "# or\n",
    "arr[0][3]"
   ]
  },
  {
   "cell_type": "markdown",
   "id": "75488b85",
   "metadata": {},
   "source": [
    "It might remind you a nested list - the list containing list(s) where we call values from the list in this way. However, NumPy offers a different way of indexing, too."
   ]
  },
  {
   "cell_type": "code",
   "execution_count": 84,
   "id": "72a93cb3",
   "metadata": {},
   "outputs": [
    {
     "data": {
      "text/plain": [
       "4"
      ]
     },
     "execution_count": 84,
     "metadata": {},
     "output_type": "execute_result"
    }
   ],
   "source": [
    "arr[0, 3]"
   ]
  },
  {
   "cell_type": "markdown",
   "id": "ffc029d9",
   "metadata": {},
   "source": [
    "You just put a comma and it returns what you need. \n",
    "\n",
    "In a mathematical form, assuming the matrix A, you should probably notate, as shown in the below picture, to call that value."
   ]
  },
  {
   "attachments": {
    "notation.png": {
     "image/png": "[encoded data removed]"
    }
   },
   "cell_type": "markdown",
   "id": "0a8d338c",
   "metadata": {},
   "source": [
    "![notation.png](attachment:notation.png)"
   ]
  },
  {
   "cell_type": "markdown",
   "id": "f63cef83",
   "metadata": {},
   "source": [
    "You will notice that Python expects indexing starts at 0, offering subtraction of mathematically notated indexes from 1 to precisely call values.  "
   ]
  },
  {
   "cell_type": "markdown",
   "id": "3acd3533",
   "metadata": {},
   "source": [
    "Let's say I want to call the element of 14 from the array. As we can see, it is positioned at 3rd row and 4th column. Remember that 0th index returned **1st** row. So, 3rd row should be called by 2nd index while 4th column is referred by 3rd index."
   ]
  },
  {
   "cell_type": "code",
   "execution_count": 85,
   "id": "4d60789c",
   "metadata": {},
   "outputs": [
    {
     "data": {
      "text/plain": [
       "14"
      ]
     },
     "execution_count": 85,
     "metadata": {},
     "output_type": "execute_result"
    }
   ],
   "source": [
    "arr[2, 3]"
   ]
  },
  {
   "cell_type": "code",
   "execution_count": 86,
   "id": "e7a64995",
   "metadata": {},
   "outputs": [
    {
     "data": {
      "text/plain": [
       "14"
      ]
     },
     "execution_count": 86,
     "metadata": {},
     "output_type": "execute_result"
    }
   ],
   "source": [
    "# or imagine like this\n",
    "row_index = 3\n",
    "column_index = 4\n",
    "arr[row_index - 1, column_index - 1]"
   ]
  },
  {
   "cell_type": "markdown",
   "id": "02ecd491",
   "metadata": {},
   "source": [
    "Slicing ndarray. See the following example. I called the first row again and I want to get 3 and 4 together in the same slice."
   ]
  },
  {
   "cell_type": "code",
   "execution_count": 87,
   "id": "5936afaa",
   "metadata": {},
   "outputs": [
    {
     "data": {
      "text/plain": [
       "array([1, 2, 3, 4, 5])"
      ]
     },
     "execution_count": 87,
     "metadata": {},
     "output_type": "execute_result"
    }
   ],
   "source": [
    "arr[0]"
   ]
  },
  {
   "cell_type": "code",
   "execution_count": 88,
   "id": "375a66d7",
   "metadata": {},
   "outputs": [
    {
     "data": {
      "text/plain": [
       "array([3, 4])"
      ]
     },
     "execution_count": 88,
     "metadata": {},
     "output_type": "execute_result"
    }
   ],
   "source": [
    "newarr = arr[0]\n",
    "newarr[2:4]"
   ]
  },
  {
   "cell_type": "code",
   "execution_count": 89,
   "id": "3f1e3a95",
   "metadata": {},
   "outputs": [
    {
     "data": {
      "text/plain": [
       "array([3, 4])"
      ]
     },
     "execution_count": 89,
     "metadata": {},
     "output_type": "execute_result"
    }
   ],
   "source": [
    "# or\n",
    "arr[0][2:4]"
   ]
  },
  {
   "cell_type": "markdown",
   "id": "919e23a9",
   "metadata": {},
   "source": [
    "Again NumPy says..."
   ]
  },
  {
   "cell_type": "code",
   "execution_count": 90,
   "id": "ebc1f738",
   "metadata": {},
   "outputs": [
    {
     "data": {
      "text/plain": [
       "array([3, 4])"
      ]
     },
     "execution_count": 90,
     "metadata": {},
     "output_type": "execute_result"
    }
   ],
   "source": [
    "arr[0, 2:4]"
   ]
  },
  {
   "cell_type": "markdown",
   "id": "1f8be3b7",
   "metadata": {},
   "source": [
    "What we have done is to get the third and forth column values of the first row. "
   ]
  },
  {
   "cell_type": "markdown",
   "id": "43ea7b20",
   "metadata": {},
   "source": [
    "You can also get the first 2 rows"
   ]
  },
  {
   "cell_type": "code",
   "execution_count": 91,
   "id": "2a27454f",
   "metadata": {},
   "outputs": [
    {
     "data": {
      "text/plain": [
       "array([[ 1,  2,  3,  4,  5],\n",
       "       [ 6,  7,  8,  9, 10]])"
      ]
     },
     "execution_count": 91,
     "metadata": {},
     "output_type": "execute_result"
    }
   ],
   "source": [
    "arr[:2]"
   ]
  },
  {
   "cell_type": "markdown",
   "id": "d09c0fb8",
   "metadata": {},
   "source": [
    "And extract second column from there as an example."
   ]
  },
  {
   "cell_type": "code",
   "execution_count": 92,
   "id": "66bdb644",
   "metadata": {},
   "outputs": [
    {
     "data": {
      "text/plain": [
       "array([2, 7])"
      ]
     },
     "execution_count": 92,
     "metadata": {},
     "output_type": "execute_result"
    }
   ],
   "source": [
    "arr[:2, 1]"
   ]
  },
  {
   "cell_type": "markdown",
   "id": "15102032",
   "metadata": {},
   "source": [
    "Let's make it more interesting. Slicing both rows and columns at the same time. "
   ]
  },
  {
   "cell_type": "code",
   "execution_count": 15,
   "id": "f21527fb",
   "metadata": {},
   "outputs": [
    {
     "data": {
      "text/plain": [
       "array([[ 1,  2,  3,  4,  5],\n",
       "       [ 6,  7,  8,  9, 10],\n",
       "       [11, 12, 13, 14, 15],\n",
       "       [16, 17, 18, 19, 20]])"
      ]
     },
     "execution_count": 15,
     "metadata": {},
     "output_type": "execute_result"
    }
   ],
   "source": [
    "arr"
   ]
  },
  {
   "cell_type": "code",
   "execution_count": 94,
   "id": "62b55704",
   "metadata": {},
   "outputs": [
    {
     "data": {
      "text/plain": [
       "array([[1, 2],\n",
       "       [6, 7]])"
      ]
     },
     "execution_count": 94,
     "metadata": {},
     "output_type": "execute_result"
    }
   ],
   "source": [
    "arr[:2, :2]"
   ]
  },
  {
   "cell_type": "markdown",
   "id": "42cabada",
   "metadata": {},
   "source": [
    "I got the matrix from the matrix by slicing the first two rows and columns.\n",
    "\n",
    "See the other examples."
   ]
  },
  {
   "cell_type": "code",
   "execution_count": 95,
   "id": "6fade731",
   "metadata": {},
   "outputs": [
    {
     "data": {
      "text/plain": [
       "array([[13, 14],\n",
       "       [18, 19]])"
      ]
     },
     "execution_count": 95,
     "metadata": {},
     "output_type": "execute_result"
    }
   ],
   "source": [
    "# third and forth rows together with third and forth columns\n",
    "arr[2:4, 2:4]"
   ]
  },
  {
   "cell_type": "code",
   "execution_count": 18,
   "id": "3ee3ee96",
   "metadata": {
    "scrolled": true
   },
   "outputs": [
    {
     "data": {
      "text/plain": [
       "array([[ 1,  3,  5],\n",
       "       [ 6,  8, 10]])"
      ]
     },
     "execution_count": 18,
     "metadata": {},
     "output_type": "execute_result"
    }
   ],
   "source": [
    "# first two rows and three columns by step 2\n",
    "arr[:2, 0::2]"
   ]
  },
  {
   "cell_type": "code",
   "execution_count": 97,
   "id": "6844c172",
   "metadata": {},
   "outputs": [
    {
     "data": {
      "text/plain": [
       "array([[ 1,  5],\n",
       "       [ 6, 10],\n",
       "       [11, 15]])"
      ]
     },
     "execution_count": 97,
     "metadata": {},
     "output_type": "execute_result"
    }
   ],
   "source": [
    "# calling the first and fifth columns from 1st-3rd rows\n",
    "arr[0:3, [0, 4]]"
   ]
  },
  {
   "cell_type": "code",
   "execution_count": 98,
   "id": "672e6f09",
   "metadata": {},
   "outputs": [
    {
     "data": {
      "text/plain": [
       "array([[ 2,  3,  4],\n",
       "       [17, 18, 19]])"
      ]
     },
     "execution_count": 98,
     "metadata": {},
     "output_type": "execute_result"
    }
   ],
   "source": [
    "# calling the first and fourth rows from 2nd-4th columns\n",
    "arr[[0, -1], 1:4]"
   ]
  },
  {
   "cell_type": "code",
   "execution_count": 1,
   "id": "4fd86a44",
   "metadata": {},
   "outputs": [
    {
     "ename": "NameError",
     "evalue": "name 'arr' is not defined",
     "output_type": "error",
     "traceback": [
      "\u001b[1;31m---------------------------------------------------------------------------\u001b[0m",
      "\u001b[1;31mNameError\u001b[0m                                 Traceback (most recent call last)",
      "Cell \u001b[1;32mIn[1], line 2\u001b[0m\n\u001b[0;32m      1\u001b[0m \u001b[38;5;66;03m# calling these indexes - 1st row 3rd column, 4th row 1st column, 1st row 5th column, and 3rd row 5th column\u001b[39;00m\n\u001b[1;32m----> 2\u001b[0m \u001b[43marr\u001b[49m[[\u001b[38;5;241m0\u001b[39m, \u001b[38;5;241m3\u001b[39m, \u001b[38;5;241m0\u001b[39m, \u001b[38;5;241m2\u001b[39m], [\u001b[38;5;241m2\u001b[39m, \u001b[38;5;241m0\u001b[39m, \u001b[38;5;241m4\u001b[39m, \u001b[38;5;241m4\u001b[39m]]\n",
      "\u001b[1;31mNameError\u001b[0m: name 'arr' is not defined"
     ]
    }
   ],
   "source": [
    "# calling these indexes - 1st row 3rd column, 4th row 1st column, 1st row 5th column, and 3rd row 5th column\n",
    "arr[[0, 3, 0, 2], [2, 0, 4, 4]]"
   ]
  },
  {
   "cell_type": "code",
   "execution_count": 19,
   "id": "4148a640",
   "metadata": {},
   "outputs": [
    {
     "data": {
      "text/plain": [
       "array([[ 3, 16,  5, 15]])"
      ]
     },
     "execution_count": 19,
     "metadata": {},
     "output_type": "execute_result"
    }
   ],
   "source": [
    "# For the previous example. You can manipulate the return to make it 2D array\n",
    "arr[[[0, 3, 0, 2]], [2, 0, 4, 4]]"
   ]
  },
  {
   "cell_type": "markdown",
   "id": "605e30ef",
   "metadata": {},
   "source": [
    "# <a id='creation'>Array Creation Routines</a>"
   ]
  },
  {
   "cell_type": "markdown",
   "id": "f9099335",
   "metadata": {},
   "source": [
    "[reference](https://numpy.org/doc/stable/reference/routines.array-creation.html)\n",
    "\n",
    "* array - already introduced \n",
    "* arange - already introduced \n",
    "* linspace\n",
    "* zeros\n",
    "* ones\n",
    "* identity"
   ]
  },
  {
   "cell_type": "markdown",
   "id": "f5861aca",
   "metadata": {},
   "source": [
    "## <a id='linspace'>Linspace</a>"
   ]
  },
  {
   "cell_type": "markdown",
   "id": "4420325f",
   "metadata": {},
   "source": [
    "Imagine you are asked to create an array in the size of 10 from 1 to 10 in which each of adjacent values has the same distance. See the below example with an implementation of np.arange."
   ]
  },
  {
   "cell_type": "code",
   "execution_count": 101,
   "id": "dc5a4670",
   "metadata": {},
   "outputs": [
    {
     "data": {
      "text/plain": [
       "array([ 1,  2,  3,  4,  5,  6,  7,  8,  9, 10])"
      ]
     },
     "execution_count": 101,
     "metadata": {},
     "output_type": "execute_result"
    }
   ],
   "source": [
    "np.arange(1, 11, 1)"
   ]
  },
  {
   "cell_type": "markdown",
   "id": "6c1c9d3d",
   "metadata": {},
   "source": [
    "In this one, we didn't provide the size of the array, instead, only start, stop, and step (distance in our context) are given. However, the question was different. You don't know the step. You are expected to get this array with start, stop, and **size**.\n",
    "\n",
    "The function of linspace helps in this case."
   ]
  },
  {
   "cell_type": "code",
   "execution_count": 7,
   "id": "50fcfccd",
   "metadata": {},
   "outputs": [
    {
     "data": {
      "text/plain": [
       "array([ 1.,  2.,  3.,  4.,  5.,  6.,  7.,  8.,  9., 10.])"
      ]
     },
     "execution_count": 7,
     "metadata": {},
     "output_type": "execute_result"
    }
   ],
   "source": [
    "np.linspace(start = 1, stop = 10, num = 10)"
   ]
  },
  {
   "cell_type": "markdown",
   "id": "6ad54211",
   "metadata": {},
   "source": [
    "num parameter is the expected size of the array from the starting point to stop. You will also observe the returned array has float data. The below example shows the reason.\n",
    "\n",
    "What if I want to create an array from 1 to 10 at num = 21? What step am I supposed to have?"
   ]
  },
  {
   "cell_type": "code",
   "execution_count": 103,
   "id": "5f837918",
   "metadata": {},
   "outputs": [
    {
     "data": {
      "text/plain": [
       "array([ 1.  ,  1.45,  1.9 ,  2.35,  2.8 ,  3.25,  3.7 ,  4.15,  4.6 ,\n",
       "        5.05,  5.5 ,  5.95,  6.4 ,  6.85,  7.3 ,  7.75,  8.2 ,  8.65,\n",
       "        9.1 ,  9.55, 10.  ])"
      ]
     },
     "execution_count": 103,
     "metadata": {},
     "output_type": "execute_result"
    }
   ],
   "source": [
    "arr = np.linspace(1, 10, num = 21)\n",
    "arr"
   ]
  },
  {
   "cell_type": "code",
   "execution_count": 104,
   "id": "cd559a50",
   "metadata": {},
   "outputs": [
    {
     "name": "stdout",
     "output_type": "stream",
     "text": [
      "Difference between some adjacent values:\n",
      "0.44999999999999996\n",
      "0.44999999999999996\n",
      "0.4500000000000002\n"
     ]
    }
   ],
   "source": [
    "print('Difference between some adjacent values:')\n",
    "print(arr[1] - arr[0])\n",
    "print(arr[2] - arr[1])\n",
    "print(arr[3] - arr[2])"
   ]
  },
  {
   "cell_type": "markdown",
   "id": "b19194a5",
   "metadata": {},
   "source": [
    "It seems that approximately 0.45 is the right value of step to complete 21 samples within the range of 1 and 10."
   ]
  },
  {
   "cell_type": "markdown",
   "id": "6c3cabc8",
   "metadata": {},
   "source": [
    "## <a id='zeros'>Zeros</a>"
   ]
  },
  {
   "cell_type": "markdown",
   "id": "13c23e67",
   "metadata": {},
   "source": [
    "You can create zero matrix as follows."
   ]
  },
  {
   "cell_type": "code",
   "execution_count": 105,
   "id": "fb0086c4",
   "metadata": {},
   "outputs": [
    {
     "data": {
      "text/plain": [
       "array([0., 0., 0., 0., 0.])"
      ]
     },
     "execution_count": 105,
     "metadata": {},
     "output_type": "execute_result"
    }
   ],
   "source": [
    "zero_matrix = np.zeros(5)\n",
    "zero_matrix"
   ]
  },
  {
   "cell_type": "code",
   "execution_count": 106,
   "id": "5beee8fb",
   "metadata": {},
   "outputs": [
    {
     "data": {
      "text/plain": [
       "array([[0., 0., 0., 0., 0.],\n",
       "       [0., 0., 0., 0., 0.],\n",
       "       [0., 0., 0., 0., 0.],\n",
       "       [0., 0., 0., 0., 0.],\n",
       "       [0., 0., 0., 0., 0.]])"
      ]
     },
     "execution_count": 106,
     "metadata": {},
     "output_type": "execute_result"
    }
   ],
   "source": [
    "zero_matrix = np.zeros((5, 5))\n",
    "zero_matrix"
   ]
  },
  {
   "cell_type": "markdown",
   "id": "8db8f9ca",
   "metadata": {},
   "source": [
    "Notice how I input the shape of the matrix with a tuple. "
   ]
  },
  {
   "cell_type": "markdown",
   "id": "720dc054",
   "metadata": {},
   "source": [
    "## <a id='ones'>Ones</a>"
   ]
  },
  {
   "cell_type": "markdown",
   "id": "0795d22a",
   "metadata": {},
   "source": [
    "The same principle."
   ]
  },
  {
   "cell_type": "code",
   "execution_count": 107,
   "id": "d4668d5f",
   "metadata": {},
   "outputs": [
    {
     "data": {
      "text/plain": [
       "array([1., 1., 1., 1., 1.])"
      ]
     },
     "execution_count": 107,
     "metadata": {},
     "output_type": "execute_result"
    }
   ],
   "source": [
    "one_matrix = np.ones(5)\n",
    "one_matrix"
   ]
  },
  {
   "cell_type": "code",
   "execution_count": 108,
   "id": "87b9ad55",
   "metadata": {},
   "outputs": [
    {
     "data": {
      "text/plain": [
       "array([[1., 1., 1., 1., 1.],\n",
       "       [1., 1., 1., 1., 1.],\n",
       "       [1., 1., 1., 1., 1.],\n",
       "       [1., 1., 1., 1., 1.],\n",
       "       [1., 1., 1., 1., 1.]])"
      ]
     },
     "execution_count": 108,
     "metadata": {},
     "output_type": "execute_result"
    }
   ],
   "source": [
    "one_matrix = np.ones((5, 5))\n",
    "one_matrix"
   ]
  },
  {
   "cell_type": "markdown",
   "id": "8aaf5067",
   "metadata": {},
   "source": [
    "## <a id='identity'>Identity</a>"
   ]
  },
  {
   "cell_type": "markdown",
   "id": "46057ee5",
   "metadata": {},
   "source": [
    "You can create an identity matrix."
   ]
  },
  {
   "cell_type": "code",
   "execution_count": 109,
   "id": "3dc39178",
   "metadata": {},
   "outputs": [
    {
     "data": {
      "text/plain": [
       "array([[1., 0., 0.],\n",
       "       [0., 1., 0.],\n",
       "       [0., 0., 1.]])"
      ]
     },
     "execution_count": 109,
     "metadata": {},
     "output_type": "execute_result"
    }
   ],
   "source": [
    "np.identity(3)"
   ]
  },
  {
   "cell_type": "markdown",
   "id": "140dce03",
   "metadata": {},
   "source": [
    "# <a id='bool'>Boolean Logic</a>"
   ]
  },
  {
   "cell_type": "markdown",
   "id": "c40117dc",
   "metadata": {},
   "source": [
    "This time I put the reference to [Data Science Handbook](https://jakevdp.github.io/PythonDataScienceHandbook/02.06-boolean-arrays-and-masks.html) since boolean logic is well covered there in my opinion. \n",
    "\n",
    "However, you can also find [NumPy docs](https://numpy.org/doc/stable/reference/routines.logic.html) useful.\n",
    "\n",
    "Things to cover:\n",
    "* boolean logic in Python\n",
    "* boolean operators and arrays in NumPy\n",
    "* boolean functions"
   ]
  },
  {
   "cell_type": "markdown",
   "id": "1060537b",
   "metadata": {},
   "source": [
    "## <a id='bool-Python'>Boolean Logic in Python</a>"
   ]
  },
  {
   "cell_type": "markdown",
   "id": "70e06d56",
   "metadata": {},
   "source": [
    "Boolean values in both Python and NumPy are True and False. We use the following operators in Python to conduct the implementation of boolean logic."
   ]
  },
  {
   "cell_type": "code",
   "execution_count": 54,
   "id": "75559dae",
   "metadata": {},
   "outputs": [],
   "source": [
    "a = 3\n",
    "b = 4"
   ]
  },
  {
   "cell_type": "code",
   "execution_count": 116,
   "id": "78cef97a",
   "metadata": {},
   "outputs": [
    {
     "data": {
      "text/plain": [
       "True"
      ]
     },
     "execution_count": 116,
     "metadata": {},
     "output_type": "execute_result"
    }
   ],
   "source": [
    "# b bigger than a?\n",
    "b > a"
   ]
  },
  {
   "cell_type": "code",
   "execution_count": 117,
   "id": "49f3b9bb",
   "metadata": {},
   "outputs": [
    {
     "data": {
      "text/plain": [
       "False"
      ]
     },
     "execution_count": 117,
     "metadata": {},
     "output_type": "execute_result"
    }
   ],
   "source": [
    "# a bigger than b?\n",
    "b < a"
   ]
  },
  {
   "cell_type": "code",
   "execution_count": 118,
   "id": "8f32b51e",
   "metadata": {},
   "outputs": [
    {
     "data": {
      "text/plain": [
       "False"
      ]
     },
     "execution_count": 118,
     "metadata": {},
     "output_type": "execute_result"
    }
   ],
   "source": [
    "# a bigger than or equal to b?\n",
    "b <= a"
   ]
  },
  {
   "cell_type": "code",
   "execution_count": 119,
   "id": "0b08b858",
   "metadata": {},
   "outputs": [
    {
     "data": {
      "text/plain": [
       "False"
      ]
     },
     "execution_count": 119,
     "metadata": {},
     "output_type": "execute_result"
    }
   ],
   "source": [
    "# equal?\n",
    "a == b"
   ]
  },
  {
   "cell_type": "code",
   "execution_count": 120,
   "id": "dcf4afde",
   "metadata": {},
   "outputs": [
    {
     "data": {
      "text/plain": [
       "True"
      ]
     },
     "execution_count": 120,
     "metadata": {},
     "output_type": "execute_result"
    }
   ],
   "source": [
    "# not equal?\n",
    "a != b"
   ]
  },
  {
   "cell_type": "code",
   "execution_count": 55,
   "id": "c75c01d2",
   "metadata": {},
   "outputs": [
    {
     "data": {
      "text/plain": [
       "False"
      ]
     },
     "execution_count": 55,
     "metadata": {},
     "output_type": "execute_result"
    }
   ],
   "source": [
    "# a bigger than 5?\n",
    "a > 5"
   ]
  },
  {
   "cell_type": "code",
   "execution_count": 56,
   "id": "bd662e06",
   "metadata": {},
   "outputs": [
    {
     "data": {
      "text/plain": [
       "True"
      ]
     },
     "execution_count": 56,
     "metadata": {},
     "output_type": "execute_result"
    }
   ],
   "source": [
    "# a not bigger than 5?\n",
    "not a > 5"
   ]
  },
  {
   "cell_type": "code",
   "execution_count": 122,
   "id": "bf753f09",
   "metadata": {},
   "outputs": [
    {
     "data": {
      "text/plain": [
       "True"
      ]
     },
     "execution_count": 122,
     "metadata": {},
     "output_type": "execute_result"
    }
   ],
   "source": [
    "# is a positive and odd number?\n",
    "(a > 0) and (a % 2 == 1)"
   ]
  },
  {
   "cell_type": "code",
   "execution_count": 123,
   "id": "ac964737",
   "metadata": {},
   "outputs": [
    {
     "data": {
      "text/plain": [
       "True"
      ]
     },
     "execution_count": 123,
     "metadata": {},
     "output_type": "execute_result"
    }
   ],
   "source": [
    "# is a positive or odd number?\n",
    "(a > 0) or (a % 2 == 1)"
   ]
  },
  {
   "cell_type": "code",
   "execution_count": 157,
   "id": "e315a4c1",
   "metadata": {},
   "outputs": [
    {
     "data": {
      "text/plain": [
       "False"
      ]
     },
     "execution_count": 157,
     "metadata": {},
     "output_type": "execute_result"
    }
   ],
   "source": [
    "# is a negative or even number?\n",
    "(a < 0) or (a % 2 == 0)"
   ]
  },
  {
   "cell_type": "code",
   "execution_count": 125,
   "id": "65c28fe5",
   "metadata": {},
   "outputs": [
    {
     "data": {
      "text/plain": [
       "False"
      ]
     },
     "execution_count": 125,
     "metadata": {},
     "output_type": "execute_result"
    }
   ],
   "source": [
    "bool(0)"
   ]
  },
  {
   "cell_type": "code",
   "execution_count": 126,
   "id": "5a8e16af",
   "metadata": {},
   "outputs": [
    {
     "data": {
      "text/plain": [
       "True"
      ]
     },
     "execution_count": 126,
     "metadata": {},
     "output_type": "execute_result"
    }
   ],
   "source": [
    "bool(1)"
   ]
  },
  {
   "cell_type": "code",
   "execution_count": 9,
   "id": "75409b5d",
   "metadata": {},
   "outputs": [
    {
     "data": {
      "text/plain": [
       "True"
      ]
     },
     "execution_count": 9,
     "metadata": {},
     "output_type": "execute_result"
    }
   ],
   "source": [
    "bool('a')"
   ]
  },
  {
   "cell_type": "markdown",
   "id": "b2b9f89a",
   "metadata": {},
   "source": [
    "## <a id='bool-operators-arrays'>Boolean Operators and Arrays in NumPy</a>"
   ]
  },
  {
   "cell_type": "markdown",
   "id": "8689b5b9",
   "metadata": {},
   "source": [
    "Operators:\n",
    "* *>*\n",
    "* <\n",
    "* *>=*\n",
    "* <=\n",
    "* &\n",
    "* |\n",
    "* ~"
   ]
  },
  {
   "cell_type": "markdown",
   "id": "f206392b",
   "metadata": {},
   "source": [
    "& is a replacement of **and** \n",
    "\n",
    "| is a replacement of **or**\n",
    "\n",
    "~ is a replacement of **not**"
   ]
  },
  {
   "cell_type": "markdown",
   "id": "a923b141",
   "metadata": {},
   "source": [
    "Let's create a new array."
   ]
  },
  {
   "cell_type": "code",
   "execution_count": 22,
   "id": "57cf1995",
   "metadata": {},
   "outputs": [
    {
     "data": {
      "text/plain": [
       "array([ 2,  7,  4,  9, 10,  3])"
      ]
     },
     "execution_count": 22,
     "metadata": {},
     "output_type": "execute_result"
    }
   ],
   "source": [
    "arr = np.array([2, 7, 4, 9, 10, 3])\n",
    "arr"
   ]
  },
  {
   "cell_type": "markdown",
   "id": "fcd48445",
   "metadata": {},
   "source": [
    "There is no element in the array lower than 2."
   ]
  },
  {
   "cell_type": "code",
   "execution_count": 129,
   "id": "b9a3414a",
   "metadata": {},
   "outputs": [
    {
     "data": {
      "text/plain": [
       "array([False, False, False, False, False, False])"
      ]
     },
     "execution_count": 129,
     "metadata": {},
     "output_type": "execute_result"
    }
   ],
   "source": [
    "arr < 2"
   ]
  },
  {
   "cell_type": "markdown",
   "id": "570da70a",
   "metadata": {},
   "source": [
    "There is only one element in the array lower than or equal to 2."
   ]
  },
  {
   "cell_type": "code",
   "execution_count": 130,
   "id": "3a7f60dd",
   "metadata": {},
   "outputs": [
    {
     "data": {
      "text/plain": [
       "array([ True, False, False, False, False, False])"
      ]
     },
     "execution_count": 130,
     "metadata": {},
     "output_type": "execute_result"
    }
   ],
   "source": [
    "arr <= 2"
   ]
  },
  {
   "cell_type": "markdown",
   "id": "79b99d9e",
   "metadata": {},
   "source": [
    "There are three elements for being equal to or lower than 4."
   ]
  },
  {
   "cell_type": "code",
   "execution_count": 57,
   "id": "a7119a5c",
   "metadata": {},
   "outputs": [
    {
     "data": {
      "text/plain": [
       "array([ True, False,  True, False, False,  True])"
      ]
     },
     "execution_count": 57,
     "metadata": {},
     "output_type": "execute_result"
    }
   ],
   "source": [
    "4 >= arr"
   ]
  },
  {
   "cell_type": "markdown",
   "id": "7c96123d",
   "metadata": {},
   "source": [
    "There are three elements for being not both equal and lower than 4."
   ]
  },
  {
   "cell_type": "code",
   "execution_count": 66,
   "id": "1d8d8801",
   "metadata": {},
   "outputs": [
    {
     "data": {
      "text/plain": [
       "array([False,  True, False,  True,  True, False])"
      ]
     },
     "execution_count": 66,
     "metadata": {},
     "output_type": "execute_result"
    }
   ],
   "source": [
    "~(4 >= arr)"
   ]
  },
  {
   "cell_type": "markdown",
   "id": "06d03d2f",
   "metadata": {},
   "source": [
    "This is what happens when you use **not**"
   ]
  },
  {
   "cell_type": "code",
   "execution_count": 25,
   "id": "9cefa2f2",
   "metadata": {},
   "outputs": [
    {
     "ename": "ValueError",
     "evalue": "The truth value of an array with more than one element is ambiguous. Use a.any() or a.all()",
     "output_type": "error",
     "traceback": [
      "\u001b[1;31m---------------------------------------------------------------------------\u001b[0m",
      "\u001b[1;31mValueError\u001b[0m                                Traceback (most recent call last)",
      "Cell \u001b[1;32mIn [25], line 1\u001b[0m\n\u001b[1;32m----> 1\u001b[0m \u001b[38;5;129;01mnot\u001b[39;00m (\u001b[38;5;241m4\u001b[39m \u001b[38;5;241m>\u001b[39m\u001b[38;5;241m=\u001b[39m arr)\n",
      "\u001b[1;31mValueError\u001b[0m: The truth value of an array with more than one element is ambiguous. Use a.any() or a.all()"
     ]
    }
   ],
   "source": [
    "not (4 >= arr)"
   ]
  },
  {
   "cell_type": "markdown",
   "id": "818a9ec2",
   "metadata": {},
   "source": [
    "We shortly investigated how an array behaves with few operators. NumPy returns a new array corresponding to the variable **arr** with boolean values. We can assign it to a new variable."
   ]
  },
  {
   "cell_type": "code",
   "execution_count": 3,
   "id": "9f8447df",
   "metadata": {},
   "outputs": [],
   "source": [
    "newarr = (arr == 10)"
   ]
  },
  {
   "cell_type": "code",
   "execution_count": 133,
   "id": "0ead72fd",
   "metadata": {},
   "outputs": [
    {
     "data": {
      "text/plain": [
       "array([False, False, False, False,  True, False])"
      ]
     },
     "execution_count": 133,
     "metadata": {},
     "output_type": "execute_result"
    }
   ],
   "source": [
    "newarr"
   ]
  },
  {
   "cell_type": "code",
   "execution_count": 134,
   "id": "70ae47e6",
   "metadata": {},
   "outputs": [
    {
     "data": {
      "text/plain": [
       "dtype('bool')"
      ]
     },
     "execution_count": 134,
     "metadata": {},
     "output_type": "execute_result"
    }
   ],
   "source": [
    "newarr.dtype"
   ]
  },
  {
   "cell_type": "code",
   "execution_count": 135,
   "id": "f9e033d1",
   "metadata": {},
   "outputs": [
    {
     "data": {
      "text/plain": [
       "1"
      ]
     },
     "execution_count": 135,
     "metadata": {},
     "output_type": "execute_result"
    }
   ],
   "source": [
    "newarr.itemsize"
   ]
  },
  {
   "cell_type": "code",
   "execution_count": 136,
   "id": "6fa15257",
   "metadata": {},
   "outputs": [
    {
     "data": {
      "text/plain": [
       "6"
      ]
     },
     "execution_count": 136,
     "metadata": {},
     "output_type": "execute_result"
    }
   ],
   "source": [
    "newarr.nbytes"
   ]
  },
  {
   "cell_type": "code",
   "execution_count": 137,
   "id": "f72c3c51",
   "metadata": {},
   "outputs": [
    {
     "data": {
      "text/plain": [
       "array([ True,  True,  True,  True, False,  True])"
      ]
     },
     "execution_count": 137,
     "metadata": {},
     "output_type": "execute_result"
    }
   ],
   "source": [
    "# Searching for not being equal to 10\n",
    "arr != 10"
   ]
  },
  {
   "cell_type": "markdown",
   "id": "9ed446dc",
   "metadata": {},
   "source": [
    "This time we searched for values equal to 10 and examined some attributes, such as dtype, itemsize, and nbytes. We see that data type is bool, containing 1-byte elements in the size of 6. In total, this array consumes 6 byte  memory."
   ]
  },
  {
   "cell_type": "markdown",
   "id": "fcc67723",
   "metadata": {},
   "source": [
    "So, sometimes you might have multiple conditions instead of just one as shown above. What if I am looking for even values bigger than 5 in the array? Let's apply this logic in Python."
   ]
  },
  {
   "cell_type": "code",
   "execution_count": 138,
   "id": "e7c83580",
   "metadata": {},
   "outputs": [
    {
     "data": {
      "text/plain": [
       "array([ 2,  7,  4,  9, 10,  3])"
      ]
     },
     "execution_count": 138,
     "metadata": {},
     "output_type": "execute_result"
    }
   ],
   "source": [
    "arr"
   ]
  },
  {
   "cell_type": "code",
   "execution_count": 6,
   "id": "5e0ff767",
   "metadata": {},
   "outputs": [],
   "source": [
    "xs = [2, 7, 4, 9, 10, 3]"
   ]
  },
  {
   "cell_type": "code",
   "execution_count": 5,
   "id": "1ea9a517",
   "metadata": {},
   "outputs": [
    {
     "name": "stdout",
     "output_type": "stream",
     "text": [
      "False False False False True False "
     ]
    }
   ],
   "source": [
    "for element in xs:\n",
    "    print(    \n",
    "        (element > 5) and (element % 2 == 0),\n",
    "        end = ' '    \n",
    "    )"
   ]
  },
  {
   "cell_type": "markdown",
   "id": "41c1d730",
   "metadata": {},
   "source": [
    "You will realize I defined two different conditions. element > 5, element % 2 == 0. I separated them with brackets and put **and** to state that I am looking for both cases instead of any. It is also acceptable in Python to avoid brackets. I prefer that way since it just makes the code more understandable. \n",
    "\n",
    "Nevertheless, brackets are must in NumPy. We will explain it later.\n",
    "\n",
    "Let's look at both conditions separately."
   ]
  },
  {
   "cell_type": "code",
   "execution_count": 141,
   "id": "a25c9d9c",
   "metadata": {},
   "outputs": [
    {
     "data": {
      "text/plain": [
       "array([False,  True, False,  True,  True, False])"
      ]
     },
     "execution_count": 141,
     "metadata": {},
     "output_type": "execute_result"
    }
   ],
   "source": [
    "arr > 5"
   ]
  },
  {
   "cell_type": "code",
   "execution_count": 142,
   "id": "0f44638b",
   "metadata": {},
   "outputs": [
    {
     "data": {
      "text/plain": [
       "array([ True, False,  True, False,  True, False])"
      ]
     },
     "execution_count": 142,
     "metadata": {},
     "output_type": "execute_result"
    }
   ],
   "source": [
    "arr % 2 == 0"
   ]
  },
  {
   "cell_type": "markdown",
   "id": "3fbe1e03",
   "metadata": {},
   "source": [
    "What we are searching for is to have True at the same indexes of both returned arrays.  For instance, 0th index contains both False and True. The same occurs for 1st, 2nd, and 3rd indexes as well, whereas the last index is only False. "
   ]
  },
  {
   "cell_type": "code",
   "execution_count": 143,
   "id": "c10f6370",
   "metadata": {},
   "outputs": [
    {
     "name": "stdout",
     "output_type": "stream",
     "text": [
      "False\n",
      "False\n",
      "False\n"
     ]
    }
   ],
   "source": [
    "# Those indexes will return False for this reason\n",
    "print(True and False)\n",
    "print(False and True)\n",
    "print(False and False)"
   ]
  },
  {
   "cell_type": "markdown",
   "id": "27b39d4d",
   "metadata": {},
   "source": [
    "4th index, on the other hand, refers to True in these arrays. It is a good indication that we found our answer at 4th index!"
   ]
  },
  {
   "cell_type": "code",
   "execution_count": 144,
   "id": "7b5d24d5",
   "metadata": {},
   "outputs": [
    {
     "name": "stdout",
     "output_type": "stream",
     "text": [
      "True\n"
     ]
    }
   ],
   "source": [
    "# That index will return True for this reason\n",
    "print(True and True)"
   ]
  },
  {
   "cell_type": "markdown",
   "id": "d960b308",
   "metadata": {},
   "source": [
    "Let's combine conditions."
   ]
  },
  {
   "cell_type": "code",
   "execution_count": 145,
   "id": "6790ddca",
   "metadata": {},
   "outputs": [
    {
     "data": {
      "text/plain": [
       "array([False, False, False, False,  True, False])"
      ]
     },
     "execution_count": 145,
     "metadata": {},
     "output_type": "execute_result"
    }
   ],
   "source": [
    "(arr > 5) & (arr % 2 == 0)"
   ]
  },
  {
   "cell_type": "markdown",
   "id": "2e11ba09",
   "metadata": {},
   "source": [
    "Here we are! So the last second index is True while the others are False. To indicate **and** statement, we use **&** in NumPy arrays. If you will put **and**, instead, the following error will occur."
   ]
  },
  {
   "cell_type": "code",
   "execution_count": 146,
   "id": "7e6167c3",
   "metadata": {
    "scrolled": true
   },
   "outputs": [
    {
     "ename": "ValueError",
     "evalue": "The truth value of an array with more than one element is ambiguous. Use a.any() or a.all()",
     "output_type": "error",
     "traceback": [
      "\u001b[1;31m---------------------------------------------------------------------------\u001b[0m",
      "\u001b[1;31mValueError\u001b[0m                                Traceback (most recent call last)",
      "Cell \u001b[1;32mIn [146], line 1\u001b[0m\n\u001b[1;32m----> 1\u001b[0m (arr \u001b[38;5;241m>\u001b[39m \u001b[38;5;241m5\u001b[39m) \u001b[38;5;129;01mand\u001b[39;00m (arr \u001b[38;5;241m%\u001b[39m \u001b[38;5;241m2\u001b[39m \u001b[38;5;241m==\u001b[39m \u001b[38;5;241m0\u001b[39m)\n",
      "\u001b[1;31mValueError\u001b[0m: The truth value of an array with more than one element is ambiguous. Use a.any() or a.all()"
     ]
    }
   ],
   "source": [
    "(arr > 5) and (arr % 2 == 0)"
   ]
  },
  {
   "cell_type": "markdown",
   "id": "2a41f5e4",
   "metadata": {},
   "source": [
    "So, be careful with this case. It is also the same for **or** statement. For instance, let's replace **and** with **or**"
   ]
  },
  {
   "cell_type": "code",
   "execution_count": 147,
   "id": "dd786536",
   "metadata": {},
   "outputs": [
    {
     "ename": "ValueError",
     "evalue": "The truth value of an array with more than one element is ambiguous. Use a.any() or a.all()",
     "output_type": "error",
     "traceback": [
      "\u001b[1;31m---------------------------------------------------------------------------\u001b[0m",
      "\u001b[1;31mValueError\u001b[0m                                Traceback (most recent call last)",
      "Cell \u001b[1;32mIn [147], line 1\u001b[0m\n\u001b[1;32m----> 1\u001b[0m (arr \u001b[38;5;241m>\u001b[39m \u001b[38;5;241m5\u001b[39m) \u001b[38;5;129;01mor\u001b[39;00m (arr \u001b[38;5;241m%\u001b[39m \u001b[38;5;241m2\u001b[39m \u001b[38;5;241m==\u001b[39m \u001b[38;5;241m0\u001b[39m)\n",
      "\u001b[1;31mValueError\u001b[0m: The truth value of an array with more than one element is ambiguous. Use a.any() or a.all()"
     ]
    }
   ],
   "source": [
    "(arr > 5) or (arr % 2 == 0)"
   ]
  },
  {
   "cell_type": "markdown",
   "id": "ffea80f8",
   "metadata": {},
   "source": [
    "Therefore, it is better to use **|**"
   ]
  },
  {
   "cell_type": "code",
   "execution_count": 148,
   "id": "3e0b9540",
   "metadata": {},
   "outputs": [
    {
     "data": {
      "text/plain": [
       "array([ True,  True,  True,  True,  True, False])"
      ]
     },
     "execution_count": 148,
     "metadata": {},
     "output_type": "execute_result"
    }
   ],
   "source": [
    "(arr > 5) | (arr % 2 == 0)"
   ]
  },
  {
   "cell_type": "markdown",
   "id": "a37d93f2",
   "metadata": {},
   "source": [
    "Now, let's understand why most of elements are True. \n",
    "\n",
    "The first condition states values bigger than 5 as True as below."
   ]
  },
  {
   "cell_type": "code",
   "execution_count": 149,
   "id": "6185d04c",
   "metadata": {},
   "outputs": [
    {
     "data": {
      "text/plain": [
       "array([False,  True, False,  True,  True, False])"
      ]
     },
     "execution_count": 149,
     "metadata": {},
     "output_type": "execute_result"
    }
   ],
   "source": [
    "arr > 5"
   ]
  },
  {
   "cell_type": "markdown",
   "id": "3016dcde",
   "metadata": {},
   "source": [
    "What values are there that are not bigger than 5? Let's look at the array."
   ]
  },
  {
   "cell_type": "code",
   "execution_count": 150,
   "id": "fbc1b7c5",
   "metadata": {},
   "outputs": [
    {
     "data": {
      "text/plain": [
       "array([ 2,  7,  4,  9, 10,  3])"
      ]
     },
     "execution_count": 150,
     "metadata": {},
     "output_type": "execute_result"
    }
   ],
   "source": [
    "arr"
   ]
  },
  {
   "cell_type": "markdown",
   "id": "b19b6d73",
   "metadata": {},
   "source": [
    "Values at indexes of False are 2, 4, and 3. \n",
    "\n",
    "Let's see the second condition."
   ]
  },
  {
   "cell_type": "code",
   "execution_count": 151,
   "id": "40253c22",
   "metadata": {},
   "outputs": [
    {
     "data": {
      "text/plain": [
       "array([ True, False,  True, False,  True, False])"
      ]
     },
     "execution_count": 151,
     "metadata": {},
     "output_type": "execute_result"
    }
   ],
   "source": [
    "arr % 2 == 0"
   ]
  },
  {
   "cell_type": "markdown",
   "id": "a6a2a156",
   "metadata": {},
   "source": [
    "Let's investigate different combinations of True and False with **or** operator."
   ]
  },
  {
   "cell_type": "code",
   "execution_count": 152,
   "id": "596c47ba",
   "metadata": {},
   "outputs": [
    {
     "name": "stdout",
     "output_type": "stream",
     "text": [
      "True\n",
      "True\n",
      "True\n"
     ]
    }
   ],
   "source": [
    "print(True or True)\n",
    "print(True or False)\n",
    "print(False or True)"
   ]
  },
  {
   "cell_type": "markdown",
   "id": "7bba6708",
   "metadata": {},
   "source": [
    "If we see True values as a result of (arr > 5) | (arr % 2 == 0), it is mainly because of the above cases. Otherwise, the below shows how we get False."
   ]
  },
  {
   "cell_type": "code",
   "execution_count": 153,
   "id": "eed28e2d",
   "metadata": {},
   "outputs": [
    {
     "name": "stdout",
     "output_type": "stream",
     "text": [
      "False\n"
     ]
    }
   ],
   "source": [
    "print(False or False)"
   ]
  },
  {
   "cell_type": "markdown",
   "id": "c35d1bfb",
   "metadata": {},
   "source": [
    "3 is at the index of False since it is not divisible of 2 and not bigger than 5."
   ]
  },
  {
   "cell_type": "code",
   "execution_count": 154,
   "id": "d8cd017b",
   "metadata": {},
   "outputs": [
    {
     "data": {
      "text/plain": [
       "array([ 2,  7,  4,  9, 10,  3])"
      ]
     },
     "execution_count": 154,
     "metadata": {},
     "output_type": "execute_result"
    }
   ],
   "source": [
    "arr"
   ]
  },
  {
   "cell_type": "code",
   "execution_count": 155,
   "id": "01cd9c04",
   "metadata": {},
   "outputs": [
    {
     "data": {
      "text/plain": [
       "array([ True,  True,  True,  True,  True, False])"
      ]
     },
     "execution_count": 155,
     "metadata": {},
     "output_type": "execute_result"
    }
   ],
   "source": [
    "(arr > 5) | (arr % 2 == 0)"
   ]
  },
  {
   "cell_type": "markdown",
   "id": "bb2f1fe6",
   "metadata": {},
   "source": [
    "Additional note about multiple conditions is to be attentive with brackets. The below is completely wrong in NumPy array syntax."
   ]
  },
  {
   "cell_type": "code",
   "execution_count": 7,
   "id": "4235537d",
   "metadata": {},
   "outputs": [
    {
     "ename": "ValueError",
     "evalue": "The truth value of an array with more than one element is ambiguous. Use a.any() or a.all()",
     "output_type": "error",
     "traceback": [
      "\u001b[1;31m---------------------------------------------------------------------------\u001b[0m",
      "\u001b[1;31mValueError\u001b[0m                                Traceback (most recent call last)",
      "Cell \u001b[1;32mIn [7], line 1\u001b[0m\n\u001b[1;32m----> 1\u001b[0m arr \u001b[38;5;241m>\u001b[39m \u001b[38;5;241m5\u001b[39m \u001b[38;5;241m&\u001b[39m arr \u001b[38;5;241m%\u001b[39m \u001b[38;5;241m2\u001b[39m \u001b[38;5;241m==\u001b[39m \u001b[38;5;241m0\u001b[39m\n",
      "\u001b[1;31mValueError\u001b[0m: The truth value of an array with more than one element is ambiguous. Use a.any() or a.all()"
     ]
    }
   ],
   "source": [
    "arr > 5 & arr % 2 == 0"
   ]
  },
  {
   "cell_type": "code",
   "execution_count": 9,
   "id": "6118b81e",
   "metadata": {},
   "outputs": [
    {
     "ename": "ValueError",
     "evalue": "The truth value of an array with more than one element is ambiguous. Use a.any() or a.all()",
     "output_type": "error",
     "traceback": [
      "\u001b[1;31m---------------------------------------------------------------------------\u001b[0m",
      "\u001b[1;31mValueError\u001b[0m                                Traceback (most recent call last)",
      "Cell \u001b[1;32mIn [9], line 1\u001b[0m\n\u001b[1;32m----> 1\u001b[0m arr \u001b[38;5;241m>\u001b[39m \u001b[38;5;241m5\u001b[39m \u001b[38;5;241m|\u001b[39m arr \u001b[38;5;241m%\u001b[39m \u001b[38;5;241m2\u001b[39m \u001b[38;5;241m==\u001b[39m \u001b[38;5;241m0\u001b[39m\n",
      "\u001b[1;31mValueError\u001b[0m: The truth value of an array with more than one element is ambiguous. Use a.any() or a.all()"
     ]
    }
   ],
   "source": [
    "arr > 5 | arr % 2 == 0"
   ]
  },
  {
   "cell_type": "markdown",
   "id": "096ed226",
   "metadata": {},
   "source": [
    "Now, we got the True and False indexes, but how do we use them? We were genuinely capable of interpreting how to find the correct value from the array based on boolean array as we've seen in some above examples. \n",
    "\n",
    "Fortunately, NumPy array provides a way to call a new array for a given condition. Let's disclose values bigger than 5 only."
   ]
  },
  {
   "cell_type": "code",
   "execution_count": 12,
   "id": "b62bc2e5",
   "metadata": {},
   "outputs": [
    {
     "data": {
      "text/plain": [
       "array([ 2,  7,  4,  9, 10,  3])"
      ]
     },
     "execution_count": 12,
     "metadata": {},
     "output_type": "execute_result"
    }
   ],
   "source": [
    "arr"
   ]
  },
  {
   "cell_type": "code",
   "execution_count": 18,
   "id": "e58338dd",
   "metadata": {},
   "outputs": [
    {
     "data": {
      "text/plain": [
       "array([False,  True, False,  True,  True, False])"
      ]
     },
     "execution_count": 18,
     "metadata": {},
     "output_type": "execute_result"
    }
   ],
   "source": [
    "newarr = (arr > 5)\n",
    "newarr"
   ]
  },
  {
   "cell_type": "code",
   "execution_count": 11,
   "id": "b81c9dae",
   "metadata": {},
   "outputs": [
    {
     "data": {
      "text/plain": [
       "array([ 7,  9, 10])"
      ]
     },
     "execution_count": 11,
     "metadata": {},
     "output_type": "execute_result"
    }
   ],
   "source": [
    "arr[newarr]"
   ]
  },
  {
   "cell_type": "markdown",
   "id": "95c759a2",
   "metadata": {},
   "source": [
    "As we can see, 7, 9, and 10 was returned in a new array. See other examples."
   ]
  },
  {
   "cell_type": "code",
   "execution_count": 26,
   "id": "fd1d3423",
   "metadata": {},
   "outputs": [
    {
     "data": {
      "text/plain": [
       "array([ 7,  9, 10])"
      ]
     },
     "execution_count": 26,
     "metadata": {},
     "output_type": "execute_result"
    }
   ],
   "source": [
    "# It is the same with what we did above\n",
    "arr[arr > 5]"
   ]
  },
  {
   "cell_type": "code",
   "execution_count": 29,
   "id": "4267da0c",
   "metadata": {},
   "outputs": [
    {
     "data": {
      "text/plain": [
       "array([7, 9])"
      ]
     },
     "execution_count": 29,
     "metadata": {},
     "output_type": "execute_result"
    }
   ],
   "source": [
    "# odd numbers bigger than 5 were returned in a new array\n",
    "# don't forget adding brakcets in multi-conditions.\n",
    "arr[(arr > 5) & (arr % 2 == 1)]"
   ]
  },
  {
   "cell_type": "markdown",
   "id": "4ead56fa",
   "metadata": {},
   "source": [
    "## <a id='bool-functions'>Boolean Functions</a>"
   ]
  },
  {
   "cell_type": "markdown",
   "id": "a66f7c8c",
   "metadata": {},
   "source": [
    "[reference](https://numpy.org/doc/stable/reference/routines.logic.html)"
   ]
  },
  {
   "cell_type": "markdown",
   "id": "5902e325",
   "metadata": {},
   "source": [
    "Functions to cover:\n",
    "* where\n",
    "* all\n",
    "* any"
   ]
  },
  {
   "cell_type": "markdown",
   "id": "6c468049",
   "metadata": {},
   "source": [
    "### <a id='where'>Where</a>"
   ]
  },
  {
   "cell_type": "markdown",
   "id": "04ceb517",
   "metadata": {},
   "source": [
    "Remember we created a boolean array based on a given condition, such as arr > 5. "
   ]
  },
  {
   "cell_type": "code",
   "execution_count": 11,
   "id": "bb7264eb",
   "metadata": {},
   "outputs": [
    {
     "data": {
      "text/plain": [
       "array([False,  True, False,  True,  True, False])"
      ]
     },
     "execution_count": 11,
     "metadata": {},
     "output_type": "execute_result"
    }
   ],
   "source": [
    "arr > 5"
   ]
  },
  {
   "cell_type": "markdown",
   "id": "c5a2cac4",
   "metadata": {},
   "source": [
    "At which indexes are True values located?"
   ]
  },
  {
   "cell_type": "code",
   "execution_count": 13,
   "id": "1d45c2f0",
   "metadata": {},
   "outputs": [
    {
     "name": "stdout",
     "output_type": "stream",
     "text": [
      "1 3 4 "
     ]
    }
   ],
   "source": [
    "i = 0\n",
    "for boolean in arr > 5:\n",
    "    if boolean:\n",
    "        print(i, end = ' ')\n",
    "    i += 1"
   ]
  },
  {
   "cell_type": "markdown",
   "id": "72142b9a",
   "metadata": {},
   "source": [
    "If we want to get indexes only, we might want to use where function. Where the hell are those True values?"
   ]
  },
  {
   "cell_type": "code",
   "execution_count": 36,
   "id": "87a64462",
   "metadata": {},
   "outputs": [
    {
     "data": {
      "text/plain": [
       "(array([1, 3, 4], dtype=int64),)"
      ]
     },
     "execution_count": 36,
     "metadata": {},
     "output_type": "execute_result"
    }
   ],
   "source": [
    "np.where(arr > 5)"
   ]
  },
  {
   "cell_type": "markdown",
   "id": "056fcf2f",
   "metadata": {},
   "source": [
    "### <a id='all'>All</a>"
   ]
  },
  {
   "cell_type": "markdown",
   "id": "e1411bad",
   "metadata": {},
   "source": [
    "You are given a boolean array and you are asked to identify if all the instances are True."
   ]
  },
  {
   "cell_type": "code",
   "execution_count": 26,
   "id": "a8bb0afd",
   "metadata": {},
   "outputs": [],
   "source": [
    "arr_all_True = np.array([True, True, True])\n",
    "arr_not_all_True = np.array([False, True, True])"
   ]
  },
  {
   "cell_type": "code",
   "execution_count": 48,
   "id": "dccca9bd",
   "metadata": {},
   "outputs": [
    {
     "name": "stdout",
     "output_type": "stream",
     "text": [
      "[ True  True  True]\n",
      "All of them are True\n"
     ]
    }
   ],
   "source": [
    "print(arr_all_True)\n",
    "for boolean in arr_all_True:\n",
    "    if not boolean:\n",
    "        print('There is one False at least')\n",
    "        break\n",
    "else:\n",
    "    print('All of them are True')"
   ]
  },
  {
   "cell_type": "code",
   "execution_count": 49,
   "id": "57ffb9ad",
   "metadata": {},
   "outputs": [
    {
     "name": "stdout",
     "output_type": "stream",
     "text": [
      "[False  True  True]\n",
      "There is one False at least\n"
     ]
    }
   ],
   "source": [
    "print(arr_not_all_True)\n",
    "for boolean in arr_not_all_True:\n",
    "    if not boolean:\n",
    "        print('There is one False at least')\n",
    "        break\n",
    "else:\n",
    "    print('All of them are True')"
   ]
  },
  {
   "cell_type": "markdown",
   "id": "7f3e57e4",
   "metadata": {},
   "source": [
    "NumPy provides one function to get True or False indicating whether or not instances are all True."
   ]
  },
  {
   "cell_type": "code",
   "execution_count": 33,
   "id": "2fcb1dd2",
   "metadata": {},
   "outputs": [
    {
     "data": {
      "text/plain": [
       "True"
      ]
     },
     "execution_count": 33,
     "metadata": {},
     "output_type": "execute_result"
    }
   ],
   "source": [
    "np.all(arr_all_True)"
   ]
  },
  {
   "cell_type": "code",
   "execution_count": 34,
   "id": "4ce24df2",
   "metadata": {},
   "outputs": [
    {
     "data": {
      "text/plain": [
       "False"
      ]
     },
     "execution_count": 34,
     "metadata": {},
     "output_type": "execute_result"
    }
   ],
   "source": [
    "np.all(arr_not_all_True)"
   ]
  },
  {
   "cell_type": "markdown",
   "id": "be4ad001",
   "metadata": {},
   "source": [
    "### <a id='any'>Any</a>"
   ]
  },
  {
   "cell_type": "markdown",
   "id": "7e77a8de",
   "metadata": {},
   "source": [
    "You are given a boolean array and you are asked to identify if one instance is True at least."
   ]
  },
  {
   "cell_type": "code",
   "execution_count": 42,
   "id": "7cd868e4",
   "metadata": {},
   "outputs": [],
   "source": [
    "arr_any_True = np.array([False, True, True])\n",
    "arr_all_False = np.array([False, False, False])"
   ]
  },
  {
   "cell_type": "code",
   "execution_count": 46,
   "id": "8d62a5c2",
   "metadata": {},
   "outputs": [
    {
     "name": "stdout",
     "output_type": "stream",
     "text": [
      "[False  True  True]\n",
      "There is one True at least\n"
     ]
    }
   ],
   "source": [
    "print(arr_any_True)\n",
    "for boolean in arr_any_True:\n",
    "    if boolean:\n",
    "        print('There is one True at least')\n",
    "        break\n",
    "else:\n",
    "    print('There is no True at all')"
   ]
  },
  {
   "cell_type": "code",
   "execution_count": 47,
   "id": "d9174eb0",
   "metadata": {},
   "outputs": [
    {
     "name": "stdout",
     "output_type": "stream",
     "text": [
      "[False False False]\n",
      "There is no True at all\n"
     ]
    }
   ],
   "source": [
    "print(arr_all_False)\n",
    "for boolean in arr_all_False:\n",
    "    if boolean:\n",
    "        print('There is one True at least')\n",
    "        break\n",
    "else:\n",
    "    print('There is no True at all')"
   ]
  },
  {
   "cell_type": "markdown",
   "id": "e47b94e0",
   "metadata": {},
   "source": [
    "NumPy provides one function to get True or False indicating whether or not one instance is True at least."
   ]
  },
  {
   "cell_type": "code",
   "execution_count": 51,
   "id": "2681da50",
   "metadata": {},
   "outputs": [
    {
     "data": {
      "text/plain": [
       "True"
      ]
     },
     "execution_count": 51,
     "metadata": {},
     "output_type": "execute_result"
    }
   ],
   "source": [
    "np.any(arr_any_True)"
   ]
  },
  {
   "cell_type": "code",
   "execution_count": 52,
   "id": "69e662c3",
   "metadata": {},
   "outputs": [
    {
     "data": {
      "text/plain": [
       "False"
      ]
     },
     "execution_count": 52,
     "metadata": {},
     "output_type": "execute_result"
    }
   ],
   "source": [
    "np.any(arr_all_False)"
   ]
  },
  {
   "cell_type": "markdown",
   "id": "e13fcbd2",
   "metadata": {},
   "source": [
    "# <a id='conclusion'>Conclusion</a>"
   ]
  },
  {
   "cell_type": "markdown",
   "id": "b0299482",
   "metadata": {},
   "source": [
    "Well done! You just finished essential functionalities of NumPy from which we will be benefitting during the course. \n",
    "\n",
    "What we haven't covered is mainly axis that will be postponed for another notebook since it has a bit complication in terms of imagination. Furthermore, Linear Algebra will be one of our crucial topics. Broadcasting will be touched on as well together with axis. You will also refer to the things you learned in this notebook again while dealing with axis. For example, some functions contain parameters for defining the axis value, such as sum, max, min, all, any, and more. Even a nd array can have a transpose via different multiple axes. \n",
    "\n",
    "Because we will be applying (somehow) pure math in NumPy to boost our understanding in practical manners, NumPy is the primary library that should be elucidated in greater details even compared to Pandas and MatPlotLib. \n",
    "\n",
    "Imagine you develop your own ML model in purely written NumPy script... (We will have fun with such stuffs sometimes not every time)\n",
    "\n",
    "So, be excited and have a nice learning!\n",
    "\n",
    "Should you have any question, just contact me :)"
   ]
  },
  {
   "cell_type": "code",
   "execution_count": null,
   "id": "0d2c49d1",
   "metadata": {},
   "outputs": [],
   "source": []
  }
 ],
 "metadata": {
  "kernelspec": {
   "display_name": "Python 3 (ipykernel)",
   "language": "python",
   "name": "python3"
  },
  "language_info": {
   "codemirror_mode": {
    "name": "ipython",
    "version": 3
   },
   "file_extension": ".py",
   "mimetype": "text/x-python",
   "name": "python",
   "nbconvert_exporter": "python",
   "pygments_lexer": "ipython3",
   "version": "3.9.1"
  }
 },
 "nbformat": 4,
 "nbformat_minor": 5
}

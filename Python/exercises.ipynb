{
  "cells": [
    {
      "cell_type": "code",
      "execution_count": null,
      "metadata": {
        "id": "cnDRWVEkLmXh"
      },
      "outputs": [],
      "source": [
        "'hey'"
      ]
    },
    {
      "cell_type": "code",
      "execution_count": null,
      "metadata": {
        "id": "6alFbeNbLvJc"
      },
      "outputs": [],
      "source": [
        "def longest_unique_str(string):\n",
        "  seen = []\n",
        "  count = 0\n",
        "  for ch in string:\n",
        "    if ch not in seen:\n",
        "      seen.append(ch)\n",
        "    else:\n",
        "      if count < len(seen):\n",
        "        count = len(seen)\n",
        "      seen = [ch]\n",
        "  return count\n",
        "\n",
        "print(longest_unique_str('abcdebcdaabcb'))\n",
        "\n"
      ]
    },
    {
      "cell_type": "code",
      "execution_count": null,
      "metadata": {
        "id": "6tMBLfpXMv94"
      },
      "outputs": [],
      "source": [
        "class Box:\n",
        "  is_box = True # Class attribute\n",
        "  def __init__(self, name, color): # Methods\n",
        "    self.name = name # Attribute\n",
        "    self.color = color # Attribute\n",
        "\n",
        "  def scream(self): # Method\n",
        "    return f'my name is {self.name}'\n",
        "\n",
        "  def do_math(self, num1, num2):\n",
        "    return num1 + num2\n",
        "\n",
        "  @staticmethod\n",
        "  def static_do_math(num1, num2):\n",
        "    return num1 + num2\n",
        "\n",
        "  @classmethod\n",
        "  def class_do_math(cls, num1, num2):\n",
        "    cls.name = num1\n",
        "    cls.color = num2\n",
        "    return cls\n",
        "\n",
        "\n",
        "  def __repr__(self):\n",
        "    return 'Box object'\n",
        "\n",
        "  def __str__(self):\n",
        "    return 'you have a box'\n",
        "\n",
        "\n",
        "a = Box('box', 'red') # Instance\n",
        "b = Box('black-box', 'orange') # Instance\n",
        "\n",
        "# print(a.scream())\n",
        "# print('-'*8)\n",
        "# print(b.scream())\n",
        "\n",
        "# print(a.name, a.color)\n",
        "# print(isinstance(a, Box))\n",
        "\n",
        "# print(a.is_box)\n",
        "# print(b.is_box)\n",
        "\n",
        "print(a.do_math(20, 89))\n",
        "print(repr(a))\n",
        "print(str(a))\n",
        "print(Box.static_do_math(31, 34))\n"
      ]
    },
    {
      "cell_type": "code",
      "execution_count": null,
      "metadata": {
        "id": "lcmOus2mN7Su"
      },
      "outputs": [],
      "source": [
        "'ad yash sinif'\n",
        "'telebe teqdim'\n",
        "'static method salam'"
      ]
    },
    {
      "cell_type": "code",
      "execution_count": null,
      "metadata": {
        "id": "1L6pyK__OJLO"
      },
      "outputs": [],
      "source": [
        "class Student:\n",
        "  def __init__(self, name='no_name', surname='no_surname', age=0, class_=0):\n",
        "    self.name = name\n",
        "    self.surname = surname\n",
        "    self.age = age\n",
        "    self.class_ = class_\n",
        "\n",
        "  def introduce(self):\n",
        "    return f\"name is {self.name}, surname is {self.surname}, age is {self.age}, class is {self.class_}\"\n",
        "\n",
        "  def fullname(self):\n",
        "    return f\"fullname is {self.name} {self.surname}\"\n",
        "\n",
        "  @staticmethod\n",
        "  def pow(num, power_to):\n",
        "    return num**power_to\n",
        "\n",
        "  def __repr__(self):\n",
        "    return 'class.Student object'\n",
        "\n",
        "  def __str__(self):\n",
        "    return 'you have a student'\n",
        "\n",
        "  def add_classes(self, other):\n",
        "    return f\"sum of classes : {self.class_ + other.class_}\"\n",
        "\n",
        "\n",
        "a = Student('John', 'Doe', 19, 12)\n",
        "b = Student('Jane', 'Doe', 20, 13)\n",
        "print(Student.pow(3, 4))\n",
        "print(a.introduce())\n",
        "print(a.fullname())\n",
        "print(repr(a))\n",
        "print(str(a))\n",
        "print(Student.add_classes(a, b))"
      ]
    },
    {
      "cell_type": "markdown",
      "metadata": {
        "id": "kPG-L93Hbg4r"
      },
      "source": [
        "# Exercises\n"
      ]
    },
    {
      "cell_type": "code",
      "execution_count": null,
      "metadata": {
        "id": "AG-KBG9TWzfl"
      },
      "outputs": [],
      "source": [
        "class Person:\n",
        " def __init__(self, name, age):\n",
        "   self.name = name\n",
        "   self.age = age\n",
        "\n",
        " def introduce(self):\n",
        "   return f'Hi. My name is {self.name}, age is {self.age}'\n",
        "\n",
        "person1 = Person('John', 23)\n",
        "print(person1.introduce())\n",
        "\n",
        "\n",
        "class Calculator:\n",
        "  def __init__(self, variable=0):\n",
        "    self.variable = variable\n",
        "\n",
        "  def add(self, other):\n",
        "    return f'{self.variable + other.variable}'\n",
        "\n",
        "  def substract(self, other):\n",
        "    return f'{self.variable - other.variable}'\n",
        "\n",
        "  def mult(self, other):\n",
        "    return f'{self.variable * other.variable}'\n",
        "\n",
        "  def division(self, other):\n",
        "    return f'{self.variable / other.variable}'\n",
        "\n",
        "var1 = Calculator(4)\n",
        "var2 = Calculator(5)\n",
        "\n",
        "print(var1.add(var2))\n",
        "print(var1.substract(var2))\n",
        "print(var1.mult(var2))\n",
        "print(var1.division(var2))\n",
        "\n",
        "\n",
        "class Student:\n",
        "  def __init__(self, name, age, grade):\n",
        "    self.name = name\n",
        "    self.age = age\n",
        "    self.grade = grade\n",
        "\n",
        "  def info(self):\n",
        "    return f'info : {self.name}, {self.age}, {self.grade}'\n",
        "\n",
        "\n",
        "student1 = Student('John', 22, 11)\n",
        "print(student1.info())\n",
        "\n",
        "\n",
        "class Cat:\n",
        "  species = 'mammal'\n",
        "  def __init__(self, name, age):\n",
        "    self.name = name\n",
        "    self.age = age\n",
        "\n",
        "\n",
        "a = Cat('kitty', 3)\n",
        "b = Cat('mestan', 2)\n",
        "c = Cat('cupa', 1)\n",
        "\n",
        "\n",
        "def oldest(a=0, b=0, c=0):\n",
        "  if a.age>b.age and a.age>c.age:\n",
        "    return f'the oldest cat is {a.name} and {a.age} years old'\n",
        "  if b.age>a.age and b.age>c.age:\n",
        "    return f'the oldest cat is {b.name} and {b.age} years old'\n",
        "  if c.age>a.age and c.age>b.age:\n",
        "    return f'the oldest cat is {c.name} and {c.age} years old'\n",
        "\n",
        "\n",
        "\n",
        "oldest(a, b, c)\n",
        "\n",
        "# look"
      ]
    },
    {
      "cell_type": "code",
      "execution_count": null,
      "metadata": {
        "id": "wNmvBSWho5fh"
      },
      "outputs": [],
      "source": [
        "'hey'"
      ]
    }
  ],
  "metadata": {
    "colab": {
      "authorship_tag": "ABX9TyMVjkW+tR/ozSbUSa73BFHh",
      "provenance": []
    },
    "kernelspec": {
      "display_name": "Python 3",
      "name": "python3"
    },
    "language_info": {
      "name": "python"
    }
  },
  "nbformat": 4,
  "nbformat_minor": 0
}

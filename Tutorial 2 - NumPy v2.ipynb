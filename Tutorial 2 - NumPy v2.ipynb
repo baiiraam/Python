{
 "cells": [
  {
   "cell_type": "markdown",
   "id": "597834c6",
   "metadata": {},
   "source": [
    "# <a id='contents'>Contents</a>\n",
    "* [Importing](#importing)\n",
    "* [Legacy Random Generation](#random)\n",
    "    * [Quick Introduction](#quick-intro)\n",
    "    * [Rand](#rand)\n",
    "    * [Randint](#randint)\n",
    "    * [Uniform](#uniform)\n",
    "    * [Normal](#normal)\n",
    "    * [Seed](#seed)\n",
    "  \n",
    "* [Broadcasting](#broadcasting)\n",
    "* [Linear Algebra](#linalg)\n",
    "    * [Dot](#dot)\n",
    "    * [Inverse](#inverse)\n",
    "    * [Determinant](#det)\n",
    "\n",
    "* [Axes](#axis)\n",
    "    * [Understanding Axes](#understanding-axis)\n",
    "    * [Operations with Axes](#operations)\n",
    "        * [Axes in Sum](#sum-axis)\n",
    "        * [Axes in Other Functions](#other-axis)"
   ]
  },
  {
   "cell_type": "markdown",
   "id": "a351e66f",
   "metadata": {},
   "source": [
    "# <a id='importing'>Importing</a>"
   ]
  },
  {
   "cell_type": "code",
   "execution_count": 2,
   "id": "47ff7464",
   "metadata": {},
   "outputs": [],
   "source": [
    "import numpy as np"
   ]
  },
  {
   "cell_type": "markdown",
   "id": "e8d0cdf6",
   "metadata": {},
   "source": [
    "# <a id='random'>Legacy Random Generation</a>"
   ]
  },
  {
   "cell_type": "markdown",
   "id": "7c6838c9",
   "metadata": {},
   "source": [
    "[reference](https://numpy.org/doc/stable/reference/random/legacy.html)\n",
    "\n",
    "Functions to cover:\n",
    "* random.rand\n",
    "* random.randint\n",
    "* random.uniform\n",
    "* random.normal\n",
    "* random.seed"
   ]
  },
  {
   "cell_type": "markdown",
   "id": "10156d1b",
   "metadata": {},
   "source": [
    "## <a id='quick-intro'>Quick Introduction</a>"
   ]
  },
  {
   "cell_type": "markdown",
   "id": "5d1afe5b",
   "metadata": {},
   "source": [
    "Most of you should be aware of random library as follows. Generally, it produces pseudo random values in a variety of ways."
   ]
  },
  {
   "cell_type": "code",
   "execution_count": 2,
   "id": "180eeb73",
   "metadata": {},
   "outputs": [
    {
     "data": {
      "text/plain": [
       "0.6636726905934679"
      ]
     },
     "execution_count": 2,
     "metadata": {},
     "output_type": "execute_result"
    }
   ],
   "source": [
    "from random import random\n",
    "random()"
   ]
  },
  {
   "cell_type": "code",
   "execution_count": 3,
   "id": "55bfcb6a",
   "metadata": {},
   "outputs": [
    {
     "data": {
      "text/plain": [
       "7"
      ]
     },
     "execution_count": 3,
     "metadata": {},
     "output_type": "execute_result"
    }
   ],
   "source": [
    "from random import randint\n",
    "randint(1, 10)"
   ]
  },
  {
   "cell_type": "code",
   "execution_count": 4,
   "id": "97b9e23a",
   "metadata": {},
   "outputs": [
    {
     "data": {
      "text/plain": [
       "5.18906933049056"
      ]
     },
     "execution_count": 4,
     "metadata": {},
     "output_type": "execute_result"
    }
   ],
   "source": [
    "from random import uniform\n",
    "uniform(1, 10)"
   ]
  },
  {
   "cell_type": "code",
   "execution_count": 5,
   "id": "77ee7653",
   "metadata": {},
   "outputs": [],
   "source": [
    "from random import seed\n",
    "# Setting seed for producing constant outputs \n",
    "seed(42)"
   ]
  },
  {
   "cell_type": "markdown",
   "id": "d0edcebe",
   "metadata": {},
   "source": [
    "Similar functionalities can be found in NumPy as well."
   ]
  },
  {
   "cell_type": "markdown",
   "id": "0bde30b5",
   "metadata": {},
   "source": [
    "## <a id='rand'>Rand</a>"
   ]
  },
  {
   "cell_type": "markdown",
   "id": "f9138b33",
   "metadata": {},
   "source": [
    "To produce values between 0 and 1"
   ]
  },
  {
   "cell_type": "code",
   "execution_count": 6,
   "id": "8b71983c",
   "metadata": {},
   "outputs": [
    {
     "data": {
      "text/plain": [
       "0.9446461090597278"
      ]
     },
     "execution_count": 6,
     "metadata": {},
     "output_type": "execute_result"
    }
   ],
   "source": [
    "np.random.rand()"
   ]
  },
  {
   "cell_type": "code",
   "execution_count": 7,
   "id": "b2e64190",
   "metadata": {},
   "outputs": [
    {
     "data": {
      "text/plain": [
       "array([0.35273287])"
      ]
     },
     "execution_count": 7,
     "metadata": {},
     "output_type": "execute_result"
    }
   ],
   "source": [
    "# it returns an array when you input the size\n",
    "arr = np.random.rand(1)\n",
    "arr"
   ]
  },
  {
   "cell_type": "code",
   "execution_count": 8,
   "id": "4edb36da",
   "metadata": {},
   "outputs": [
    {
     "data": {
      "text/plain": [
       "(1,)"
      ]
     },
     "execution_count": 8,
     "metadata": {},
     "output_type": "execute_result"
    }
   ],
   "source": [
    "arr.shape"
   ]
  },
  {
   "cell_type": "code",
   "execution_count": null,
   "id": "abe6072e",
   "metadata": {},
   "outputs": [],
   "source": []
  },
  {
   "cell_type": "code",
   "execution_count": 9,
   "id": "34de7824",
   "metadata": {},
   "outputs": [
    {
     "data": {
      "text/plain": [
       "array([[0.54009735, 0.39133751, 0.54890607],\n",
       "       [0.31453795, 0.66204352, 0.65095634]])"
      ]
     },
     "execution_count": 9,
     "metadata": {},
     "output_type": "execute_result"
    }
   ],
   "source": [
    "arr = np.random.rand(2, 3)\n",
    "arr"
   ]
  },
  {
   "cell_type": "code",
   "execution_count": 10,
   "id": "b0e5e543",
   "metadata": {},
   "outputs": [
    {
     "data": {
      "text/plain": [
       "(2, 3)"
      ]
     },
     "execution_count": 10,
     "metadata": {},
     "output_type": "execute_result"
    }
   ],
   "source": [
    "arr.shape"
   ]
  },
  {
   "cell_type": "markdown",
   "id": "97033434",
   "metadata": {},
   "source": [
    "## <a id='randint'>Randint</a>"
   ]
  },
  {
   "cell_type": "markdown",
   "id": "e3bc9244",
   "metadata": {},
   "source": [
    "To produce random values within a specific range for a given size."
   ]
  },
  {
   "cell_type": "code",
   "execution_count": 11,
   "id": "e92ec384",
   "metadata": {},
   "outputs": [
    {
     "data": {
      "text/plain": [
       "3"
      ]
     },
     "execution_count": 11,
     "metadata": {},
     "output_type": "execute_result"
    }
   ],
   "source": [
    "np.random.randint(1, 20)"
   ]
  },
  {
   "cell_type": "code",
   "execution_count": 12,
   "id": "142ef78e",
   "metadata": {},
   "outputs": [
    {
     "data": {
      "text/plain": [
       "array([12, 11,  1,  5,  6])"
      ]
     },
     "execution_count": 12,
     "metadata": {},
     "output_type": "execute_result"
    }
   ],
   "source": [
    "arr = np.random.randint(1, 20, size = 5)\n",
    "arr"
   ]
  },
  {
   "cell_type": "code",
   "execution_count": 13,
   "id": "2425fb50",
   "metadata": {},
   "outputs": [
    {
     "data": {
      "text/plain": [
       "(5,)"
      ]
     },
     "execution_count": 13,
     "metadata": {},
     "output_type": "execute_result"
    }
   ],
   "source": [
    "arr.shape"
   ]
  },
  {
   "cell_type": "code",
   "execution_count": 14,
   "id": "03650237",
   "metadata": {
    "scrolled": true
   },
   "outputs": [
    {
     "data": {
      "text/plain": [
       "array([[18,  6],\n",
       "       [12,  5],\n",
       "       [19, 18]])"
      ]
     },
     "execution_count": 14,
     "metadata": {},
     "output_type": "execute_result"
    }
   ],
   "source": [
    "arr = np.random.randint(1, 20, size = (3, 2))\n",
    "arr"
   ]
  },
  {
   "cell_type": "code",
   "execution_count": 15,
   "id": "d2242de0",
   "metadata": {},
   "outputs": [
    {
     "data": {
      "text/plain": [
       "(3, 2)"
      ]
     },
     "execution_count": 15,
     "metadata": {},
     "output_type": "execute_result"
    }
   ],
   "source": [
    "arr.shape"
   ]
  },
  {
   "cell_type": "code",
   "execution_count": 16,
   "id": "cc89b3a5",
   "metadata": {},
   "outputs": [
    {
     "data": {
      "text/plain": [
       "2"
      ]
     },
     "execution_count": 16,
     "metadata": {},
     "output_type": "execute_result"
    }
   ],
   "source": [
    "arr.ndim"
   ]
  },
  {
   "cell_type": "code",
   "execution_count": null,
   "id": "b1197d6c",
   "metadata": {},
   "outputs": [],
   "source": []
  },
  {
   "cell_type": "markdown",
   "id": "b9d6479d",
   "metadata": {},
   "source": [
    "## <a id='uniform'>Uniform</a>"
   ]
  },
  {
   "cell_type": "code",
   "execution_count": 17,
   "id": "3863620b",
   "metadata": {},
   "outputs": [
    {
     "data": {
      "text/plain": [
       "11.616091663454615"
      ]
     },
     "execution_count": 17,
     "metadata": {},
     "output_type": "execute_result"
    }
   ],
   "source": [
    "np.random.uniform(1, 20)"
   ]
  },
  {
   "cell_type": "code",
   "execution_count": 18,
   "id": "2c783a76",
   "metadata": {},
   "outputs": [
    {
     "data": {
      "text/plain": [
       "array([ 1.09797627, 12.95418973, 13.01406108,  1.533614  , 17.40432637])"
      ]
     },
     "execution_count": 18,
     "metadata": {},
     "output_type": "execute_result"
    }
   ],
   "source": [
    "arr = np.random.uniform(1, 20, size = 5)\n",
    "arr"
   ]
  },
  {
   "cell_type": "code",
   "execution_count": 19,
   "id": "6a8d7d5e",
   "metadata": {},
   "outputs": [
    {
     "data": {
      "text/plain": [
       "(5,)"
      ]
     },
     "execution_count": 19,
     "metadata": {},
     "output_type": "execute_result"
    }
   ],
   "source": [
    "arr.shape"
   ]
  },
  {
   "cell_type": "code",
   "execution_count": 20,
   "id": "00a3ab29",
   "metadata": {},
   "outputs": [
    {
     "data": {
      "text/plain": [
       "array([[ 4.19811709, 16.07377152],\n",
       "       [17.85972478,  8.0970308 ],\n",
       "       [ 3.90531863, 17.23128092]])"
      ]
     },
     "execution_count": 20,
     "metadata": {},
     "output_type": "execute_result"
    }
   ],
   "source": [
    "arr = np.random.uniform(1, 20, size = (3, 2))\n",
    "arr"
   ]
  },
  {
   "cell_type": "code",
   "execution_count": 21,
   "id": "f8462b48",
   "metadata": {},
   "outputs": [
    {
     "data": {
      "text/plain": [
       "(3, 2)"
      ]
     },
     "execution_count": 21,
     "metadata": {},
     "output_type": "execute_result"
    }
   ],
   "source": [
    "arr.shape"
   ]
  },
  {
   "cell_type": "code",
   "execution_count": null,
   "id": "5368a1ed",
   "metadata": {},
   "outputs": [],
   "source": []
  },
  {
   "cell_type": "markdown",
   "id": "8dd8df91",
   "metadata": {},
   "source": [
    "## <a id='normal'>Normal</a>"
   ]
  },
  {
   "cell_type": "markdown",
   "id": "4954e0d6",
   "metadata": {},
   "source": [
    "To produce Gaussian normal distribution. We will cover it in more details in further lectures."
   ]
  },
  {
   "cell_type": "code",
   "execution_count": 22,
   "id": "3e617994",
   "metadata": {},
   "outputs": [],
   "source": [
    "# loc --> mean\n",
    "# scale --> standard deviation\n",
    "arr = np.random.normal(loc = 0, scale = 1, size = 100)"
   ]
  },
  {
   "cell_type": "markdown",
   "id": "c174530f",
   "metadata": {},
   "source": [
    "The picture shows one sample concerning the distribution in size = 100."
   ]
  },
  {
   "attachments": {
    "distribution.png": {
     "image/png": "[encoded data removed]"
    }
   },
   "cell_type": "markdown",
   "id": "77be63ce",
   "metadata": {},
   "source": [
    "![distribution.png](attachment:distribution.png)"
   ]
  },
  {
   "cell_type": "markdown",
   "id": "eea80671",
   "metadata": {},
   "source": [
    "## <a id='seed'>Seed</a>"
   ]
  },
  {
   "cell_type": "markdown",
   "id": "156e7a44",
   "metadata": {},
   "source": [
    "When you set a particular seed value, you will produce the same results in the generation of pseudo-random numbers.\n",
    "\n",
    "For instance, no matter how many times you run the cell below, you will get the same thing unless you change anything."
   ]
  },
  {
   "cell_type": "code",
   "execution_count": 23,
   "id": "e573c95d",
   "metadata": {},
   "outputs": [
    {
     "data": {
      "text/plain": [
       "array([ 7, 15, 11,  8,  7])"
      ]
     },
     "execution_count": 23,
     "metadata": {},
     "output_type": "execute_result"
    }
   ],
   "source": [
    "np.random.seed(42)\n",
    "np.random.randint(1, 20, size = 5)"
   ]
  },
  {
   "cell_type": "markdown",
   "id": "0d6b07b0",
   "metadata": {},
   "source": [
    "There is a well-detailed article on explanation of random seed [here](https://www.sharpsightlabs.com/blog/numpy-random-seed/)"
   ]
  },
  {
   "cell_type": "markdown",
   "id": "dc206c1e",
   "metadata": {},
   "source": [
    "# <a id='broadcasting'>Broadcasting<a>"
   ]
  },
  {
   "cell_type": "markdown",
   "id": "3f12f595",
   "metadata": {},
   "source": [
    "[reference(1)](https://numpy.org/doc/stable/user/basics.broadcasting.html)\n",
    "\n",
    "\n",
    "[reference(2)](https://jakevdp.github.io/PythonDataScienceHandbook/02.05-computation-on-arrays-broadcasting.html)\n",
    "\n",
    "You can suppose this term as a process that checks if shapes do not violate the operation's requirements. For instance, you can obtain element-wise addition results between arrays in the same shape of (4, ) as below."
   ]
  },
  {
   "cell_type": "code",
   "execution_count": 24,
   "id": "faf5ed98",
   "metadata": {},
   "outputs": [],
   "source": [
    "arr1 = np.array([1, 2, 3, 4])\n",
    "arr2 = np.array([4, 8, 6, 4])"
   ]
  },
  {
   "cell_type": "code",
   "execution_count": 25,
   "id": "737de20f",
   "metadata": {
    "scrolled": true
   },
   "outputs": [
    {
     "data": {
      "text/plain": [
       "array([ 5, 10,  9,  8])"
      ]
     },
     "execution_count": 25,
     "metadata": {},
     "output_type": "execute_result"
    }
   ],
   "source": [
    "arr1 + arr2"
   ]
  },
  {
   "cell_type": "markdown",
   "id": "41fe328c",
   "metadata": {},
   "source": [
    "But it is not possible with an array that has a completely mismatching shape."
   ]
  },
  {
   "cell_type": "code",
   "execution_count": 26,
   "id": "0d8c75ea",
   "metadata": {},
   "outputs": [
    {
     "data": {
      "text/plain": [
       "(2,)"
      ]
     },
     "execution_count": 26,
     "metadata": {},
     "output_type": "execute_result"
    }
   ],
   "source": [
    "newarr = np.array([2, 5])\n",
    "newarr.shape"
   ]
  },
  {
   "cell_type": "code",
   "execution_count": 27,
   "id": "c2491cde",
   "metadata": {},
   "outputs": [
    {
     "ename": "ValueError",
     "evalue": "operands could not be broadcast together with shapes (2,) (4,) ",
     "output_type": "error",
     "traceback": [
      "\u001b[1;31m---------------------------------------------------------------------------\u001b[0m",
      "\u001b[1;31mValueError\u001b[0m                                Traceback (most recent call last)",
      "Cell \u001b[1;32mIn [27], line 1\u001b[0m\n\u001b[1;32m----> 1\u001b[0m newarr \u001b[38;5;241m+\u001b[39m arr1\n",
      "\u001b[1;31mValueError\u001b[0m: operands could not be broadcast together with shapes (2,) (4,) "
     ]
    }
   ],
   "source": [
    "newarr + arr1"
   ]
  },
  {
   "cell_type": "code",
   "execution_count": 28,
   "id": "728f7af7",
   "metadata": {},
   "outputs": [
    {
     "ename": "ValueError",
     "evalue": "operands could not be broadcast together with shapes (2,) (4,) ",
     "output_type": "error",
     "traceback": [
      "\u001b[1;31m---------------------------------------------------------------------------\u001b[0m",
      "\u001b[1;31mValueError\u001b[0m                                Traceback (most recent call last)",
      "Cell \u001b[1;32mIn [28], line 1\u001b[0m\n\u001b[1;32m----> 1\u001b[0m newarr \u001b[38;5;241m+\u001b[39m arr2\n",
      "\u001b[1;31mValueError\u001b[0m: operands could not be broadcast together with shapes (2,) (4,) "
     ]
    }
   ],
   "source": [
    "newarr + arr2"
   ]
  },
  {
   "cell_type": "markdown",
   "id": "0dd5376a",
   "metadata": {},
   "source": [
    "This rule applies for any dimension."
   ]
  },
  {
   "cell_type": "code",
   "execution_count": 29,
   "id": "4cac1319",
   "metadata": {},
   "outputs": [
    {
     "data": {
      "text/plain": [
       "array([[27, 14],\n",
       "       [13, 16]])"
      ]
     },
     "execution_count": 29,
     "metadata": {},
     "output_type": "execute_result"
    }
   ],
   "source": [
    "arr1 = np.random.randint(1, 20, size = (2, 2))\n",
    "arr2 = np.random.randint(1, 20, size = (2, 2))\n",
    "\n",
    "arr1 + arr2"
   ]
  },
  {
   "cell_type": "code",
   "execution_count": 30,
   "id": "75103b5b",
   "metadata": {},
   "outputs": [],
   "source": [
    "newarr = np.random.randint(1, 20, size = (2, 3))"
   ]
  },
  {
   "cell_type": "code",
   "execution_count": 31,
   "id": "ea8bed33",
   "metadata": {},
   "outputs": [
    {
     "ename": "ValueError",
     "evalue": "operands could not be broadcast together with shapes (2,3) (2,2) ",
     "output_type": "error",
     "traceback": [
      "\u001b[1;31m---------------------------------------------------------------------------\u001b[0m",
      "\u001b[1;31mValueError\u001b[0m                                Traceback (most recent call last)",
      "Cell \u001b[1;32mIn [31], line 1\u001b[0m\n\u001b[1;32m----> 1\u001b[0m newarr \u001b[38;5;241m+\u001b[39m arr1\n",
      "\u001b[1;31mValueError\u001b[0m: operands could not be broadcast together with shapes (2,3) (2,2) "
     ]
    }
   ],
   "source": [
    "newarr + arr1"
   ]
  },
  {
   "cell_type": "markdown",
   "id": "877cec75",
   "metadata": {},
   "source": [
    "Scalar value can be operated with any array."
   ]
  },
  {
   "cell_type": "code",
   "execution_count": 33,
   "id": "5f18f642",
   "metadata": {},
   "outputs": [
    {
     "data": {
      "text/plain": [
       "(4, 3, 2)"
      ]
     },
     "execution_count": 33,
     "metadata": {},
     "output_type": "execute_result"
    }
   ],
   "source": [
    "arr = np.random.randint(1, 20, size = (4, 3, 2))\n",
    "arr.shape"
   ]
  },
  {
   "cell_type": "code",
   "execution_count": 34,
   "id": "0c08b923",
   "metadata": {},
   "outputs": [
    {
     "data": {
      "text/plain": [
       "(4, 3, 2)"
      ]
     },
     "execution_count": 34,
     "metadata": {},
     "output_type": "execute_result"
    }
   ],
   "source": [
    "(arr * 3).shape"
   ]
  },
  {
   "cell_type": "markdown",
   "id": "42fc80b1",
   "metadata": {},
   "source": [
    "However, it is possible to complete the mismatching dimension to the maximum by padding. For instance, in the following example, we investigate shapes of (3, 2) and (1, 2)."
   ]
  },
  {
   "cell_type": "code",
   "execution_count": 35,
   "id": "e6261363",
   "metadata": {},
   "outputs": [],
   "source": [
    "arr1 = np.random.randint(1, 20, size = (3, 2))\n",
    "arr2 = np.random.randint(1, 20, size = (1, 2))"
   ]
  },
  {
   "cell_type": "code",
   "execution_count": 36,
   "id": "bbe9239e",
   "metadata": {},
   "outputs": [
    {
     "data": {
      "text/plain": [
       "(3, 2)"
      ]
     },
     "execution_count": 36,
     "metadata": {},
     "output_type": "execute_result"
    }
   ],
   "source": [
    "arr1.shape"
   ]
  },
  {
   "cell_type": "code",
   "execution_count": 37,
   "id": "927db630",
   "metadata": {},
   "outputs": [
    {
     "data": {
      "text/plain": [
       "(1, 2)"
      ]
     },
     "execution_count": 37,
     "metadata": {},
     "output_type": "execute_result"
    }
   ],
   "source": [
    "arr2.shape"
   ]
  },
  {
   "cell_type": "code",
   "execution_count": 38,
   "id": "16843fd1",
   "metadata": {},
   "outputs": [
    {
     "data": {
      "text/plain": [
       "(3, 2)"
      ]
     },
     "execution_count": 38,
     "metadata": {},
     "output_type": "execute_result"
    }
   ],
   "source": [
    "newarr = arr1 + arr2\n",
    "newarr.shape"
   ]
  },
  {
   "cell_type": "markdown",
   "id": "49dc956f",
   "metadata": {},
   "source": [
    "you can suppose this process like this. We concatenate arr2 3 times by itself to complete its dimension to dimensions of arr1."
   ]
  },
  {
   "cell_type": "code",
   "execution_count": 39,
   "id": "170acac7",
   "metadata": {},
   "outputs": [
    {
     "data": {
      "text/plain": [
       "(3, 2)"
      ]
     },
     "execution_count": 39,
     "metadata": {},
     "output_type": "execute_result"
    }
   ],
   "source": [
    "arr_tuple = (arr2, ) * 3\n",
    "arr2_padded = np.concatenate(arr_tuple)\n",
    "arr2_padded.shape"
   ]
  },
  {
   "cell_type": "code",
   "execution_count": 40,
   "id": "3e027051",
   "metadata": {},
   "outputs": [],
   "source": [
    "newarr_2 = arr1 + arr2_padded"
   ]
  },
  {
   "cell_type": "markdown",
   "id": "77669a5a",
   "metadata": {},
   "source": [
    "As you can see the below, results will be the same."
   ]
  },
  {
   "cell_type": "code",
   "execution_count": 41,
   "id": "b3170ee1",
   "metadata": {},
   "outputs": [
    {
     "data": {
      "text/plain": [
       "array([[ True,  True],\n",
       "       [ True,  True],\n",
       "       [ True,  True]])"
      ]
     },
     "execution_count": 41,
     "metadata": {},
     "output_type": "execute_result"
    }
   ],
   "source": [
    "newarr == newarr_2"
   ]
  },
  {
   "cell_type": "code",
   "execution_count": 42,
   "id": "08d99600",
   "metadata": {},
   "outputs": [
    {
     "data": {
      "text/plain": [
       "True"
      ]
     },
     "execution_count": 42,
     "metadata": {},
     "output_type": "execute_result"
    }
   ],
   "source": [
    "(newarr == newarr_2).all()"
   ]
  },
  {
   "cell_type": "markdown",
   "id": "6ba7e87c",
   "metadata": {},
   "source": [
    "Increasing dimensions, the same idea."
   ]
  },
  {
   "cell_type": "code",
   "execution_count": 43,
   "id": "934e051c",
   "metadata": {},
   "outputs": [
    {
     "data": {
      "text/plain": [
       "(3, 4, 2)"
      ]
     },
     "execution_count": 43,
     "metadata": {},
     "output_type": "execute_result"
    }
   ],
   "source": [
    "arr1 = np.random.randint(1, 20, size = (3, 4, 2))\n",
    "arr2 = np.random.randint(1, 20, size = (1, 4, 2))\n",
    "(arr1 + arr2).shape"
   ]
  },
  {
   "cell_type": "code",
   "execution_count": 44,
   "id": "835934cf",
   "metadata": {},
   "outputs": [
    {
     "data": {
      "text/plain": [
       "(4, 2, 3)"
      ]
     },
     "execution_count": 44,
     "metadata": {},
     "output_type": "execute_result"
    }
   ],
   "source": [
    "arr1 = np.random.randint(1, 20, size = (4, 2, 3))\n",
    "arr2 = np.random.randint(1, 20, size = (4, 2, 1))\n",
    "(arr1 + arr2).shape"
   ]
  },
  {
   "cell_type": "code",
   "execution_count": 45,
   "id": "7ebb2571",
   "metadata": {},
   "outputs": [
    {
     "data": {
      "text/plain": [
       "(4, 2, 3)"
      ]
     },
     "execution_count": 45,
     "metadata": {},
     "output_type": "execute_result"
    }
   ],
   "source": [
    "arr1 = np.random.randint(1, 20, size = (4, 1, 3))\n",
    "arr2 = np.random.randint(1, 20, size = (4, 2, 1))\n",
    "(arr1 + arr2).shape"
   ]
  },
  {
   "cell_type": "markdown",
   "id": "10d73326",
   "metadata": {},
   "source": [
    "# <a id='linalg'>Linear Algebra</a>"
   ]
  },
  {
   "cell_type": "markdown",
   "id": "ef836b69",
   "metadata": {},
   "source": [
    "[reference](https://numpy.org/doc/stable/reference/routines.linalg.html)\n",
    "\n",
    "Functions to cover:\n",
    "* dot\n",
    "* linalg.inv\n",
    "* linalg.det"
   ]
  },
  {
   "cell_type": "markdown",
   "id": "86daa845",
   "metadata": {},
   "source": [
    "## <a id='dot'>Dot</a>"
   ]
  },
  {
   "cell_type": "markdown",
   "id": "5e40461e",
   "metadata": {},
   "source": [
    "Imagine you have two arrays in shapes of (5, 4) and (4, 10) and you want to see results of dot product between them. Expected shape is (5, 10) since 4 is eliminated. "
   ]
  },
  {
   "cell_type": "code",
   "execution_count": 46,
   "id": "07d0c8d7",
   "metadata": {},
   "outputs": [],
   "source": [
    "arr1 = np.random.randint(1, 5, size = (5, 4))\n",
    "arr2 = np.random.randint(1, 5, size = (4, 10))"
   ]
  },
  {
   "cell_type": "code",
   "execution_count": 47,
   "id": "31937d17",
   "metadata": {},
   "outputs": [
    {
     "data": {
      "text/plain": [
       "array([[1, 1, 1, 4],\n",
       "       [1, 3, 1, 2],\n",
       "       [2, 4, 2, 3],\n",
       "       [1, 4, 1, 1],\n",
       "       [3, 2, 2, 1]])"
      ]
     },
     "execution_count": 47,
     "metadata": {},
     "output_type": "execute_result"
    }
   ],
   "source": [
    "arr1"
   ]
  },
  {
   "cell_type": "code",
   "execution_count": 48,
   "id": "69ef8e8c",
   "metadata": {},
   "outputs": [
    {
     "data": {
      "text/plain": [
       "array([[4, 2, 4, 2, 4, 3, 4, 3, 3, 4],\n",
       "       [3, 1, 3, 2, 4, 1, 4, 2, 2, 2],\n",
       "       [3, 3, 4, 4, 1, 1, 4, 3, 2, 4],\n",
       "       [1, 3, 4, 4, 3, 4, 3, 2, 3, 3]])"
      ]
     },
     "execution_count": 48,
     "metadata": {},
     "output_type": "execute_result"
    }
   ],
   "source": [
    "arr2"
   ]
  },
  {
   "cell_type": "code",
   "execution_count": 49,
   "id": "ed69d198",
   "metadata": {},
   "outputs": [
    {
     "data": {
      "text/plain": [
       "array([[14, 18, 27, 24, 21, 21, 24, 16, 19, 22],\n",
       "       [18, 14, 25, 20, 23, 15, 26, 16, 17, 20],\n",
       "       [29, 23, 40, 32, 35, 24, 41, 26, 27, 33],\n",
       "       [20, 12, 24, 18, 24, 12, 27, 16, 16, 19],\n",
       "       [25, 17, 30, 22, 25, 17, 31, 21, 20, 27]])"
      ]
     },
     "execution_count": 49,
     "metadata": {},
     "output_type": "execute_result"
    }
   ],
   "source": [
    "newarr = np.dot(arr1, arr2)\n",
    "newarr"
   ]
  },
  {
   "cell_type": "code",
   "execution_count": 50,
   "id": "a5bcb183",
   "metadata": {},
   "outputs": [
    {
     "data": {
      "text/plain": [
       "(5, 10)"
      ]
     },
     "execution_count": 50,
     "metadata": {},
     "output_type": "execute_result"
    }
   ],
   "source": [
    "newarr.shape"
   ]
  },
  {
   "cell_type": "markdown",
   "id": "2c5ccbd8",
   "metadata": {},
   "source": [
    "dot method also comes inside the array object."
   ]
  },
  {
   "cell_type": "code",
   "execution_count": 51,
   "id": "6f5f8f2c",
   "metadata": {},
   "outputs": [
    {
     "data": {
      "text/plain": [
       "array([[14, 18, 27, 24, 21, 21, 24, 16, 19, 22],\n",
       "       [18, 14, 25, 20, 23, 15, 26, 16, 17, 20],\n",
       "       [29, 23, 40, 32, 35, 24, 41, 26, 27, 33],\n",
       "       [20, 12, 24, 18, 24, 12, 27, 16, 16, 19],\n",
       "       [25, 17, 30, 22, 25, 17, 31, 21, 20, 27]])"
      ]
     },
     "execution_count": 51,
     "metadata": {},
     "output_type": "execute_result"
    }
   ],
   "source": [
    "arr1.dot(arr2)"
   ]
  },
  {
   "cell_type": "markdown",
   "id": "30ebd627",
   "metadata": {},
   "source": [
    "You might have two arrays in shapes of (5, 4) and (10, 4) and be asked to find the dot product."
   ]
  },
  {
   "cell_type": "code",
   "execution_count": 52,
   "id": "97996ceb",
   "metadata": {},
   "outputs": [],
   "source": [
    "arr1 = np.random.randint(1, 5, size = (5, 4))\n",
    "arr2 = np.random.randint(1, 5, size = (10, 4))"
   ]
  },
  {
   "cell_type": "code",
   "execution_count": 53,
   "id": "59dcb39b",
   "metadata": {},
   "outputs": [
    {
     "ename": "ValueError",
     "evalue": "shapes (5,4) and (10,4) not aligned: 4 (dim 1) != 10 (dim 0)",
     "output_type": "error",
     "traceback": [
      "\u001b[1;31m---------------------------------------------------------------------------\u001b[0m",
      "\u001b[1;31mValueError\u001b[0m                                Traceback (most recent call last)",
      "Cell \u001b[1;32mIn [53], line 1\u001b[0m\n\u001b[1;32m----> 1\u001b[0m arr1\u001b[38;5;241m.\u001b[39mdot(arr2)\n",
      "\u001b[1;31mValueError\u001b[0m: shapes (5,4) and (10,4) not aligned: 4 (dim 1) != 10 (dim 0)"
     ]
    }
   ],
   "source": [
    "arr1.dot(arr2)"
   ]
  },
  {
   "cell_type": "markdown",
   "id": "6e7773a8",
   "metadata": {},
   "source": [
    "Dimensions do not match (broadcasting is violated). Let's use transpose of one array and see the results."
   ]
  },
  {
   "cell_type": "code",
   "execution_count": 54,
   "id": "be0aaede",
   "metadata": {},
   "outputs": [
    {
     "data": {
      "text/plain": [
       "(4, 10)"
      ]
     },
     "execution_count": 54,
     "metadata": {},
     "output_type": "execute_result"
    }
   ],
   "source": [
    "arr2_T = arr2.T\n",
    "arr2_T.shape"
   ]
  },
  {
   "cell_type": "code",
   "execution_count": 55,
   "id": "6a34c5eb",
   "metadata": {},
   "outputs": [
    {
     "data": {
      "text/plain": [
       "(5, 10)"
      ]
     },
     "execution_count": 55,
     "metadata": {},
     "output_type": "execute_result"
    }
   ],
   "source": [
    "newarr = arr1.dot(arr2_T)\n",
    "newarr.shape"
   ]
  },
  {
   "cell_type": "markdown",
   "id": "0bc97f59",
   "metadata": {},
   "source": [
    "What if we could get transpose of first array instead of second?"
   ]
  },
  {
   "cell_type": "code",
   "execution_count": 56,
   "id": "e6f69518",
   "metadata": {},
   "outputs": [],
   "source": [
    "arr1_T = arr1.T"
   ]
  },
  {
   "cell_type": "code",
   "execution_count": 57,
   "id": "3047de1e",
   "metadata": {},
   "outputs": [
    {
     "data": {
      "text/plain": [
       "(4, 5)"
      ]
     },
     "execution_count": 57,
     "metadata": {},
     "output_type": "execute_result"
    }
   ],
   "source": [
    "arr1_T.shape"
   ]
  },
  {
   "cell_type": "code",
   "execution_count": 58,
   "id": "3e8e2131",
   "metadata": {},
   "outputs": [
    {
     "data": {
      "text/plain": [
       "(10, 4)"
      ]
     },
     "execution_count": 58,
     "metadata": {},
     "output_type": "execute_result"
    }
   ],
   "source": [
    "arr2.shape"
   ]
  },
  {
   "cell_type": "code",
   "execution_count": 59,
   "id": "5cbb2f7a",
   "metadata": {},
   "outputs": [],
   "source": [
    "newarr = arr2.dot(arr1_T)"
   ]
  },
  {
   "cell_type": "code",
   "execution_count": 67,
   "id": "48afb54a",
   "metadata": {},
   "outputs": [
    {
     "data": {
      "text/plain": [
       "(10, 5)"
      ]
     },
     "execution_count": 67,
     "metadata": {},
     "output_type": "execute_result"
    }
   ],
   "source": [
    "newarr.shape"
   ]
  },
  {
   "cell_type": "code",
   "execution_count": 68,
   "id": "97133376",
   "metadata": {},
   "outputs": [],
   "source": [
    "arr_dot = arr1.dot(arr2_T)"
   ]
  },
  {
   "cell_type": "code",
   "execution_count": 69,
   "id": "d9fc5f1c",
   "metadata": {},
   "outputs": [
    {
     "data": {
      "text/plain": [
       "True"
      ]
     },
     "execution_count": 69,
     "metadata": {},
     "output_type": "execute_result"
    }
   ],
   "source": [
    "np.all(newarr.T == arr_dot)"
   ]
  },
  {
   "cell_type": "markdown",
   "id": "9e18ef3f",
   "metadata": {},
   "source": [
    "Transpose of the array from dot product matches the previously determined results."
   ]
  },
  {
   "cell_type": "markdown",
   "id": "5b5da9f6",
   "metadata": {},
   "source": [
    "Dot product between vector-like arrays."
   ]
  },
  {
   "cell_type": "code",
   "execution_count": 70,
   "id": "3b0a90d9",
   "metadata": {},
   "outputs": [],
   "source": [
    "vec1 = np.random.randint(1, 10, size=(2, 1))\n",
    "vec2 = np.random.randint(1, 10, size=(2, 1))"
   ]
  },
  {
   "cell_type": "code",
   "execution_count": 71,
   "id": "45b58946",
   "metadata": {},
   "outputs": [
    {
     "data": {
      "text/plain": [
       "array([[87]])"
      ]
     },
     "execution_count": 71,
     "metadata": {},
     "output_type": "execute_result"
    }
   ],
   "source": [
    "vec2.T.dot(vec1)"
   ]
  },
  {
   "cell_type": "code",
   "execution_count": 72,
   "id": "c1ae645e",
   "metadata": {},
   "outputs": [
    {
     "data": {
      "text/plain": [
       "array([[87]])"
      ]
     },
     "execution_count": 72,
     "metadata": {},
     "output_type": "execute_result"
    }
   ],
   "source": [
    "vec1.T.dot(vec2)"
   ]
  },
  {
   "cell_type": "code",
   "execution_count": 73,
   "id": "1093557e",
   "metadata": {},
   "outputs": [
    {
     "data": {
      "text/plain": [
       "array([[81, 18],\n",
       "       [27,  6]])"
      ]
     },
     "execution_count": 73,
     "metadata": {},
     "output_type": "execute_result"
    }
   ],
   "source": [
    "vec1.dot(vec2.T)"
   ]
  },
  {
   "cell_type": "code",
   "execution_count": 75,
   "id": "6bca2230",
   "metadata": {},
   "outputs": [
    {
     "data": {
      "text/plain": [
       "array([[81, 27],\n",
       "       [18,  6]])"
      ]
     },
     "execution_count": 75,
     "metadata": {},
     "output_type": "execute_result"
    }
   ],
   "source": [
    "vec2.dot(vec1.T)"
   ]
  },
  {
   "cell_type": "markdown",
   "id": "330fc52b",
   "metadata": {},
   "source": [
    "## <a id='inverse'>Inverse</a>"
   ]
  },
  {
   "cell_type": "markdown",
   "id": "ed7d7dcf",
   "metadata": {},
   "source": [
    "We use np.linalg.inv to determine the inverse of matrix."
   ]
  },
  {
   "cell_type": "code",
   "execution_count": 76,
   "id": "df73cf7d",
   "metadata": {},
   "outputs": [],
   "source": [
    "np.random.seed(42)\n",
    "arr = np.random.randint(1, 20, size = (3, 3))"
   ]
  },
  {
   "cell_type": "code",
   "execution_count": 77,
   "id": "a129be78",
   "metadata": {},
   "outputs": [],
   "source": [
    "arr_inv = np.linalg.inv(arr)"
   ]
  },
  {
   "cell_type": "code",
   "execution_count": 78,
   "id": "34b74582",
   "metadata": {},
   "outputs": [
    {
     "data": {
      "text/plain": [
       "array([[-0.11994698,  0.04042412,  0.13783963],\n",
       "       [ 0.11729622, -0.06163022, -0.02982107],\n",
       "       [ 0.0072896 ,  0.05831677, -0.04705103]])"
      ]
     },
     "execution_count": 78,
     "metadata": {},
     "output_type": "execute_result"
    }
   ],
   "source": [
    "arr_inv"
   ]
  },
  {
   "cell_type": "markdown",
   "id": "bb4b814b",
   "metadata": {},
   "source": [
    "Checking if the matrix is really inverse of another matrix."
   ]
  },
  {
   "cell_type": "code",
   "execution_count": 80,
   "id": "b67f42a0",
   "metadata": {},
   "outputs": [
    {
     "data": {
      "text/plain": [
       "array([[ 1.00000000e+00, -2.77555756e-17, -2.08166817e-17],\n",
       "       [ 5.20417043e-17,  1.00000000e+00, -7.63278329e-17],\n",
       "       [ 1.24900090e-16,  5.55111512e-17,  1.00000000e+00]])"
      ]
     },
     "execution_count": 80,
     "metadata": {},
     "output_type": "execute_result"
    }
   ],
   "source": [
    "arr_identity = arr.dot(arr_inv)\n",
    "arr_identity"
   ]
  },
  {
   "cell_type": "code",
   "execution_count": 81,
   "id": "0fb019be",
   "metadata": {},
   "outputs": [
    {
     "data": {
      "text/plain": [
       "array([[ 1., -0., -0.],\n",
       "       [ 0.,  1., -0.],\n",
       "       [ 0.,  0.,  1.]])"
      ]
     },
     "execution_count": 81,
     "metadata": {},
     "output_type": "execute_result"
    }
   ],
   "source": [
    "arr_identity.round()"
   ]
  },
  {
   "cell_type": "markdown",
   "id": "2c6f878f",
   "metadata": {},
   "source": [
    "If the dot product of these two matrices is an identity matrix, then they are inverse to each other."
   ]
  },
  {
   "cell_type": "markdown",
   "id": "a828fa6b",
   "metadata": {},
   "source": [
    "## <a id='det'>Determinant</a>"
   ]
  },
  {
   "cell_type": "markdown",
   "id": "ef6d2f83",
   "metadata": {},
   "source": [
    "np.linalg.det is used to find determinant of the matrix."
   ]
  },
  {
   "cell_type": "code",
   "execution_count": 82,
   "id": "653c8e4d",
   "metadata": {},
   "outputs": [],
   "source": [
    "np.random.seed(42)\n",
    "arr = np.random.randint(1, 10, size = (2, 2))"
   ]
  },
  {
   "cell_type": "code",
   "execution_count": 83,
   "id": "17294945",
   "metadata": {},
   "outputs": [
    {
     "data": {
      "text/plain": [
       "array([[7, 4],\n",
       "       [8, 5]])"
      ]
     },
     "execution_count": 83,
     "metadata": {},
     "output_type": "execute_result"
    }
   ],
   "source": [
    "arr"
   ]
  },
  {
   "cell_type": "code",
   "execution_count": 84,
   "id": "909c1930",
   "metadata": {},
   "outputs": [
    {
     "data": {
      "text/plain": [
       "3.0"
      ]
     },
     "execution_count": 84,
     "metadata": {},
     "output_type": "execute_result"
    }
   ],
   "source": [
    "round(np.linalg.det(arr), 3)"
   ]
  },
  {
   "cell_type": "markdown",
   "id": "8fb4be22",
   "metadata": {},
   "source": [
    "# <a id='axis'>Axes</a>"
   ]
  },
  {
   "cell_type": "markdown",
   "id": "2753802b",
   "metadata": {},
   "source": [
    "## <a id='understanding-axis'>Understanding Axes</a>"
   ]
  },
  {
   "cell_type": "markdown",
   "id": "f2488c9b",
   "metadata": {},
   "source": [
    "[SharpSightLabs's article](https://www.sharpsightlabs.com/blog/numpy-axes-explained/)"
   ]
  },
  {
   "cell_type": "markdown",
   "id": "41a5ad45",
   "metadata": {},
   "source": [
    "An axis is a specific dimension in the array shape. For example, when you are dealing with indexing, you sometimes refer to (a) specific axis (axes) to call values from the array. \n",
    "\n",
    "Given an array in the shape of (4, 5), we request to first axis as follows: "
   ]
  },
  {
   "cell_type": "code",
   "execution_count": 85,
   "id": "4fe4735d",
   "metadata": {},
   "outputs": [],
   "source": [
    "arr = np.arange(1, 21).reshape(4, 5)"
   ]
  },
  {
   "cell_type": "code",
   "execution_count": 86,
   "id": "a6da694c",
   "metadata": {},
   "outputs": [
    {
     "data": {
      "text/plain": [
       "(4, 5)"
      ]
     },
     "execution_count": 86,
     "metadata": {},
     "output_type": "execute_result"
    }
   ],
   "source": [
    "arr.shape"
   ]
  },
  {
   "cell_type": "code",
   "execution_count": 87,
   "id": "f8df54b9",
   "metadata": {},
   "outputs": [
    {
     "data": {
      "text/plain": [
       "array([1, 2, 3, 4, 5])"
      ]
     },
     "execution_count": 87,
     "metadata": {},
     "output_type": "execute_result"
    }
   ],
   "source": [
    "arr[0]"
   ]
  },
  {
   "cell_type": "code",
   "execution_count": 88,
   "id": "88d1de0d",
   "metadata": {},
   "outputs": [
    {
     "data": {
      "text/plain": [
       "array([ 6,  7,  8,  9, 10])"
      ]
     },
     "execution_count": 88,
     "metadata": {},
     "output_type": "execute_result"
    }
   ],
   "source": [
    "arr[1]"
   ]
  },
  {
   "cell_type": "code",
   "execution_count": 89,
   "id": "0ad5fbd6",
   "metadata": {},
   "outputs": [
    {
     "data": {
      "text/plain": [
       "array([11, 12, 13, 14, 15])"
      ]
     },
     "execution_count": 89,
     "metadata": {},
     "output_type": "execute_result"
    }
   ],
   "source": [
    "arr[2]"
   ]
  },
  {
   "cell_type": "code",
   "execution_count": 90,
   "id": "c396a823",
   "metadata": {},
   "outputs": [
    {
     "data": {
      "text/plain": [
       "array([16, 17, 18, 19, 20])"
      ]
     },
     "execution_count": 90,
     "metadata": {},
     "output_type": "execute_result"
    }
   ],
   "source": [
    "arr[3]"
   ]
  },
  {
   "cell_type": "markdown",
   "id": "904ecacd",
   "metadata": {},
   "source": [
    "Each time, we input an index to first axis and obtain arrays. We can do the same with second axis."
   ]
  },
  {
   "cell_type": "code",
   "execution_count": 91,
   "id": "e9e4d243",
   "metadata": {},
   "outputs": [
    {
     "data": {
      "text/plain": [
       "array([ 1,  6, 11, 16])"
      ]
     },
     "execution_count": 91,
     "metadata": {},
     "output_type": "execute_result"
    }
   ],
   "source": [
    "arr[:, 0]"
   ]
  },
  {
   "cell_type": "code",
   "execution_count": 93,
   "id": "fcbaa0f6",
   "metadata": {},
   "outputs": [
    {
     "data": {
      "text/plain": [
       "array([ 2,  7, 12, 17])"
      ]
     },
     "execution_count": 93,
     "metadata": {},
     "output_type": "execute_result"
    }
   ],
   "source": [
    "arr[:, 1]"
   ]
  },
  {
   "cell_type": "code",
   "execution_count": 92,
   "id": "02040f5a",
   "metadata": {},
   "outputs": [
    {
     "data": {
      "text/plain": [
       "array([ 3,  8, 13, 18])"
      ]
     },
     "execution_count": 92,
     "metadata": {},
     "output_type": "execute_result"
    }
   ],
   "source": [
    "arr[:, 2]"
   ]
  },
  {
   "cell_type": "markdown",
   "id": "91b6ccf0",
   "metadata": {},
   "source": [
    "Or both at once."
   ]
  },
  {
   "cell_type": "code",
   "execution_count": 94,
   "id": "4c59c383",
   "metadata": {},
   "outputs": [
    {
     "data": {
      "text/plain": [
       "5"
      ]
     },
     "execution_count": 94,
     "metadata": {},
     "output_type": "execute_result"
    }
   ],
   "source": [
    "arr[0, 4]"
   ]
  },
  {
   "cell_type": "markdown",
   "id": "65e36159",
   "metadata": {},
   "source": [
    "Indexing is not the same with axis. Axis shows ith dimension while indexing is done via a dimension(s). For instance, we could call several indexes at first axis."
   ]
  },
  {
   "cell_type": "markdown",
   "id": "643fcd0e",
   "metadata": {},
   "source": [
    "By now, we said first or second axes, but to be compatible with NumPy zero-indexed logic, we should paraphrase them as 0th or 1st axes, respectively."
   ]
  },
  {
   "cell_type": "markdown",
   "id": "aa72a28d",
   "metadata": {},
   "source": [
    "SharpSightLabs provides a pretty good example on their previously referred article to explain axes. Given a 2D array - matrix,\n",
    "\n",
    "0th axis -> rows \n",
    "\n",
    "1st axis -> columns"
   ]
  },
  {
   "attachments": {
    "axis%20example.png": {
     "image/png": "[encoded data removed]"
    }
   },
   "cell_type": "markdown",
   "id": "077b2315",
   "metadata": {},
   "source": [
    "![axis%20example.png](attachment:axis%20example.png)"
   ]
  },
  {
   "cell_type": "markdown",
   "id": "53863f9c",
   "metadata": {},
   "source": [
    "This one below is not from that article. So, don't go back to the article to look for it. The image created in ExCel illustrates how 3D array would look like if we should have constructed values in a correct arrangement. It is like extending the prior 2D array to 3D array by adding axis=2."
   ]
  },
  {
   "attachments": {
    "3D%20axes.png": {
     "image/png": "[encoded data removed]"
    }
   },
   "cell_type": "markdown",
   "id": "5753d70f",
   "metadata": {},
   "source": [
    "![3D%20axes.png](attachment:3D%20axes.png)"
   ]
  },
  {
   "cell_type": "markdown",
   "id": "47db7924",
   "metadata": {},
   "source": [
    "## <a id='operations'>Operations with Axes</a>"
   ]
  },
  {
   "cell_type": "markdown",
   "id": "45e1ab68",
   "metadata": {},
   "source": [
    "### <a id='sum-axis'>Axes in Sum</a>"
   ]
  },
  {
   "cell_type": "markdown",
   "id": "e41893df",
   "metadata": {},
   "source": [
    "If you will find axes challenging to comprehend, don't you worry. That's everybody's problems. However, we should keep trying our best to improve our fundamental knowledge of axes."
   ]
  },
  {
   "cell_type": "markdown",
   "id": "0dae2373",
   "metadata": {},
   "source": [
    "Now, imagine you have a 2D array. It contains the points players achieved in two sequential games. The first and second columns contain points of the corresponding games. Let me paraphrase, via axis=1 (columns), we have games.\n",
    "\n",
    "Each row represents individual players. Let me paraphrase again, via axis=0 (rows), we assume separate players.\n",
    "\n",
    "Your task is to get total points of each player and find the winner."
   ]
  },
  {
   "cell_type": "code",
   "execution_count": 3,
   "id": "f8f8cb54",
   "metadata": {},
   "outputs": [],
   "source": [
    "points = np.array([\n",
    "    [20, 80],\n",
    "    [40, 70],\n",
    "    [100, 0],\n",
    "    [45, 14],\n",
    "    [90, 43],\n",
    "    [10, 100],\n",
    "    [39, 49],\n",
    "    [54, 30]\n",
    "])"
   ]
  },
  {
   "cell_type": "code",
   "execution_count": 96,
   "id": "e294a627",
   "metadata": {},
   "outputs": [
    {
     "data": {
      "text/plain": [
       "(8, 2)"
      ]
     },
     "execution_count": 96,
     "metadata": {},
     "output_type": "execute_result"
    }
   ],
   "source": [
    "points.shape"
   ]
  },
  {
   "cell_type": "markdown",
   "id": "dde59b79",
   "metadata": {},
   "source": [
    "So, we got an array in the shape of (8, 2). Axis=0 indicates players and axis=1 indicates games. We have a couple of points for each player. What we want is to get sum of those points in each row. Let's get it manually by using element-wise addition!"
   ]
  },
  {
   "cell_type": "markdown",
   "id": "d6fdab89",
   "metadata": {},
   "source": [
    "Via axis=1, we take columns separately as first_game and second_game. By using element-wise addition, we can get a new array of total points."
   ]
  },
  {
   "cell_type": "code",
   "execution_count": 97,
   "id": "a8b50c9d",
   "metadata": {},
   "outputs": [],
   "source": [
    "first_game = points[:, 0]\n",
    "second_game = points[:, 1]"
   ]
  },
  {
   "cell_type": "code",
   "execution_count": 98,
   "id": "8e7e5edb",
   "metadata": {},
   "outputs": [
    {
     "data": {
      "text/plain": [
       "array([ 20,  40, 100,  45,  90,  10,  39,  54])"
      ]
     },
     "execution_count": 98,
     "metadata": {},
     "output_type": "execute_result"
    }
   ],
   "source": [
    "first_game"
   ]
  },
  {
   "cell_type": "code",
   "execution_count": 99,
   "id": "7de24116",
   "metadata": {},
   "outputs": [
    {
     "data": {
      "text/plain": [
       "array([ 80,  70,   0,  14,  43, 100,  49,  30])"
      ]
     },
     "execution_count": 99,
     "metadata": {},
     "output_type": "execute_result"
    }
   ],
   "source": [
    "second_game"
   ]
  },
  {
   "cell_type": "code",
   "execution_count": 100,
   "id": "79f54cee",
   "metadata": {},
   "outputs": [
    {
     "data": {
      "text/plain": [
       "array([100, 110, 100,  59, 133, 110,  88,  84])"
      ]
     },
     "execution_count": 100,
     "metadata": {},
     "output_type": "execute_result"
    }
   ],
   "source": [
    "results = first_game + second_game\n",
    "results"
   ]
  },
  {
   "cell_type": "code",
   "execution_count": 102,
   "id": "152a7822",
   "metadata": {},
   "outputs": [
    {
     "data": {
      "text/plain": [
       "133"
      ]
     },
     "execution_count": 102,
     "metadata": {},
     "output_type": "execute_result"
    }
   ],
   "source": [
    "results.max()"
   ]
  },
  {
   "cell_type": "code",
   "execution_count": 103,
   "id": "bdfff4b2",
   "metadata": {},
   "outputs": [
    {
     "data": {
      "text/plain": [
       "4"
      ]
     },
     "execution_count": 103,
     "metadata": {},
     "output_type": "execute_result"
    }
   ],
   "source": [
    "# argmax returns the index of maximum value in the array (and at given axis)\n",
    "results.argmax()"
   ]
  },
  {
   "cell_type": "markdown",
   "id": "7651c7a2",
   "metadata": {},
   "source": [
    "Obviously, the winner is at 4th index with total points of 133.\n",
    "\n",
    "Via axis=1, we obtained element-wise addition results or, let's say, sum as total points in the new array. Fortunately, sum method provides axis parameter that should be input as 1."
   ]
  },
  {
   "cell_type": "code",
   "execution_count": 105,
   "id": "1fe41e69",
   "metadata": {},
   "outputs": [
    {
     "data": {
      "text/plain": [
       "array([100, 110, 100,  59, 133, 110,  88,  84])"
      ]
     },
     "execution_count": 105,
     "metadata": {},
     "output_type": "execute_result"
    }
   ],
   "source": [
    "np.sum(points, axis=1)"
   ]
  },
  {
   "cell_type": "code",
   "execution_count": 104,
   "id": "e0c6ba6d",
   "metadata": {},
   "outputs": [
    {
     "data": {
      "text/plain": [
       "array([100, 110, 100,  59, 133, 110,  88,  84])"
      ]
     },
     "execution_count": 104,
     "metadata": {},
     "output_type": "execute_result"
    }
   ],
   "source": [
    "# or\n",
    "points.sum(axis=1)"
   ]
  },
  {
   "cell_type": "markdown",
   "id": "3a6efc96",
   "metadata": {},
   "source": [
    "A new task. This time, we have 12 rows indicating 12 months of data with 5 columns for each customer. The fictional data provided by a bank is used to track their customers' overall money transaction timely. Obtain overall money change of each customer in their bank accounts for the last year."
   ]
  },
  {
   "cell_type": "code",
   "execution_count": 106,
   "id": "044533f1",
   "metadata": {},
   "outputs": [],
   "source": [
    "data = np.array([\n",
    "    [-54, 48, -21, 17, 63],\n",
    "    [46, -81, 84, 45, -54],\n",
    "    [-52, -87, 42, 58, -100],\n",
    "    [16, -47, 17, -98, 43],\n",
    "    [84, -89, -27, -85, 99],\n",
    "    [1, 51, 55, 16, -93],\n",
    "    [21, -9, 63, -11, 35],\n",
    "    [85, -41, 77, -73, 0],\n",
    "    [-60, 91, 54, 90, 44],\n",
    "    [100, 60, 56, 40, -55],\n",
    "    [-66, 33, -19, 14, 96],\n",
    "    [-54, 52, 93, -91, -45]])"
   ]
  },
  {
   "cell_type": "code",
   "execution_count": 107,
   "id": "d5b2c4c2",
   "metadata": {},
   "outputs": [
    {
     "data": {
      "text/plain": [
       "(12, 5)"
      ]
     },
     "execution_count": 107,
     "metadata": {},
     "output_type": "execute_result"
    }
   ],
   "source": [
    "data.shape"
   ]
  },
  {
   "cell_type": "markdown",
   "id": "2fee66c1",
   "metadata": {},
   "source": [
    "Always pay attention to what you want to get. The target is the year - 12 months is to sum 12 months of each customer money transaction. \n",
    "\n",
    "* months -> axis=0\n",
    "* customers -> axis=1"
   ]
  },
  {
   "cell_type": "code",
   "execution_count": 108,
   "id": "783cf419",
   "metadata": {},
   "outputs": [
    {
     "data": {
      "text/plain": [
       "array([ 67, -19, 474, -78,  33])"
      ]
     },
     "execution_count": 108,
     "metadata": {},
     "output_type": "execute_result"
    }
   ],
   "source": [
    "money = data.sum(axis=0)\n",
    "money"
   ]
  },
  {
   "cell_type": "code",
   "execution_count": 109,
   "id": "602e0a31",
   "metadata": {},
   "outputs": [
    {
     "data": {
      "text/plain": [
       "(5,)"
      ]
     },
     "execution_count": 109,
     "metadata": {},
     "output_type": "execute_result"
    }
   ],
   "source": [
    "money.shape"
   ]
  },
  {
   "cell_type": "markdown",
   "id": "915b3558",
   "metadata": {},
   "source": [
    "You might also be asked to get average monthly money transaction. You just divide money array by 12."
   ]
  },
  {
   "cell_type": "code",
   "execution_count": 110,
   "id": "fc457d5f",
   "metadata": {},
   "outputs": [
    {
     "data": {
      "text/plain": [
       "array([ 5.58333333, -1.58333333, 39.5       , -6.5       ,  2.75      ])"
      ]
     },
     "execution_count": 110,
     "metadata": {},
     "output_type": "execute_result"
    }
   ],
   "source": [
    "money / 12"
   ]
  },
  {
   "cell_type": "markdown",
   "id": "4510b979",
   "metadata": {},
   "source": [
    "If you want to get average representation like above, you can use mean function."
   ]
  },
  {
   "cell_type": "code",
   "execution_count": 111,
   "id": "5f7eb768",
   "metadata": {},
   "outputs": [
    {
     "data": {
      "text/plain": [
       "array([ 5.58333333, -1.58333333, 39.5       , -6.5       ,  2.75      ])"
      ]
     },
     "execution_count": 111,
     "metadata": {},
     "output_type": "execute_result"
    }
   ],
   "source": [
    "data.mean(axis=0)"
   ]
  },
  {
   "cell_type": "markdown",
   "id": "6854183b",
   "metadata": {},
   "source": [
    "I want you to look at axis from another point of view. I hope you observed how different shapes of input and output arrays are. For example, we moved from (12, 5) to (5, ) in the second task via axis=1. In the first task via axis=0, it was from (8, 2) to (8, ).\n",
    "\n",
    "Whatever we chose as axis value, the shape was changed accordingly. \n",
    "\n",
    "Given a shape of (m, n), if you want to sum at axis=0, you will get (n, ) array. In other words, at axis=1, it returns (m, ).\n",
    "\n",
    "It doesn't mean you will always eliminate the dimension corresponding to the chosen axis. It depends on your operations. For aggregation functions, such as sum, mean, max, min, etc. most of the time it works like that, but you will see some other different examples as well."
   ]
  },
  {
   "cell_type": "markdown",
   "id": "511e8562",
   "metadata": {},
   "source": [
    "So, let's suppose we have a 3D array in the shape of (m, n, c). We are asked to get sum separately at axis=0, 1, and 2. Let's investigate how shapes change."
   ]
  },
  {
   "cell_type": "code",
   "execution_count": 112,
   "id": "89689544",
   "metadata": {},
   "outputs": [],
   "source": [
    "arr = np.random.randint(1, 256, size=(5, 10, 2))"
   ]
  },
  {
   "cell_type": "code",
   "execution_count": 113,
   "id": "bf3e783a",
   "metadata": {},
   "outputs": [
    {
     "name": "stdout",
     "output_type": "stream",
     "text": [
      "(5, 10, 2)\n",
      "(10, 2)\n",
      "(5, 2)\n",
      "(5, 10)\n"
     ]
    }
   ],
   "source": [
    "print(arr.shape)\n",
    "\n",
    "arr_sum_0 = arr.sum(axis=0)\n",
    "print(arr_sum_0.shape)\n",
    "\n",
    "arr_sum_1 = arr.sum(axis=1)\n",
    "print(arr_sum_1.shape)\n",
    "\n",
    "arr_sum_2 = arr.sum(axis=2)\n",
    "print(arr_sum_2.shape)"
   ]
  },
  {
   "cell_type": "markdown",
   "id": "55e0e0f6",
   "metadata": {},
   "source": [
    "The same idea! Eliminate the corresponding axis and concatenate the other dimension indicators, finally you got the resulting shape."
   ]
  },
  {
   "cell_type": "markdown",
   "id": "c5882c05",
   "metadata": {},
   "source": [
    "### <a id='other-axis'>Axes in Other Functions</a>"
   ]
  },
  {
   "cell_type": "markdown",
   "id": "14837f8b",
   "metadata": {},
   "source": [
    "Try with max, min, mean, prod, std, np.median, var, and more."
   ]
  },
  {
   "cell_type": "code",
   "execution_count": 8,
   "id": "f159bd1d",
   "metadata": {},
   "outputs": [
    {
     "data": {
      "text/plain": [
       "array([[[119,  94],\n",
       "        [150,  38],\n",
       "        [ 74,  35],\n",
       "        [134,  82],\n",
       "        [163,  55],\n",
       "        [127,  49],\n",
       "        [ 36, 210],\n",
       "        [174, 149],\n",
       "        [133,  30],\n",
       "        [ 30, 232]],\n",
       "\n",
       "       [[139,   8],\n",
       "        [157, 109],\n",
       "        [229,  11],\n",
       "        [242, 148],\n",
       "        [203, 207],\n",
       "        [206, 175],\n",
       "        [245,  12],\n",
       "        [ 42, 243],\n",
       "        [155,  33],\n",
       "        [107,   5]],\n",
       "\n",
       "       [[196, 158],\n",
       "        [ 67, 217],\n",
       "        [ 71, 186],\n",
       "        [ 51, 120],\n",
       "        [195,  85],\n",
       "        [153, 130],\n",
       "        [142, 189],\n",
       "        [147,  88],\n",
       "        [ 69, 151],\n",
       "        [ 39, 189]],\n",
       "\n",
       "       [[133,  69],\n",
       "        [184, 160],\n",
       "        [250,  49],\n",
       "        [166, 159],\n",
       "        [ 71, 252],\n",
       "        [129, 254],\n",
       "        [ 80,  93],\n",
       "        [ 84,  70],\n",
       "        [183,  16],\n",
       "        [ 49,  63]],\n",
       "\n",
       "       [[215, 159],\n",
       "        [183,  67],\n",
       "        [245,  84],\n",
       "        [104, 150],\n",
       "        [213, 210],\n",
       "        [223,  63],\n",
       "        [  8, 203],\n",
       "        [186,  64],\n",
       "        [244, 203],\n",
       "        [ 62, 155]]])"
      ]
     },
     "execution_count": 8,
     "metadata": {},
     "output_type": "execute_result"
    }
   ],
   "source": [
    "arr = np.random.randint(1, 256, size=(5, 10, 2))\n",
    "arr"
   ]
  },
  {
   "cell_type": "code",
   "execution_count": 19,
   "id": "1af23f4f",
   "metadata": {},
   "outputs": [
    {
     "data": {
      "text/plain": [
       "(10, 2)"
      ]
     },
     "execution_count": 19,
     "metadata": {},
     "output_type": "execute_result"
    }
   ],
   "source": [
    "arr \\\n",
    ".max(axis=0) \\\n",
    ".shape"
   ]
  },
  {
   "cell_type": "code",
   "execution_count": 22,
   "id": "ed642010",
   "metadata": {},
   "outputs": [
    {
     "data": {
      "text/plain": [
       "(5, 2)"
      ]
     },
     "execution_count": 22,
     "metadata": {},
     "output_type": "execute_result"
    }
   ],
   "source": [
    "arr.max(axis=1) \\\n",
    ".shape"
   ]
  },
  {
   "cell_type": "code",
   "execution_count": 117,
   "id": "36f75ed5",
   "metadata": {},
   "outputs": [
    {
     "data": {
      "text/plain": [
       "(5, 10)"
      ]
     },
     "execution_count": 117,
     "metadata": {},
     "output_type": "execute_result"
    }
   ],
   "source": [
    "arr.max(axis=2).shape"
   ]
  },
  {
   "cell_type": "markdown",
   "id": "4a63cac3",
   "metadata": {},
   "source": [
    "You can try the above yourself. I am rather opening this subsection for the discussion of another function. np.concatenate.\n",
    "\n",
    "When dealing with axis, it doesn't mean each operation must return the shape where the prior exis was eliminated. The approach is just used to understand what's going on behind the operation from outer look. However, there is another operation where we can observe the value of the corresponding axis increases but the others did not change. See the below example."
   ]
  },
  {
   "cell_type": "code",
   "execution_count": null,
   "id": "16d01c6c",
   "metadata": {},
   "outputs": [],
   "source": [
    "# arr1 = np.random.randint(1, 20, size = (2, 3))\n",
    "# arr2 = np.random.randint(1, 20, size = (2, 4))\n",
    "\n",
    "# print(arr1.shape)\n",
    "# print(arr2.shape)"
   ]
  },
  {
   "cell_type": "code",
   "execution_count": 25,
   "id": "72c2c9b0",
   "metadata": {},
   "outputs": [
    {
     "name": "stdout",
     "output_type": "stream",
     "text": [
      "(2, 2)\n",
      "(1, 2)\n"
     ]
    }
   ],
   "source": [
    "arr1 = np.random.randint(1, 20, size = (2, 2))\n",
    "arr2 = np.random.randint(1, 20, size = (1, 2))\n",
    "\n",
    "print(arr1.shape)\n",
    "print(arr2.shape)"
   ]
  },
  {
   "cell_type": "code",
   "execution_count": 26,
   "id": "24924280",
   "metadata": {},
   "outputs": [
    {
     "data": {
      "text/plain": [
       "array([[11, 17],\n",
       "       [ 5, 10]])"
      ]
     },
     "execution_count": 26,
     "metadata": {},
     "output_type": "execute_result"
    }
   ],
   "source": [
    "arr1"
   ]
  },
  {
   "cell_type": "code",
   "execution_count": 27,
   "id": "cf9db3e4",
   "metadata": {},
   "outputs": [
    {
     "data": {
      "text/plain": [
       "array([[16,  4]])"
      ]
     },
     "execution_count": 27,
     "metadata": {},
     "output_type": "execute_result"
    }
   ],
   "source": [
    "arr2"
   ]
  },
  {
   "cell_type": "markdown",
   "id": "2a95019d",
   "metadata": {},
   "source": [
    "I want to concatenate these two arrays. "
   ]
  },
  {
   "cell_type": "code",
   "execution_count": 32,
   "id": "4f364271",
   "metadata": {},
   "outputs": [
    {
     "data": {
      "text/plain": [
       "array([[11, 17],\n",
       "       [ 5, 10],\n",
       "       [16,  4]])"
      ]
     },
     "execution_count": 32,
     "metadata": {},
     "output_type": "execute_result"
    }
   ],
   "source": [
    "arr_conc = np.concatenate([arr1, arr2])\n",
    "arr_conc.shape\n",
    "arr_conc"
   ]
  },
  {
   "cell_type": "code",
   "execution_count": 37,
   "id": "9a6a78f8",
   "metadata": {},
   "outputs": [
    {
     "data": {
      "text/plain": [
       "(3, 2)"
      ]
     },
     "execution_count": 37,
     "metadata": {},
     "output_type": "execute_result"
    }
   ],
   "source": [
    "# or\n",
    "arr_conc = np.concatenate([arr1, arr2], axis=0)\n",
    "arr_conc.shape\n",
    "# help(np.add_docstring)"
   ]
  },
  {
   "cell_type": "markdown",
   "id": "cbf01c4f",
   "metadata": {},
   "source": [
    "In the first example, I concatenated two arrays without providing axis value while the second cell showed the way with axis=0. Output is the same since concatenate function sets axis=0 by default in case of not being input as shown in the image."
   ]
  },
  {
   "attachments": {
    "concatenate_help.png": {
     "image/png": "[encoded data removed]"
    }
   },
   "cell_type": "markdown",
   "id": "5294464f",
   "metadata": {},
   "source": [
    "![concatenate_help.png](attachment:concatenate_help.png)"
   ]
  },
  {
   "cell_type": "markdown",
   "id": "61e62742",
   "metadata": {},
   "source": [
    "Now, coming to understanding why axis=0, it is because we want to concatenate via axis=0. It means, given shapes of (2, 2) and (1, 2), We are interested in getting (3, 2).\n",
    "\n",
    "The image illustrates the case with rectangles  and circles. "
   ]
  },
  {
   "attachments": {
    "concatenation%20simulation.png": {
     "image/png": "[encoded data removed]"
    }
   },
   "cell_type": "markdown",
   "id": "bcdf3586",
   "metadata": {},
   "source": [
    "![concatenation%20simulation.png](attachment:concatenation%20simulation.png)"
   ]
  },
  {
   "cell_type": "markdown",
   "id": "75f13250",
   "metadata": {},
   "source": [
    "One array in the shape of (2, 2) contains 2 rectangles via axis=0 and 2 circle for each via axis=1. Another array in the shape of (2, 1) has a rectanle with two circle. We see that in both cases we have two circles for each rectangle. \n",
    "\n",
    "If you have two rectangles and one rectangle as different arrays and concatenate them together, you will get 3 rectangles. If you have 2 circles inside each rectangle before concatenation, your final results should contains such rectangles that has 2 circles again. In our case, it turns out 3 rectangles, too, with 2 circles."
   ]
  },
  {
   "cell_type": "markdown",
   "id": "0cf48439",
   "metadata": {},
   "source": [
    "In this example, we concatenate via axis=1."
   ]
  },
  {
   "cell_type": "code",
   "execution_count": 38,
   "id": "3daf5318",
   "metadata": {},
   "outputs": [],
   "source": [
    "arr1 = np.random.randint(1, 20, size = (2, 1))\n",
    "arr2 = np.random.randint(1, 20, size = (2, 2))"
   ]
  },
  {
   "cell_type": "code",
   "execution_count": 39,
   "id": "f204fa1b",
   "metadata": {},
   "outputs": [
    {
     "data": {
      "text/plain": [
       "((2, 1), (2, 2))"
      ]
     },
     "execution_count": 39,
     "metadata": {},
     "output_type": "execute_result"
    }
   ],
   "source": [
    "arr1.shape, arr2.shape"
   ]
  },
  {
   "cell_type": "code",
   "execution_count": 40,
   "id": "747baf39",
   "metadata": {},
   "outputs": [
    {
     "data": {
      "text/plain": [
       "(2, 3)"
      ]
     },
     "execution_count": 40,
     "metadata": {},
     "output_type": "execute_result"
    }
   ],
   "source": [
    "arr_conc = np.concatenate([arr1, arr2], axis=1)\n",
    "arr_conc.shape"
   ]
  },
  {
   "cell_type": "markdown",
   "id": "3a076519",
   "metadata": {},
   "source": [
    "Let's increase the number of dimensions."
   ]
  },
  {
   "cell_type": "markdown",
   "id": "47e408c5",
   "metadata": {},
   "source": [
    "axis=0 example"
   ]
  },
  {
   "cell_type": "code",
   "execution_count": 41,
   "id": "6a463817",
   "metadata": {},
   "outputs": [
    {
     "name": "stdout",
     "output_type": "stream",
     "text": [
      "(2, 4, 5)\n",
      "(3, 4, 5)\n"
     ]
    }
   ],
   "source": [
    "arr1 = np.random.randint(1, 20, size = (2, 4, 5))\n",
    "arr2 = np.random.randint(1, 20, size = (3, 4, 5))\n",
    "\n",
    "print(arr1.shape)\n",
    "print(arr2.shape)"
   ]
  },
  {
   "cell_type": "code",
   "execution_count": 42,
   "id": "1dbf4485",
   "metadata": {},
   "outputs": [
    {
     "data": {
      "text/plain": [
       "(5, 4, 5)"
      ]
     },
     "execution_count": 42,
     "metadata": {},
     "output_type": "execute_result"
    }
   ],
   "source": [
    "arr_conc = np.concatenate((arr1, arr2), axis=0)\n",
    "arr_conc.shape"
   ]
  },
  {
   "cell_type": "code",
   "execution_count": 43,
   "id": "0dc452a4",
   "metadata": {},
   "outputs": [
    {
     "data": {
      "text/plain": [
       "(5, 4, 5)"
      ]
     },
     "execution_count": 43,
     "metadata": {},
     "output_type": "execute_result"
    }
   ],
   "source": [
    "# or\n",
    "arr_conc = np.concatenate((arr1, arr2))\n",
    "arr_conc.shape"
   ]
  },
  {
   "cell_type": "markdown",
   "id": "4155516c",
   "metadata": {},
   "source": [
    "axis=1 example"
   ]
  },
  {
   "cell_type": "code",
   "execution_count": 44,
   "id": "f76da1cb",
   "metadata": {},
   "outputs": [
    {
     "name": "stdout",
     "output_type": "stream",
     "text": [
      "(2, 4, 5)\n",
      "(2, 3, 5)\n"
     ]
    }
   ],
   "source": [
    "arr1 = np.random.randint(1, 20, size = (2, 4, 5))\n",
    "arr2 = np.random.randint(1, 20, size = (2, 3, 5))\n",
    "print(arr1.shape)\n",
    "print(arr2.shape)"
   ]
  },
  {
   "cell_type": "code",
   "execution_count": 46,
   "id": "275437aa",
   "metadata": {},
   "outputs": [
    {
     "data": {
      "text/plain": [
       "(2, 7, 5)"
      ]
     },
     "execution_count": 46,
     "metadata": {},
     "output_type": "execute_result"
    }
   ],
   "source": [
    "arr_conc = np.concatenate((arr1, arr2), axis=1)\n",
    "arr_conc.shape"
   ]
  },
  {
   "cell_type": "markdown",
   "id": "98b94612",
   "metadata": {},
   "source": [
    "axis=2 example"
   ]
  },
  {
   "cell_type": "code",
   "execution_count": 47,
   "id": "405b4295",
   "metadata": {},
   "outputs": [
    {
     "name": "stdout",
     "output_type": "stream",
     "text": [
      "(2, 4, 5)\n",
      "(2, 4, 8)\n"
     ]
    }
   ],
   "source": [
    "arr1 = np.random.randint(1, 20, size = (2, 4, 5))\n",
    "arr2 = np.random.randint(1, 20, size = (2, 4, 8))\n",
    "\n",
    "print(arr1.shape)\n",
    "print(arr2.shape)"
   ]
  },
  {
   "cell_type": "code",
   "execution_count": 48,
   "id": "9c69d554",
   "metadata": {},
   "outputs": [
    {
     "data": {
      "text/plain": [
       "(2, 4, 13)"
      ]
     },
     "execution_count": 48,
     "metadata": {},
     "output_type": "execute_result"
    }
   ],
   "source": [
    "arr_conc = np.concatenate((arr1, arr2), axis=2)\n",
    "arr_conc.shape"
   ]
  },
  {
   "cell_type": "code",
   "execution_count": 49,
   "id": "bafc68bf",
   "metadata": {},
   "outputs": [
    {
     "data": {
      "text/plain": [
       "(2, 4, 13)"
      ]
     },
     "execution_count": 49,
     "metadata": {},
     "output_type": "execute_result"
    }
   ],
   "source": [
    "# or\n",
    "arr_conc = np.concatenate((arr1, arr2), axis=-1)\n",
    "arr_conc.shape"
   ]
  },
  {
   "cell_type": "markdown",
   "id": "500c3f18",
   "metadata": {},
   "source": [
    "Finally, boolean functions, such as any and all also expect axis parameter."
   ]
  },
  {
   "cell_type": "code",
   "execution_count": 54,
   "id": "37439503",
   "metadata": {},
   "outputs": [],
   "source": [
    "one_arr = np.ones((3, 5, 1))\n",
    "# one_arr"
   ]
  },
  {
   "cell_type": "code",
   "execution_count": 55,
   "id": "f32429f7",
   "metadata": {},
   "outputs": [
    {
     "data": {
      "text/plain": [
       "(3, 5, 1)"
      ]
     },
     "execution_count": 55,
     "metadata": {},
     "output_type": "execute_result"
    }
   ],
   "source": [
    "one_arr.shape"
   ]
  },
  {
   "cell_type": "code",
   "execution_count": 61,
   "id": "8d876d12",
   "metadata": {},
   "outputs": [
    {
     "data": {
      "text/plain": [
       "(5, 1)"
      ]
     },
     "execution_count": 61,
     "metadata": {},
     "output_type": "execute_result"
    }
   ],
   "source": [
    "one_arr.all(axis=0) \\\n",
    ".shape\n"
   ]
  },
  {
   "cell_type": "code",
   "execution_count": 65,
   "id": "17cb9b65",
   "metadata": {},
   "outputs": [
    {
     "data": {
      "text/plain": [
       "(3, 1)"
      ]
     },
     "execution_count": 65,
     "metadata": {},
     "output_type": "execute_result"
    }
   ],
   "source": [
    "one_arr.all(axis=1) \\\n",
    ".shape"
   ]
  },
  {
   "cell_type": "code",
   "execution_count": 66,
   "id": "65b4cbcb",
   "metadata": {},
   "outputs": [
    {
     "data": {
      "text/plain": [
       "(3, 5)"
      ]
     },
     "execution_count": 66,
     "metadata": {},
     "output_type": "execute_result"
    }
   ],
   "source": [
    "one_arr.all(axis=2).shape"
   ]
  },
  {
   "cell_type": "code",
   "execution_count": 67,
   "id": "bce589fc",
   "metadata": {},
   "outputs": [
    {
     "data": {
      "text/plain": [
       "True"
      ]
     },
     "execution_count": 67,
     "metadata": {},
     "output_type": "execute_result"
    }
   ],
   "source": [
    "one_arr.all(axis=None)"
   ]
  },
  {
   "cell_type": "code",
   "execution_count": 68,
   "id": "18789271",
   "metadata": {},
   "outputs": [
    {
     "data": {
      "text/plain": [
       "(3, 5)"
      ]
     },
     "execution_count": 68,
     "metadata": {},
     "output_type": "execute_result"
    }
   ],
   "source": [
    "one_arr.any(axis=2).shape"
   ]
  },
  {
   "cell_type": "code",
   "execution_count": 69,
   "id": "70ed54d0",
   "metadata": {},
   "outputs": [
    {
     "data": {
      "text/plain": [
       "True"
      ]
     },
     "execution_count": 69,
     "metadata": {},
     "output_type": "execute_result"
    }
   ],
   "source": [
    "one_arr.any(axis=None)"
   ]
  }
 ],
 "metadata": {
  "kernelspec": {
   "display_name": "Python 3 (ipykernel)",
   "language": "python",
   "name": "python3"
  },
  "language_info": {
   "codemirror_mode": {
    "name": "ipython",
    "version": 3
   },
   "file_extension": ".py",
   "mimetype": "text/x-python",
   "name": "python",
   "nbconvert_exporter": "python",
   "pygments_lexer": "ipython3",
   "version": "3.9.1"
  }
 },
 "nbformat": 4,
 "nbformat_minor": 5
}

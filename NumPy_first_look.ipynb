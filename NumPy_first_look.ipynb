{
  "nbformat": 4,
  "nbformat_minor": 0,
  "metadata": {
    "colab": {
      "provenance": [],
      "authorship_tag": "ABX9TyPn+LerEIyPqkISkvK/Xpqa"
    },
    "kernelspec": {
      "name": "python3",
      "display_name": "Python 3"
    },
    "language_info": {
      "name": "python"
    }
  },
  "cells": [
    {
      "cell_type": "code",
      "execution_count": null,
      "metadata": {
        "id": "o_uBLusUs-76"
      },
      "outputs": [],
      "source": [
        "import numpy as np"
      ]
    },
    {
      "cell_type": "code",
      "source": [
        "a1 = np.array([1, 2, 3])\n",
        "\n",
        "a1"
      ],
      "metadata": {
        "id": "f7d2fB7mtGrt"
      },
      "execution_count": null,
      "outputs": []
    },
    {
      "cell_type": "code",
      "source": [
        "a1.ndim, a1.shape, a1.dtype, type(a1), a1.size"
      ],
      "metadata": {
        "id": "I46BqYd_ugBT"
      },
      "execution_count": null,
      "outputs": []
    },
    {
      "cell_type": "code",
      "source": [
        "a2 = np.array([\n",
        "    [1, 2, 3],\n",
        "    [4, 5, 6]\n",
        "               ])\n",
        "\n",
        "a2.ndim, a2.shape, a2.dtype, type(a2), a2.size"
      ],
      "metadata": {
        "id": "WKqWajRauuWy"
      },
      "execution_count": null,
      "outputs": []
    },
    {
      "cell_type": "code",
      "source": [
        "a3 = np.array([[[1, 2, 3],\n",
        "                [4, 5, 6]],\n",
        "\n",
        "               [[5, 6, 7],\n",
        "                [2, 3, 4]]])\n",
        "\n",
        "a3.ndim, a3.shape, a3.dtype, type(a3), a3.size"
      ],
      "metadata": {
        "id": "5I1InqCdvfip"
      },
      "execution_count": null,
      "outputs": []
    },
    {
      "cell_type": "code",
      "source": [
        "a3"
      ],
      "metadata": {
        "id": "8fZdFdm4v5UK"
      },
      "execution_count": null,
      "outputs": []
    },
    {
      "cell_type": "code",
      "source": [
        "np.random.seed(42)\n",
        "random_arr = np.random.randint(0, 10, size=(3, 2, 5, 3))\n",
        "random_arr.ndim, random_arr.shape, random_arr.dtype, type(random_arr), random_arr.size"
      ],
      "metadata": {
        "id": "qyDTVPt_v5-U"
      },
      "execution_count": null,
      "outputs": []
    },
    {
      "cell_type": "code",
      "source": [],
      "metadata": {
        "id": "P7nfrBqCwu7H"
      },
      "execution_count": null,
      "outputs": []
    }
  ]
}
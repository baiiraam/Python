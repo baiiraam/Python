{
 "cells": [
  {
   "cell_type": "markdown",
   "id": "5db8e397",
   "metadata": {},
   "source": [
    "# Exercise"
   ]
  },
  {
   "cell_type": "markdown",
   "id": "1e6381ff",
   "metadata": {},
   "source": [
    "During this exercise, you might want to refer to tutorial 3 and 4 notebooks concerning Pandas library in order to apply necessary methods. Your main exercise is to apply everything at most you covered in Exploratory Data Analysis."
   ]
  },
  {
   "cell_type": "markdown",
   "id": "60781f0c",
   "metadata": {},
   "source": [
    "Import necessary libraries."
   ]
  },
  {
   "cell_type": "code",
   "execution_count": 3,
   "id": "dbdaf4b2",
   "metadata": {},
   "outputs": [],
   "source": [
    "import numpy as np\n",
    "import pandas as pd\n",
    "import matplotlib.pyplot as plt"
   ]
  },
  {
   "cell_type": "markdown",
   "id": "9e967b14",
   "metadata": {},
   "source": [
    "Read the csv file of titanic dataset."
   ]
  },
  {
   "cell_type": "code",
   "execution_count": null,
   "id": "51418a86",
   "metadata": {},
   "outputs": [],
   "source": []
  },
  {
   "cell_type": "markdown",
   "id": "10aab5bc",
   "metadata": {},
   "source": [
    "Start initial trials to explore the dataset by using attributes and functions, such as shape, dtypes, columns, head(), and more. "
   ]
  },
  {
   "cell_type": "code",
   "execution_count": null,
   "id": "593d4449",
   "metadata": {},
   "outputs": [],
   "source": []
  },
  {
   "cell_type": "markdown",
   "id": "ff2a7c70",
   "metadata": {},
   "source": [
    "Use describe method to have general description of the dataset."
   ]
  },
  {
   "cell_type": "code",
   "execution_count": null,
   "id": "0ecafc87",
   "metadata": {},
   "outputs": [],
   "source": []
  },
  {
   "cell_type": "markdown",
   "id": "f9eb2965",
   "metadata": {},
   "source": [
    "Use count method on DataFrame. What do you see?"
   ]
  },
  {
   "cell_type": "code",
   "execution_count": null,
   "id": "84829d22",
   "metadata": {},
   "outputs": [],
   "source": []
  },
  {
   "cell_type": "markdown",
   "id": "51eadf71",
   "metadata": {},
   "source": [
    "Use isna() method with sum() to explore the number of missing values in more details."
   ]
  },
  {
   "cell_type": "code",
   "execution_count": null,
   "id": "b18fafc1",
   "metadata": {},
   "outputs": [],
   "source": []
  },
  {
   "cell_type": "markdown",
   "id": "65ad1d06",
   "metadata": {},
   "source": [
    "Choose one **numerical** column and apply mean(), median(), std(), var(), count(). You can use num_df variable below to do so as it only contains numerical columns from the original DataFrame."
   ]
  },
  {
   "cell_type": "code",
   "execution_count": null,
   "id": "3e240b74",
   "metadata": {},
   "outputs": [],
   "source": [
    "num_df = df.select_dtypes(np.num)"
   ]
  },
  {
   "cell_type": "code",
   "execution_count": null,
   "id": "83e0cfef",
   "metadata": {},
   "outputs": [],
   "source": []
  },
  {
   "cell_type": "markdown",
   "id": "28dfdf41",
   "metadata": {},
   "source": [
    "Investigate categorical columns with value_counts(), unique(), and nunique() methods."
   ]
  },
  {
   "cell_type": "code",
   "execution_count": null,
   "id": "e1ec6205",
   "metadata": {},
   "outputs": [],
   "source": []
  },
  {
   "cell_type": "markdown",
   "id": "272ec957",
   "metadata": {},
   "source": [
    "Apply boolean search operations with **loc** on any column. Challenge yourself with multiple conditions. Use categorical columns as well."
   ]
  },
  {
   "cell_type": "code",
   "execution_count": null,
   "id": "0d23cde2",
   "metadata": {},
   "outputs": [],
   "source": []
  },
  {
   "cell_type": "markdown",
   "id": "7ce49785",
   "metadata": {},
   "source": [
    "Generate a column that represents **Embarked** column numerically."
   ]
  },
  {
   "cell_type": "code",
   "execution_count": null,
   "id": "dbc24f9d",
   "metadata": {},
   "outputs": [],
   "source": []
  },
  {
   "cell_type": "markdown",
   "id": "f883aa73",
   "metadata": {},
   "source": [
    "Plot scatter chart to see relationships between any two numerical columns."
   ]
  },
  {
   "cell_type": "code",
   "execution_count": null,
   "id": "e1945f04",
   "metadata": {},
   "outputs": [],
   "source": []
  },
  {
   "cell_type": "markdown",
   "id": "40721255",
   "metadata": {},
   "source": [
    "# Your Turn"
   ]
  },
  {
   "cell_type": "markdown",
   "id": "aa393029",
   "metadata": {},
   "source": [
    "Try to apply some other functionalities of Pandas we covered. "
   ]
  },
  {
   "cell_type": "code",
   "execution_count": null,
   "id": "6e51b16b",
   "metadata": {},
   "outputs": [],
   "source": []
  },
  {
   "cell_type": "markdown",
   "id": "4dffa406",
   "metadata": {},
   "source": [
    "# Modelling"
   ]
  },
  {
   "cell_type": "markdown",
   "id": "1a5b6c01",
   "metadata": {},
   "source": [
    "You will now use Linear Regression model in pure NumPy (with Pandas). This is the simplest example of this model since we ignore training part and only consider prediction, which is too easy! The following steps should be done:\n",
    "* Read random_sample.csv file. Check data frame shape. Choose columns - column_1, column_2, column_3 and assign new data frame to X. Get NumPy array of X by using *values* attribute. Check X.shape.\n",
    "* Choose the target column from the DataFrame, obtain NumPy array of it, and name it y variable. Check y.shape. If it is 1D, reshape it to (1000, 1).\n",
    "* Define the weights of **[25.97, 98.36, 81.87]** as a NumPy array. Reshape it to (3, 1).\n",
    "* Each weight is related to the column in their corresponding index. For instance, 25.97 of weight defines column_1."
   ]
  },
  {
   "cell_type": "code",
   "execution_count": 20,
   "id": "2f00a490",
   "metadata": {},
   "outputs": [],
   "source": [
    "df = pd.read_csv('data/random_sample.csv')"
   ]
  },
  {
   "cell_type": "code",
   "execution_count": 21,
   "id": "81ffa672",
   "metadata": {},
   "outputs": [
    {
     "data": {
      "text/plain": [
       "(1000, 4)"
      ]
     },
     "execution_count": 21,
     "metadata": {},
     "output_type": "execute_result"
    }
   ],
   "source": [
    "df.shape"
   ]
  },
  {
   "cell_type": "code",
   "execution_count": 22,
   "id": "0778e88f",
   "metadata": {
    "scrolled": true
   },
   "outputs": [
    {
     "data": {
      "text/html": [
       "<div>\n",
       "<style scoped>\n",
       "    .dataframe tbody tr th:only-of-type {\n",
       "        vertical-align: middle;\n",
       "    }\n",
       "\n",
       "    .dataframe tbody tr th {\n",
       "        vertical-align: top;\n",
       "    }\n",
       "\n",
       "    .dataframe thead th {\n",
       "        text-align: right;\n",
       "    }\n",
       "</style>\n",
       "<table border=\"1\" class=\"dataframe\">\n",
       "  <thead>\n",
       "    <tr style=\"text-align: right;\">\n",
       "      <th></th>\n",
       "      <th>column_1</th>\n",
       "      <th>column_2</th>\n",
       "      <th>column_3</th>\n",
       "      <th>target</th>\n",
       "    </tr>\n",
       "  </thead>\n",
       "  <tbody>\n",
       "    <tr>\n",
       "      <th>0</th>\n",
       "      <td>-0.539123</td>\n",
       "      <td>-0.607875</td>\n",
       "      <td>-0.837262</td>\n",
       "      <td>-142.338105</td>\n",
       "    </tr>\n",
       "    <tr>\n",
       "      <th>1</th>\n",
       "      <td>-1.406661</td>\n",
       "      <td>-0.611518</td>\n",
       "      <td>-0.755383</td>\n",
       "      <td>-158.520012</td>\n",
       "    </tr>\n",
       "    <tr>\n",
       "      <th>2</th>\n",
       "      <td>0.681891</td>\n",
       "      <td>1.044161</td>\n",
       "      <td>-0.489439</td>\n",
       "      <td>80.334597</td>\n",
       "    </tr>\n",
       "    <tr>\n",
       "      <th>3</th>\n",
       "      <td>0.015618</td>\n",
       "      <td>-1.405567</td>\n",
       "      <td>-0.370508</td>\n",
       "      <td>-168.176389</td>\n",
       "    </tr>\n",
       "    <tr>\n",
       "      <th>4</th>\n",
       "      <td>1.305479</td>\n",
       "      <td>0.813510</td>\n",
       "      <td>0.825416</td>\n",
       "      <td>181.493775</td>\n",
       "    </tr>\n",
       "  </tbody>\n",
       "</table>\n",
       "</div>"
      ],
      "text/plain": [
       "   column_1  column_2  column_3      target\n",
       "0 -0.539123 -0.607875 -0.837262 -142.338105\n",
       "1 -1.406661 -0.611518 -0.755383 -158.520012\n",
       "2  0.681891  1.044161 -0.489439   80.334597\n",
       "3  0.015618 -1.405567 -0.370508 -168.176389\n",
       "4  1.305479  0.813510  0.825416  181.493775"
      ]
     },
     "execution_count": 22,
     "metadata": {},
     "output_type": "execute_result"
    }
   ],
   "source": [
    "df.head()"
   ]
  },
  {
   "cell_type": "code",
   "execution_count": 23,
   "id": "adfbff71",
   "metadata": {},
   "outputs": [
    {
     "data": {
      "text/plain": [
       "Index(['column_1', 'column_2', 'column_3', 'target'], dtype='object')"
      ]
     },
     "execution_count": 23,
     "metadata": {},
     "output_type": "execute_result"
    }
   ],
   "source": [
    "df.columns"
   ]
  },
  {
   "cell_type": "code",
   "execution_count": 30,
   "id": "26fa0155",
   "metadata": {},
   "outputs": [],
   "source": [
    "X = df[['column_1', 'column_2', 'column_3']]"
   ]
  },
  {
   "cell_type": "code",
   "execution_count": 31,
   "id": "128de325",
   "metadata": {},
   "outputs": [
    {
     "data": {
      "text/html": [
       "<div>\n",
       "<style scoped>\n",
       "    .dataframe tbody tr th:only-of-type {\n",
       "        vertical-align: middle;\n",
       "    }\n",
       "\n",
       "    .dataframe tbody tr th {\n",
       "        vertical-align: top;\n",
       "    }\n",
       "\n",
       "    .dataframe thead th {\n",
       "        text-align: right;\n",
       "    }\n",
       "</style>\n",
       "<table border=\"1\" class=\"dataframe\">\n",
       "  <thead>\n",
       "    <tr style=\"text-align: right;\">\n",
       "      <th></th>\n",
       "      <th>column_1</th>\n",
       "      <th>column_2</th>\n",
       "      <th>column_3</th>\n",
       "    </tr>\n",
       "  </thead>\n",
       "  <tbody>\n",
       "    <tr>\n",
       "      <th>0</th>\n",
       "      <td>-0.539123</td>\n",
       "      <td>-0.607875</td>\n",
       "      <td>-0.837262</td>\n",
       "    </tr>\n",
       "    <tr>\n",
       "      <th>1</th>\n",
       "      <td>-1.406661</td>\n",
       "      <td>-0.611518</td>\n",
       "      <td>-0.755383</td>\n",
       "    </tr>\n",
       "    <tr>\n",
       "      <th>2</th>\n",
       "      <td>0.681891</td>\n",
       "      <td>1.044161</td>\n",
       "      <td>-0.489439</td>\n",
       "    </tr>\n",
       "    <tr>\n",
       "      <th>3</th>\n",
       "      <td>0.015618</td>\n",
       "      <td>-1.405567</td>\n",
       "      <td>-0.370508</td>\n",
       "    </tr>\n",
       "    <tr>\n",
       "      <th>4</th>\n",
       "      <td>1.305479</td>\n",
       "      <td>0.813510</td>\n",
       "      <td>0.825416</td>\n",
       "    </tr>\n",
       "    <tr>\n",
       "      <th>...</th>\n",
       "      <td>...</td>\n",
       "      <td>...</td>\n",
       "      <td>...</td>\n",
       "    </tr>\n",
       "    <tr>\n",
       "      <th>995</th>\n",
       "      <td>0.224685</td>\n",
       "      <td>-0.399636</td>\n",
       "      <td>1.726964</td>\n",
       "    </tr>\n",
       "    <tr>\n",
       "      <th>996</th>\n",
       "      <td>-0.147780</td>\n",
       "      <td>-0.508140</td>\n",
       "      <td>-1.220712</td>\n",
       "    </tr>\n",
       "    <tr>\n",
       "      <th>997</th>\n",
       "      <td>0.640480</td>\n",
       "      <td>-0.466495</td>\n",
       "      <td>0.996571</td>\n",
       "    </tr>\n",
       "    <tr>\n",
       "      <th>998</th>\n",
       "      <td>-1.138833</td>\n",
       "      <td>0.622207</td>\n",
       "      <td>0.300474</td>\n",
       "    </tr>\n",
       "    <tr>\n",
       "      <th>999</th>\n",
       "      <td>-0.956436</td>\n",
       "      <td>-1.293273</td>\n",
       "      <td>0.719758</td>\n",
       "    </tr>\n",
       "  </tbody>\n",
       "</table>\n",
       "<p>1000 rows × 3 columns</p>\n",
       "</div>"
      ],
      "text/plain": [
       "     column_1  column_2  column_3\n",
       "0   -0.539123 -0.607875 -0.837262\n",
       "1   -1.406661 -0.611518 -0.755383\n",
       "2    0.681891  1.044161 -0.489439\n",
       "3    0.015618 -1.405567 -0.370508\n",
       "4    1.305479  0.813510  0.825416\n",
       "..        ...       ...       ...\n",
       "995  0.224685 -0.399636  1.726964\n",
       "996 -0.147780 -0.508140 -1.220712\n",
       "997  0.640480 -0.466495  0.996571\n",
       "998 -1.138833  0.622207  0.300474\n",
       "999 -0.956436 -1.293273  0.719758\n",
       "\n",
       "[1000 rows x 3 columns]"
      ]
     },
     "execution_count": 31,
     "metadata": {},
     "output_type": "execute_result"
    }
   ],
   "source": [
    "X"
   ]
  },
  {
   "cell_type": "code",
   "execution_count": 32,
   "id": "32a5e3ef",
   "metadata": {},
   "outputs": [],
   "source": [
    "X = X.values"
   ]
  },
  {
   "cell_type": "code",
   "execution_count": 33,
   "id": "d1648062",
   "metadata": {},
   "outputs": [
    {
     "data": {
      "text/plain": [
       "array([[-0.5391227 , -0.60787526, -0.83726243],\n",
       "       [-1.4066611 , -0.6115178 , -0.75538293],\n",
       "       [ 0.68189149,  1.04416088, -0.48943944],\n",
       "       ...,\n",
       "       [ 0.6404798 , -0.46649538,  0.99657051],\n",
       "       [-1.13883312,  0.62220714,  0.30047436],\n",
       "       [-0.95643638, -1.29327296,  0.71975794]])"
      ]
     },
     "execution_count": 33,
     "metadata": {},
     "output_type": "execute_result"
    }
   ],
   "source": [
    "X"
   ]
  },
  {
   "cell_type": "code",
   "execution_count": 34,
   "id": "201cc86f",
   "metadata": {},
   "outputs": [
    {
     "data": {
      "text/plain": [
       "(1000, 3)"
      ]
     },
     "execution_count": 34,
     "metadata": {},
     "output_type": "execute_result"
    }
   ],
   "source": [
    "X.shape"
   ]
  },
  {
   "cell_type": "code",
   "execution_count": null,
   "id": "4ce5e7c8",
   "metadata": {},
   "outputs": [],
   "source": []
  },
  {
   "cell_type": "code",
   "execution_count": 46,
   "id": "10fc55a5",
   "metadata": {},
   "outputs": [
    {
     "data": {
      "text/plain": [
       "(1000, 1)"
      ]
     },
     "execution_count": 46,
     "metadata": {},
     "output_type": "execute_result"
    }
   ],
   "source": [
    "# y = df['target']\n",
    "# y = y.values\n",
    "# y = y.reshape(1000, 1)\n",
    "# y.shape"
   ]
  },
  {
   "cell_type": "code",
   "execution_count": 47,
   "id": "02419e9b",
   "metadata": {},
   "outputs": [],
   "source": [
    "y = df[['target']]"
   ]
  },
  {
   "cell_type": "code",
   "execution_count": 49,
   "id": "82861b4c",
   "metadata": {},
   "outputs": [
    {
     "data": {
      "text/html": [
       "<div>\n",
       "<style scoped>\n",
       "    .dataframe tbody tr th:only-of-type {\n",
       "        vertical-align: middle;\n",
       "    }\n",
       "\n",
       "    .dataframe tbody tr th {\n",
       "        vertical-align: top;\n",
       "    }\n",
       "\n",
       "    .dataframe thead th {\n",
       "        text-align: right;\n",
       "    }\n",
       "</style>\n",
       "<table border=\"1\" class=\"dataframe\">\n",
       "  <thead>\n",
       "    <tr style=\"text-align: right;\">\n",
       "      <th></th>\n",
       "      <th>target</th>\n",
       "    </tr>\n",
       "  </thead>\n",
       "  <tbody>\n",
       "    <tr>\n",
       "      <th>0</th>\n",
       "      <td>-142.338105</td>\n",
       "    </tr>\n",
       "    <tr>\n",
       "      <th>1</th>\n",
       "      <td>-158.520012</td>\n",
       "    </tr>\n",
       "    <tr>\n",
       "      <th>2</th>\n",
       "      <td>80.334597</td>\n",
       "    </tr>\n",
       "    <tr>\n",
       "      <th>3</th>\n",
       "      <td>-168.176389</td>\n",
       "    </tr>\n",
       "    <tr>\n",
       "      <th>4</th>\n",
       "      <td>181.493775</td>\n",
       "    </tr>\n",
       "    <tr>\n",
       "      <th>...</th>\n",
       "      <td>...</td>\n",
       "    </tr>\n",
       "    <tr>\n",
       "      <th>995</th>\n",
       "      <td>107.920980</td>\n",
       "    </tr>\n",
       "    <tr>\n",
       "      <th>996</th>\n",
       "      <td>-153.761065</td>\n",
       "    </tr>\n",
       "    <tr>\n",
       "      <th>997</th>\n",
       "      <td>52.341674</td>\n",
       "    </tr>\n",
       "    <tr>\n",
       "      <th>998</th>\n",
       "      <td>56.227124</td>\n",
       "    </tr>\n",
       "    <tr>\n",
       "      <th>999</th>\n",
       "      <td>-93.108472</td>\n",
       "    </tr>\n",
       "  </tbody>\n",
       "</table>\n",
       "<p>1000 rows × 1 columns</p>\n",
       "</div>"
      ],
      "text/plain": [
       "         target\n",
       "0   -142.338105\n",
       "1   -158.520012\n",
       "2     80.334597\n",
       "3   -168.176389\n",
       "4    181.493775\n",
       "..          ...\n",
       "995  107.920980\n",
       "996 -153.761065\n",
       "997   52.341674\n",
       "998   56.227124\n",
       "999  -93.108472\n",
       "\n",
       "[1000 rows x 1 columns]"
      ]
     },
     "execution_count": 49,
     "metadata": {},
     "output_type": "execute_result"
    }
   ],
   "source": [
    "y"
   ]
  },
  {
   "cell_type": "code",
   "execution_count": 50,
   "id": "a96b05a6",
   "metadata": {},
   "outputs": [],
   "source": [
    "y = y.values"
   ]
  },
  {
   "cell_type": "code",
   "execution_count": 51,
   "id": "3716d2d3",
   "metadata": {},
   "outputs": [
    {
     "data": {
      "text/plain": [
       "(1000, 1)"
      ]
     },
     "execution_count": 51,
     "metadata": {},
     "output_type": "execute_result"
    }
   ],
   "source": [
    "y.shape"
   ]
  },
  {
   "cell_type": "code",
   "execution_count": null,
   "id": "25c31da6",
   "metadata": {},
   "outputs": [],
   "source": []
  },
  {
   "cell_type": "code",
   "execution_count": 52,
   "id": "4ba5a2db",
   "metadata": {},
   "outputs": [],
   "source": [
    "w = [25.97, 98.36, 81.87]"
   ]
  },
  {
   "cell_type": "code",
   "execution_count": 55,
   "id": "c92affdb",
   "metadata": {},
   "outputs": [
    {
     "data": {
      "text/plain": [
       "Index(['column_1', 'column_2', 'column_3', 'target'], dtype='object')"
      ]
     },
     "execution_count": 55,
     "metadata": {},
     "output_type": "execute_result"
    }
   ],
   "source": [
    "df.columns"
   ]
  },
  {
   "cell_type": "code",
   "execution_count": 56,
   "id": "a62effdd",
   "metadata": {},
   "outputs": [],
   "source": [
    "w = np.array(w)"
   ]
  },
  {
   "cell_type": "code",
   "execution_count": 57,
   "id": "90a442b2",
   "metadata": {},
   "outputs": [
    {
     "data": {
      "text/plain": [
       "(3,)"
      ]
     },
     "execution_count": 57,
     "metadata": {},
     "output_type": "execute_result"
    }
   ],
   "source": [
    "w.shape"
   ]
  },
  {
   "cell_type": "code",
   "execution_count": 58,
   "id": "8eea2364",
   "metadata": {},
   "outputs": [],
   "source": [
    "w = w.reshape(3, 1)"
   ]
  },
  {
   "cell_type": "code",
   "execution_count": 59,
   "id": "47a5f9e2",
   "metadata": {},
   "outputs": [
    {
     "data": {
      "text/plain": [
       "(3, 1)"
      ]
     },
     "execution_count": 59,
     "metadata": {},
     "output_type": "execute_result"
    }
   ],
   "source": [
    "w.shape"
   ]
  },
  {
   "cell_type": "code",
   "execution_count": 60,
   "id": "f3dd8cd8",
   "metadata": {},
   "outputs": [
    {
     "data": {
      "text/plain": [
       "array([[25.97],\n",
       "       [98.36],\n",
       "       [81.87]])"
      ]
     },
     "execution_count": 60,
     "metadata": {},
     "output_type": "execute_result"
    }
   ],
   "source": [
    "# weights\n",
    "w"
   ]
  },
  {
   "cell_type": "code",
   "execution_count": null,
   "id": "302836a1",
   "metadata": {},
   "outputs": [],
   "source": []
  },
  {
   "cell_type": "markdown",
   "id": "31848b3f",
   "metadata": {},
   "source": [
    "To make a prediction, you just need to write the folliwing in your code. "
   ]
  },
  {
   "attachments": {
    "prediction.png": {
     "image/png": "[encoded data removed]"
    }
   },
   "cell_type": "markdown",
   "id": "a74dc3fc",
   "metadata": {},
   "source": [
    "![prediction.png](attachment:prediction.png)"
   ]
  },
  {
   "cell_type": "markdown",
   "id": "e96b766e",
   "metadata": {},
   "source": [
    "Here, **y** in the formula is not the same with **y** we defined for our target column. It is a set of predictions based on the given X features and w parameters. You can rename it as \"pred\" or \"prediction\" in the code."
   ]
  },
  {
   "cell_type": "code",
   "execution_count": 63,
   "id": "256ee967",
   "metadata": {},
   "outputs": [
    {
     "data": {
      "text/plain": [
       "(3, 1)"
      ]
     },
     "execution_count": 63,
     "metadata": {},
     "output_type": "execute_result"
    }
   ],
   "source": [
    "w.shape"
   ]
  },
  {
   "cell_type": "code",
   "execution_count": 62,
   "id": "0b8662ea",
   "metadata": {},
   "outputs": [
    {
     "data": {
      "text/plain": [
       "(1000, 3)"
      ]
     },
     "execution_count": 62,
     "metadata": {},
     "output_type": "execute_result"
    }
   ],
   "source": [
    "X.shape"
   ]
  },
  {
   "cell_type": "code",
   "execution_count": 64,
   "id": "d7082336",
   "metadata": {},
   "outputs": [],
   "source": [
    "y_pred = X.dot(w)"
   ]
  },
  {
   "cell_type": "code",
   "execution_count": 65,
   "id": "7d289009",
   "metadata": {},
   "outputs": [
    {
     "data": {
      "text/plain": [
       "(1000, 1)"
      ]
     },
     "execution_count": 65,
     "metadata": {},
     "output_type": "execute_result"
    }
   ],
   "source": [
    "y_pred.shape"
   ]
  },
  {
   "cell_type": "code",
   "execution_count": 66,
   "id": "be2103fb",
   "metadata": {},
   "outputs": [
    {
     "data": {
      "text/plain": [
       "(1000, 1)"
      ]
     },
     "execution_count": 66,
     "metadata": {},
     "output_type": "execute_result"
    }
   ],
   "source": [
    "y.shape"
   ]
  },
  {
   "cell_type": "code",
   "execution_count": null,
   "id": "08c93299",
   "metadata": {},
   "outputs": [],
   "source": []
  },
  {
   "cell_type": "markdown",
   "id": "5fb785e1",
   "metadata": {},
   "source": [
    "Now, the next task is to understand the deviation of prediction from y. Apply the below formulas in your code and get their results. "
   ]
  },
  {
   "attachments": {
    "error%20formula-2.png": {
     "image/png": "[encoded data removed]"
    }
   },
   "cell_type": "markdown",
   "id": "1fc4c1d5",
   "metadata": {},
   "source": [
    "![error%20formula-2.png](attachment:error%20formula-2.png)"
   ]
  },
  {
   "cell_type": "code",
   "execution_count": 68,
   "id": "b076b7e9",
   "metadata": {},
   "outputs": [],
   "source": [
    "y_diff = y_pred - y"
   ]
  },
  {
   "cell_type": "code",
   "execution_count": 69,
   "id": "de4110c8",
   "metadata": {},
   "outputs": [
    {
     "data": {
      "text/plain": [
       "(1000, 1)"
      ]
     },
     "execution_count": 69,
     "metadata": {},
     "output_type": "execute_result"
    }
   ],
   "source": [
    "y_diff.shape"
   ]
  },
  {
   "cell_type": "code",
   "execution_count": 72,
   "id": "47e98aab",
   "metadata": {},
   "outputs": [],
   "source": [
    "y_diff = np.abs(y_diff)"
   ]
  },
  {
   "cell_type": "code",
   "execution_count": 75,
   "id": "77d34a7e",
   "metadata": {},
   "outputs": [
    {
     "data": {
      "text/plain": [
       "(1000, 1)"
      ]
     },
     "execution_count": 75,
     "metadata": {},
     "output_type": "execute_result"
    }
   ],
   "source": [
    "y_diff.shape"
   ]
  },
  {
   "cell_type": "code",
   "execution_count": 77,
   "id": "85306266",
   "metadata": {},
   "outputs": [],
   "source": [
    "y_diff_sum = y_diff.sum()"
   ]
  },
  {
   "cell_type": "code",
   "execution_count": 78,
   "id": "833d1ce3",
   "metadata": {},
   "outputs": [
    {
     "data": {
      "text/plain": [
       "4.840896983294722"
      ]
     },
     "execution_count": 78,
     "metadata": {},
     "output_type": "execute_result"
    }
   ],
   "source": [
    "y_diff_sum"
   ]
  },
  {
   "cell_type": "code",
   "execution_count": 80,
   "id": "d4b1914d",
   "metadata": {},
   "outputs": [
    {
     "data": {
      "text/plain": [
       "1000"
      ]
     },
     "execution_count": 80,
     "metadata": {},
     "output_type": "execute_result"
    }
   ],
   "source": [
    "n_samples = y_diff.size\n",
    "n_samples"
   ]
  },
  {
   "cell_type": "code",
   "execution_count": 82,
   "id": "a1b69bad",
   "metadata": {},
   "outputs": [],
   "source": [
    "mae = y_diff_sum / n_samples"
   ]
  },
  {
   "cell_type": "code",
   "execution_count": 83,
   "id": "76069cff",
   "metadata": {},
   "outputs": [
    {
     "data": {
      "text/plain": [
       "0.004840896983294722"
      ]
     },
     "execution_count": 83,
     "metadata": {},
     "output_type": "execute_result"
    }
   ],
   "source": [
    "mae"
   ]
  },
  {
   "cell_type": "code",
   "execution_count": null,
   "id": "4e67d550",
   "metadata": {},
   "outputs": [],
   "source": []
  },
  {
   "cell_type": "markdown",
   "id": "2d8ed10f",
   "metadata": {},
   "source": [
    "In the previous exercise, we already had pre-defined weights (parameters) to make a prediction on the dataset. But how did I get these parameters so that they give me precise results in prediction? \n",
    "\n",
    "Get ready for diving into Calculus in the further tutorials."
   ]
  },
  {
   "cell_type": "code",
   "execution_count": null,
   "id": "f92e4fc4",
   "metadata": {},
   "outputs": [],
   "source": []
  }
 ],
 "metadata": {
  "kernelspec": {
   "display_name": "Python 3 (ipykernel)",
   "language": "python",
   "name": "python3"
  },
  "language_info": {
   "codemirror_mode": {
    "name": "ipython",
    "version": 3
   },
   "file_extension": ".py",
   "mimetype": "text/x-python",
   "name": "python",
   "nbconvert_exporter": "python",
   "pygments_lexer": "ipython3",
   "version": "3.10.7"
  }
 },
 "nbformat": 4,
 "nbformat_minor": 5
}

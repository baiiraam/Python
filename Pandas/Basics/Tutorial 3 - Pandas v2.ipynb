{
 "cells": [
  {
   "cell_type": "markdown",
   "id": "fe5731da",
   "metadata": {
    "jp-MarkdownHeadingCollapsed": true
   },
   "source": [
    "# <a id='contents'>Contents</a>\n",
    "\n",
    "* [Installation](#installation)\n",
    "* [Introduction](#introduction)\n",
    "    * [Why Pandas](#why)\n",
    "    * [Importing](#import)\n",
    "    * [Without Pandas](#without)\n",
    "    * [Simple Creation](#create)\n",
    "* [Similarities with NumPy](#similarities)\n",
    "    * [Properties of DataFrame and Series](#properties)\n",
    "    * [Working with Keys](#keys)\n",
    "    * [Changing Data Types](#astype)\n",
    "    * [General Description of a Dataset](#description)"
   ]
  },
  {
   "cell_type": "markdown",
   "id": "b193d766",
   "metadata": {
    "jp-MarkdownHeadingCollapsed": true
   },
   "source": [
    "# <a id='installation'>Installation</a>"
   ]
  },
  {
   "cell_type": "markdown",
   "id": "c26da4f0",
   "metadata": {},
   "source": [
    "You just need to uncomment and run the below cell. [Pip](https://pypi.org/) is a repository storing Python packages for easier centralized access. Many developers create their own libraries and share them in this platform for particular implementation. Pandas library is one of them and its implementation will be elucidated in further sections. "
   ]
  },
  {
   "cell_type": "code",
   "execution_count": 1,
   "id": "70b5547c",
   "metadata": {},
   "outputs": [],
   "source": [
    "# !pip install pandas -q"
   ]
  },
  {
   "cell_type": "markdown",
   "id": "c03fc816",
   "metadata": {},
   "source": [
    "# <a id='introduction'>Introduction</a>"
   ]
  },
  {
   "cell_type": "markdown",
   "id": "46e529cc",
   "metadata": {},
   "source": [
    "## <a id='why'>Why Pandas?</a>"
   ]
  },
  {
   "cell_type": "markdown",
   "id": "bdad9b77",
   "metadata": {},
   "source": [
    "During the first 2 tutorials, you should have understood that NumPy arrays usually come with homogenous data type, meaning you only have one data type for a given array (excluding **structured NumPy arrays**). However, real world data is mainly collected in multiple data types, such as string, integer, float, etc. It requires a new data structure to handle this kind of data at satisfying speed. This is one of reasons why data scientists use Pandas package. Furthermore, Pandas DataFrame objects provide more interpretable data structure, such as with labels and indexes (like in Excel). For instance, when we want to read data in excel file, we usually prefer Pandas instead of NumPy. For an addition, Pandas is also written on NumPy, leading to explore similarities between those packages."
   ]
  },
  {
   "cell_type": "markdown",
   "id": "d8631547",
   "metadata": {
    "jp-MarkdownHeadingCollapsed": true
   },
   "source": [
    "## <a id='import'>Importing</a>"
   ]
  },
  {
   "cell_type": "markdown",
   "id": "184ba983",
   "metadata": {},
   "source": [
    "By importing, we introduce all methods of the library to our running notebook. Generally accepted notation of Pandas is pd, however, you are not restricted to choose your own notation. In any case, I prefer being stuck with pd. Additionally, we import NumPy package as well for later usage."
   ]
  },
  {
   "cell_type": "code",
   "execution_count": 2,
   "id": "d558635d",
   "metadata": {},
   "outputs": [],
   "source": [
    "import numpy as np\n",
    "import pandas as pd"
   ]
  },
  {
   "cell_type": "markdown",
   "id": "67460092",
   "metadata": {
    "jp-MarkdownHeadingCollapsed": true
   },
   "source": [
    "## <a id='without'>Without Pandas</a>"
   ]
  },
  {
   "cell_type": "markdown",
   "id": "9a3995e9",
   "metadata": {},
   "source": [
    "Let's say you don't have any understanding of pandas and you want to store the data. You have a variety of options as a way of collecting. The first thing that might come to the mind is list or tuple. When you have data with multiple columns like 2D representation, you should deal with nested lists. However, it is better to name each column as a special data structure instead of having pure lists. Dictionaries are the best in this case unless we are not limited to default data types in Python (unlike external packages like NumPy or Pandas). Let's see one example."
   ]
  },
  {
   "cell_type": "code",
   "execution_count": 2,
   "id": "12cd633c",
   "metadata": {},
   "outputs": [],
   "source": [
    "# Don't be surprised if you see your name and surname here.\n",
    "# I chose student names and surnames from our class who participated in the last lecture session. \n",
    "# Age and GPA are randomly-generated\n",
    "\n",
    "data = {\n",
    "    'Name': ['Ulkar', 'Turkan', 'Yusif', 'Zulfiyya', 'Mehin', 'Hijran', 'Suleyman', 'Aykhan', 'Ravan', 'Aysun', 'Yasemen', \n",
    "             'Fatima', 'Nacmin', 'Parvin', 'Ismayil', 'Malik', 'Bilal', 'Farid', 'Muhammed', 'Rasul', 'Ali', 'Khagani', \n",
    "             'Mahammad'\n",
    "            ],\n",
    "    'Surname': ['Nabi', 'Purmukhtari', 'Baghirov', 'Mehdiyeva', 'Aliyeva', 'Shukurlu', 'Mammadzade', 'Seyidli', 'Yusifov', \n",
    "                'Safarova', 'Mammadli', 'Ahmadzade', 'Asgarov', 'Hasanov', 'Masimov', 'Suleymanov', 'Hagverdiyev', \n",
    "                'Mammadov', 'Nuriyev', 'Rasulzade', 'Gasimov', 'Gasimov', 'Mehdi'\n",
    "               ],\n",
    "    'Age': [22, 19, 20, 19, 18, 20, 20, 19, 19, 20, 22, 19, 18, 20, 22, 21, 18, 20, 21, 18, 19, 20, 19],\n",
    "    'GPA': [100,  94,  82,  97,  91,  87,  87,  89,  98,  88,  86,  98,  89, 81,  91,  97,  95,  93,  84,\\\n",
    "            98,  90, 100,  98]\n",
    "}"
   ]
  },
  {
   "cell_type": "markdown",
   "id": "abb07961",
   "metadata": {},
   "source": [
    "We created a dictionary object containing Name, Surname, Age, and GPA keys. What I want is to have the same size of list per key so that the respective indexes can help us to figure out consistencies between columns. See the below examples for the first 5 rows."
   ]
  },
  {
   "cell_type": "code",
   "execution_count": 4,
   "id": "e1975fa1",
   "metadata": {},
   "outputs": [],
   "source": [
    "def get_data_info(index):\n",
    "    print('Name:\\t\\t', data['Name'][index])\n",
    "    print('Surname:\\t', data['Surname'][index])\n",
    "    print('Age:\\t\\t', data['Age'][index])\n",
    "    print('GPA:\\t\\t', data['GPA'][index])"
   ]
  },
  {
   "cell_type": "code",
   "execution_count": 5,
   "id": "113eedf7",
   "metadata": {},
   "outputs": [
    {
     "name": "stdout",
     "output_type": "stream",
     "text": [
      "Name:\t\t Ulkar\n",
      "Surname:\t Nabi\n",
      "Age:\t\t 22\n",
      "GPA:\t\t 100\n"
     ]
    }
   ],
   "source": [
    "get_data_info(0)"
   ]
  },
  {
   "cell_type": "code",
   "execution_count": 6,
   "id": "65f960c8",
   "metadata": {},
   "outputs": [
    {
     "name": "stdout",
     "output_type": "stream",
     "text": [
      "Name:\t\t Turkan\n",
      "Surname:\t Purmukhtari\n",
      "Age:\t\t 19\n",
      "GPA:\t\t 94\n"
     ]
    }
   ],
   "source": [
    "get_data_info(1)"
   ]
  },
  {
   "cell_type": "code",
   "execution_count": 7,
   "id": "3efa3e98",
   "metadata": {},
   "outputs": [
    {
     "name": "stdout",
     "output_type": "stream",
     "text": [
      "Name:\t\t Yusif\n",
      "Surname:\t Baghirov\n",
      "Age:\t\t 20\n",
      "GPA:\t\t 82\n"
     ]
    }
   ],
   "source": [
    "get_data_info(2)"
   ]
  },
  {
   "cell_type": "code",
   "execution_count": 8,
   "id": "2d7c021b",
   "metadata": {
    "scrolled": true
   },
   "outputs": [
    {
     "name": "stdout",
     "output_type": "stream",
     "text": [
      "Name:\t\t Zulfiyya\n",
      "Surname:\t Mehdiyeva\n",
      "Age:\t\t 19\n",
      "GPA:\t\t 97\n"
     ]
    }
   ],
   "source": [
    "get_data_info(3)"
   ]
  },
  {
   "cell_type": "code",
   "execution_count": 9,
   "id": "1bac273f",
   "metadata": {},
   "outputs": [
    {
     "name": "stdout",
     "output_type": "stream",
     "text": [
      "Name:\t\t Mehin\n",
      "Surname:\t Aliyeva\n",
      "Age:\t\t 18\n",
      "GPA:\t\t 91\n"
     ]
    }
   ],
   "source": [
    "get_data_info(4)"
   ]
  },
  {
   "cell_type": "markdown",
   "id": "79a66bfb",
   "metadata": {},
   "source": [
    "Here are some examples to work on that data. If you might be asked to get the mean of GPA in the class, you can write the following."
   ]
  },
  {
   "cell_type": "code",
   "execution_count": 10,
   "id": "afb43947",
   "metadata": {},
   "outputs": [
    {
     "data": {
      "text/plain": [
       "91.87"
      ]
     },
     "execution_count": 10,
     "metadata": {},
     "output_type": "execute_result"
    }
   ],
   "source": [
    "round(\n",
    "    sum(data['GPA'])/len(data['GPA']),\n",
    "    3\n",
    ")"
   ]
  },
  {
   "cell_type": "markdown",
   "id": "07cd0136",
   "metadata": {},
   "source": [
    "Or the highest GPA:"
   ]
  },
  {
   "cell_type": "code",
   "execution_count": 11,
   "id": "678cc62f",
   "metadata": {},
   "outputs": [
    {
     "data": {
      "text/plain": [
       "100"
      ]
     },
     "execution_count": 11,
     "metadata": {},
     "output_type": "execute_result"
    }
   ],
   "source": [
    "max(data['GPA'])"
   ]
  },
  {
   "cell_type": "markdown",
   "id": "1e9403a1",
   "metadata": {},
   "source": [
    "Okay, but who got the max GPA?"
   ]
  },
  {
   "cell_type": "code",
   "execution_count": 12,
   "id": "56964d42",
   "metadata": {},
   "outputs": [
    {
     "data": {
      "text/plain": [
       "'Ulkar Nabi'"
      ]
     },
     "execution_count": 12,
     "metadata": {},
     "output_type": "execute_result"
    }
   ],
   "source": [
    "# Determine highest gpa\n",
    "max_gpa = max(data['GPA'])\n",
    "\n",
    "# Find the index of that gpa\n",
    "index = data['GPA'].index(max_gpa)\n",
    "\n",
    "# Give info about the student\n",
    "data['Name'][index] + ' ' + data['Surname'][index]"
   ]
  },
  {
   "cell_type": "markdown",
   "id": "477021d6",
   "metadata": {},
   "source": [
    "Replacing lists by NumPy arrays can mitigate the number of lines in the code. Let's create the dictionary again."
   ]
  },
  {
   "cell_type": "code",
   "execution_count": 13,
   "id": "2cf604a6",
   "metadata": {},
   "outputs": [],
   "source": [
    "data = {\n",
    "    'Name': np.array(['Ulkar', 'Turkan', 'Yusif', 'Zulfiyya', 'Mehin', 'Hijran', 'Suleyman', 'Aykhan', 'Ravan', 'Aysun', 'Yasemen', \n",
    "             'Fatima', 'Nacmin', 'Parvin', 'Ismayil', 'Malik', 'Bilal', 'Farid', 'Muhammed', 'Rasul', 'Ali', 'Khagani', \n",
    "             'Mahammad'\n",
    "            ]),\n",
    "    'Surname': np.array(['Nabi', 'Purmukhtari', 'Baghirov', 'Mehdiyeva', 'Aliyeva', 'Shukurlu', 'Mammadzade', 'Seyidli', 'Yusifov', \n",
    "                'Safarova', 'Mammadli', 'Ahmadzade', 'Asgarov', 'Hasanov', 'Masimov', 'Suleymanov', 'Hagverdiyev', \n",
    "                'Mammadov', 'Nuriyev', 'Rasulzade', 'Gasimov', 'Gasimov', 'Mehdi'\n",
    "               ]),\n",
    "    'Age': np.array([22, 19, 20, 19, 18, 20, 20, 19, 19, 20, 22, 19, 18, 20, 22, 21, 18, 20, 21, 18, 19, 20, 19]),\n",
    "    'GPA': np.array([100,  94,  82,  97,  91,  87,  87,  89,  98,  88,  86,  98,  89, 81,  91,  97,  95,  93,  84,\\\n",
    "            98,  90, 100,  98])\n",
    "}"
   ]
  },
  {
   "cell_type": "code",
   "execution_count": 14,
   "id": "93f3365e",
   "metadata": {},
   "outputs": [
    {
     "data": {
      "text/plain": [
       "'Ulkar Nabi'"
      ]
     },
     "execution_count": 14,
     "metadata": {},
     "output_type": "execute_result"
    }
   ],
   "source": [
    "index = data['GPA'].argmax()\n",
    "data['Name'][index] + ' ' + data['Surname'][index]"
   ]
  },
  {
   "cell_type": "markdown",
   "id": "e6431e16",
   "metadata": {},
   "source": [
    "In case I want to know the data of all students who got 100:"
   ]
  },
  {
   "cell_type": "code",
   "execution_count": 15,
   "id": "218341ee",
   "metadata": {},
   "outputs": [
    {
     "data": {
      "text/plain": [
       "array([ 0, 21], dtype=int64)"
      ]
     },
     "execution_count": 15,
     "metadata": {},
     "output_type": "execute_result"
    }
   ],
   "source": [
    "indexes = np.where(data['GPA'] == 100)[0]\n",
    "indexes"
   ]
  },
  {
   "cell_type": "code",
   "execution_count": 16,
   "id": "e9a22300",
   "metadata": {},
   "outputs": [
    {
     "data": {
      "text/plain": [
       "array(['Ulkar', 'Khagani'], dtype='<U8')"
      ]
     },
     "execution_count": 16,
     "metadata": {},
     "output_type": "execute_result"
    }
   ],
   "source": [
    "data['Name'][indexes]"
   ]
  },
  {
   "cell_type": "code",
   "execution_count": 17,
   "id": "1a035fb8",
   "metadata": {},
   "outputs": [
    {
     "data": {
      "text/plain": [
       "array(['Nabi', 'Gasimov'], dtype='<U11')"
      ]
     },
     "execution_count": 17,
     "metadata": {},
     "output_type": "execute_result"
    }
   ],
   "source": [
    "data['Surname'][indexes]"
   ]
  },
  {
   "cell_type": "code",
   "execution_count": 18,
   "id": "9e1fad3e",
   "metadata": {},
   "outputs": [
    {
     "data": {
      "text/plain": [
       "array([22, 20])"
      ]
     },
     "execution_count": 18,
     "metadata": {},
     "output_type": "execute_result"
    }
   ],
   "source": [
    "data['Age'][indexes]"
   ]
  },
  {
   "cell_type": "code",
   "execution_count": 19,
   "id": "37269b85",
   "metadata": {},
   "outputs": [
    {
     "data": {
      "text/plain": [
       "array([100, 100])"
      ]
     },
     "execution_count": 19,
     "metadata": {},
     "output_type": "execute_result"
    }
   ],
   "source": [
    "data['GPA'][indexes]"
   ]
  },
  {
   "cell_type": "markdown",
   "id": "be7b6e62",
   "metadata": {},
   "source": [
    "Interpretability of this manipulation is quite low. When you have higher number of elements inside those arrays, you can't analyze easily accordingly. It is difficult to look at their corresponding indexes. \n",
    "\n",
    "And even who could understand this?"
   ]
  },
  {
   "cell_type": "code",
   "execution_count": 20,
   "id": "b8690ded",
   "metadata": {},
   "outputs": [
    {
     "data": {
      "text/plain": [
       "{'Name': array(['Ulkar', 'Turkan', 'Yusif', 'Zulfiyya', 'Mehin', 'Hijran',\n",
       "        'Suleyman', 'Aykhan', 'Ravan', 'Aysun', 'Yasemen', 'Fatima',\n",
       "        'Nacmin', 'Parvin', 'Ismayil', 'Malik', 'Bilal', 'Farid',\n",
       "        'Muhammed', 'Rasul', 'Ali', 'Khagani', 'Mahammad'], dtype='<U8'),\n",
       " 'Surname': array(['Nabi', 'Purmukhtari', 'Baghirov', 'Mehdiyeva', 'Aliyeva',\n",
       "        'Shukurlu', 'Mammadzade', 'Seyidli', 'Yusifov', 'Safarova',\n",
       "        'Mammadli', 'Ahmadzade', 'Asgarov', 'Hasanov', 'Masimov',\n",
       "        'Suleymanov', 'Hagverdiyev', 'Mammadov', 'Nuriyev', 'Rasulzade',\n",
       "        'Gasimov', 'Gasimov', 'Mehdi'], dtype='<U11'),\n",
       " 'Age': array([22, 19, 20, 19, 18, 20, 20, 19, 19, 20, 22, 19, 18, 20, 22, 21, 18,\n",
       "        20, 21, 18, 19, 20, 19]),\n",
       " 'GPA': array([100,  94,  82,  97,  91,  87,  87,  89,  98,  88,  86,  98,  89,\n",
       "         81,  91,  97,  95,  93,  84,  98,  90, 100,  98])}"
      ]
     },
     "execution_count": 20,
     "metadata": {},
     "output_type": "execute_result"
    }
   ],
   "source": [
    "data"
   ]
  },
  {
   "cell_type": "markdown",
   "id": "5d8c3dd5",
   "metadata": {},
   "source": [
    "If we have something like the below as a data structure, analysis becomes dramatically better."
   ]
  },
  {
   "attachments": {
    "sample%20data.png": {
     "image/png": "[encoded data removed]"
    }
   },
   "cell_type": "markdown",
   "id": "e39ad139",
   "metadata": {},
   "source": [
    "![sample%20data.png](attachment:sample%20data.png)"
   ]
  },
  {
   "cell_type": "markdown",
   "id": "eef1a774",
   "metadata": {},
   "source": [
    "Now, see the below."
   ]
  },
  {
   "cell_type": "code",
   "execution_count": 21,
   "id": "39b5e6dd",
   "metadata": {},
   "outputs": [],
   "source": [
    "df = pd.DataFrame(data)"
   ]
  },
  {
   "cell_type": "code",
   "execution_count": 22,
   "id": "75791c64",
   "metadata": {},
   "outputs": [
    {
     "data": {
      "text/html": [
       "<div>\n",
       "<style scoped>\n",
       "    .dataframe tbody tr th:only-of-type {\n",
       "        vertical-align: middle;\n",
       "    }\n",
       "\n",
       "    .dataframe tbody tr th {\n",
       "        vertical-align: top;\n",
       "    }\n",
       "\n",
       "    .dataframe thead th {\n",
       "        text-align: right;\n",
       "    }\n",
       "</style>\n",
       "<table border=\"1\" class=\"dataframe\">\n",
       "  <thead>\n",
       "    <tr style=\"text-align: right;\">\n",
       "      <th></th>\n",
       "      <th>Name</th>\n",
       "      <th>Surname</th>\n",
       "      <th>Age</th>\n",
       "      <th>GPA</th>\n",
       "    </tr>\n",
       "  </thead>\n",
       "  <tbody>\n",
       "    <tr>\n",
       "      <th>0</th>\n",
       "      <td>Ulkar</td>\n",
       "      <td>Nabi</td>\n",
       "      <td>22</td>\n",
       "      <td>100</td>\n",
       "    </tr>\n",
       "    <tr>\n",
       "      <th>1</th>\n",
       "      <td>Turkan</td>\n",
       "      <td>Purmukhtari</td>\n",
       "      <td>19</td>\n",
       "      <td>94</td>\n",
       "    </tr>\n",
       "    <tr>\n",
       "      <th>2</th>\n",
       "      <td>Yusif</td>\n",
       "      <td>Baghirov</td>\n",
       "      <td>20</td>\n",
       "      <td>82</td>\n",
       "    </tr>\n",
       "    <tr>\n",
       "      <th>3</th>\n",
       "      <td>Zulfiyya</td>\n",
       "      <td>Mehdiyeva</td>\n",
       "      <td>19</td>\n",
       "      <td>97</td>\n",
       "    </tr>\n",
       "    <tr>\n",
       "      <th>4</th>\n",
       "      <td>Mehin</td>\n",
       "      <td>Aliyeva</td>\n",
       "      <td>18</td>\n",
       "      <td>91</td>\n",
       "    </tr>\n",
       "    <tr>\n",
       "      <th>5</th>\n",
       "      <td>Hijran</td>\n",
       "      <td>Shukurlu</td>\n",
       "      <td>20</td>\n",
       "      <td>87</td>\n",
       "    </tr>\n",
       "    <tr>\n",
       "      <th>6</th>\n",
       "      <td>Suleyman</td>\n",
       "      <td>Mammadzade</td>\n",
       "      <td>20</td>\n",
       "      <td>87</td>\n",
       "    </tr>\n",
       "    <tr>\n",
       "      <th>7</th>\n",
       "      <td>Aykhan</td>\n",
       "      <td>Seyidli</td>\n",
       "      <td>19</td>\n",
       "      <td>89</td>\n",
       "    </tr>\n",
       "    <tr>\n",
       "      <th>8</th>\n",
       "      <td>Ravan</td>\n",
       "      <td>Yusifov</td>\n",
       "      <td>19</td>\n",
       "      <td>98</td>\n",
       "    </tr>\n",
       "    <tr>\n",
       "      <th>9</th>\n",
       "      <td>Aysun</td>\n",
       "      <td>Safarova</td>\n",
       "      <td>20</td>\n",
       "      <td>88</td>\n",
       "    </tr>\n",
       "    <tr>\n",
       "      <th>10</th>\n",
       "      <td>Yasemen</td>\n",
       "      <td>Mammadli</td>\n",
       "      <td>22</td>\n",
       "      <td>86</td>\n",
       "    </tr>\n",
       "    <tr>\n",
       "      <th>11</th>\n",
       "      <td>Fatima</td>\n",
       "      <td>Ahmadzade</td>\n",
       "      <td>19</td>\n",
       "      <td>98</td>\n",
       "    </tr>\n",
       "    <tr>\n",
       "      <th>12</th>\n",
       "      <td>Nacmin</td>\n",
       "      <td>Asgarov</td>\n",
       "      <td>18</td>\n",
       "      <td>89</td>\n",
       "    </tr>\n",
       "    <tr>\n",
       "      <th>13</th>\n",
       "      <td>Parvin</td>\n",
       "      <td>Hasanov</td>\n",
       "      <td>20</td>\n",
       "      <td>81</td>\n",
       "    </tr>\n",
       "    <tr>\n",
       "      <th>14</th>\n",
       "      <td>Ismayil</td>\n",
       "      <td>Masimov</td>\n",
       "      <td>22</td>\n",
       "      <td>91</td>\n",
       "    </tr>\n",
       "    <tr>\n",
       "      <th>15</th>\n",
       "      <td>Malik</td>\n",
       "      <td>Suleymanov</td>\n",
       "      <td>21</td>\n",
       "      <td>97</td>\n",
       "    </tr>\n",
       "    <tr>\n",
       "      <th>16</th>\n",
       "      <td>Bilal</td>\n",
       "      <td>Hagverdiyev</td>\n",
       "      <td>18</td>\n",
       "      <td>95</td>\n",
       "    </tr>\n",
       "    <tr>\n",
       "      <th>17</th>\n",
       "      <td>Farid</td>\n",
       "      <td>Mammadov</td>\n",
       "      <td>20</td>\n",
       "      <td>93</td>\n",
       "    </tr>\n",
       "    <tr>\n",
       "      <th>18</th>\n",
       "      <td>Muhammed</td>\n",
       "      <td>Nuriyev</td>\n",
       "      <td>21</td>\n",
       "      <td>84</td>\n",
       "    </tr>\n",
       "    <tr>\n",
       "      <th>19</th>\n",
       "      <td>Rasul</td>\n",
       "      <td>Rasulzade</td>\n",
       "      <td>18</td>\n",
       "      <td>98</td>\n",
       "    </tr>\n",
       "    <tr>\n",
       "      <th>20</th>\n",
       "      <td>Ali</td>\n",
       "      <td>Gasimov</td>\n",
       "      <td>19</td>\n",
       "      <td>90</td>\n",
       "    </tr>\n",
       "    <tr>\n",
       "      <th>21</th>\n",
       "      <td>Khagani</td>\n",
       "      <td>Gasimov</td>\n",
       "      <td>20</td>\n",
       "      <td>100</td>\n",
       "    </tr>\n",
       "    <tr>\n",
       "      <th>22</th>\n",
       "      <td>Mahammad</td>\n",
       "      <td>Mehdi</td>\n",
       "      <td>19</td>\n",
       "      <td>98</td>\n",
       "    </tr>\n",
       "  </tbody>\n",
       "</table>\n",
       "</div>"
      ],
      "text/plain": [
       "        Name      Surname  Age  GPA\n",
       "0      Ulkar         Nabi   22  100\n",
       "1     Turkan  Purmukhtari   19   94\n",
       "2      Yusif     Baghirov   20   82\n",
       "3   Zulfiyya    Mehdiyeva   19   97\n",
       "4      Mehin      Aliyeva   18   91\n",
       "5     Hijran     Shukurlu   20   87\n",
       "6   Suleyman   Mammadzade   20   87\n",
       "7     Aykhan      Seyidli   19   89\n",
       "8      Ravan      Yusifov   19   98\n",
       "9      Aysun     Safarova   20   88\n",
       "10   Yasemen     Mammadli   22   86\n",
       "11    Fatima    Ahmadzade   19   98\n",
       "12    Nacmin      Asgarov   18   89\n",
       "13    Parvin      Hasanov   20   81\n",
       "14   Ismayil      Masimov   22   91\n",
       "15     Malik   Suleymanov   21   97\n",
       "16     Bilal  Hagverdiyev   18   95\n",
       "17     Farid     Mammadov   20   93\n",
       "18  Muhammed      Nuriyev   21   84\n",
       "19     Rasul    Rasulzade   18   98\n",
       "20       Ali      Gasimov   19   90\n",
       "21   Khagani      Gasimov   20  100\n",
       "22  Mahammad        Mehdi   19   98"
      ]
     },
     "execution_count": 22,
     "metadata": {},
     "output_type": "execute_result"
    }
   ],
   "source": [
    "df"
   ]
  },
  {
   "cell_type": "markdown",
   "id": "0103f35d",
   "metadata": {},
   "source": [
    "Awesome view! We created a DataFrame object by setting its variable name as df (abbreviation). Now, let's bring the previos trials back to the code. I want to know the info about a student who got highest GPA."
   ]
  },
  {
   "cell_type": "code",
   "execution_count": 23,
   "id": "669ba413",
   "metadata": {},
   "outputs": [
    {
     "name": "stdout",
     "output_type": "stream",
     "text": [
      "0\n"
     ]
    }
   ],
   "source": [
    "index = df['GPA'].argmax()\n",
    "print(index)"
   ]
  },
  {
   "cell_type": "code",
   "execution_count": 24,
   "id": "ab9729d0",
   "metadata": {},
   "outputs": [
    {
     "data": {
      "text/html": [
       "<div>\n",
       "<style scoped>\n",
       "    .dataframe tbody tr th:only-of-type {\n",
       "        vertical-align: middle;\n",
       "    }\n",
       "\n",
       "    .dataframe tbody tr th {\n",
       "        vertical-align: top;\n",
       "    }\n",
       "\n",
       "    .dataframe thead th {\n",
       "        text-align: right;\n",
       "    }\n",
       "</style>\n",
       "<table border=\"1\" class=\"dataframe\">\n",
       "  <thead>\n",
       "    <tr style=\"text-align: right;\">\n",
       "      <th></th>\n",
       "      <th>Name</th>\n",
       "      <th>Surname</th>\n",
       "      <th>Age</th>\n",
       "      <th>GPA</th>\n",
       "    </tr>\n",
       "  </thead>\n",
       "  <tbody>\n",
       "    <tr>\n",
       "      <th>0</th>\n",
       "      <td>Ulkar</td>\n",
       "      <td>Nabi</td>\n",
       "      <td>22</td>\n",
       "      <td>100</td>\n",
       "    </tr>\n",
       "  </tbody>\n",
       "</table>\n",
       "</div>"
      ],
      "text/plain": [
       "    Name Surname  Age  GPA\n",
       "0  Ulkar    Nabi   22  100"
      ]
     },
     "execution_count": 24,
     "metadata": {},
     "output_type": "execute_result"
    }
   ],
   "source": [
    "df.iloc[[index]]"
   ]
  },
  {
   "cell_type": "markdown",
   "id": "17489f30",
   "metadata": {},
   "source": [
    "We will get familiar with iloc later. This is just one example to show how convenient to use Pandas."
   ]
  },
  {
   "cell_type": "markdown",
   "id": "af7c4c3e",
   "metadata": {},
   "source": [
    "## <a id='create'>Simple Creation</a>"
   ]
  },
  {
   "cell_type": "markdown",
   "id": "0bb26642",
   "metadata": {},
   "source": [
    "To create a DataFrame object, we can convert the dictionary to Pandas"
   ]
  },
  {
   "cell_type": "code",
   "execution_count": 25,
   "id": "a01b7bd4",
   "metadata": {},
   "outputs": [],
   "source": [
    "# No difference with the previous one. \n",
    "data = {\n",
    "    'Name': ['Ulkar', 'Turkan', 'Yusif', 'Zulfiyya', 'Mehin', 'Hijran', 'Suleyman', 'Aykhan', 'Ravan', 'Aysun', 'Yasemen', \n",
    "             'Fatima', 'Nacmin', 'Parvin', 'Ismayil', 'Malik', 'Bilal', 'Farid', 'Muhammed', 'Rasul', 'Ali', 'Khagani', \n",
    "             'Mahammad'\n",
    "            ],\n",
    "    'Surname': ['Nabi', 'Purmukhtari', 'Baghirov', 'Mehdiyeva', 'Aliyeva', 'Shukurlu', 'Mammadzade', 'Seyidli', 'Yusifov', \n",
    "                'Safarova', 'Mammadli', 'Ahmadzade', 'Asgarov', 'Hasanov', 'Masimov', 'Suleymanov', 'Hagverdiyev', \n",
    "                'Mammadov', 'Nuriyev', 'Rasulzade', 'Gasimov', 'Gasimov', 'Mehdi'\n",
    "               ],\n",
    "    'Age': [22, 19, 20, 19, 18, 20, 20, 19, 19, 20, 22, 19, 18, 20, 22, 21, 18, 20, 21, 18, 19, 20, 19],\n",
    "    'GPA': [100,  94,  82,  97,  91,  87,  87,  89,  98,  88,  86,  98,  89, 81,  91,  97,  95,  93,  84,\\\n",
    "            98,  90, 100,  98]\n",
    "}"
   ]
  },
  {
   "cell_type": "code",
   "execution_count": 26,
   "id": "35291909",
   "metadata": {},
   "outputs": [
    {
     "data": {
      "text/html": [
       "<div>\n",
       "<style scoped>\n",
       "    .dataframe tbody tr th:only-of-type {\n",
       "        vertical-align: middle;\n",
       "    }\n",
       "\n",
       "    .dataframe tbody tr th {\n",
       "        vertical-align: top;\n",
       "    }\n",
       "\n",
       "    .dataframe thead th {\n",
       "        text-align: right;\n",
       "    }\n",
       "</style>\n",
       "<table border=\"1\" class=\"dataframe\">\n",
       "  <thead>\n",
       "    <tr style=\"text-align: right;\">\n",
       "      <th></th>\n",
       "      <th>Name</th>\n",
       "      <th>Surname</th>\n",
       "      <th>Age</th>\n",
       "      <th>GPA</th>\n",
       "    </tr>\n",
       "  </thead>\n",
       "  <tbody>\n",
       "    <tr>\n",
       "      <th>0</th>\n",
       "      <td>Ulkar</td>\n",
       "      <td>Nabi</td>\n",
       "      <td>22</td>\n",
       "      <td>100</td>\n",
       "    </tr>\n",
       "    <tr>\n",
       "      <th>1</th>\n",
       "      <td>Turkan</td>\n",
       "      <td>Purmukhtari</td>\n",
       "      <td>19</td>\n",
       "      <td>94</td>\n",
       "    </tr>\n",
       "    <tr>\n",
       "      <th>2</th>\n",
       "      <td>Yusif</td>\n",
       "      <td>Baghirov</td>\n",
       "      <td>20</td>\n",
       "      <td>82</td>\n",
       "    </tr>\n",
       "    <tr>\n",
       "      <th>3</th>\n",
       "      <td>Zulfiyya</td>\n",
       "      <td>Mehdiyeva</td>\n",
       "      <td>19</td>\n",
       "      <td>97</td>\n",
       "    </tr>\n",
       "    <tr>\n",
       "      <th>4</th>\n",
       "      <td>Mehin</td>\n",
       "      <td>Aliyeva</td>\n",
       "      <td>18</td>\n",
       "      <td>91</td>\n",
       "    </tr>\n",
       "    <tr>\n",
       "      <th>5</th>\n",
       "      <td>Hijran</td>\n",
       "      <td>Shukurlu</td>\n",
       "      <td>20</td>\n",
       "      <td>87</td>\n",
       "    </tr>\n",
       "    <tr>\n",
       "      <th>6</th>\n",
       "      <td>Suleyman</td>\n",
       "      <td>Mammadzade</td>\n",
       "      <td>20</td>\n",
       "      <td>87</td>\n",
       "    </tr>\n",
       "    <tr>\n",
       "      <th>7</th>\n",
       "      <td>Aykhan</td>\n",
       "      <td>Seyidli</td>\n",
       "      <td>19</td>\n",
       "      <td>89</td>\n",
       "    </tr>\n",
       "    <tr>\n",
       "      <th>8</th>\n",
       "      <td>Ravan</td>\n",
       "      <td>Yusifov</td>\n",
       "      <td>19</td>\n",
       "      <td>98</td>\n",
       "    </tr>\n",
       "    <tr>\n",
       "      <th>9</th>\n",
       "      <td>Aysun</td>\n",
       "      <td>Safarova</td>\n",
       "      <td>20</td>\n",
       "      <td>88</td>\n",
       "    </tr>\n",
       "    <tr>\n",
       "      <th>10</th>\n",
       "      <td>Yasemen</td>\n",
       "      <td>Mammadli</td>\n",
       "      <td>22</td>\n",
       "      <td>86</td>\n",
       "    </tr>\n",
       "    <tr>\n",
       "      <th>11</th>\n",
       "      <td>Fatima</td>\n",
       "      <td>Ahmadzade</td>\n",
       "      <td>19</td>\n",
       "      <td>98</td>\n",
       "    </tr>\n",
       "    <tr>\n",
       "      <th>12</th>\n",
       "      <td>Nacmin</td>\n",
       "      <td>Asgarov</td>\n",
       "      <td>18</td>\n",
       "      <td>89</td>\n",
       "    </tr>\n",
       "    <tr>\n",
       "      <th>13</th>\n",
       "      <td>Parvin</td>\n",
       "      <td>Hasanov</td>\n",
       "      <td>20</td>\n",
       "      <td>81</td>\n",
       "    </tr>\n",
       "    <tr>\n",
       "      <th>14</th>\n",
       "      <td>Ismayil</td>\n",
       "      <td>Masimov</td>\n",
       "      <td>22</td>\n",
       "      <td>91</td>\n",
       "    </tr>\n",
       "    <tr>\n",
       "      <th>15</th>\n",
       "      <td>Malik</td>\n",
       "      <td>Suleymanov</td>\n",
       "      <td>21</td>\n",
       "      <td>97</td>\n",
       "    </tr>\n",
       "    <tr>\n",
       "      <th>16</th>\n",
       "      <td>Bilal</td>\n",
       "      <td>Hagverdiyev</td>\n",
       "      <td>18</td>\n",
       "      <td>95</td>\n",
       "    </tr>\n",
       "    <tr>\n",
       "      <th>17</th>\n",
       "      <td>Farid</td>\n",
       "      <td>Mammadov</td>\n",
       "      <td>20</td>\n",
       "      <td>93</td>\n",
       "    </tr>\n",
       "    <tr>\n",
       "      <th>18</th>\n",
       "      <td>Muhammed</td>\n",
       "      <td>Nuriyev</td>\n",
       "      <td>21</td>\n",
       "      <td>84</td>\n",
       "    </tr>\n",
       "    <tr>\n",
       "      <th>19</th>\n",
       "      <td>Rasul</td>\n",
       "      <td>Rasulzade</td>\n",
       "      <td>18</td>\n",
       "      <td>98</td>\n",
       "    </tr>\n",
       "    <tr>\n",
       "      <th>20</th>\n",
       "      <td>Ali</td>\n",
       "      <td>Gasimov</td>\n",
       "      <td>19</td>\n",
       "      <td>90</td>\n",
       "    </tr>\n",
       "    <tr>\n",
       "      <th>21</th>\n",
       "      <td>Khagani</td>\n",
       "      <td>Gasimov</td>\n",
       "      <td>20</td>\n",
       "      <td>100</td>\n",
       "    </tr>\n",
       "    <tr>\n",
       "      <th>22</th>\n",
       "      <td>Mahammad</td>\n",
       "      <td>Mehdi</td>\n",
       "      <td>19</td>\n",
       "      <td>98</td>\n",
       "    </tr>\n",
       "  </tbody>\n",
       "</table>\n",
       "</div>"
      ],
      "text/plain": [
       "        Name      Surname  Age  GPA\n",
       "0      Ulkar         Nabi   22  100\n",
       "1     Turkan  Purmukhtari   19   94\n",
       "2      Yusif     Baghirov   20   82\n",
       "3   Zulfiyya    Mehdiyeva   19   97\n",
       "4      Mehin      Aliyeva   18   91\n",
       "5     Hijran     Shukurlu   20   87\n",
       "6   Suleyman   Mammadzade   20   87\n",
       "7     Aykhan      Seyidli   19   89\n",
       "8      Ravan      Yusifov   19   98\n",
       "9      Aysun     Safarova   20   88\n",
       "10   Yasemen     Mammadli   22   86\n",
       "11    Fatima    Ahmadzade   19   98\n",
       "12    Nacmin      Asgarov   18   89\n",
       "13    Parvin      Hasanov   20   81\n",
       "14   Ismayil      Masimov   22   91\n",
       "15     Malik   Suleymanov   21   97\n",
       "16     Bilal  Hagverdiyev   18   95\n",
       "17     Farid     Mammadov   20   93\n",
       "18  Muhammed      Nuriyev   21   84\n",
       "19     Rasul    Rasulzade   18   98\n",
       "20       Ali      Gasimov   19   90\n",
       "21   Khagani      Gasimov   20  100\n",
       "22  Mahammad        Mehdi   19   98"
      ]
     },
     "execution_count": 26,
     "metadata": {},
     "output_type": "execute_result"
    }
   ],
   "source": [
    "pd.DataFrame(data)"
   ]
  },
  {
   "cell_type": "markdown",
   "id": "cfd8c485",
   "metadata": {},
   "source": [
    "In case you have nested lists,"
   ]
  },
  {
   "cell_type": "code",
   "execution_count": 27,
   "id": "33578776",
   "metadata": {},
   "outputs": [],
   "source": [
    "# The data was randomly chosen\n",
    "data = [\n",
    "    # ['Name', 'Surname', 'Age', 'GPA'],\n",
    "    ['Parvin', 'Hasanov', 20, 81],\n",
    "    ['Aysun', 'Safarova', 20, 88],\n",
    "    ['Mahammad', 'Mehdi', 19, 98],\n",
    "    ['Yusif', 'Baghirov', 20, 82]   \n",
    "]"
   ]
  },
  {
   "cell_type": "code",
   "execution_count": 28,
   "id": "4a3ccce8",
   "metadata": {},
   "outputs": [
    {
     "data": {
      "text/html": [
       "<div>\n",
       "<style scoped>\n",
       "    .dataframe tbody tr th:only-of-type {\n",
       "        vertical-align: middle;\n",
       "    }\n",
       "\n",
       "    .dataframe tbody tr th {\n",
       "        vertical-align: top;\n",
       "    }\n",
       "\n",
       "    .dataframe thead th {\n",
       "        text-align: right;\n",
       "    }\n",
       "</style>\n",
       "<table border=\"1\" class=\"dataframe\">\n",
       "  <thead>\n",
       "    <tr style=\"text-align: right;\">\n",
       "      <th></th>\n",
       "      <th>0</th>\n",
       "      <th>1</th>\n",
       "      <th>2</th>\n",
       "      <th>3</th>\n",
       "    </tr>\n",
       "  </thead>\n",
       "  <tbody>\n",
       "    <tr>\n",
       "      <th>0</th>\n",
       "      <td>Parvin</td>\n",
       "      <td>Hasanov</td>\n",
       "      <td>20</td>\n",
       "      <td>81</td>\n",
       "    </tr>\n",
       "    <tr>\n",
       "      <th>1</th>\n",
       "      <td>Aysun</td>\n",
       "      <td>Safarova</td>\n",
       "      <td>20</td>\n",
       "      <td>88</td>\n",
       "    </tr>\n",
       "    <tr>\n",
       "      <th>2</th>\n",
       "      <td>Mahammad</td>\n",
       "      <td>Mehdi</td>\n",
       "      <td>19</td>\n",
       "      <td>98</td>\n",
       "    </tr>\n",
       "    <tr>\n",
       "      <th>3</th>\n",
       "      <td>Yusif</td>\n",
       "      <td>Baghirov</td>\n",
       "      <td>20</td>\n",
       "      <td>82</td>\n",
       "    </tr>\n",
       "  </tbody>\n",
       "</table>\n",
       "</div>"
      ],
      "text/plain": [
       "          0         1   2   3\n",
       "0    Parvin   Hasanov  20  81\n",
       "1     Aysun  Safarova  20  88\n",
       "2  Mahammad     Mehdi  19  98\n",
       "3     Yusif  Baghirov  20  82"
      ]
     },
     "execution_count": 28,
     "metadata": {},
     "output_type": "execute_result"
    }
   ],
   "source": [
    "pd.DataFrame(data)"
   ]
  },
  {
   "cell_type": "markdown",
   "id": "b540885b",
   "metadata": {},
   "source": [
    "To indicate columns, you can create a list of column names and input it to the class."
   ]
  },
  {
   "cell_type": "code",
   "execution_count": 5,
   "id": "f7b405cd",
   "metadata": {},
   "outputs": [],
   "source": [
    "columns = ['Name', 'Surname', 'Age', 'GPA']\n",
    "import pandas as pd"
   ]
  },
  {
   "cell_type": "code",
   "execution_count": 6,
   "id": "ed258b6a",
   "metadata": {},
   "outputs": [
    {
     "data": {
      "text/html": [
       "<div>\n",
       "<style scoped>\n",
       "    .dataframe tbody tr th:only-of-type {\n",
       "        vertical-align: middle;\n",
       "    }\n",
       "\n",
       "    .dataframe tbody tr th {\n",
       "        vertical-align: top;\n",
       "    }\n",
       "\n",
       "    .dataframe thead th {\n",
       "        text-align: right;\n",
       "    }\n",
       "</style>\n",
       "<table border=\"1\" class=\"dataframe\">\n",
       "  <thead>\n",
       "    <tr style=\"text-align: right;\">\n",
       "      <th></th>\n",
       "      <th>Name</th>\n",
       "      <th>Surname</th>\n",
       "      <th>Age</th>\n",
       "      <th>GPA</th>\n",
       "    </tr>\n",
       "  </thead>\n",
       "  <tbody>\n",
       "    <tr>\n",
       "      <th>0</th>\n",
       "      <td>Ulkar</td>\n",
       "      <td>Nabi</td>\n",
       "      <td>22</td>\n",
       "      <td>100</td>\n",
       "    </tr>\n",
       "    <tr>\n",
       "      <th>1</th>\n",
       "      <td>Turkan</td>\n",
       "      <td>Purmukhtari</td>\n",
       "      <td>19</td>\n",
       "      <td>94</td>\n",
       "    </tr>\n",
       "    <tr>\n",
       "      <th>2</th>\n",
       "      <td>Yusif</td>\n",
       "      <td>Baghirov</td>\n",
       "      <td>20</td>\n",
       "      <td>82</td>\n",
       "    </tr>\n",
       "    <tr>\n",
       "      <th>3</th>\n",
       "      <td>Zulfiyya</td>\n",
       "      <td>Mehdiyeva</td>\n",
       "      <td>19</td>\n",
       "      <td>97</td>\n",
       "    </tr>\n",
       "    <tr>\n",
       "      <th>4</th>\n",
       "      <td>Mehin</td>\n",
       "      <td>Aliyeva</td>\n",
       "      <td>18</td>\n",
       "      <td>91</td>\n",
       "    </tr>\n",
       "    <tr>\n",
       "      <th>5</th>\n",
       "      <td>Hijran</td>\n",
       "      <td>Shukurlu</td>\n",
       "      <td>20</td>\n",
       "      <td>87</td>\n",
       "    </tr>\n",
       "    <tr>\n",
       "      <th>6</th>\n",
       "      <td>Suleyman</td>\n",
       "      <td>Mammadzade</td>\n",
       "      <td>20</td>\n",
       "      <td>87</td>\n",
       "    </tr>\n",
       "    <tr>\n",
       "      <th>7</th>\n",
       "      <td>Aykhan</td>\n",
       "      <td>Seyidli</td>\n",
       "      <td>19</td>\n",
       "      <td>89</td>\n",
       "    </tr>\n",
       "    <tr>\n",
       "      <th>8</th>\n",
       "      <td>Ravan</td>\n",
       "      <td>Yusifov</td>\n",
       "      <td>19</td>\n",
       "      <td>98</td>\n",
       "    </tr>\n",
       "    <tr>\n",
       "      <th>9</th>\n",
       "      <td>Aysun</td>\n",
       "      <td>Safarova</td>\n",
       "      <td>20</td>\n",
       "      <td>88</td>\n",
       "    </tr>\n",
       "    <tr>\n",
       "      <th>10</th>\n",
       "      <td>Yasemen</td>\n",
       "      <td>Mammadli</td>\n",
       "      <td>22</td>\n",
       "      <td>86</td>\n",
       "    </tr>\n",
       "    <tr>\n",
       "      <th>11</th>\n",
       "      <td>Fatima</td>\n",
       "      <td>Ahmadzade</td>\n",
       "      <td>19</td>\n",
       "      <td>98</td>\n",
       "    </tr>\n",
       "    <tr>\n",
       "      <th>12</th>\n",
       "      <td>Nacmin</td>\n",
       "      <td>Asgarov</td>\n",
       "      <td>18</td>\n",
       "      <td>89</td>\n",
       "    </tr>\n",
       "    <tr>\n",
       "      <th>13</th>\n",
       "      <td>Parvin</td>\n",
       "      <td>Hasanov</td>\n",
       "      <td>20</td>\n",
       "      <td>81</td>\n",
       "    </tr>\n",
       "    <tr>\n",
       "      <th>14</th>\n",
       "      <td>Ismayil</td>\n",
       "      <td>Masimov</td>\n",
       "      <td>22</td>\n",
       "      <td>91</td>\n",
       "    </tr>\n",
       "    <tr>\n",
       "      <th>15</th>\n",
       "      <td>Malik</td>\n",
       "      <td>Suleymanov</td>\n",
       "      <td>21</td>\n",
       "      <td>97</td>\n",
       "    </tr>\n",
       "    <tr>\n",
       "      <th>16</th>\n",
       "      <td>Bilal</td>\n",
       "      <td>Hagverdiyev</td>\n",
       "      <td>18</td>\n",
       "      <td>95</td>\n",
       "    </tr>\n",
       "    <tr>\n",
       "      <th>17</th>\n",
       "      <td>Farid</td>\n",
       "      <td>Mammadov</td>\n",
       "      <td>20</td>\n",
       "      <td>93</td>\n",
       "    </tr>\n",
       "    <tr>\n",
       "      <th>18</th>\n",
       "      <td>Muhammed</td>\n",
       "      <td>Nuriyev</td>\n",
       "      <td>21</td>\n",
       "      <td>84</td>\n",
       "    </tr>\n",
       "    <tr>\n",
       "      <th>19</th>\n",
       "      <td>Rasul</td>\n",
       "      <td>Rasulzade</td>\n",
       "      <td>18</td>\n",
       "      <td>98</td>\n",
       "    </tr>\n",
       "    <tr>\n",
       "      <th>20</th>\n",
       "      <td>Ali</td>\n",
       "      <td>Gasimov</td>\n",
       "      <td>19</td>\n",
       "      <td>90</td>\n",
       "    </tr>\n",
       "    <tr>\n",
       "      <th>21</th>\n",
       "      <td>Khagani</td>\n",
       "      <td>Gasimov</td>\n",
       "      <td>20</td>\n",
       "      <td>100</td>\n",
       "    </tr>\n",
       "    <tr>\n",
       "      <th>22</th>\n",
       "      <td>Mahammad</td>\n",
       "      <td>Mehdi</td>\n",
       "      <td>19</td>\n",
       "      <td>98</td>\n",
       "    </tr>\n",
       "  </tbody>\n",
       "</table>\n",
       "</div>"
      ],
      "text/plain": [
       "        Name      Surname  Age  GPA\n",
       "0      Ulkar         Nabi   22  100\n",
       "1     Turkan  Purmukhtari   19   94\n",
       "2      Yusif     Baghirov   20   82\n",
       "3   Zulfiyya    Mehdiyeva   19   97\n",
       "4      Mehin      Aliyeva   18   91\n",
       "5     Hijran     Shukurlu   20   87\n",
       "6   Suleyman   Mammadzade   20   87\n",
       "7     Aykhan      Seyidli   19   89\n",
       "8      Ravan      Yusifov   19   98\n",
       "9      Aysun     Safarova   20   88\n",
       "10   Yasemen     Mammadli   22   86\n",
       "11    Fatima    Ahmadzade   19   98\n",
       "12    Nacmin      Asgarov   18   89\n",
       "13    Parvin      Hasanov   20   81\n",
       "14   Ismayil      Masimov   22   91\n",
       "15     Malik   Suleymanov   21   97\n",
       "16     Bilal  Hagverdiyev   18   95\n",
       "17     Farid     Mammadov   20   93\n",
       "18  Muhammed      Nuriyev   21   84\n",
       "19     Rasul    Rasulzade   18   98\n",
       "20       Ali      Gasimov   19   90\n",
       "21   Khagani      Gasimov   20  100\n",
       "22  Mahammad        Mehdi   19   98"
      ]
     },
     "execution_count": 6,
     "metadata": {},
     "output_type": "execute_result"
    }
   ],
   "source": [
    "pd.DataFrame(data, columns=columns)"
   ]
  },
  {
   "cell_type": "markdown",
   "id": "b7d282e7",
   "metadata": {},
   "source": [
    "There is also a term called Series data type. The primary difference is we only have 1D instead of 2D unlike DataFrame.  \n",
    "\n",
    "We only input 1D array or list to Series class and it defines the object as follows."
   ]
  },
  {
   "cell_type": "code",
   "execution_count": 9,
   "id": "c9138388",
   "metadata": {},
   "outputs": [],
   "source": [
    "ages = [20, 20, 19, 20]"
   ]
  },
  {
   "cell_type": "code",
   "execution_count": 10,
   "id": "8bae4b91",
   "metadata": {},
   "outputs": [
    {
     "data": {
      "text/plain": [
       "0    20\n",
       "1    20\n",
       "2    19\n",
       "3    20\n",
       "dtype: int64"
      ]
     },
     "execution_count": 10,
     "metadata": {},
     "output_type": "execute_result"
    }
   ],
   "source": [
    "pd.Series(ages)"
   ]
  },
  {
   "cell_type": "markdown",
   "id": "bf286640",
   "metadata": {},
   "source": [
    "You can also input name parameter."
   ]
  },
  {
   "cell_type": "code",
   "execution_count": 11,
   "id": "ab90d368",
   "metadata": {},
   "outputs": [
    {
     "data": {
      "text/plain": [
       "0    20\n",
       "1    20\n",
       "2    19\n",
       "3    20\n",
       "Name: Age, dtype: int64"
      ]
     },
     "execution_count": 11,
     "metadata": {},
     "output_type": "execute_result"
    }
   ],
   "source": [
    "pd.Series(ages, name='Age')"
   ]
  },
  {
   "cell_type": "markdown",
   "id": "e4f70ab5",
   "metadata": {},
   "source": [
    "Usually, we will not create a DataFrame or Series object like this. Don't worry. This is just basics.\n",
    "\n",
    "Instead, you will always read the CSV file. read_csv function expects the filepath to the CSV file and it initializes DataFrame object for you."
   ]
  },
  {
   "cell_type": "code",
   "execution_count": 34,
   "id": "a649b91c",
   "metadata": {},
   "outputs": [],
   "source": [
    "filepath = 'data/sample.csv'\n",
    "df = pd.read_csv(filepath)"
   ]
  },
  {
   "cell_type": "code",
   "execution_count": 35,
   "id": "559f1ae1",
   "metadata": {},
   "outputs": [
    {
     "data": {
      "text/html": [
       "<div>\n",
       "<style scoped>\n",
       "    .dataframe tbody tr th:only-of-type {\n",
       "        vertical-align: middle;\n",
       "    }\n",
       "\n",
       "    .dataframe tbody tr th {\n",
       "        vertical-align: top;\n",
       "    }\n",
       "\n",
       "    .dataframe thead th {\n",
       "        text-align: right;\n",
       "    }\n",
       "</style>\n",
       "<table border=\"1\" class=\"dataframe\">\n",
       "  <thead>\n",
       "    <tr style=\"text-align: right;\">\n",
       "      <th></th>\n",
       "      <th>Name</th>\n",
       "      <th>Surname</th>\n",
       "      <th>Age</th>\n",
       "      <th>GPA</th>\n",
       "    </tr>\n",
       "  </thead>\n",
       "  <tbody>\n",
       "    <tr>\n",
       "      <th>0</th>\n",
       "      <td>Ulkar</td>\n",
       "      <td>Nabi</td>\n",
       "      <td>22</td>\n",
       "      <td>100</td>\n",
       "    </tr>\n",
       "    <tr>\n",
       "      <th>1</th>\n",
       "      <td>Turkan</td>\n",
       "      <td>Purmukhtari</td>\n",
       "      <td>19</td>\n",
       "      <td>94</td>\n",
       "    </tr>\n",
       "    <tr>\n",
       "      <th>2</th>\n",
       "      <td>Yusif</td>\n",
       "      <td>Baghirov</td>\n",
       "      <td>20</td>\n",
       "      <td>82</td>\n",
       "    </tr>\n",
       "    <tr>\n",
       "      <th>3</th>\n",
       "      <td>Zulfiyya</td>\n",
       "      <td>Mehdiyeva</td>\n",
       "      <td>19</td>\n",
       "      <td>97</td>\n",
       "    </tr>\n",
       "    <tr>\n",
       "      <th>4</th>\n",
       "      <td>Mehin</td>\n",
       "      <td>Aliyeva</td>\n",
       "      <td>18</td>\n",
       "      <td>91</td>\n",
       "    </tr>\n",
       "    <tr>\n",
       "      <th>5</th>\n",
       "      <td>Hijran</td>\n",
       "      <td>Shukurlu</td>\n",
       "      <td>20</td>\n",
       "      <td>87</td>\n",
       "    </tr>\n",
       "    <tr>\n",
       "      <th>6</th>\n",
       "      <td>Suleyman</td>\n",
       "      <td>Mammadzade</td>\n",
       "      <td>20</td>\n",
       "      <td>87</td>\n",
       "    </tr>\n",
       "    <tr>\n",
       "      <th>7</th>\n",
       "      <td>Aykhan</td>\n",
       "      <td>Seyidli</td>\n",
       "      <td>19</td>\n",
       "      <td>89</td>\n",
       "    </tr>\n",
       "    <tr>\n",
       "      <th>8</th>\n",
       "      <td>Ravan</td>\n",
       "      <td>Yusifov</td>\n",
       "      <td>19</td>\n",
       "      <td>98</td>\n",
       "    </tr>\n",
       "    <tr>\n",
       "      <th>9</th>\n",
       "      <td>Aysun</td>\n",
       "      <td>Safarova</td>\n",
       "      <td>20</td>\n",
       "      <td>88</td>\n",
       "    </tr>\n",
       "    <tr>\n",
       "      <th>10</th>\n",
       "      <td>Yasemen</td>\n",
       "      <td>Mammadli</td>\n",
       "      <td>22</td>\n",
       "      <td>86</td>\n",
       "    </tr>\n",
       "    <tr>\n",
       "      <th>11</th>\n",
       "      <td>Fatima</td>\n",
       "      <td>Ahmadzade</td>\n",
       "      <td>19</td>\n",
       "      <td>98</td>\n",
       "    </tr>\n",
       "    <tr>\n",
       "      <th>12</th>\n",
       "      <td>Nacmin</td>\n",
       "      <td>Asgarov</td>\n",
       "      <td>18</td>\n",
       "      <td>89</td>\n",
       "    </tr>\n",
       "    <tr>\n",
       "      <th>13</th>\n",
       "      <td>Parvin</td>\n",
       "      <td>Hasanov</td>\n",
       "      <td>20</td>\n",
       "      <td>81</td>\n",
       "    </tr>\n",
       "    <tr>\n",
       "      <th>14</th>\n",
       "      <td>Ismayil</td>\n",
       "      <td>Masimov</td>\n",
       "      <td>22</td>\n",
       "      <td>91</td>\n",
       "    </tr>\n",
       "    <tr>\n",
       "      <th>15</th>\n",
       "      <td>Malik</td>\n",
       "      <td>Suleymanov</td>\n",
       "      <td>21</td>\n",
       "      <td>97</td>\n",
       "    </tr>\n",
       "    <tr>\n",
       "      <th>16</th>\n",
       "      <td>Bilal</td>\n",
       "      <td>Hagverdiyev</td>\n",
       "      <td>18</td>\n",
       "      <td>95</td>\n",
       "    </tr>\n",
       "    <tr>\n",
       "      <th>17</th>\n",
       "      <td>Farid</td>\n",
       "      <td>Mammadov</td>\n",
       "      <td>20</td>\n",
       "      <td>93</td>\n",
       "    </tr>\n",
       "    <tr>\n",
       "      <th>18</th>\n",
       "      <td>Muhammed</td>\n",
       "      <td>Nuriyev</td>\n",
       "      <td>21</td>\n",
       "      <td>84</td>\n",
       "    </tr>\n",
       "    <tr>\n",
       "      <th>19</th>\n",
       "      <td>Rasul</td>\n",
       "      <td>Rasulzade</td>\n",
       "      <td>18</td>\n",
       "      <td>98</td>\n",
       "    </tr>\n",
       "    <tr>\n",
       "      <th>20</th>\n",
       "      <td>Ali</td>\n",
       "      <td>Gasimov</td>\n",
       "      <td>19</td>\n",
       "      <td>90</td>\n",
       "    </tr>\n",
       "    <tr>\n",
       "      <th>21</th>\n",
       "      <td>Khagani</td>\n",
       "      <td>Gasimov</td>\n",
       "      <td>20</td>\n",
       "      <td>100</td>\n",
       "    </tr>\n",
       "    <tr>\n",
       "      <th>22</th>\n",
       "      <td>Mahammad</td>\n",
       "      <td>Mehdi</td>\n",
       "      <td>19</td>\n",
       "      <td>98</td>\n",
       "    </tr>\n",
       "  </tbody>\n",
       "</table>\n",
       "</div>"
      ],
      "text/plain": [
       "        Name      Surname  Age  GPA\n",
       "0      Ulkar         Nabi   22  100\n",
       "1     Turkan  Purmukhtari   19   94\n",
       "2      Yusif     Baghirov   20   82\n",
       "3   Zulfiyya    Mehdiyeva   19   97\n",
       "4      Mehin      Aliyeva   18   91\n",
       "5     Hijran     Shukurlu   20   87\n",
       "6   Suleyman   Mammadzade   20   87\n",
       "7     Aykhan      Seyidli   19   89\n",
       "8      Ravan      Yusifov   19   98\n",
       "9      Aysun     Safarova   20   88\n",
       "10   Yasemen     Mammadli   22   86\n",
       "11    Fatima    Ahmadzade   19   98\n",
       "12    Nacmin      Asgarov   18   89\n",
       "13    Parvin      Hasanov   20   81\n",
       "14   Ismayil      Masimov   22   91\n",
       "15     Malik   Suleymanov   21   97\n",
       "16     Bilal  Hagverdiyev   18   95\n",
       "17     Farid     Mammadov   20   93\n",
       "18  Muhammed      Nuriyev   21   84\n",
       "19     Rasul    Rasulzade   18   98\n",
       "20       Ali      Gasimov   19   90\n",
       "21   Khagani      Gasimov   20  100\n",
       "22  Mahammad        Mehdi   19   98"
      ]
     },
     "execution_count": 35,
     "metadata": {},
     "output_type": "execute_result"
    }
   ],
   "source": [
    "df"
   ]
  },
  {
   "cell_type": "markdown",
   "id": "018022cd",
   "metadata": {},
   "source": [
    "head function returns the first **n** rows. In our case, it is 10. By default it returns 5 rows."
   ]
  },
  {
   "cell_type": "code",
   "execution_count": 36,
   "id": "5a88ecef",
   "metadata": {},
   "outputs": [
    {
     "data": {
      "text/html": [
       "<div>\n",
       "<style scoped>\n",
       "    .dataframe tbody tr th:only-of-type {\n",
       "        vertical-align: middle;\n",
       "    }\n",
       "\n",
       "    .dataframe tbody tr th {\n",
       "        vertical-align: top;\n",
       "    }\n",
       "\n",
       "    .dataframe thead th {\n",
       "        text-align: right;\n",
       "    }\n",
       "</style>\n",
       "<table border=\"1\" class=\"dataframe\">\n",
       "  <thead>\n",
       "    <tr style=\"text-align: right;\">\n",
       "      <th></th>\n",
       "      <th>Name</th>\n",
       "      <th>Surname</th>\n",
       "      <th>Age</th>\n",
       "      <th>GPA</th>\n",
       "    </tr>\n",
       "  </thead>\n",
       "  <tbody>\n",
       "    <tr>\n",
       "      <th>0</th>\n",
       "      <td>Ulkar</td>\n",
       "      <td>Nabi</td>\n",
       "      <td>22</td>\n",
       "      <td>100</td>\n",
       "    </tr>\n",
       "    <tr>\n",
       "      <th>1</th>\n",
       "      <td>Turkan</td>\n",
       "      <td>Purmukhtari</td>\n",
       "      <td>19</td>\n",
       "      <td>94</td>\n",
       "    </tr>\n",
       "    <tr>\n",
       "      <th>2</th>\n",
       "      <td>Yusif</td>\n",
       "      <td>Baghirov</td>\n",
       "      <td>20</td>\n",
       "      <td>82</td>\n",
       "    </tr>\n",
       "    <tr>\n",
       "      <th>3</th>\n",
       "      <td>Zulfiyya</td>\n",
       "      <td>Mehdiyeva</td>\n",
       "      <td>19</td>\n",
       "      <td>97</td>\n",
       "    </tr>\n",
       "    <tr>\n",
       "      <th>4</th>\n",
       "      <td>Mehin</td>\n",
       "      <td>Aliyeva</td>\n",
       "      <td>18</td>\n",
       "      <td>91</td>\n",
       "    </tr>\n",
       "    <tr>\n",
       "      <th>5</th>\n",
       "      <td>Hijran</td>\n",
       "      <td>Shukurlu</td>\n",
       "      <td>20</td>\n",
       "      <td>87</td>\n",
       "    </tr>\n",
       "    <tr>\n",
       "      <th>6</th>\n",
       "      <td>Suleyman</td>\n",
       "      <td>Mammadzade</td>\n",
       "      <td>20</td>\n",
       "      <td>87</td>\n",
       "    </tr>\n",
       "    <tr>\n",
       "      <th>7</th>\n",
       "      <td>Aykhan</td>\n",
       "      <td>Seyidli</td>\n",
       "      <td>19</td>\n",
       "      <td>89</td>\n",
       "    </tr>\n",
       "    <tr>\n",
       "      <th>8</th>\n",
       "      <td>Ravan</td>\n",
       "      <td>Yusifov</td>\n",
       "      <td>19</td>\n",
       "      <td>98</td>\n",
       "    </tr>\n",
       "    <tr>\n",
       "      <th>9</th>\n",
       "      <td>Aysun</td>\n",
       "      <td>Safarova</td>\n",
       "      <td>20</td>\n",
       "      <td>88</td>\n",
       "    </tr>\n",
       "  </tbody>\n",
       "</table>\n",
       "</div>"
      ],
      "text/plain": [
       "       Name      Surname  Age  GPA\n",
       "0     Ulkar         Nabi   22  100\n",
       "1    Turkan  Purmukhtari   19   94\n",
       "2     Yusif     Baghirov   20   82\n",
       "3  Zulfiyya    Mehdiyeva   19   97\n",
       "4     Mehin      Aliyeva   18   91\n",
       "5    Hijran     Shukurlu   20   87\n",
       "6  Suleyman   Mammadzade   20   87\n",
       "7    Aykhan      Seyidli   19   89\n",
       "8     Ravan      Yusifov   19   98\n",
       "9     Aysun     Safarova   20   88"
      ]
     },
     "execution_count": 36,
     "metadata": {},
     "output_type": "execute_result"
    }
   ],
   "source": [
    "df.head(10)"
   ]
  },
  {
   "cell_type": "code",
   "execution_count": 37,
   "id": "21d1ac1d",
   "metadata": {},
   "outputs": [
    {
     "data": {
      "text/html": [
       "<div>\n",
       "<style scoped>\n",
       "    .dataframe tbody tr th:only-of-type {\n",
       "        vertical-align: middle;\n",
       "    }\n",
       "\n",
       "    .dataframe tbody tr th {\n",
       "        vertical-align: top;\n",
       "    }\n",
       "\n",
       "    .dataframe thead th {\n",
       "        text-align: right;\n",
       "    }\n",
       "</style>\n",
       "<table border=\"1\" class=\"dataframe\">\n",
       "  <thead>\n",
       "    <tr style=\"text-align: right;\">\n",
       "      <th></th>\n",
       "      <th>Name</th>\n",
       "      <th>Surname</th>\n",
       "      <th>Age</th>\n",
       "      <th>GPA</th>\n",
       "    </tr>\n",
       "  </thead>\n",
       "  <tbody>\n",
       "    <tr>\n",
       "      <th>0</th>\n",
       "      <td>Ulkar</td>\n",
       "      <td>Nabi</td>\n",
       "      <td>22</td>\n",
       "      <td>100</td>\n",
       "    </tr>\n",
       "    <tr>\n",
       "      <th>1</th>\n",
       "      <td>Turkan</td>\n",
       "      <td>Purmukhtari</td>\n",
       "      <td>19</td>\n",
       "      <td>94</td>\n",
       "    </tr>\n",
       "    <tr>\n",
       "      <th>2</th>\n",
       "      <td>Yusif</td>\n",
       "      <td>Baghirov</td>\n",
       "      <td>20</td>\n",
       "      <td>82</td>\n",
       "    </tr>\n",
       "    <tr>\n",
       "      <th>3</th>\n",
       "      <td>Zulfiyya</td>\n",
       "      <td>Mehdiyeva</td>\n",
       "      <td>19</td>\n",
       "      <td>97</td>\n",
       "    </tr>\n",
       "    <tr>\n",
       "      <th>4</th>\n",
       "      <td>Mehin</td>\n",
       "      <td>Aliyeva</td>\n",
       "      <td>18</td>\n",
       "      <td>91</td>\n",
       "    </tr>\n",
       "  </tbody>\n",
       "</table>\n",
       "</div>"
      ],
      "text/plain": [
       "       Name      Surname  Age  GPA\n",
       "0     Ulkar         Nabi   22  100\n",
       "1    Turkan  Purmukhtari   19   94\n",
       "2     Yusif     Baghirov   20   82\n",
       "3  Zulfiyya    Mehdiyeva   19   97\n",
       "4     Mehin      Aliyeva   18   91"
      ]
     },
     "execution_count": 37,
     "metadata": {},
     "output_type": "execute_result"
    }
   ],
   "source": [
    "df.head()"
   ]
  },
  {
   "cell_type": "markdown",
   "id": "8be649b9",
   "metadata": {},
   "source": [
    "You can also access to the last rows."
   ]
  },
  {
   "cell_type": "code",
   "execution_count": 38,
   "id": "7b3b298c",
   "metadata": {},
   "outputs": [
    {
     "data": {
      "text/html": [
       "<div>\n",
       "<style scoped>\n",
       "    .dataframe tbody tr th:only-of-type {\n",
       "        vertical-align: middle;\n",
       "    }\n",
       "\n",
       "    .dataframe tbody tr th {\n",
       "        vertical-align: top;\n",
       "    }\n",
       "\n",
       "    .dataframe thead th {\n",
       "        text-align: right;\n",
       "    }\n",
       "</style>\n",
       "<table border=\"1\" class=\"dataframe\">\n",
       "  <thead>\n",
       "    <tr style=\"text-align: right;\">\n",
       "      <th></th>\n",
       "      <th>Name</th>\n",
       "      <th>Surname</th>\n",
       "      <th>Age</th>\n",
       "      <th>GPA</th>\n",
       "    </tr>\n",
       "  </thead>\n",
       "  <tbody>\n",
       "    <tr>\n",
       "      <th>13</th>\n",
       "      <td>Parvin</td>\n",
       "      <td>Hasanov</td>\n",
       "      <td>20</td>\n",
       "      <td>81</td>\n",
       "    </tr>\n",
       "    <tr>\n",
       "      <th>14</th>\n",
       "      <td>Ismayil</td>\n",
       "      <td>Masimov</td>\n",
       "      <td>22</td>\n",
       "      <td>91</td>\n",
       "    </tr>\n",
       "    <tr>\n",
       "      <th>15</th>\n",
       "      <td>Malik</td>\n",
       "      <td>Suleymanov</td>\n",
       "      <td>21</td>\n",
       "      <td>97</td>\n",
       "    </tr>\n",
       "    <tr>\n",
       "      <th>16</th>\n",
       "      <td>Bilal</td>\n",
       "      <td>Hagverdiyev</td>\n",
       "      <td>18</td>\n",
       "      <td>95</td>\n",
       "    </tr>\n",
       "    <tr>\n",
       "      <th>17</th>\n",
       "      <td>Farid</td>\n",
       "      <td>Mammadov</td>\n",
       "      <td>20</td>\n",
       "      <td>93</td>\n",
       "    </tr>\n",
       "    <tr>\n",
       "      <th>18</th>\n",
       "      <td>Muhammed</td>\n",
       "      <td>Nuriyev</td>\n",
       "      <td>21</td>\n",
       "      <td>84</td>\n",
       "    </tr>\n",
       "    <tr>\n",
       "      <th>19</th>\n",
       "      <td>Rasul</td>\n",
       "      <td>Rasulzade</td>\n",
       "      <td>18</td>\n",
       "      <td>98</td>\n",
       "    </tr>\n",
       "    <tr>\n",
       "      <th>20</th>\n",
       "      <td>Ali</td>\n",
       "      <td>Gasimov</td>\n",
       "      <td>19</td>\n",
       "      <td>90</td>\n",
       "    </tr>\n",
       "    <tr>\n",
       "      <th>21</th>\n",
       "      <td>Khagani</td>\n",
       "      <td>Gasimov</td>\n",
       "      <td>20</td>\n",
       "      <td>100</td>\n",
       "    </tr>\n",
       "    <tr>\n",
       "      <th>22</th>\n",
       "      <td>Mahammad</td>\n",
       "      <td>Mehdi</td>\n",
       "      <td>19</td>\n",
       "      <td>98</td>\n",
       "    </tr>\n",
       "  </tbody>\n",
       "</table>\n",
       "</div>"
      ],
      "text/plain": [
       "        Name      Surname  Age  GPA\n",
       "13    Parvin      Hasanov   20   81\n",
       "14   Ismayil      Masimov   22   91\n",
       "15     Malik   Suleymanov   21   97\n",
       "16     Bilal  Hagverdiyev   18   95\n",
       "17     Farid     Mammadov   20   93\n",
       "18  Muhammed      Nuriyev   21   84\n",
       "19     Rasul    Rasulzade   18   98\n",
       "20       Ali      Gasimov   19   90\n",
       "21   Khagani      Gasimov   20  100\n",
       "22  Mahammad        Mehdi   19   98"
      ]
     },
     "execution_count": 38,
     "metadata": {},
     "output_type": "execute_result"
    }
   ],
   "source": [
    "df.tail(10)"
   ]
  },
  {
   "cell_type": "code",
   "execution_count": null,
   "id": "038f5d04",
   "metadata": {},
   "outputs": [],
   "source": []
  },
  {
   "cell_type": "markdown",
   "id": "ee786caf",
   "metadata": {},
   "source": [
    "# <a id='similarities'>Similarities with NumPy</a>"
   ]
  },
  {
   "cell_type": "markdown",
   "id": "f6c00416",
   "metadata": {},
   "source": [
    "From now on, we will be comparing everything we do in Pandas with NumPy. You will explore a lot of similarities between these packages."
   ]
  },
  {
   "cell_type": "markdown",
   "id": "309d01ab",
   "metadata": {},
   "source": [
    "## <a id='properties'>Properties of DataFrame and Series</a>"
   ]
  },
  {
   "cell_type": "markdown",
   "id": "7f1ff758",
   "metadata": {},
   "source": [
    "You know shape and size attributes. We also had dtype attribute, but in Pandas, we use dtypes intead since we might have columns at different data types"
   ]
  },
  {
   "cell_type": "code",
   "execution_count": 39,
   "id": "bc97841f",
   "metadata": {},
   "outputs": [
    {
     "data": {
      "text/plain": [
       "(23, 4)"
      ]
     },
     "execution_count": 39,
     "metadata": {},
     "output_type": "execute_result"
    }
   ],
   "source": [
    "# Shape of the data frame\n",
    "df.shape"
   ]
  },
  {
   "cell_type": "code",
   "execution_count": 40,
   "id": "a9519fae",
   "metadata": {},
   "outputs": [
    {
     "data": {
      "text/plain": [
       "92"
      ]
     },
     "execution_count": 40,
     "metadata": {},
     "output_type": "execute_result"
    }
   ],
   "source": [
    "# Size of the data frame\n",
    "df.size"
   ]
  },
  {
   "cell_type": "code",
   "execution_count": 41,
   "id": "234dd1b0",
   "metadata": {},
   "outputs": [
    {
     "data": {
      "text/plain": [
       "Name       object\n",
       "Surname    object\n",
       "Age         int64\n",
       "GPA         int64\n",
       "dtype: object"
      ]
     },
     "execution_count": 41,
     "metadata": {},
     "output_type": "execute_result"
    }
   ],
   "source": [
    "# Checking data types of each column\n",
    "df.dtypes"
   ]
  },
  {
   "cell_type": "code",
   "execution_count": 42,
   "id": "8b67091f",
   "metadata": {},
   "outputs": [
    {
     "data": {
      "text/plain": [
       "Index(['Name', 'Surname', 'Age', 'GPA'], dtype='object')"
      ]
     },
     "execution_count": 42,
     "metadata": {},
     "output_type": "execute_result"
    }
   ],
   "source": [
    "# Columns of the data frame\n",
    "df.columns"
   ]
  },
  {
   "cell_type": "code",
   "execution_count": 43,
   "id": "7b72c672",
   "metadata": {},
   "outputs": [
    {
     "data": {
      "text/plain": [
       "RangeIndex(start=0, stop=23, step=1)"
      ]
     },
     "execution_count": 43,
     "metadata": {},
     "output_type": "execute_result"
    }
   ],
   "source": [
    "# Indexes\n",
    "df.index"
   ]
  },
  {
   "cell_type": "markdown",
   "id": "657c2e53",
   "metadata": {},
   "source": [
    "You can also have access to NumPy array of the data frame."
   ]
  },
  {
   "cell_type": "code",
   "execution_count": 44,
   "id": "a6a024a7",
   "metadata": {},
   "outputs": [
    {
     "data": {
      "text/plain": [
       "array([['Ulkar', 'Nabi', 22, 100],\n",
       "       ['Turkan', 'Purmukhtari', 19, 94],\n",
       "       ['Yusif', 'Baghirov', 20, 82],\n",
       "       ['Zulfiyya', 'Mehdiyeva', 19, 97],\n",
       "       ['Mehin', 'Aliyeva', 18, 91],\n",
       "       ['Hijran', 'Shukurlu', 20, 87],\n",
       "       ['Suleyman', 'Mammadzade', 20, 87],\n",
       "       ['Aykhan', 'Seyidli', 19, 89],\n",
       "       ['Ravan', 'Yusifov', 19, 98],\n",
       "       ['Aysun', 'Safarova', 20, 88],\n",
       "       ['Yasemen', 'Mammadli', 22, 86],\n",
       "       ['Fatima', 'Ahmadzade', 19, 98],\n",
       "       ['Nacmin', 'Asgarov', 18, 89],\n",
       "       ['Parvin', 'Hasanov', 20, 81],\n",
       "       ['Ismayil', 'Masimov', 22, 91],\n",
       "       ['Malik', 'Suleymanov', 21, 97],\n",
       "       ['Bilal', 'Hagverdiyev', 18, 95],\n",
       "       ['Farid', 'Mammadov', 20, 93],\n",
       "       ['Muhammed', 'Nuriyev', 21, 84],\n",
       "       ['Rasul', 'Rasulzade', 18, 98],\n",
       "       ['Ali', 'Gasimov', 19, 90],\n",
       "       ['Khagani', 'Gasimov', 20, 100],\n",
       "       ['Mahammad', 'Mehdi', 19, 98]], dtype=object)"
      ]
     },
     "execution_count": 44,
     "metadata": {},
     "output_type": "execute_result"
    }
   ],
   "source": [
    "arr = df.values\n",
    "arr"
   ]
  },
  {
   "cell_type": "code",
   "execution_count": 45,
   "id": "edb7b4c8",
   "metadata": {},
   "outputs": [
    {
     "data": {
      "text/plain": [
       "dtype('O')"
      ]
     },
     "execution_count": 45,
     "metadata": {},
     "output_type": "execute_result"
    }
   ],
   "source": [
    "arr.dtype"
   ]
  },
  {
   "cell_type": "markdown",
   "id": "fcc6e909",
   "metadata": {},
   "source": [
    "Accessing to columns"
   ]
  },
  {
   "cell_type": "code",
   "execution_count": 46,
   "id": "c70799c8",
   "metadata": {},
   "outputs": [
    {
     "data": {
      "text/plain": [
       "pandas.core.series.Series"
      ]
     },
     "execution_count": 46,
     "metadata": {},
     "output_type": "execute_result"
    }
   ],
   "source": [
    "col_age = df['Age']\n",
    "type(col_age)"
   ]
  },
  {
   "cell_type": "code",
   "execution_count": 47,
   "id": "ec13a07f",
   "metadata": {},
   "outputs": [
    {
     "data": {
      "text/plain": [
       "0     22\n",
       "1     19\n",
       "2     20\n",
       "3     19\n",
       "4     18\n",
       "5     20\n",
       "6     20\n",
       "7     19\n",
       "8     19\n",
       "9     20\n",
       "10    22\n",
       "11    19\n",
       "12    18\n",
       "13    20\n",
       "14    22\n",
       "15    21\n",
       "16    18\n",
       "17    20\n",
       "18    21\n",
       "19    18\n",
       "20    19\n",
       "21    20\n",
       "22    19\n",
       "Name: Age, dtype: int64"
      ]
     },
     "execution_count": 47,
     "metadata": {},
     "output_type": "execute_result"
    }
   ],
   "source": [
    "col_age"
   ]
  },
  {
   "cell_type": "code",
   "execution_count": 48,
   "id": "7cc7dee4",
   "metadata": {},
   "outputs": [
    {
     "data": {
      "text/plain": [
       "0     22\n",
       "1     19\n",
       "2     20\n",
       "3     19\n",
       "4     18\n",
       "5     20\n",
       "6     20\n",
       "7     19\n",
       "8     19\n",
       "9     20\n",
       "10    22\n",
       "11    19\n",
       "12    18\n",
       "13    20\n",
       "14    22\n",
       "15    21\n",
       "16    18\n",
       "17    20\n",
       "18    21\n",
       "19    18\n",
       "20    19\n",
       "21    20\n",
       "22    19\n",
       "Name: Age, dtype: int64"
      ]
     },
     "execution_count": 48,
     "metadata": {},
     "output_type": "execute_result"
    }
   ],
   "source": [
    "df.Age"
   ]
  },
  {
   "cell_type": "markdown",
   "id": "74b61ae9",
   "metadata": {},
   "source": [
    "Transpose of the data frame."
   ]
  },
  {
   "cell_type": "code",
   "execution_count": 49,
   "id": "e27d673c",
   "metadata": {},
   "outputs": [],
   "source": [
    "df_T = df.T"
   ]
  },
  {
   "cell_type": "code",
   "execution_count": 50,
   "id": "e431b3b6",
   "metadata": {},
   "outputs": [
    {
     "data": {
      "text/html": [
       "<div>\n",
       "<style scoped>\n",
       "    .dataframe tbody tr th:only-of-type {\n",
       "        vertical-align: middle;\n",
       "    }\n",
       "\n",
       "    .dataframe tbody tr th {\n",
       "        vertical-align: top;\n",
       "    }\n",
       "\n",
       "    .dataframe thead th {\n",
       "        text-align: right;\n",
       "    }\n",
       "</style>\n",
       "<table border=\"1\" class=\"dataframe\">\n",
       "  <thead>\n",
       "    <tr style=\"text-align: right;\">\n",
       "      <th></th>\n",
       "      <th>0</th>\n",
       "      <th>1</th>\n",
       "      <th>2</th>\n",
       "      <th>3</th>\n",
       "      <th>4</th>\n",
       "      <th>5</th>\n",
       "      <th>6</th>\n",
       "      <th>7</th>\n",
       "      <th>8</th>\n",
       "      <th>9</th>\n",
       "      <th>...</th>\n",
       "      <th>13</th>\n",
       "      <th>14</th>\n",
       "      <th>15</th>\n",
       "      <th>16</th>\n",
       "      <th>17</th>\n",
       "      <th>18</th>\n",
       "      <th>19</th>\n",
       "      <th>20</th>\n",
       "      <th>21</th>\n",
       "      <th>22</th>\n",
       "    </tr>\n",
       "  </thead>\n",
       "  <tbody>\n",
       "    <tr>\n",
       "      <th>Name</th>\n",
       "      <td>Ulkar</td>\n",
       "      <td>Turkan</td>\n",
       "      <td>Yusif</td>\n",
       "      <td>Zulfiyya</td>\n",
       "      <td>Mehin</td>\n",
       "      <td>Hijran</td>\n",
       "      <td>Suleyman</td>\n",
       "      <td>Aykhan</td>\n",
       "      <td>Ravan</td>\n",
       "      <td>Aysun</td>\n",
       "      <td>...</td>\n",
       "      <td>Parvin</td>\n",
       "      <td>Ismayil</td>\n",
       "      <td>Malik</td>\n",
       "      <td>Bilal</td>\n",
       "      <td>Farid</td>\n",
       "      <td>Muhammed</td>\n",
       "      <td>Rasul</td>\n",
       "      <td>Ali</td>\n",
       "      <td>Khagani</td>\n",
       "      <td>Mahammad</td>\n",
       "    </tr>\n",
       "    <tr>\n",
       "      <th>Surname</th>\n",
       "      <td>Nabi</td>\n",
       "      <td>Purmukhtari</td>\n",
       "      <td>Baghirov</td>\n",
       "      <td>Mehdiyeva</td>\n",
       "      <td>Aliyeva</td>\n",
       "      <td>Shukurlu</td>\n",
       "      <td>Mammadzade</td>\n",
       "      <td>Seyidli</td>\n",
       "      <td>Yusifov</td>\n",
       "      <td>Safarova</td>\n",
       "      <td>...</td>\n",
       "      <td>Hasanov</td>\n",
       "      <td>Masimov</td>\n",
       "      <td>Suleymanov</td>\n",
       "      <td>Hagverdiyev</td>\n",
       "      <td>Mammadov</td>\n",
       "      <td>Nuriyev</td>\n",
       "      <td>Rasulzade</td>\n",
       "      <td>Gasimov</td>\n",
       "      <td>Gasimov</td>\n",
       "      <td>Mehdi</td>\n",
       "    </tr>\n",
       "    <tr>\n",
       "      <th>Age</th>\n",
       "      <td>22</td>\n",
       "      <td>19</td>\n",
       "      <td>20</td>\n",
       "      <td>19</td>\n",
       "      <td>18</td>\n",
       "      <td>20</td>\n",
       "      <td>20</td>\n",
       "      <td>19</td>\n",
       "      <td>19</td>\n",
       "      <td>20</td>\n",
       "      <td>...</td>\n",
       "      <td>20</td>\n",
       "      <td>22</td>\n",
       "      <td>21</td>\n",
       "      <td>18</td>\n",
       "      <td>20</td>\n",
       "      <td>21</td>\n",
       "      <td>18</td>\n",
       "      <td>19</td>\n",
       "      <td>20</td>\n",
       "      <td>19</td>\n",
       "    </tr>\n",
       "    <tr>\n",
       "      <th>GPA</th>\n",
       "      <td>100</td>\n",
       "      <td>94</td>\n",
       "      <td>82</td>\n",
       "      <td>97</td>\n",
       "      <td>91</td>\n",
       "      <td>87</td>\n",
       "      <td>87</td>\n",
       "      <td>89</td>\n",
       "      <td>98</td>\n",
       "      <td>88</td>\n",
       "      <td>...</td>\n",
       "      <td>81</td>\n",
       "      <td>91</td>\n",
       "      <td>97</td>\n",
       "      <td>95</td>\n",
       "      <td>93</td>\n",
       "      <td>84</td>\n",
       "      <td>98</td>\n",
       "      <td>90</td>\n",
       "      <td>100</td>\n",
       "      <td>98</td>\n",
       "    </tr>\n",
       "  </tbody>\n",
       "</table>\n",
       "<p>4 rows × 23 columns</p>\n",
       "</div>"
      ],
      "text/plain": [
       "            0            1         2          3        4         5    \n",
       "Name     Ulkar       Turkan     Yusif   Zulfiyya    Mehin    Hijran  \\\n",
       "Surname   Nabi  Purmukhtari  Baghirov  Mehdiyeva  Aliyeva  Shukurlu   \n",
       "Age         22           19        20         19       18        20   \n",
       "GPA        100           94        82         97       91        87   \n",
       "\n",
       "                 6        7        8         9   ...       13       14   \n",
       "Name       Suleyman   Aykhan    Ravan     Aysun  ...   Parvin  Ismayil  \\\n",
       "Surname  Mammadzade  Seyidli  Yusifov  Safarova  ...  Hasanov  Masimov   \n",
       "Age              20       19       19        20  ...       20       22   \n",
       "GPA              87       89       98        88  ...       81       91   \n",
       "\n",
       "                 15           16        17        18         19       20   \n",
       "Name          Malik        Bilal     Farid  Muhammed      Rasul      Ali  \\\n",
       "Surname  Suleymanov  Hagverdiyev  Mammadov   Nuriyev  Rasulzade  Gasimov   \n",
       "Age              21           18        20        21         18       19   \n",
       "GPA              97           95        93        84         98       90   \n",
       "\n",
       "              21        22  \n",
       "Name     Khagani  Mahammad  \n",
       "Surname  Gasimov     Mehdi  \n",
       "Age           20        19  \n",
       "GPA          100        98  \n",
       "\n",
       "[4 rows x 23 columns]"
      ]
     },
     "execution_count": 50,
     "metadata": {},
     "output_type": "execute_result"
    }
   ],
   "source": [
    "df_T"
   ]
  },
  {
   "cell_type": "markdown",
   "id": "ed9f367b",
   "metadata": {},
   "source": [
    "This time our indexes are previous columns."
   ]
  },
  {
   "cell_type": "code",
   "execution_count": 51,
   "id": "4abb2aa9",
   "metadata": {},
   "outputs": [
    {
     "data": {
      "text/plain": [
       "Index(['Name', 'Surname', 'Age', 'GPA'], dtype='object')"
      ]
     },
     "execution_count": 51,
     "metadata": {},
     "output_type": "execute_result"
    }
   ],
   "source": [
    "df_T.index"
   ]
  },
  {
   "cell_type": "code",
   "execution_count": null,
   "id": "66ca9bfd",
   "metadata": {},
   "outputs": [],
   "source": []
  },
  {
   "cell_type": "markdown",
   "id": "58c20ec4",
   "metadata": {},
   "source": []
  },
  {
   "cell_type": "markdown",
   "id": "b9b03198",
   "metadata": {},
   "source": [
    "## <a id='keys'>Working with Keys</a>"
   ]
  },
  {
   "cell_type": "markdown",
   "id": "3529e7ed",
   "metadata": {},
   "source": [
    "It is a similar procedure to indexing in NumPy arrays. Let's see on example about calling first column from the array."
   ]
  },
  {
   "cell_type": "code",
   "execution_count": 52,
   "id": "e8739495",
   "metadata": {},
   "outputs": [
    {
     "data": {
      "text/plain": [
       "array(['Ulkar', 'Turkan', 'Yusif', 'Zulfiyya', 'Mehin', 'Hijran',\n",
       "       'Suleyman', 'Aykhan', 'Ravan', 'Aysun', 'Yasemen', 'Fatima',\n",
       "       'Nacmin', 'Parvin', 'Ismayil', 'Malik', 'Bilal', 'Farid',\n",
       "       'Muhammed', 'Rasul', 'Ali', 'Khagani', 'Mahammad'], dtype=object)"
      ]
     },
     "execution_count": 52,
     "metadata": {},
     "output_type": "execute_result"
    }
   ],
   "source": [
    "# Name data as a first column\n",
    "arr[:, 0]"
   ]
  },
  {
   "cell_type": "code",
   "execution_count": 53,
   "id": "7c2139dc",
   "metadata": {},
   "outputs": [
    {
     "data": {
      "text/plain": [
       "0        Ulkar\n",
       "1       Turkan\n",
       "2        Yusif\n",
       "3     Zulfiyya\n",
       "4        Mehin\n",
       "5       Hijran\n",
       "6     Suleyman\n",
       "7       Aykhan\n",
       "8        Ravan\n",
       "9        Aysun\n",
       "10     Yasemen\n",
       "11      Fatima\n",
       "12      Nacmin\n",
       "13      Parvin\n",
       "14     Ismayil\n",
       "15       Malik\n",
       "16       Bilal\n",
       "17       Farid\n",
       "18    Muhammed\n",
       "19       Rasul\n",
       "20         Ali\n",
       "21     Khagani\n",
       "22    Mahammad\n",
       "Name: Name, dtype: object"
      ]
     },
     "execution_count": 53,
     "metadata": {},
     "output_type": "execute_result"
    }
   ],
   "source": [
    "# We input the name of key to get column\n",
    "name = df['Name']\n",
    "name"
   ]
  },
  {
   "cell_type": "markdown",
   "id": "3c10664e",
   "metadata": {},
   "source": [
    "You might notice it is Series object. We can also have access to the name of series."
   ]
  },
  {
   "cell_type": "code",
   "execution_count": 54,
   "id": "29e9e098",
   "metadata": {},
   "outputs": [
    {
     "data": {
      "text/plain": [
       "pandas.core.series.Series"
      ]
     },
     "execution_count": 54,
     "metadata": {},
     "output_type": "execute_result"
    }
   ],
   "source": [
    "type(name)"
   ]
  },
  {
   "cell_type": "code",
   "execution_count": 55,
   "id": "af8541bd",
   "metadata": {},
   "outputs": [
    {
     "data": {
      "text/plain": [
       "'Name'"
      ]
     },
     "execution_count": 55,
     "metadata": {},
     "output_type": "execute_result"
    }
   ],
   "source": [
    "name.name"
   ]
  },
  {
   "cell_type": "markdown",
   "id": "b0054864",
   "metadata": {},
   "source": [
    "Another example."
   ]
  },
  {
   "cell_type": "code",
   "execution_count": 56,
   "id": "6a28d805",
   "metadata": {},
   "outputs": [
    {
     "data": {
      "text/plain": [
       "array([22, 19, 20, 19, 18, 20, 20, 19, 19, 20, 22, 19, 18, 20, 22, 21, 18,\n",
       "       20, 21, 18, 19, 20, 19], dtype=object)"
      ]
     },
     "execution_count": 56,
     "metadata": {},
     "output_type": "execute_result"
    }
   ],
   "source": [
    "arr[:, 2]"
   ]
  },
  {
   "cell_type": "code",
   "execution_count": 57,
   "id": "55876323",
   "metadata": {},
   "outputs": [],
   "source": [
    "age = df['Age']"
   ]
  },
  {
   "cell_type": "code",
   "execution_count": 58,
   "id": "40042ee5",
   "metadata": {},
   "outputs": [
    {
     "data": {
      "text/plain": [
       "'Age'"
      ]
     },
     "execution_count": 58,
     "metadata": {},
     "output_type": "execute_result"
    }
   ],
   "source": [
    "age.name"
   ]
  },
  {
   "cell_type": "code",
   "execution_count": 59,
   "id": "1ff9f6ff",
   "metadata": {},
   "outputs": [
    {
     "data": {
      "text/plain": [
       "0     22\n",
       "1     19\n",
       "2     20\n",
       "3     19\n",
       "4     18\n",
       "5     20\n",
       "6     20\n",
       "7     19\n",
       "8     19\n",
       "9     20\n",
       "10    22\n",
       "11    19\n",
       "12    18\n",
       "13    20\n",
       "14    22\n",
       "15    21\n",
       "16    18\n",
       "17    20\n",
       "18    21\n",
       "19    18\n",
       "20    19\n",
       "21    20\n",
       "22    19\n",
       "Name: Age, dtype: int64"
      ]
     },
     "execution_count": 59,
     "metadata": {},
     "output_type": "execute_result"
    }
   ],
   "source": [
    "age"
   ]
  },
  {
   "cell_type": "markdown",
   "id": "0e3e2595",
   "metadata": {},
   "source": [
    "Continuing with age column, let's assign NumPy array to a variable and see the shape."
   ]
  },
  {
   "cell_type": "code",
   "execution_count": 60,
   "id": "5b96b2ad",
   "metadata": {},
   "outputs": [
    {
     "data": {
      "text/plain": [
       "(23,)"
      ]
     },
     "execution_count": 60,
     "metadata": {},
     "output_type": "execute_result"
    }
   ],
   "source": [
    "age_arr = arr[:, 2]\n",
    "age_arr.shape"
   ]
  },
  {
   "cell_type": "code",
   "execution_count": 61,
   "id": "c33efb20",
   "metadata": {},
   "outputs": [
    {
     "data": {
      "text/plain": [
       "(23,)"
      ]
     },
     "execution_count": 61,
     "metadata": {},
     "output_type": "execute_result"
    }
   ],
   "source": [
    "# The previou series object's shape\n",
    "age.shape"
   ]
  },
  {
   "cell_type": "markdown",
   "id": "dfde5b1b",
   "metadata": {},
   "source": [
    "If you want to obtain a key as a DataFrame object instead of Series, you should input it as a double bracket as below."
   ]
  },
  {
   "cell_type": "code",
   "execution_count": 62,
   "id": "14910e13",
   "metadata": {},
   "outputs": [
    {
     "data": {
      "text/plain": [
       "(23, 1)"
      ]
     },
     "execution_count": 62,
     "metadata": {},
     "output_type": "execute_result"
    }
   ],
   "source": [
    "# I put 2 inside brackets indicating that I want to add another dimension.\n",
    "age_arr = arr[:, [2]]\n",
    "\n",
    "# The shape is (23, 1) not (23, ) \n",
    "age_arr.shape"
   ]
  },
  {
   "cell_type": "code",
   "execution_count": 63,
   "id": "333dd5f2",
   "metadata": {},
   "outputs": [
    {
     "data": {
      "text/plain": [
       "(23, 1)"
      ]
     },
     "execution_count": 63,
     "metadata": {},
     "output_type": "execute_result"
    }
   ],
   "source": [
    "# Similarly, we use double brackets again.\n",
    "age = df[['Age']]\n",
    "age.shape"
   ]
  },
  {
   "cell_type": "code",
   "execution_count": 64,
   "id": "bf98c0cd",
   "metadata": {},
   "outputs": [
    {
     "data": {
      "text/html": [
       "<div>\n",
       "<style scoped>\n",
       "    .dataframe tbody tr th:only-of-type {\n",
       "        vertical-align: middle;\n",
       "    }\n",
       "\n",
       "    .dataframe tbody tr th {\n",
       "        vertical-align: top;\n",
       "    }\n",
       "\n",
       "    .dataframe thead th {\n",
       "        text-align: right;\n",
       "    }\n",
       "</style>\n",
       "<table border=\"1\" class=\"dataframe\">\n",
       "  <thead>\n",
       "    <tr style=\"text-align: right;\">\n",
       "      <th></th>\n",
       "      <th>Age</th>\n",
       "    </tr>\n",
       "  </thead>\n",
       "  <tbody>\n",
       "    <tr>\n",
       "      <th>0</th>\n",
       "      <td>22</td>\n",
       "    </tr>\n",
       "    <tr>\n",
       "      <th>1</th>\n",
       "      <td>19</td>\n",
       "    </tr>\n",
       "    <tr>\n",
       "      <th>2</th>\n",
       "      <td>20</td>\n",
       "    </tr>\n",
       "    <tr>\n",
       "      <th>3</th>\n",
       "      <td>19</td>\n",
       "    </tr>\n",
       "    <tr>\n",
       "      <th>4</th>\n",
       "      <td>18</td>\n",
       "    </tr>\n",
       "    <tr>\n",
       "      <th>5</th>\n",
       "      <td>20</td>\n",
       "    </tr>\n",
       "    <tr>\n",
       "      <th>6</th>\n",
       "      <td>20</td>\n",
       "    </tr>\n",
       "    <tr>\n",
       "      <th>7</th>\n",
       "      <td>19</td>\n",
       "    </tr>\n",
       "    <tr>\n",
       "      <th>8</th>\n",
       "      <td>19</td>\n",
       "    </tr>\n",
       "    <tr>\n",
       "      <th>9</th>\n",
       "      <td>20</td>\n",
       "    </tr>\n",
       "    <tr>\n",
       "      <th>10</th>\n",
       "      <td>22</td>\n",
       "    </tr>\n",
       "    <tr>\n",
       "      <th>11</th>\n",
       "      <td>19</td>\n",
       "    </tr>\n",
       "    <tr>\n",
       "      <th>12</th>\n",
       "      <td>18</td>\n",
       "    </tr>\n",
       "    <tr>\n",
       "      <th>13</th>\n",
       "      <td>20</td>\n",
       "    </tr>\n",
       "    <tr>\n",
       "      <th>14</th>\n",
       "      <td>22</td>\n",
       "    </tr>\n",
       "    <tr>\n",
       "      <th>15</th>\n",
       "      <td>21</td>\n",
       "    </tr>\n",
       "    <tr>\n",
       "      <th>16</th>\n",
       "      <td>18</td>\n",
       "    </tr>\n",
       "    <tr>\n",
       "      <th>17</th>\n",
       "      <td>20</td>\n",
       "    </tr>\n",
       "    <tr>\n",
       "      <th>18</th>\n",
       "      <td>21</td>\n",
       "    </tr>\n",
       "    <tr>\n",
       "      <th>19</th>\n",
       "      <td>18</td>\n",
       "    </tr>\n",
       "    <tr>\n",
       "      <th>20</th>\n",
       "      <td>19</td>\n",
       "    </tr>\n",
       "    <tr>\n",
       "      <th>21</th>\n",
       "      <td>20</td>\n",
       "    </tr>\n",
       "    <tr>\n",
       "      <th>22</th>\n",
       "      <td>19</td>\n",
       "    </tr>\n",
       "  </tbody>\n",
       "</table>\n",
       "</div>"
      ],
      "text/plain": [
       "    Age\n",
       "0    22\n",
       "1    19\n",
       "2    20\n",
       "3    19\n",
       "4    18\n",
       "5    20\n",
       "6    20\n",
       "7    19\n",
       "8    19\n",
       "9    20\n",
       "10   22\n",
       "11   19\n",
       "12   18\n",
       "13   20\n",
       "14   22\n",
       "15   21\n",
       "16   18\n",
       "17   20\n",
       "18   21\n",
       "19   18\n",
       "20   19\n",
       "21   20\n",
       "22   19"
      ]
     },
     "execution_count": 64,
     "metadata": {},
     "output_type": "execute_result"
    }
   ],
   "source": [
    "# Now, it is a DataFrame\n",
    "age"
   ]
  },
  {
   "cell_type": "markdown",
   "id": "903107bb",
   "metadata": {},
   "source": [
    "You can also choose multiple columns. In that case, you definitely get another DataFrame."
   ]
  },
  {
   "cell_type": "code",
   "execution_count": 65,
   "id": "c9f4e51c",
   "metadata": {},
   "outputs": [
    {
     "data": {
      "text/plain": [
       "array([['Nabi', 22],\n",
       "       ['Purmukhtari', 19],\n",
       "       ['Baghirov', 20],\n",
       "       ['Mehdiyeva', 19],\n",
       "       ['Aliyeva', 18],\n",
       "       ['Shukurlu', 20],\n",
       "       ['Mammadzade', 20],\n",
       "       ['Seyidli', 19],\n",
       "       ['Yusifov', 19],\n",
       "       ['Safarova', 20],\n",
       "       ['Mammadli', 22],\n",
       "       ['Ahmadzade', 19],\n",
       "       ['Asgarov', 18],\n",
       "       ['Hasanov', 20],\n",
       "       ['Masimov', 22],\n",
       "       ['Suleymanov', 21],\n",
       "       ['Hagverdiyev', 18],\n",
       "       ['Mammadov', 20],\n",
       "       ['Nuriyev', 21],\n",
       "       ['Rasulzade', 18],\n",
       "       ['Gasimov', 19],\n",
       "       ['Gasimov', 20],\n",
       "       ['Mehdi', 19]], dtype=object)"
      ]
     },
     "execution_count": 65,
     "metadata": {},
     "output_type": "execute_result"
    }
   ],
   "source": [
    "arr[:, [1, 2]]"
   ]
  },
  {
   "cell_type": "code",
   "execution_count": 66,
   "id": "58d79106",
   "metadata": {},
   "outputs": [
    {
     "data": {
      "text/html": [
       "<div>\n",
       "<style scoped>\n",
       "    .dataframe tbody tr th:only-of-type {\n",
       "        vertical-align: middle;\n",
       "    }\n",
       "\n",
       "    .dataframe tbody tr th {\n",
       "        vertical-align: top;\n",
       "    }\n",
       "\n",
       "    .dataframe thead th {\n",
       "        text-align: right;\n",
       "    }\n",
       "</style>\n",
       "<table border=\"1\" class=\"dataframe\">\n",
       "  <thead>\n",
       "    <tr style=\"text-align: right;\">\n",
       "      <th></th>\n",
       "      <th>Surname</th>\n",
       "      <th>Age</th>\n",
       "    </tr>\n",
       "  </thead>\n",
       "  <tbody>\n",
       "    <tr>\n",
       "      <th>0</th>\n",
       "      <td>Nabi</td>\n",
       "      <td>22</td>\n",
       "    </tr>\n",
       "    <tr>\n",
       "      <th>1</th>\n",
       "      <td>Purmukhtari</td>\n",
       "      <td>19</td>\n",
       "    </tr>\n",
       "    <tr>\n",
       "      <th>2</th>\n",
       "      <td>Baghirov</td>\n",
       "      <td>20</td>\n",
       "    </tr>\n",
       "    <tr>\n",
       "      <th>3</th>\n",
       "      <td>Mehdiyeva</td>\n",
       "      <td>19</td>\n",
       "    </tr>\n",
       "    <tr>\n",
       "      <th>4</th>\n",
       "      <td>Aliyeva</td>\n",
       "      <td>18</td>\n",
       "    </tr>\n",
       "  </tbody>\n",
       "</table>\n",
       "</div>"
      ],
      "text/plain": [
       "       Surname  Age\n",
       "0         Nabi   22\n",
       "1  Purmukhtari   19\n",
       "2     Baghirov   20\n",
       "3    Mehdiyeva   19\n",
       "4      Aliyeva   18"
      ]
     },
     "execution_count": 66,
     "metadata": {},
     "output_type": "execute_result"
    }
   ],
   "source": [
    "df[['Surname', 'Age']].head()"
   ]
  },
  {
   "cell_type": "code",
   "execution_count": 67,
   "id": "691614f6",
   "metadata": {},
   "outputs": [
    {
     "data": {
      "text/html": [
       "<div>\n",
       "<style scoped>\n",
       "    .dataframe tbody tr th:only-of-type {\n",
       "        vertical-align: middle;\n",
       "    }\n",
       "\n",
       "    .dataframe tbody tr th {\n",
       "        vertical-align: top;\n",
       "    }\n",
       "\n",
       "    .dataframe thead th {\n",
       "        text-align: right;\n",
       "    }\n",
       "</style>\n",
       "<table border=\"1\" class=\"dataframe\">\n",
       "  <thead>\n",
       "    <tr style=\"text-align: right;\">\n",
       "      <th></th>\n",
       "      <th>Surname</th>\n",
       "      <th>Age</th>\n",
       "    </tr>\n",
       "  </thead>\n",
       "  <tbody>\n",
       "    <tr>\n",
       "      <th>0</th>\n",
       "      <td>Nabi</td>\n",
       "      <td>22</td>\n",
       "    </tr>\n",
       "    <tr>\n",
       "      <th>1</th>\n",
       "      <td>Purmukhtari</td>\n",
       "      <td>19</td>\n",
       "    </tr>\n",
       "    <tr>\n",
       "      <th>2</th>\n",
       "      <td>Baghirov</td>\n",
       "      <td>20</td>\n",
       "    </tr>\n",
       "    <tr>\n",
       "      <th>3</th>\n",
       "      <td>Mehdiyeva</td>\n",
       "      <td>19</td>\n",
       "    </tr>\n",
       "    <tr>\n",
       "      <th>4</th>\n",
       "      <td>Aliyeva</td>\n",
       "      <td>18</td>\n",
       "    </tr>\n",
       "  </tbody>\n",
       "</table>\n",
       "</div>"
      ],
      "text/plain": [
       "       Surname  Age\n",
       "0         Nabi   22\n",
       "1  Purmukhtari   19\n",
       "2     Baghirov   20\n",
       "3    Mehdiyeva   19\n",
       "4      Aliyeva   18"
      ]
     },
     "execution_count": 67,
     "metadata": {},
     "output_type": "execute_result"
    }
   ],
   "source": [
    "# or\n",
    "column_names = ['Surname', 'Age']\n",
    "df[column_names].head()"
   ]
  },
  {
   "cell_type": "code",
   "execution_count": null,
   "id": "8b6a7ebe",
   "metadata": {},
   "outputs": [],
   "source": []
  },
  {
   "cell_type": "code",
   "execution_count": null,
   "id": "cf90554e",
   "metadata": {},
   "outputs": [],
   "source": []
  },
  {
   "cell_type": "markdown",
   "id": "e81d8ab7",
   "metadata": {},
   "source": [
    "## <a id='astype'>Changing Data Types</a>"
   ]
  },
  {
   "cell_type": "markdown",
   "id": "40fd4d11",
   "metadata": {},
   "source": [
    "Recalling arrays."
   ]
  },
  {
   "cell_type": "code",
   "execution_count": 68,
   "id": "8329ce96",
   "metadata": {},
   "outputs": [],
   "source": [
    "gpa = arr[:, 3]"
   ]
  },
  {
   "cell_type": "code",
   "execution_count": 69,
   "id": "2fd63216",
   "metadata": {},
   "outputs": [
    {
     "data": {
      "text/plain": [
       "dtype('O')"
      ]
     },
     "execution_count": 69,
     "metadata": {},
     "output_type": "execute_result"
    }
   ],
   "source": [
    "gpa.dtype"
   ]
  },
  {
   "cell_type": "code",
   "execution_count": 70,
   "id": "52ea5e84",
   "metadata": {},
   "outputs": [
    {
     "data": {
      "text/plain": [
       "array([100, 94, 82, 97, 91, 87, 87, 89, 98, 88, 86, 98, 89, 81, 91, 97,\n",
       "       95, 93, 84, 98, 90, 100, 98], dtype=object)"
      ]
     },
     "execution_count": 70,
     "metadata": {},
     "output_type": "execute_result"
    }
   ],
   "source": [
    "gpa"
   ]
  },
  {
   "cell_type": "code",
   "execution_count": 71,
   "id": "1d2da6d0",
   "metadata": {},
   "outputs": [
    {
     "data": {
      "text/plain": [
       "array([100,  94,  82,  97,  91,  87,  87,  89,  98,  88,  86,  98,  89,\n",
       "        81,  91,  97,  95,  93,  84,  98,  90, 100,  98], dtype=int8)"
      ]
     },
     "execution_count": 71,
     "metadata": {},
     "output_type": "execute_result"
    }
   ],
   "source": [
    "gpa = gpa.astype(np.int8)\n",
    "gpa"
   ]
  },
  {
   "cell_type": "code",
   "execution_count": 72,
   "id": "7ddfd8e3",
   "metadata": {},
   "outputs": [
    {
     "data": {
      "text/plain": [
       "dtype('int8')"
      ]
     },
     "execution_count": 72,
     "metadata": {},
     "output_type": "execute_result"
    }
   ],
   "source": [
    "gpa.dtype"
   ]
  },
  {
   "cell_type": "markdown",
   "id": "4fe90a93",
   "metadata": {},
   "source": [
    "Applying with DataFrame"
   ]
  },
  {
   "cell_type": "code",
   "execution_count": 73,
   "id": "62c2c931",
   "metadata": {},
   "outputs": [
    {
     "data": {
      "text/plain": [
       "Name       object\n",
       "Surname    object\n",
       "Age         int64\n",
       "GPA         int64\n",
       "dtype: object"
      ]
     },
     "execution_count": 73,
     "metadata": {},
     "output_type": "execute_result"
    }
   ],
   "source": [
    "df.dtypes"
   ]
  },
  {
   "cell_type": "code",
   "execution_count": 74,
   "id": "f38aa165",
   "metadata": {},
   "outputs": [
    {
     "data": {
      "text/plain": [
       "0     22\n",
       "1     19\n",
       "2     20\n",
       "3     19\n",
       "4     18\n",
       "5     20\n",
       "6     20\n",
       "7     19\n",
       "8     19\n",
       "9     20\n",
       "10    22\n",
       "11    19\n",
       "12    18\n",
       "13    20\n",
       "14    22\n",
       "15    21\n",
       "16    18\n",
       "17    20\n",
       "18    21\n",
       "19    18\n",
       "20    19\n",
       "21    20\n",
       "22    19\n",
       "Name: Age, dtype: int8"
      ]
     },
     "execution_count": 74,
     "metadata": {},
     "output_type": "execute_result"
    }
   ],
   "source": [
    "df['Age'].astype(np.int8)"
   ]
  },
  {
   "cell_type": "markdown",
   "id": "8d475db9",
   "metadata": {},
   "source": [
    "As we speak in previous sessions, astype functions returns a new object. So, we need to assign it."
   ]
  },
  {
   "cell_type": "code",
   "execution_count": 75,
   "id": "cfe8483b",
   "metadata": {},
   "outputs": [],
   "source": [
    "df['Age'] = df['Age'].astype(np.int8)"
   ]
  },
  {
   "cell_type": "code",
   "execution_count": 76,
   "id": "a292350e",
   "metadata": {},
   "outputs": [
    {
     "data": {
      "text/plain": [
       "Name       object\n",
       "Surname    object\n",
       "Age          int8\n",
       "GPA         int64\n",
       "dtype: object"
      ]
     },
     "execution_count": 76,
     "metadata": {},
     "output_type": "execute_result"
    }
   ],
   "source": [
    "df.dtypes"
   ]
  },
  {
   "cell_type": "code",
   "execution_count": null,
   "id": "1b93594a",
   "metadata": {},
   "outputs": [],
   "source": []
  },
  {
   "cell_type": "markdown",
   "id": "9f27d687",
   "metadata": {},
   "source": [
    "## <a id='description'>General Description of a Dataset</a>"
   ]
  },
  {
   "cell_type": "markdown",
   "id": "b0eb7353",
   "metadata": {},
   "source": [
    "From now on, we will be using the Iris flower dataset. It is a dataset about three species of iris, namely Iris setosa, Iris virginica, and Iris versicolor. In total we have 150 samples, each 50 of which belong to one species. There are 4 features, such as sepal length, sepal width, petal length, and petal width.\n",
    "\n",
    "We start by reading and quick analysis."
   ]
  },
  {
   "cell_type": "code",
   "execution_count": 77,
   "id": "feb72516",
   "metadata": {},
   "outputs": [],
   "source": [
    "df = pd.read_csv('data/Iris.csv')"
   ]
  },
  {
   "cell_type": "code",
   "execution_count": 78,
   "id": "0b206a6c",
   "metadata": {},
   "outputs": [
    {
     "data": {
      "text/html": [
       "<div>\n",
       "<style scoped>\n",
       "    .dataframe tbody tr th:only-of-type {\n",
       "        vertical-align: middle;\n",
       "    }\n",
       "\n",
       "    .dataframe tbody tr th {\n",
       "        vertical-align: top;\n",
       "    }\n",
       "\n",
       "    .dataframe thead th {\n",
       "        text-align: right;\n",
       "    }\n",
       "</style>\n",
       "<table border=\"1\" class=\"dataframe\">\n",
       "  <thead>\n",
       "    <tr style=\"text-align: right;\">\n",
       "      <th></th>\n",
       "      <th>Id</th>\n",
       "      <th>SepalLengthCm</th>\n",
       "      <th>SepalWidthCm</th>\n",
       "      <th>PetalLengthCm</th>\n",
       "      <th>PetalWidthCm</th>\n",
       "      <th>Species</th>\n",
       "    </tr>\n",
       "  </thead>\n",
       "  <tbody>\n",
       "    <tr>\n",
       "      <th>0</th>\n",
       "      <td>1</td>\n",
       "      <td>5.1</td>\n",
       "      <td>3.5</td>\n",
       "      <td>1.4</td>\n",
       "      <td>0.2</td>\n",
       "      <td>Iris-setosa</td>\n",
       "    </tr>\n",
       "    <tr>\n",
       "      <th>1</th>\n",
       "      <td>2</td>\n",
       "      <td>4.9</td>\n",
       "      <td>3.0</td>\n",
       "      <td>1.4</td>\n",
       "      <td>0.2</td>\n",
       "      <td>Iris-setosa</td>\n",
       "    </tr>\n",
       "    <tr>\n",
       "      <th>2</th>\n",
       "      <td>3</td>\n",
       "      <td>4.7</td>\n",
       "      <td>3.2</td>\n",
       "      <td>1.3</td>\n",
       "      <td>0.2</td>\n",
       "      <td>Iris-setosa</td>\n",
       "    </tr>\n",
       "    <tr>\n",
       "      <th>3</th>\n",
       "      <td>4</td>\n",
       "      <td>4.6</td>\n",
       "      <td>3.1</td>\n",
       "      <td>1.5</td>\n",
       "      <td>0.2</td>\n",
       "      <td>Iris-setosa</td>\n",
       "    </tr>\n",
       "    <tr>\n",
       "      <th>4</th>\n",
       "      <td>5</td>\n",
       "      <td>5.0</td>\n",
       "      <td>3.6</td>\n",
       "      <td>1.4</td>\n",
       "      <td>0.2</td>\n",
       "      <td>Iris-setosa</td>\n",
       "    </tr>\n",
       "  </tbody>\n",
       "</table>\n",
       "</div>"
      ],
      "text/plain": [
       "   Id  SepalLengthCm  SepalWidthCm  PetalLengthCm  PetalWidthCm      Species\n",
       "0   1            5.1           3.5            1.4           0.2  Iris-setosa\n",
       "1   2            4.9           3.0            1.4           0.2  Iris-setosa\n",
       "2   3            4.7           3.2            1.3           0.2  Iris-setosa\n",
       "3   4            4.6           3.1            1.5           0.2  Iris-setosa\n",
       "4   5            5.0           3.6            1.4           0.2  Iris-setosa"
      ]
     },
     "execution_count": 78,
     "metadata": {},
     "output_type": "execute_result"
    }
   ],
   "source": [
    "df.head()"
   ]
  },
  {
   "cell_type": "code",
   "execution_count": 79,
   "id": "c356fa58",
   "metadata": {},
   "outputs": [
    {
     "data": {
      "text/plain": [
       "(150, 6)"
      ]
     },
     "execution_count": 79,
     "metadata": {},
     "output_type": "execute_result"
    }
   ],
   "source": [
    "df.shape"
   ]
  },
  {
   "cell_type": "code",
   "execution_count": 80,
   "id": "5d295fb1",
   "metadata": {},
   "outputs": [
    {
     "data": {
      "text/plain": [
       "Id                 int64\n",
       "SepalLengthCm    float64\n",
       "SepalWidthCm     float64\n",
       "PetalLengthCm    float64\n",
       "PetalWidthCm     float64\n",
       "Species           object\n",
       "dtype: object"
      ]
     },
     "execution_count": 80,
     "metadata": {},
     "output_type": "execute_result"
    }
   ],
   "source": [
    "df.dtypes"
   ]
  },
  {
   "cell_type": "markdown",
   "id": "4f526333",
   "metadata": {},
   "source": [
    "In this notebook, we will deal with Numerical Data only. So, let's choose them."
   ]
  },
  {
   "cell_type": "code",
   "execution_count": 106,
   "id": "2f698027",
   "metadata": {},
   "outputs": [],
   "source": [
    "num_df = df[['SepalLengthCm', 'SepalWidthCm', 'PetalLengthCm', 'PetalWidthCm']]"
   ]
  },
  {
   "cell_type": "code",
   "execution_count": 107,
   "id": "ba612e5d",
   "metadata": {},
   "outputs": [],
   "source": [
    "arr = num_df.values"
   ]
  },
  {
   "cell_type": "code",
   "execution_count": 83,
   "id": "c9f7efec",
   "metadata": {},
   "outputs": [
    {
     "data": {
      "text/html": [
       "<div>\n",
       "<style scoped>\n",
       "    .dataframe tbody tr th:only-of-type {\n",
       "        vertical-align: middle;\n",
       "    }\n",
       "\n",
       "    .dataframe tbody tr th {\n",
       "        vertical-align: top;\n",
       "    }\n",
       "\n",
       "    .dataframe thead th {\n",
       "        text-align: right;\n",
       "    }\n",
       "</style>\n",
       "<table border=\"1\" class=\"dataframe\">\n",
       "  <thead>\n",
       "    <tr style=\"text-align: right;\">\n",
       "      <th></th>\n",
       "      <th>SepalLengthCm</th>\n",
       "      <th>SepalWidthCm</th>\n",
       "      <th>PetalLengthCm</th>\n",
       "      <th>PetalWidthCm</th>\n",
       "    </tr>\n",
       "  </thead>\n",
       "  <tbody>\n",
       "    <tr>\n",
       "      <th>0</th>\n",
       "      <td>5.1</td>\n",
       "      <td>3.5</td>\n",
       "      <td>1.4</td>\n",
       "      <td>0.2</td>\n",
       "    </tr>\n",
       "    <tr>\n",
       "      <th>1</th>\n",
       "      <td>4.9</td>\n",
       "      <td>3.0</td>\n",
       "      <td>1.4</td>\n",
       "      <td>0.2</td>\n",
       "    </tr>\n",
       "    <tr>\n",
       "      <th>2</th>\n",
       "      <td>4.7</td>\n",
       "      <td>3.2</td>\n",
       "      <td>1.3</td>\n",
       "      <td>0.2</td>\n",
       "    </tr>\n",
       "    <tr>\n",
       "      <th>3</th>\n",
       "      <td>4.6</td>\n",
       "      <td>3.1</td>\n",
       "      <td>1.5</td>\n",
       "      <td>0.2</td>\n",
       "    </tr>\n",
       "    <tr>\n",
       "      <th>4</th>\n",
       "      <td>5.0</td>\n",
       "      <td>3.6</td>\n",
       "      <td>1.4</td>\n",
       "      <td>0.2</td>\n",
       "    </tr>\n",
       "  </tbody>\n",
       "</table>\n",
       "</div>"
      ],
      "text/plain": [
       "   SepalLengthCm  SepalWidthCm  PetalLengthCm  PetalWidthCm\n",
       "0            5.1           3.5            1.4           0.2\n",
       "1            4.9           3.0            1.4           0.2\n",
       "2            4.7           3.2            1.3           0.2\n",
       "3            4.6           3.1            1.5           0.2\n",
       "4            5.0           3.6            1.4           0.2"
      ]
     },
     "execution_count": 83,
     "metadata": {},
     "output_type": "execute_result"
    }
   ],
   "source": [
    "num_df.head()"
   ]
  },
  {
   "cell_type": "markdown",
   "id": "3d84ef1e",
   "metadata": {},
   "source": [
    "Describe function shows short description of what's going on the data. It returns for each column:\n",
    "* count - number of non-missing values. If there is any missing data points, they will not be counted. It will be touched on later.\n",
    "* mean\n",
    "* std - standard deviation\n",
    "* min - minimum\n",
    "* 25% 50% 75% - quantiles. Here 50% quantile is equivalent to median\n",
    "* max - maximum"
   ]
  },
  {
   "cell_type": "code",
   "execution_count": 84,
   "id": "5abaaffc",
   "metadata": {},
   "outputs": [
    {
     "data": {
      "text/html": [
       "<div>\n",
       "<style scoped>\n",
       "    .dataframe tbody tr th:only-of-type {\n",
       "        vertical-align: middle;\n",
       "    }\n",
       "\n",
       "    .dataframe tbody tr th {\n",
       "        vertical-align: top;\n",
       "    }\n",
       "\n",
       "    .dataframe thead th {\n",
       "        text-align: right;\n",
       "    }\n",
       "</style>\n",
       "<table border=\"1\" class=\"dataframe\">\n",
       "  <thead>\n",
       "    <tr style=\"text-align: right;\">\n",
       "      <th></th>\n",
       "      <th>SepalLengthCm</th>\n",
       "      <th>SepalWidthCm</th>\n",
       "      <th>PetalLengthCm</th>\n",
       "      <th>PetalWidthCm</th>\n",
       "    </tr>\n",
       "  </thead>\n",
       "  <tbody>\n",
       "    <tr>\n",
       "      <th>count</th>\n",
       "      <td>150.000000</td>\n",
       "      <td>150.000000</td>\n",
       "      <td>150.000000</td>\n",
       "      <td>150.000000</td>\n",
       "    </tr>\n",
       "    <tr>\n",
       "      <th>mean</th>\n",
       "      <td>5.843333</td>\n",
       "      <td>3.054000</td>\n",
       "      <td>3.758667</td>\n",
       "      <td>1.198667</td>\n",
       "    </tr>\n",
       "    <tr>\n",
       "      <th>std</th>\n",
       "      <td>0.828066</td>\n",
       "      <td>0.433594</td>\n",
       "      <td>1.764420</td>\n",
       "      <td>0.763161</td>\n",
       "    </tr>\n",
       "    <tr>\n",
       "      <th>min</th>\n",
       "      <td>4.300000</td>\n",
       "      <td>2.000000</td>\n",
       "      <td>1.000000</td>\n",
       "      <td>0.100000</td>\n",
       "    </tr>\n",
       "    <tr>\n",
       "      <th>25%</th>\n",
       "      <td>5.100000</td>\n",
       "      <td>2.800000</td>\n",
       "      <td>1.600000</td>\n",
       "      <td>0.300000</td>\n",
       "    </tr>\n",
       "    <tr>\n",
       "      <th>50%</th>\n",
       "      <td>5.800000</td>\n",
       "      <td>3.000000</td>\n",
       "      <td>4.350000</td>\n",
       "      <td>1.300000</td>\n",
       "    </tr>\n",
       "    <tr>\n",
       "      <th>75%</th>\n",
       "      <td>6.400000</td>\n",
       "      <td>3.300000</td>\n",
       "      <td>5.100000</td>\n",
       "      <td>1.800000</td>\n",
       "    </tr>\n",
       "    <tr>\n",
       "      <th>max</th>\n",
       "      <td>7.900000</td>\n",
       "      <td>4.400000</td>\n",
       "      <td>6.900000</td>\n",
       "      <td>2.500000</td>\n",
       "    </tr>\n",
       "  </tbody>\n",
       "</table>\n",
       "</div>"
      ],
      "text/plain": [
       "       SepalLengthCm  SepalWidthCm  PetalLengthCm  PetalWidthCm\n",
       "count     150.000000    150.000000     150.000000    150.000000\n",
       "mean        5.843333      3.054000       3.758667      1.198667\n",
       "std         0.828066      0.433594       1.764420      0.763161\n",
       "min         4.300000      2.000000       1.000000      0.100000\n",
       "25%         5.100000      2.800000       1.600000      0.300000\n",
       "50%         5.800000      3.000000       4.350000      1.300000\n",
       "75%         6.400000      3.300000       5.100000      1.800000\n",
       "max         7.900000      4.400000       6.900000      2.500000"
      ]
     },
     "execution_count": 84,
     "metadata": {},
     "output_type": "execute_result"
    }
   ],
   "source": [
    "num_df.describe()"
   ]
  },
  {
   "cell_type": "code",
   "execution_count": null,
   "id": "8aa3e197",
   "metadata": {},
   "outputs": [],
   "source": []
  },
  {
   "cell_type": "code",
   "execution_count": null,
   "id": "0be131a1",
   "metadata": {},
   "outputs": [],
   "source": []
  },
  {
   "cell_type": "markdown",
   "id": "f143dab6",
   "metadata": {},
   "source": [
    "Let's get the returned DataFrame as a new variable and see index and columns."
   ]
  },
  {
   "cell_type": "code",
   "execution_count": 85,
   "id": "3708ccc9",
   "metadata": {},
   "outputs": [],
   "source": [
    "description = num_df.describe()"
   ]
  },
  {
   "cell_type": "code",
   "execution_count": 86,
   "id": "ddaa586a",
   "metadata": {},
   "outputs": [
    {
     "data": {
      "text/html": [
       "<div>\n",
       "<style scoped>\n",
       "    .dataframe tbody tr th:only-of-type {\n",
       "        vertical-align: middle;\n",
       "    }\n",
       "\n",
       "    .dataframe tbody tr th {\n",
       "        vertical-align: top;\n",
       "    }\n",
       "\n",
       "    .dataframe thead th {\n",
       "        text-align: right;\n",
       "    }\n",
       "</style>\n",
       "<table border=\"1\" class=\"dataframe\">\n",
       "  <thead>\n",
       "    <tr style=\"text-align: right;\">\n",
       "      <th></th>\n",
       "      <th>SepalLengthCm</th>\n",
       "      <th>SepalWidthCm</th>\n",
       "      <th>PetalLengthCm</th>\n",
       "      <th>PetalWidthCm</th>\n",
       "    </tr>\n",
       "  </thead>\n",
       "  <tbody>\n",
       "    <tr>\n",
       "      <th>count</th>\n",
       "      <td>150.000000</td>\n",
       "      <td>150.000000</td>\n",
       "      <td>150.000000</td>\n",
       "      <td>150.000000</td>\n",
       "    </tr>\n",
       "    <tr>\n",
       "      <th>mean</th>\n",
       "      <td>5.843333</td>\n",
       "      <td>3.054000</td>\n",
       "      <td>3.758667</td>\n",
       "      <td>1.198667</td>\n",
       "    </tr>\n",
       "    <tr>\n",
       "      <th>std</th>\n",
       "      <td>0.828066</td>\n",
       "      <td>0.433594</td>\n",
       "      <td>1.764420</td>\n",
       "      <td>0.763161</td>\n",
       "    </tr>\n",
       "    <tr>\n",
       "      <th>min</th>\n",
       "      <td>4.300000</td>\n",
       "      <td>2.000000</td>\n",
       "      <td>1.000000</td>\n",
       "      <td>0.100000</td>\n",
       "    </tr>\n",
       "    <tr>\n",
       "      <th>25%</th>\n",
       "      <td>5.100000</td>\n",
       "      <td>2.800000</td>\n",
       "      <td>1.600000</td>\n",
       "      <td>0.300000</td>\n",
       "    </tr>\n",
       "    <tr>\n",
       "      <th>50%</th>\n",
       "      <td>5.800000</td>\n",
       "      <td>3.000000</td>\n",
       "      <td>4.350000</td>\n",
       "      <td>1.300000</td>\n",
       "    </tr>\n",
       "    <tr>\n",
       "      <th>75%</th>\n",
       "      <td>6.400000</td>\n",
       "      <td>3.300000</td>\n",
       "      <td>5.100000</td>\n",
       "      <td>1.800000</td>\n",
       "    </tr>\n",
       "    <tr>\n",
       "      <th>max</th>\n",
       "      <td>7.900000</td>\n",
       "      <td>4.400000</td>\n",
       "      <td>6.900000</td>\n",
       "      <td>2.500000</td>\n",
       "    </tr>\n",
       "  </tbody>\n",
       "</table>\n",
       "</div>"
      ],
      "text/plain": [
       "       SepalLengthCm  SepalWidthCm  PetalLengthCm  PetalWidthCm\n",
       "count     150.000000    150.000000     150.000000    150.000000\n",
       "mean        5.843333      3.054000       3.758667      1.198667\n",
       "std         0.828066      0.433594       1.764420      0.763161\n",
       "min         4.300000      2.000000       1.000000      0.100000\n",
       "25%         5.100000      2.800000       1.600000      0.300000\n",
       "50%         5.800000      3.000000       4.350000      1.300000\n",
       "75%         6.400000      3.300000       5.100000      1.800000\n",
       "max         7.900000      4.400000       6.900000      2.500000"
      ]
     },
     "execution_count": 86,
     "metadata": {},
     "output_type": "execute_result"
    }
   ],
   "source": [
    "description"
   ]
  },
  {
   "cell_type": "code",
   "execution_count": 87,
   "id": "ff950a28",
   "metadata": {},
   "outputs": [
    {
     "data": {
      "text/plain": [
       "Index(['count', 'mean', 'std', 'min', '25%', '50%', '75%', 'max'], dtype='object')"
      ]
     },
     "execution_count": 87,
     "metadata": {},
     "output_type": "execute_result"
    }
   ],
   "source": [
    "description.index"
   ]
  },
  {
   "cell_type": "code",
   "execution_count": 88,
   "id": "292b9775",
   "metadata": {},
   "outputs": [
    {
     "data": {
      "text/plain": [
       "Index(['SepalLengthCm', 'SepalWidthCm', 'PetalLengthCm', 'PetalWidthCm'], dtype='object')"
      ]
     },
     "execution_count": 88,
     "metadata": {},
     "output_type": "execute_result"
    }
   ],
   "source": [
    "description.columns"
   ]
  },
  {
   "cell_type": "markdown",
   "id": "0a375b6d",
   "metadata": {},
   "source": [
    "Each index, in fact, shows different function names except 25%, 50%, and 75% coming from the same function called quantile. Out of the topic for now, but we will paraphrase 50% as median. So, let's get more familiar with these functions."
   ]
  },
  {
   "cell_type": "code",
   "execution_count": 89,
   "id": "6eaf6913",
   "metadata": {},
   "outputs": [
    {
     "data": {
      "text/plain": [
       "SepalLengthCm    5.843333\n",
       "SepalWidthCm     3.054000\n",
       "PetalLengthCm    3.758667\n",
       "PetalWidthCm     1.198667\n",
       "dtype: float64"
      ]
     },
     "execution_count": 89,
     "metadata": {},
     "output_type": "execute_result"
    }
   ],
   "source": [
    "mean = num_df.mean()\n",
    "mean"
   ]
  },
  {
   "cell_type": "code",
   "execution_count": 90,
   "id": "c631b382",
   "metadata": {},
   "outputs": [
    {
     "data": {
      "text/plain": [
       "pandas.core.series.Series"
      ]
     },
     "execution_count": 90,
     "metadata": {},
     "output_type": "execute_result"
    }
   ],
   "source": [
    "type(mean)"
   ]
  },
  {
   "cell_type": "code",
   "execution_count": 91,
   "id": "a3821009",
   "metadata": {},
   "outputs": [
    {
     "data": {
      "text/plain": [
       "Index(['SepalLengthCm', 'SepalWidthCm', 'PetalLengthCm', 'PetalWidthCm'], dtype='object')"
      ]
     },
     "execution_count": 91,
     "metadata": {},
     "output_type": "execute_result"
    }
   ],
   "source": [
    "mean.index"
   ]
  },
  {
   "cell_type": "code",
   "execution_count": 92,
   "id": "66e6969d",
   "metadata": {},
   "outputs": [
    {
     "data": {
      "text/plain": [
       "array([5.84333333, 3.054     , 3.75866667, 1.19866667])"
      ]
     },
     "execution_count": 92,
     "metadata": {},
     "output_type": "execute_result"
    }
   ],
   "source": [
    "mean.values"
   ]
  },
  {
   "cell_type": "markdown",
   "id": "9abe6522",
   "metadata": {},
   "source": [
    "Mean function returns a series object by default. Each index indicates one column in the data with respective mean value. Others are the same."
   ]
  },
  {
   "cell_type": "code",
   "execution_count": 93,
   "id": "d86dc7c3",
   "metadata": {},
   "outputs": [
    {
     "data": {
      "text/plain": [
       "SepalLengthCm    5.80\n",
       "SepalWidthCm     3.00\n",
       "PetalLengthCm    4.35\n",
       "PetalWidthCm     1.30\n",
       "dtype: float64"
      ]
     },
     "execution_count": 93,
     "metadata": {},
     "output_type": "execute_result"
    }
   ],
   "source": [
    "num_df.median()"
   ]
  },
  {
   "cell_type": "code",
   "execution_count": 94,
   "id": "3b31fca9",
   "metadata": {},
   "outputs": [
    {
     "data": {
      "text/plain": [
       "SepalLengthCm    150\n",
       "SepalWidthCm     150\n",
       "PetalLengthCm    150\n",
       "PetalWidthCm     150\n",
       "dtype: int64"
      ]
     },
     "execution_count": 94,
     "metadata": {},
     "output_type": "execute_result"
    }
   ],
   "source": [
    "num_df.count()"
   ]
  },
  {
   "cell_type": "code",
   "execution_count": 95,
   "id": "6b311f57",
   "metadata": {},
   "outputs": [
    {
     "data": {
      "text/plain": [
       "SepalLengthCm    0.828066\n",
       "SepalWidthCm     0.433594\n",
       "PetalLengthCm    1.764420\n",
       "PetalWidthCm     0.763161\n",
       "dtype: float64"
      ]
     },
     "execution_count": 95,
     "metadata": {},
     "output_type": "execute_result"
    }
   ],
   "source": [
    "num_df.std()"
   ]
  },
  {
   "cell_type": "code",
   "execution_count": 96,
   "id": "1ecee1da",
   "metadata": {},
   "outputs": [
    {
     "data": {
      "text/plain": [
       "SepalLengthCm    7.9\n",
       "SepalWidthCm     4.4\n",
       "PetalLengthCm    6.9\n",
       "PetalWidthCm     2.5\n",
       "dtype: float64"
      ]
     },
     "execution_count": 96,
     "metadata": {},
     "output_type": "execute_result"
    }
   ],
   "source": [
    "num_df.max()"
   ]
  },
  {
   "cell_type": "code",
   "execution_count": 97,
   "id": "06440dc6",
   "metadata": {},
   "outputs": [
    {
     "data": {
      "text/plain": [
       "SepalLengthCm    4.3\n",
       "SepalWidthCm     2.0\n",
       "PetalLengthCm    1.0\n",
       "PetalWidthCm     0.1\n",
       "dtype: float64"
      ]
     },
     "execution_count": 97,
     "metadata": {},
     "output_type": "execute_result"
    }
   ],
   "source": [
    "num_df.min()"
   ]
  },
  {
   "cell_type": "code",
   "execution_count": null,
   "id": "81a35b01",
   "metadata": {},
   "outputs": [],
   "source": []
  },
  {
   "cell_type": "markdown",
   "id": "5911a25e",
   "metadata": {},
   "source": [
    "We can do the same with NumPy array."
   ]
  },
  {
   "cell_type": "code",
   "execution_count": 108,
   "id": "70882f14",
   "metadata": {},
   "outputs": [
    {
     "data": {
      "text/plain": [
       "array([5.8 , 3.  , 4.35, 1.3 ])"
      ]
     },
     "execution_count": 108,
     "metadata": {},
     "output_type": "execute_result"
    }
   ],
   "source": [
    "np.median(arr, axis=0)"
   ]
  },
  {
   "cell_type": "code",
   "execution_count": 110,
   "id": "13f508a7",
   "metadata": {},
   "outputs": [
    {
     "data": {
      "text/plain": [
       "array([5.84333333, 3.054     , 3.75866667, 1.19866667])"
      ]
     },
     "execution_count": 110,
     "metadata": {},
     "output_type": "execute_result"
    }
   ],
   "source": [
    "np.mean(arr, axis=0)"
   ]
  },
  {
   "cell_type": "code",
   "execution_count": 111,
   "id": "4dc7eb32",
   "metadata": {},
   "outputs": [
    {
     "data": {
      "text/plain": [
       "array([4.3, 2. , 1. , 0.1])"
      ]
     },
     "execution_count": 111,
     "metadata": {},
     "output_type": "execute_result"
    }
   ],
   "source": [
    "np.min(arr, axis=0)"
   ]
  },
  {
   "cell_type": "code",
   "execution_count": 112,
   "id": "3cbc6578",
   "metadata": {},
   "outputs": [
    {
     "data": {
      "text/plain": [
       "array([7.9, 4.4, 6.9, 2.5])"
      ]
     },
     "execution_count": 112,
     "metadata": {},
     "output_type": "execute_result"
    }
   ],
   "source": [
    "np.max(arr, axis=0)"
   ]
  },
  {
   "cell_type": "code",
   "execution_count": 113,
   "id": "5a6395c0",
   "metadata": {},
   "outputs": [
    {
     "data": {
      "text/plain": [
       "array([0.82530129, 0.43214658, 1.75852918, 0.76061262])"
      ]
     },
     "execution_count": 113,
     "metadata": {},
     "output_type": "execute_result"
    }
   ],
   "source": [
    "np.std(arr, axis=0)"
   ]
  },
  {
   "cell_type": "markdown",
   "id": "b8235436",
   "metadata": {},
   "source": [
    "The standard deviation might slightly vary in NumPy with respect to Pandas. It is due to the difference in their equation's denominator. We will cover it in statistics, don't worry. "
   ]
  },
  {
   "cell_type": "code",
   "execution_count": null,
   "id": "792a6608",
   "metadata": {},
   "outputs": [],
   "source": []
  },
  {
   "cell_type": "markdown",
   "id": "fd1bc3f7",
   "metadata": {},
   "source": [
    "I will manually create nan data in the DataFrame. Nan in NumPy has a similar meaning to None. It means there is nothing (none). Sometimes, you will have data with missing values which is the issue to be recovered as we can't input any data with uncompleted rows to the model. The picture shows one exemplary scenario for our prior dataset that was manipulated later."
   ]
  },
  {
   "attachments": {
    "sample%20with%20none.png": {
     "image/png": "[encoded data removed]"
    }
   },
   "cell_type": "markdown",
   "id": "2ff9fcaf",
   "metadata": {},
   "source": [
    "![sample%20with%20none.png](attachment:sample%20with%20none.png)"
   ]
  },
  {
   "cell_type": "markdown",
   "id": "e77d55ff",
   "metadata": {},
   "source": [
    "In the next cell, I manually add missing values to the data. In other words, we replace the existing value with np.nan by choosing particular indexes."
   ]
  },
  {
   "cell_type": "code",
   "execution_count": 98,
   "id": "5bb048a7",
   "metadata": {},
   "outputs": [
    {
     "data": {
      "text/plain": [
       "array([[5.1, 3.5, 1.4, 0.2],\n",
       "       [4.9, 3. , 1.4, 0.2],\n",
       "       [4.7, 3.2, 1.3, 0.2],\n",
       "       [4.6, 3.1, 1.5, 0.2],\n",
       "       [5. , 3.6, 1.4, 0.2],\n",
       "       [5.4, 3.9, 1.7, 0.4],\n",
       "       [4.6, 3.4, 1.4, 0.3],\n",
       "       [5. , 3.4, 1.5, 0.2],\n",
       "       [4.4, 2.9, 1.4, 0.2],\n",
       "       [4.9, 3.1, 1.5, 0.1],\n",
       "       [5.4, 3.7, 1.5, 0.2],\n",
       "       [4.8, 3.4, 1.6, 0.2],\n",
       "       [4.8, 3. , 1.4, 0.1],\n",
       "       [4.3, 3. , 1.1, 0.1],\n",
       "       [5.8, 4. , 1.2, 0.2],\n",
       "       [5.7, 4.4, 1.5, 0.4],\n",
       "       [5.4, 3.9, 1.3, 0.4],\n",
       "       [5.1, 3.5, 1.4, 0.3],\n",
       "       [5.7, 3.8, 1.7, 0.3],\n",
       "       [5.1, 3.8, 1.5, 0.3],\n",
       "       [5.4, 3.4, 1.7, 0.2],\n",
       "       [5.1, 3.7, 1.5, 0.4],\n",
       "       [4.6, 3.6, 1. , 0.2],\n",
       "       [5.1, 3.3, 1.7, 0.5],\n",
       "       [4.8, 3.4, 1.9, 0.2],\n",
       "       [5. , 3. , 1.6, 0.2],\n",
       "       [5. , 3.4, 1.6, 0.4],\n",
       "       [5.2, 3.5, 1.5, 0.2],\n",
       "       [5.2, 3.4, 1.4, 0.2],\n",
       "       [4.7, 3.2, 1.6, 0.2],\n",
       "       [4.8, 3.1, 1.6, 0.2],\n",
       "       [5.4, 3.4, 1.5, 0.4],\n",
       "       [5.2, 4.1, 1.5, 0.1],\n",
       "       [5.5, 4.2, 1.4, 0.2],\n",
       "       [4.9, 3.1, 1.5, 0.1],\n",
       "       [5. , 3.2, 1.2, 0.2],\n",
       "       [5.5, 3.5, 1.3, 0.2],\n",
       "       [4.9, 3.1, 1.5, 0.1],\n",
       "       [4.4, 3. , 1.3, 0.2],\n",
       "       [5.1, 3.4, 1.5, 0.2],\n",
       "       [5. , 3.5, 1.3, 0.3],\n",
       "       [4.5, 2.3, 1.3, 0.3],\n",
       "       [4.4, 3.2, 1.3, 0.2],\n",
       "       [5. , 3.5, 1.6, 0.6],\n",
       "       [5.1, 3.8, 1.9, 0.4],\n",
       "       [4.8, 3. , 1.4, 0.3],\n",
       "       [5.1, 3.8, 1.6, 0.2],\n",
       "       [4.6, 3.2, 1.4, 0.2],\n",
       "       [5.3, 3.7, 1.5, 0.2],\n",
       "       [5. , 3.3, 1.4, 0.2],\n",
       "       [7. , 3.2, 4.7, 1.4],\n",
       "       [6.4, 3.2, 4.5, 1.5],\n",
       "       [6.9, 3.1, 4.9, 1.5],\n",
       "       [5.5, 2.3, 4. , 1.3],\n",
       "       [6.5, 2.8, 4.6, 1.5],\n",
       "       [5.7, 2.8, 4.5, 1.3],\n",
       "       [6.3, 3.3, 4.7, 1.6],\n",
       "       [4.9, 2.4, 3.3, 1. ],\n",
       "       [6.6, 2.9, 4.6, 1.3],\n",
       "       [5.2, 2.7, 3.9, 1.4],\n",
       "       [5. , 2. , 3.5, 1. ],\n",
       "       [5.9, 3. , 4.2, 1.5],\n",
       "       [6. , 2.2, 4. , 1. ],\n",
       "       [6.1, 2.9, 4.7, 1.4],\n",
       "       [5.6, 2.9, 3.6, 1.3],\n",
       "       [6.7, 3.1, 4.4, 1.4],\n",
       "       [5.6, 3. , 4.5, 1.5],\n",
       "       [5.8, 2.7, 4.1, 1. ],\n",
       "       [6.2, 2.2, 4.5, 1.5],\n",
       "       [5.6, 2.5, 3.9, 1.1],\n",
       "       [5.9, 3.2, 4.8, 1.8],\n",
       "       [6.1, 2.8, 4. , 1.3],\n",
       "       [6.3, 2.5, 4.9, 1.5],\n",
       "       [6.1, 2.8, 4.7, 1.2],\n",
       "       [6.4, 2.9, 4.3, 1.3],\n",
       "       [6.6, 3. , 4.4, 1.4],\n",
       "       [6.8, 2.8, 4.8, 1.4],\n",
       "       [6.7, 3. , 5. , 1.7],\n",
       "       [6. , 2.9, 4.5, 1.5],\n",
       "       [5.7, 2.6, 3.5, 1. ],\n",
       "       [5.5, 2.4, 3.8, 1.1],\n",
       "       [5.5, 2.4, 3.7, 1. ],\n",
       "       [5.8, 2.7, 3.9, 1.2],\n",
       "       [6. , 2.7, 5.1, 1.6],\n",
       "       [5.4, 3. , 4.5, 1.5],\n",
       "       [6. , 3.4, 4.5, 1.6],\n",
       "       [6.7, 3.1, 4.7, 1.5],\n",
       "       [6.3, 2.3, 4.4, 1.3],\n",
       "       [5.6, 3. , 4.1, 1.3],\n",
       "       [5.5, 2.5, 4. , 1.3],\n",
       "       [5.5, 2.6, 4.4, 1.2],\n",
       "       [6.1, 3. , 4.6, 1.4],\n",
       "       [5.8, 2.6, 4. , 1.2],\n",
       "       [5. , 2.3, 3.3, 1. ],\n",
       "       [5.6, 2.7, 4.2, 1.3],\n",
       "       [5.7, 3. , 4.2, 1.2],\n",
       "       [5.7, 2.9, 4.2, 1.3],\n",
       "       [6.2, 2.9, 4.3, 1.3],\n",
       "       [5.1, 2.5, 3. , 1.1],\n",
       "       [5.7, 2.8, 4.1, 1.3],\n",
       "       [6.3, 3.3, 6. , 2.5],\n",
       "       [5.8, 2.7, 5.1, 1.9],\n",
       "       [7.1, 3. , 5.9, 2.1],\n",
       "       [6.3, 2.9, 5.6, 1.8],\n",
       "       [6.5, 3. , 5.8, 2.2],\n",
       "       [7.6, 3. , 6.6, 2.1],\n",
       "       [4.9, 2.5, 4.5, 1.7],\n",
       "       [7.3, 2.9, 6.3, 1.8],\n",
       "       [6.7, 2.5, 5.8, 1.8],\n",
       "       [7.2, 3.6, 6.1, 2.5],\n",
       "       [6.5, 3.2, 5.1, 2. ],\n",
       "       [6.4, 2.7, 5.3, 1.9],\n",
       "       [6.8, 3. , 5.5, 2.1],\n",
       "       [5.7, 2.5, 5. , 2. ],\n",
       "       [5.8, 2.8, 5.1, 2.4],\n",
       "       [6.4, 3.2, 5.3, 2.3],\n",
       "       [6.5, 3. , 5.5, 1.8],\n",
       "       [7.7, 3.8, 6.7, 2.2],\n",
       "       [7.7, 2.6, 6.9, 2.3],\n",
       "       [6. , 2.2, 5. , 1.5],\n",
       "       [6.9, 3.2, 5.7, 2.3],\n",
       "       [5.6, 2.8, 4.9, 2. ],\n",
       "       [7.7, 2.8, 6.7, 2. ],\n",
       "       [6.3, 2.7, 4.9, 1.8],\n",
       "       [6.7, 3.3, 5.7, 2.1],\n",
       "       [7.2, 3.2, 6. , 1.8],\n",
       "       [6.2, 2.8, 4.8, 1.8],\n",
       "       [6.1, 3. , 4.9, 1.8],\n",
       "       [6.4, 2.8, 5.6, 2.1],\n",
       "       [7.2, 3. , 5.8, 1.6],\n",
       "       [7.4, 2.8, 6.1, 1.9],\n",
       "       [7.9, 3.8, 6.4, 2. ],\n",
       "       [6.4, 2.8, 5.6, 2.2],\n",
       "       [6.3, 2.8, 5.1, 1.5],\n",
       "       [6.1, 2.6, 5.6, 1.4],\n",
       "       [7.7, 3. , 6.1, 2.3],\n",
       "       [6.3, 3.4, 5.6, 2.4],\n",
       "       [6.4, 3.1, 5.5, 1.8],\n",
       "       [6. , 3. , 4.8, 1.8],\n",
       "       [6.9, 3.1, 5.4, 2.1],\n",
       "       [6.7, 3.1, 5.6, 2.4],\n",
       "       [6.9, 3.1, 5.1, 2.3],\n",
       "       [5.8, 2.7, 5.1, 1.9],\n",
       "       [6.8, 3.2, 5.9, 2.3],\n",
       "       [6.7, 3.3, 5.7, 2.5],\n",
       "       [6.7, 3. , 5.2, 2.3],\n",
       "       [6.3, 2.5, 5. , 1.9],\n",
       "       [6.5, 3. , 5.2, 2. ],\n",
       "       [6.2, 3.4, 5.4, 2.3],\n",
       "       [5.9, 3. , 5.1, 1.8]])"
      ]
     },
     "execution_count": 98,
     "metadata": {},
     "output_type": "execute_result"
    }
   ],
   "source": [
    "arr"
   ]
  },
  {
   "cell_type": "code",
   "execution_count": 99,
   "id": "e62a6336",
   "metadata": {},
   "outputs": [
    {
     "data": {
      "text/plain": [
       "nan"
      ]
     },
     "execution_count": 99,
     "metadata": {},
     "output_type": "execute_result"
    }
   ],
   "source": [
    "np.nan + 3"
   ]
  },
  {
   "cell_type": "code",
   "execution_count": 100,
   "id": "e58b0542",
   "metadata": {},
   "outputs": [],
   "source": [
    "arr[10, 0] = np.nan\n",
    "\n",
    "arr[21, 1] = np.nan\n",
    "\n",
    "arr[56, 2] = np.nan\n",
    "arr[45, 2] = np.nan\n",
    "\n",
    "arr[34, 3] = np.nan\n",
    "\n",
    "# The whole row of nan\n",
    "arr[30] = np.nan"
   ]
  },
  {
   "cell_type": "code",
   "execution_count": null,
   "id": "646d4d87",
   "metadata": {},
   "outputs": [],
   "source": []
  },
  {
   "cell_type": "code",
   "execution_count": null,
   "id": "67e2a988",
   "metadata": {},
   "outputs": [],
   "source": []
  }
 ],
 "metadata": {
  "kernelspec": {
   "display_name": "Python 3 (ipykernel)",
   "language": "python",
   "name": "python3"
  },
  "language_info": {
   "codemirror_mode": {
    "name": "ipython",
    "version": 3
   },
   "file_extension": ".py",
   "mimetype": "text/x-python",
   "name": "python",
   "nbconvert_exporter": "python",
   "pygments_lexer": "ipython3",
   "version": "3.9.1"
  }
 },
 "nbformat": 4,
 "nbformat_minor": 5
}
